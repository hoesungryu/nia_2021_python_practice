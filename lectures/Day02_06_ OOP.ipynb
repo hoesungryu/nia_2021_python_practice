{
 "cells": [
  {
   "cell_type": "markdown",
   "metadata": {},
   "source": [
    "# Day02_06_ OOP\n",
    "<font size=5><b>클래스<b></font>\n",
    "<div align='right'>류 회 성<br>(Hoe Sung Ryu)</div>\n",
    "\n",
    "---"
   ]
  },
  {
   "cell_type": "markdown",
   "metadata": {},
   "source": [
    "## Constructing an object\n",
    "\n",
    "An instance of a class is called an object. It’s created by calling the class itself as if it were a function. The code below passes in three python strings to create a new vehicle object."
   ]
  },
  {
   "cell_type": "code",
   "execution_count": 1,
   "metadata": {
    "ExecuteTime": {
     "end_time": "2021-07-25T14:54:31.118854Z",
     "start_time": "2021-07-25T14:54:31.115218Z"
    }
   },
   "outputs": [],
   "source": [
    "class Vehicle:\n",
    "    def __init__(self, brand, model, category):\n",
    "        self.brand = brand\n",
    "        self.model = model\n",
    "        self.category = category\n",
    "        self.gas_tank_size = 14\n",
    "        self.fuel_level = 0\n",
    "\n",
    "    def fuel_up(self):\n",
    "        self.fuel_level = self.gas_tank_size\n",
    "        print('Gas tank is now full.')\n",
    "\n",
    "    def drive(self):\n",
    "        print(f'The {self.model} is now driving.')"
   ]
  },
  {
   "cell_type": "code",
   "execution_count": 2,
   "metadata": {
    "ExecuteTime": {
     "end_time": "2021-07-25T14:54:31.353568Z",
     "start_time": "2021-07-25T14:54:31.351368Z"
    }
   },
   "outputs": [],
   "source": [
    "vehicle_object_1 = Vehicle('Hundai', 'SONATA', 'Sedan')"
   ]
  },
  {
   "cell_type": "code",
   "execution_count": 5,
   "metadata": {
    "ExecuteTime": {
     "end_time": "2021-07-25T15:02:04.581183Z",
     "start_time": "2021-07-25T15:02:04.576791Z"
    }
   },
   "outputs": [
    {
     "name": "stdout",
     "output_type": "stream",
     "text": [
      "Hundai\n",
      "SONATA\n",
      "Sedan\n"
     ]
    }
   ],
   "source": [
    "print(vehicle_object.brand)\n",
    "print(vehicle_object.model)\n",
    "print(vehicle_object.category)"
   ]
  },
  {
   "cell_type": "markdown",
   "metadata": {},
   "source": [
    "## Calling methods"
   ]
  },
  {
   "cell_type": "code",
   "execution_count": 6,
   "metadata": {
    "ExecuteTime": {
     "end_time": "2021-07-24T14:26:11.788106Z",
     "start_time": "2021-07-24T14:26:11.783261Z"
    }
   },
   "outputs": [
    {
     "name": "stdout",
     "output_type": "stream",
     "text": [
      "Gas tank is now full.\n",
      "The Ridgeline is now driving.\n"
     ]
    }
   ],
   "source": [
    "vehicle_object.fuel_up()\n",
    "vehicle_object.drive()"
   ]
  },
  {
   "cell_type": "markdown",
   "metadata": {},
   "source": [
    "<hr style=\"height:3px;border:none;color:#5F71F7;background-color:#5F71F7;\" />\n",
    "\n",
    "<div class=\"alert alert-success\">\n",
    "    <b>예제(Exercise)</b>:\n",
    "    <ul>\n",
    "        <li>\n",
    "        색깔이라는 새로운 속성을 더 받도록 추가해보자 \n",
    "        </li>\n",
    "    </ul>\n",
    "</div>\n",
    "\n",
    "\n",
    "\n"
   ]
  },
  {
   "cell_type": "code",
   "execution_count": null,
   "metadata": {},
   "outputs": [],
   "source": []
  },
  {
   "cell_type": "markdown",
   "metadata": {},
   "source": [
    "## Creating multiple objects"
   ]
  },
  {
   "cell_type": "code",
   "execution_count": 7,
   "metadata": {
    "ExecuteTime": {
     "end_time": "2021-07-24T14:28:09.248513Z",
     "start_time": "2021-07-24T14:28:09.244266Z"
    }
   },
   "outputs": [],
   "source": [
    "an_sedan = Vehicle('Hundai', 'Sonata', 'Sedan')\n",
    "an_suv = Vehicle('Ford', 'Explorer', 'SUV')"
   ]
  },
  {
   "cell_type": "markdown",
   "metadata": {},
   "source": [
    "## Modifying attribute values\n",
    "It is possible to update an attribute value directly, or better yet via methods that can get and set attribute values."
   ]
  },
  {
   "cell_type": "markdown",
   "metadata": {},
   "source": [
    "### Modifying an attribute directly"
   ]
  },
  {
   "cell_type": "code",
   "execution_count": 11,
   "metadata": {
    "ExecuteTime": {
     "end_time": "2021-07-24T14:30:25.585013Z",
     "start_time": "2021-07-24T14:30:25.579724Z"
    }
   },
   "outputs": [
    {
     "name": "stdout",
     "output_type": "stream",
     "text": [
      "0\n",
      "7\n"
     ]
    }
   ],
   "source": [
    "cool_new_vehicle = Vehicle('Honda', 'Ridgeline', 'Truck')\n",
    "print(cool_new_vehicle.fuel_level)\n",
    "cool_new_vehicle.fuel_level = 7 # update \n",
    "print(cool_new_vehicle.fuel_level)"
   ]
  },
  {
   "cell_type": "markdown",
   "metadata": {},
   "source": [
    "## Define a method to update an attribute’s value"
   ]
  },
  {
   "cell_type": "code",
   "execution_count": null,
   "metadata": {
    "ExecuteTime": {
     "end_time": "2021-07-24T14:34:23.469597Z",
     "start_time": "2021-07-24T14:34:23.462670Z"
    }
   },
   "outputs": [],
   "source": [
    "class Vehicle:\n",
    "    def __init__(self, brand, model, category):\n",
    "        self.brand = brand\n",
    "        self.model = model\n",
    "        self.category = category\n",
    "        self.gas_tank_size = 14\n",
    "        self.fuel_level = 0\n",
    "\n",
    "    def fuel_up(self):\n",
    "        self.fuel_level = self.gas_tank_size\n",
    "        print('Gas tank is now full.')\n",
    "\n",
    "    def drive(self):\n",
    "        print(f'The {self.model} is now driving.')\n",
    "\n",
    "    def update_fuel_level(self, new_level):\n",
    "        if new_level <= self.gas_tank_size:\n",
    "            self.fuel_level = new_level\n",
    "            print(f'Now fuel level: {self.fuel_level}/{self.gas_tank_size}')\n",
    "        else:\n",
    "            print('Exceeded capacity')"
   ]
  },
  {
   "cell_type": "code",
   "execution_count": 23,
   "metadata": {
    "ExecuteTime": {
     "end_time": "2021-07-24T14:34:23.685973Z",
     "start_time": "2021-07-24T14:34:23.682321Z"
    }
   },
   "outputs": [],
   "source": [
    "cool_new_vehicle = Vehicle('Honda', 'Ridgeline', 'Truck')"
   ]
  },
  {
   "cell_type": "code",
   "execution_count": 24,
   "metadata": {
    "ExecuteTime": {
     "end_time": "2021-07-24T14:34:23.897150Z",
     "start_time": "2021-07-24T14:34:23.892927Z"
    }
   },
   "outputs": [
    {
     "name": "stdout",
     "output_type": "stream",
     "text": [
      "Now fuel level: 10/14\n"
     ]
    }
   ],
   "source": [
    "cool_new_vehicle.update_fuel_level(10)"
   ]
  },
  {
   "cell_type": "markdown",
   "metadata": {},
   "source": [
    "## 클래스 상속"
   ]
  },
  {
   "cell_type": "code",
   "execution_count": 28,
   "metadata": {
    "ExecuteTime": {
     "end_time": "2021-07-24T14:40:12.185190Z",
     "start_time": "2021-07-24T14:40:12.179854Z"
    }
   },
   "outputs": [],
   "source": [
    "class ElectricVehicle(Vehicle):\n",
    "    def __init__(self, brand, model, category):\n",
    "        super().__init__(brand, model, category)\n",
    "        self.battery_size = 85\n",
    "        self.charge_level = 0\n",
    "        \n",
    "    def charge(self):\n",
    "        self.charge_level = 100\n",
    "        print('The vehicle is now charged.')\n",
    "\n",
    "    def fuel_up(self):\n",
    "        print('This vehicle has no fuel tank!')"
   ]
  },
  {
   "cell_type": "markdown",
   "metadata": {},
   "source": [
    "## Using child and parent methods"
   ]
  },
  {
   "cell_type": "code",
   "execution_count": 29,
   "metadata": {
    "ExecuteTime": {
     "end_time": "2021-07-24T14:40:12.954826Z",
     "start_time": "2021-07-24T14:40:12.949743Z"
    }
   },
   "outputs": [
    {
     "name": "stdout",
     "output_type": "stream",
     "text": [
      "The vehicle is now charged.\n",
      "The Model 3 is now driving.\n"
     ]
    }
   ],
   "source": [
    "electric_vehicle = ElectricVehicle('Tesla', 'Model 3', 'Car')\n",
    "electric_vehicle.charge()\n",
    "electric_vehicle.drive()"
   ]
  },
  {
   "cell_type": "code",
   "execution_count": 30,
   "metadata": {
    "ExecuteTime": {
     "end_time": "2021-07-24T14:46:21.598520Z",
     "start_time": "2021-07-24T14:46:21.593392Z"
    }
   },
   "outputs": [
    {
     "name": "stdout",
     "output_type": "stream",
     "text": [
      "This vehicle has no fuel tank!\n"
     ]
    }
   ],
   "source": [
    "electric_vehicle.fuel_up()"
   ]
  }
 ],
 "metadata": {
  "kernelspec": {
   "display_name": "Python 3",
   "language": "python",
   "name": "python3"
  },
  "language_info": {
   "codemirror_mode": {
    "name": "ipython",
    "version": 3
   },
   "file_extension": ".py",
   "mimetype": "text/x-python",
   "name": "python",
   "nbconvert_exporter": "python",
   "pygments_lexer": "ipython3",
   "version": "3.7.0"
  },
  "toc": {
   "base_numbering": 1,
   "nav_menu": {},
   "number_sections": true,
   "sideBar": true,
   "skip_h1_title": false,
   "title_cell": "Table of Contents",
   "title_sidebar": "Contents",
   "toc_cell": false,
   "toc_position": {},
   "toc_section_display": true,
   "toc_window_display": false
  },
  "varInspector": {
   "cols": {
    "lenName": 16,
    "lenType": 16,
    "lenVar": 40
   },
   "kernels_config": {
    "python": {
     "delete_cmd_postfix": "",
     "delete_cmd_prefix": "del ",
     "library": "var_list.py",
     "varRefreshCmd": "print(var_dic_list())"
    },
    "r": {
     "delete_cmd_postfix": ") ",
     "delete_cmd_prefix": "rm(",
     "library": "var_list.r",
     "varRefreshCmd": "cat(var_dic_list()) "
    }
   },
   "types_to_exclude": [
    "module",
    "function",
    "builtin_function_or_method",
    "instance",
    "_Feature"
   ],
   "window_display": false
  }
 },
 "nbformat": 4,
 "nbformat_minor": 4
}
