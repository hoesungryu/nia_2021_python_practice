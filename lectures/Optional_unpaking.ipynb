{
 "cells": [
  {
   "cell_type": "markdown",
   "metadata": {},
   "source": [
    "# Unpacking"
   ]
  },
  {
   "cell_type": "markdown",
   "metadata": {
    "toc": true
   },
   "source": [
    "<h1>Table of Contents<span class=\"tocSkip\"></span></h1>\n",
    "<div class=\"toc\"><ul class=\"toc-item\"><li><span><a href=\"#원래-함수\" data-toc-modified-id=\"원래-함수-1\"><span class=\"toc-item-num\">1&nbsp;&nbsp;</span>원래 함수</a></span></li><li><span><a href=\"#매번-기억해야된다?!!--->-다른-방법은-없을까?\" data-toc-modified-id=\"매번-기억해야된다?!!--->-다른-방법은-없을까?-2\"><span class=\"toc-item-num\">2&nbsp;&nbsp;</span>매번 기억해야된다?!! --&gt; 다른 방법은 없을까?</a></span></li><li><span><a href=\"#그러나..-변수-이름을-반드시-맞추어주어야된다.\" data-toc-modified-id=\"그러나..-변수-이름을-반드시-맞추어주어야된다.-3\"><span class=\"toc-item-num\">3&nbsp;&nbsp;</span>그러나.. 변수 이름을 반드시 맞추어주어야된다.</a></span></li><li><span><a href=\"#인자를-가변적으로-받고-싶다.\" data-toc-modified-id=\"인자를-가변적으로-받고-싶다.-4\"><span class=\"toc-item-num\">4&nbsp;&nbsp;</span>인자를 가변적으로 받고 싶다.</a></span></li><li><span><a href=\"#인풋을-가변적으로-받지만,-필요한-것만-프린트하자\" data-toc-modified-id=\"인풋을-가변적으로-받지만,-필요한-것만-프린트하자-5\"><span class=\"toc-item-num\">5&nbsp;&nbsp;</span>인풋을 가변적으로 받지만, 필요한 것만 프린트하자</a></span></li></ul></div>"
   ]
  },
  {
   "cell_type": "markdown",
   "metadata": {},
   "source": [
    "## 원래 함수"
   ]
  },
  {
   "cell_type": "code",
   "execution_count": 79,
   "metadata": {
    "ExecuteTime": {
     "end_time": "2021-07-27T23:58:05.348273Z",
     "start_time": "2021-07-27T23:58:05.344630Z"
    }
   },
   "outputs": [],
   "source": [
    "def sample_2(name,age):\n",
    "    print(name)\n",
    "    print(age)"
   ]
  },
  {
   "cell_type": "code",
   "execution_count": 80,
   "metadata": {
    "ExecuteTime": {
     "end_time": "2021-07-27T23:58:05.586470Z",
     "start_time": "2021-07-27T23:58:05.582462Z"
    }
   },
   "outputs": [
    {
     "name": "stdout",
     "output_type": "stream",
     "text": [
      "홍길동\n",
      "29\n"
     ]
    }
   ],
   "source": [
    "sample_2('홍길동',29)"
   ]
  },
  {
   "cell_type": "markdown",
   "metadata": {},
   "source": [
    "## 매번 기억해야된다?!! --> 다른 방법은 없을까?"
   ]
  },
  {
   "cell_type": "code",
   "execution_count": 81,
   "metadata": {
    "ExecuteTime": {
     "end_time": "2021-07-27T23:58:08.374757Z",
     "start_time": "2021-07-27T23:58:08.371310Z"
    }
   },
   "outputs": [],
   "source": [
    "def sample_2(name,age):\n",
    "    print(name)\n",
    "    print(age)"
   ]
  },
  {
   "cell_type": "code",
   "execution_count": 82,
   "metadata": {
    "ExecuteTime": {
     "end_time": "2021-07-27T23:58:08.630476Z",
     "start_time": "2021-07-27T23:58:08.626210Z"
    }
   },
   "outputs": [],
   "source": [
    "x={'age':29, 'name':'홍길동'}"
   ]
  },
  {
   "cell_type": "code",
   "execution_count": 83,
   "metadata": {
    "ExecuteTime": {
     "end_time": "2021-07-27T23:58:09.058440Z",
     "start_time": "2021-07-27T23:58:09.054704Z"
    }
   },
   "outputs": [
    {
     "name": "stdout",
     "output_type": "stream",
     "text": [
      "홍길동\n",
      "29\n"
     ]
    }
   ],
   "source": [
    "sample_2(**x) # Unpacking --> name = '홍길동', age=29 "
   ]
  },
  {
   "cell_type": "markdown",
   "metadata": {},
   "source": [
    "## 그러나.. 변수 이름을 반드시 맞추어주어야된다."
   ]
  },
  {
   "cell_type": "code",
   "execution_count": 84,
   "metadata": {
    "ExecuteTime": {
     "end_time": "2021-07-27T23:58:45.025805Z",
     "start_time": "2021-07-27T23:58:45.021909Z"
    }
   },
   "outputs": [],
   "source": [
    "x={'name':'홍길동','age':29,'a':20}"
   ]
  },
  {
   "cell_type": "code",
   "execution_count": 86,
   "metadata": {
    "ExecuteTime": {
     "end_time": "2021-07-27T23:58:56.797685Z",
     "start_time": "2021-07-27T23:58:56.785425Z"
    }
   },
   "outputs": [
    {
     "ename": "TypeError",
     "evalue": "sample_2() got an unexpected keyword argument 'a'",
     "output_type": "error",
     "traceback": [
      "\u001b[0;31m---------------------------------------------------------------------------\u001b[0m",
      "\u001b[0;31mTypeError\u001b[0m                                 Traceback (most recent call last)",
      "\u001b[0;32m<ipython-input-86-f48419fbc00f>\u001b[0m in \u001b[0;36m<module>\u001b[0;34m\u001b[0m\n\u001b[0;32m----> 1\u001b[0;31m \u001b[0msample_2\u001b[0m\u001b[0;34m(\u001b[0m\u001b[0;34m**\u001b[0m\u001b[0mx\u001b[0m\u001b[0;34m)\u001b[0m \u001b[0;31m# Unpacking\u001b[0m\u001b[0;34m\u001b[0m\u001b[0m\n\u001b[0m\u001b[1;32m      2\u001b[0m \u001b[0;31m# 없으면 에러가 난다\u001b[0m\u001b[0;34m\u001b[0m\u001b[0;34m\u001b[0m\u001b[0m\n",
      "\u001b[0;31mTypeError\u001b[0m: sample_2() got an unexpected keyword argument 'a'"
     ]
    }
   ],
   "source": [
    "sample_2(**x) # Unpacking   \n",
    "# 없으면 에러가 난다 "
   ]
  },
  {
   "cell_type": "markdown",
   "metadata": {},
   "source": [
    "---"
   ]
  },
  {
   "cell_type": "markdown",
   "metadata": {},
   "source": [
    "## 인자를 가변적으로 받고 싶다.\n",
    "\n",
    "> 함수 자체를 **kwargs로 사용한다 "
   ]
  },
  {
   "cell_type": "code",
   "execution_count": 87,
   "metadata": {
    "ExecuteTime": {
     "end_time": "2021-07-28T00:00:21.523602Z",
     "start_time": "2021-07-28T00:00:21.520766Z"
    }
   },
   "outputs": [],
   "source": [
    "def sample_2(**kwargs):\n",
    "    for key, value in kwargs.items():\n",
    "        print(f'{key} {value}')"
   ]
  },
  {
   "cell_type": "code",
   "execution_count": 88,
   "metadata": {
    "ExecuteTime": {
     "end_time": "2021-07-28T00:00:21.749113Z",
     "start_time": "2021-07-28T00:00:21.746541Z"
    }
   },
   "outputs": [
    {
     "name": "stdout",
     "output_type": "stream",
     "text": [
      "name 홍길동\n",
      "age 29\n"
     ]
    }
   ],
   "source": [
    "sample_2(**{'name':'홍길동','age':29,})"
   ]
  },
  {
   "cell_type": "code",
   "execution_count": 89,
   "metadata": {
    "ExecuteTime": {
     "end_time": "2021-07-28T00:00:22.320491Z",
     "start_time": "2021-07-28T00:00:22.316180Z"
    }
   },
   "outputs": [
    {
     "name": "stdout",
     "output_type": "stream",
     "text": [
      "name 홍길동\n",
      "age 29\n",
      "a 20\n"
     ]
    }
   ],
   "source": [
    "sample_2(**{'name':'홍길동','age':29,'a':20})"
   ]
  },
  {
   "cell_type": "markdown",
   "metadata": {},
   "source": [
    "## 인풋을 가변적으로 받지만, 필요한 것만 프린트하자"
   ]
  },
  {
   "cell_type": "code",
   "execution_count": 90,
   "metadata": {
    "ExecuteTime": {
     "end_time": "2021-07-28T00:04:12.999164Z",
     "start_time": "2021-07-28T00:04:12.995231Z"
    }
   },
   "outputs": [],
   "source": [
    "def sample_2(**kwargs): # 딕셔너리를 받겠다. \n",
    "    if 'name' in kwargs:\n",
    "        print(kwargs['name'])\n",
    "    if 'age' in kwargs:\n",
    "        print(kwargs['age'])"
   ]
  },
  {
   "cell_type": "code",
   "execution_count": 91,
   "metadata": {
    "ExecuteTime": {
     "end_time": "2021-07-28T00:04:13.191818Z",
     "start_time": "2021-07-28T00:04:13.187138Z"
    },
    "scrolled": true
   },
   "outputs": [
    {
     "name": "stdout",
     "output_type": "stream",
     "text": [
      "홍길동\n",
      "29\n"
     ]
    }
   ],
   "source": [
    "sample_2(name='홍길동',age=29)"
   ]
  },
  {
   "cell_type": "code",
   "execution_count": 78,
   "metadata": {
    "ExecuteTime": {
     "end_time": "2021-07-27T16:31:20.088053Z",
     "start_time": "2021-07-27T16:31:20.083051Z"
    }
   },
   "outputs": [
    {
     "name": "stdout",
     "output_type": "stream",
     "text": [
      "홍길동\n",
      "29\n"
     ]
    }
   ],
   "source": [
    "sample_2(**{'name':'홍길동','age':29,'a':20})"
   ]
  }
 ],
 "metadata": {
  "kernelspec": {
   "display_name": "Python 3",
   "language": "python",
   "name": "python3"
  },
  "language_info": {
   "codemirror_mode": {
    "name": "ipython",
    "version": 3
   },
   "file_extension": ".py",
   "mimetype": "text/x-python",
   "name": "python",
   "nbconvert_exporter": "python",
   "pygments_lexer": "ipython3",
   "version": "3.7.0"
  },
  "toc": {
   "base_numbering": 1,
   "nav_menu": {},
   "number_sections": true,
   "sideBar": true,
   "skip_h1_title": true,
   "title_cell": "Table of Contents",
   "title_sidebar": "Contents",
   "toc_cell": true,
   "toc_position": {},
   "toc_section_display": true,
   "toc_window_display": true
  },
  "varInspector": {
   "cols": {
    "lenName": 16,
    "lenType": 16,
    "lenVar": 40
   },
   "kernels_config": {
    "python": {
     "delete_cmd_postfix": "",
     "delete_cmd_prefix": "del ",
     "library": "var_list.py",
     "varRefreshCmd": "print(var_dic_list())"
    },
    "r": {
     "delete_cmd_postfix": ") ",
     "delete_cmd_prefix": "rm(",
     "library": "var_list.r",
     "varRefreshCmd": "cat(var_dic_list()) "
    }
   },
   "types_to_exclude": [
    "module",
    "function",
    "builtin_function_or_method",
    "instance",
    "_Feature"
   ],
   "window_display": false
  }
 },
 "nbformat": 4,
 "nbformat_minor": 4
}
