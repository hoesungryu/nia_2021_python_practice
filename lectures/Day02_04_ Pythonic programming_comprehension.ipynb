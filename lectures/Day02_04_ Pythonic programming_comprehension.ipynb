{
 "cells": [
  {
   "cell_type": "markdown",
   "metadata": {},
   "source": [
    "# Day02_04_ Pythonic programming_comprehension\n",
    "\n",
    "<font size=5><b>comprehension<b></font>\n",
    "<div align='right'>류 회 성<br>(Hoe Sung Ryu)</div>\n",
    "\n",
    "\n",
    "    \n",
    "---"
   ]
  },
  {
   "cell_type": "markdown",
   "metadata": {
    "toc": true
   },
   "source": [
    "<h1>Table of Contents<span class=\"tocSkip\"></span></h1>\n",
    "<div class=\"toc\"><ul class=\"toc-item\"><li><span><a href=\"#Comprehension\" data-toc-modified-id=\"Comprehension-1\"><span class=\"toc-item-num\">1&nbsp;&nbsp;</span>Comprehension</a></span></li><li><span><a href=\"#List-Comprehension\" data-toc-modified-id=\"List-Comprehension-2\"><span class=\"toc-item-num\">2&nbsp;&nbsp;</span>List Comprehension</a></span></li><li><span><a href=\"#Dict-Comprehension\" data-toc-modified-id=\"Dict-Comprehension-3\"><span class=\"toc-item-num\">3&nbsp;&nbsp;</span>Dict Comprehension</a></span></li><li><span><a href=\"#Set-Comprehension\" data-toc-modified-id=\"Set-Comprehension-4\"><span class=\"toc-item-num\">4&nbsp;&nbsp;</span>Set Comprehension</a></span></li><li><span><a href=\"#Gen-Comprehension\" data-toc-modified-id=\"Gen-Comprehension-5\"><span class=\"toc-item-num\">5&nbsp;&nbsp;</span>Gen Comprehension</a></span></li></ul></div>"
   ]
  },
  {
   "cell_type": "markdown",
   "metadata": {},
   "source": [
    "## Comprehension\n",
    "- List Comprehension\n",
    "- Set Comprehension\n",
    "- Dict Comprehension\n",
    "- Gen Comprehension\n"
   ]
  },
  {
   "cell_type": "markdown",
   "metadata": {},
   "source": [
    "## List Comprehension\n",
    "\n",
    "```python\n",
    "[expr for var in list filtering]\n",
    "```"
   ]
  },
  {
   "cell_type": "code",
   "execution_count": null,
   "metadata": {},
   "outputs": [],
   "source": [
    "[x/2.0 for x in [4,5,6]]"
   ]
  },
  {
   "cell_type": "code",
   "execution_count": null,
   "metadata": {},
   "outputs": [],
   "source": [
    "[x/2.0 for x in [4,5,6] if x > 4] # if 문도 가능함"
   ]
  },
  {
   "cell_type": "code",
   "execution_count": 6,
   "metadata": {
    "ExecuteTime": {
     "end_time": "2021-07-24T08:21:43.165480Z",
     "start_time": "2021-07-24T08:21:43.161491Z"
    }
   },
   "outputs": [
    {
     "data": {
      "text/plain": [
       "['2*1 = 2',\n",
       " '2*2 = 4',\n",
       " '2*3 = 6',\n",
       " '2*4 = 8',\n",
       " '2*5 = 10',\n",
       " '2*6 = 12',\n",
       " '2*7 = 14',\n",
       " '2*8 = 16',\n",
       " '2*9 = 18']"
      ]
     },
     "execution_count": 6,
     "metadata": {},
     "output_type": "execute_result"
    }
   ],
   "source": [
    "# 구구단 2단 출력\n",
    "[f\"{2}*{x} = {2*x}\" for x in range(1,10)]"
   ]
  },
  {
   "cell_type": "markdown",
   "metadata": {},
   "source": [
    "\n",
    "<hr style=\"height:3px;border:none;color:#5F71F7;background-color:#5F71F7;\" />\n",
    "\n",
    "<div class=\"alert alert-success\">\n",
    "    <b>예제(Exercise)</b>:\n",
    "    <ul>\n",
    "        <li>\n",
    "        다음 출력값을 list comprehension을 이용하여 출력하시오.\n",
    "        </li>\n",
    "    </ul>\n",
    "</div>\n",
    "\n",
    "\n",
    "출력값\n",
    "```python \n",
    "['2*2 = 4',\n",
    " '2*4 = 8',\n",
    " '2*6 = 12',\n",
    " '2*8 = 16',\n",
    " '4*2 = 8',\n",
    " '4*4 = 16',\n",
    " '4*6 = 24',\n",
    " '4*8 = 32',\n",
    " '6*2 = 12',\n",
    " '6*4 = 24',\n",
    " '6*6 = 36',\n",
    " '6*8 = 48',\n",
    " '8*2 = 16',\n",
    " '8*4 = 32',\n",
    " '8*6 = 48',\n",
    " '8*8 = 64']\n",
    " ```"
   ]
  },
  {
   "cell_type": "code",
   "execution_count": null,
   "metadata": {},
   "outputs": [],
   "source": []
  },
  {
   "cell_type": "markdown",
   "metadata": {},
   "source": [
    "## Dict Comprehension"
   ]
  },
  {
   "cell_type": "code",
   "execution_count": 11,
   "metadata": {
    "ExecuteTime": {
     "end_time": "2021-07-24T08:25:13.048222Z",
     "start_time": "2021-07-24T08:25:13.044232Z"
    }
   },
   "outputs": [
    {
     "name": "stdout",
     "output_type": "stream",
     "text": [
      "{'RED': 'red', 'BLUE': 'blue', 'GREEN': 'green'}\n"
     ]
    }
   ],
   "source": [
    "colors = ['red', 'blue', 'green']\n",
    "total = dict() # 빈 사전 \n",
    "for color in colors:\n",
    "    # 사전 추가\n",
    "    total[color.upper()] = color\n",
    "print(total)"
   ]
  },
  {
   "cell_type": "code",
   "execution_count": 12,
   "metadata": {
    "ExecuteTime": {
     "end_time": "2021-07-24T08:25:14.290283Z",
     "start_time": "2021-07-24T08:25:14.285296Z"
    }
   },
   "outputs": [
    {
     "data": {
      "text/plain": [
       "{'RED': 'red', 'BLUE': 'blue', 'GREEN': 'green'}"
      ]
     },
     "execution_count": 12,
     "metadata": {},
     "output_type": "execute_result"
    }
   ],
   "source": [
    "{color.upper():color for color in colors}"
   ]
  },
  {
   "cell_type": "markdown",
   "metadata": {},
   "source": [
    "## Set Comprehension"
   ]
  },
  {
   "cell_type": "code",
   "execution_count": 14,
   "metadata": {
    "ExecuteTime": {
     "end_time": "2021-07-24T08:26:57.764349Z",
     "start_time": "2021-07-24T08:26:57.760361Z"
    }
   },
   "outputs": [
    {
     "name": "stdout",
     "output_type": "stream",
     "text": [
      "{'BLUE', 'RED', 'GREEN'}\n"
     ]
    }
   ],
   "source": [
    "colors = ['red', 'blue', 'green']\n",
    "total = set() # 빈 집합 \n",
    "for color in colors:\n",
    "    # 집합 추가\n",
    "    total.add(color.upper())\n",
    "print(total)"
   ]
  },
  {
   "cell_type": "code",
   "execution_count": 15,
   "metadata": {
    "ExecuteTime": {
     "end_time": "2021-07-24T08:26:57.984760Z",
     "start_time": "2021-07-24T08:26:57.979773Z"
    }
   },
   "outputs": [
    {
     "data": {
      "text/plain": [
       "{'BLUE', 'GREEN', 'RED'}"
      ]
     },
     "execution_count": 15,
     "metadata": {},
     "output_type": "execute_result"
    }
   ],
   "source": [
    "{color.upper() for color in colors}"
   ]
  },
  {
   "cell_type": "markdown",
   "metadata": {},
   "source": [
    "## Gen Comprehension"
   ]
  },
  {
   "cell_type": "code",
   "execution_count": 16,
   "metadata": {
    "ExecuteTime": {
     "end_time": "2021-07-24T08:27:05.309054Z",
     "start_time": "2021-07-24T08:27:05.304097Z"
    }
   },
   "outputs": [
    {
     "name": "stdout",
     "output_type": "stream",
     "text": [
      "RED\n",
      "BLUE\n",
      "GREEN\n"
     ]
    }
   ],
   "source": [
    "iterator = iter(['RED','BLUE','GREEN'])\n",
    "print(next(iterator))\n",
    "print(next(iterator))\n",
    "print(next(iterator))"
   ]
  },
  {
   "cell_type": "markdown",
   "metadata": {},
   "source": [
    "<hr style=\"height:3px;border:none;color:#5F71F7;background-color:#5F71F7;\" />\n",
    "\n",
    "<div class=\"alert alert-success\">\n",
    "    <b>예제(Exercise)</b>:\n",
    "    <ul>\n",
    "        <li>\n",
    "        주어진 txt를 받아 다음값을 출력 하야리 \n",
    "        </li>\n",
    "    </ul>\n",
    "</div>\n",
    "\n",
    "\n",
    "```python \n",
    "\n",
    "txt = \"The quick brown fox jupsover the lazy dog\"\n",
    "[['The', 3], ['quick', 5], ['brown', 5], ['fox', 3], ['jupsover', 8], ['the', 3], ['lazy', 4], ['dog', 3]]\n",
    "```\n"
   ]
  },
  {
   "cell_type": "code",
   "execution_count": null,
   "metadata": {},
   "outputs": [],
   "source": []
  },
  {
   "cell_type": "code",
   "execution_count": null,
   "metadata": {},
   "outputs": [],
   "source": []
  },
  {
   "cell_type": "markdown",
   "metadata": {},
   "source": [
    "<hr style=\"height:3px;border:none;color:#5F71F7;background-color:#5F71F7;\" />\n",
    "\n",
    "<div class=\"alert alert-success\">\n",
    "    <b>예제(Exercise)</b>:\n",
    "    <ul>\n",
    "        <li>\n",
    "        주어진 txt를 받아 다음값을 출력 하야리 \n",
    "        </li>\n",
    "    </ul>\n",
    "</div>\n",
    "\n",
    "\n",
    "```python \n",
    "\n",
    "txt = \"The quick brown fox jupsover the lazy dog\"\n",
    "[['The', 3], ['fox', 3], ['the', 3], ['dog', 3]]\n",
    "```\n"
   ]
  },
  {
   "cell_type": "code",
   "execution_count": null,
   "metadata": {},
   "outputs": [],
   "source": []
  },
  {
   "cell_type": "markdown",
   "metadata": {},
   "source": [
    "<hr style=\"height:3px;border:none;color:#5F71F7;background-color:#5F71F7;\" />\n",
    "\n",
    "<div class=\"alert alert-success\">\n",
    "    <b>예제(Exercise)</b>:\n",
    "    <ul>\n",
    "        <li>\n",
    "        다음을 출력하여라\n",
    "        </li>\n",
    "    </ul>\n",
    "</div>\n",
    "\n",
    "\n",
    "```python \n",
    "[('math', 90), ('history', 80), ('English', 95), ('cs', 100)]\n",
    "```\n"
   ]
  },
  {
   "cell_type": "code",
   "execution_count": null,
   "metadata": {},
   "outputs": [],
   "source": []
  },
  {
   "cell_type": "code",
   "execution_count": null,
   "metadata": {},
   "outputs": [],
   "source": []
  },
  {
   "cell_type": "code",
   "execution_count": null,
   "metadata": {},
   "outputs": [],
   "source": []
  },
  {
   "cell_type": "code",
   "execution_count": null,
   "metadata": {},
   "outputs": [],
   "source": []
  },
  {
   "cell_type": "code",
   "execution_count": null,
   "metadata": {},
   "outputs": [],
   "source": []
  }
 ],
 "metadata": {
  "kernelspec": {
   "display_name": "Python 3",
   "language": "python",
   "name": "python3"
  },
  "language_info": {
   "codemirror_mode": {
    "name": "ipython",
    "version": 3
   },
   "file_extension": ".py",
   "mimetype": "text/x-python",
   "name": "python",
   "nbconvert_exporter": "python",
   "pygments_lexer": "ipython3",
   "version": "3.7.0"
  },
  "toc": {
   "base_numbering": 1,
   "nav_menu": {},
   "number_sections": true,
   "sideBar": true,
   "skip_h1_title": true,
   "title_cell": "Table of Contents",
   "title_sidebar": "Contents",
   "toc_cell": true,
   "toc_position": {},
   "toc_section_display": true,
   "toc_window_display": false
  },
  "varInspector": {
   "cols": {
    "lenName": 16,
    "lenType": 16,
    "lenVar": 40
   },
   "kernels_config": {
    "python": {
     "delete_cmd_postfix": "",
     "delete_cmd_prefix": "del ",
     "library": "var_list.py",
     "varRefreshCmd": "print(var_dic_list())"
    },
    "r": {
     "delete_cmd_postfix": ") ",
     "delete_cmd_prefix": "rm(",
     "library": "var_list.r",
     "varRefreshCmd": "cat(var_dic_list()) "
    }
   },
   "types_to_exclude": [
    "module",
    "function",
    "builtin_function_or_method",
    "instance",
    "_Feature"
   ],
   "window_display": false
  }
 },
 "nbformat": 4,
 "nbformat_minor": 5
}
