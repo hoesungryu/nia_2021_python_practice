{
 "cells": [
  {
   "cell_type": "markdown",
   "metadata": {},
   "source": [
    "# Day02_03_ Pythonic programming_asterisk\n",
    "<font size=5><b>\\*args \\& \\**kargs<b></font>\n",
    "<div align='right'>류 회 성<br>(Hoe Sung Ryu)</div>\n",
    "\n",
    "  \n",
    "<img src='https://littledeep.com/wp-content/uploads/2020/11/night-sky-illustration-v2-style2-1024x854.png' width=50%>\n",
    "\n",
    "    \n",
    "---"
   ]
  },
  {
   "cell_type": "markdown",
   "metadata": {
    "toc": true
   },
   "source": [
    "<h1>Table of Contents<span class=\"tocSkip\"></span></h1>\n",
    "<div class=\"toc\"><ul class=\"toc-item\"><li><span><a href=\"#가변인자\" data-toc-modified-id=\"가변인자-1\"><span class=\"toc-item-num\">1&nbsp;&nbsp;</span>가변인자</a></span><ul class=\"toc-item\"><li><span><a href=\"#*args\" data-toc-modified-id=\"*args-1.1\"><span class=\"toc-item-num\">1.1&nbsp;&nbsp;</span><code>*args</code></a></span></li><li><span><a href=\"#**kargs\" data-toc-modified-id=\"**kargs-1.2\"><span class=\"toc-item-num\">1.2&nbsp;&nbsp;</span><code>**kargs</code></a></span></li></ul></li><li><span><a href=\"#Split\" data-toc-modified-id=\"Split-2\"><span class=\"toc-item-num\">2&nbsp;&nbsp;</span>Split</a></span></li><li><span><a href=\"#Join\" data-toc-modified-id=\"Join-3\"><span class=\"toc-item-num\">3&nbsp;&nbsp;</span>Join</a></span></li></ul></div>"
   ]
  },
  {
   "cell_type": "markdown",
   "metadata": {},
   "source": [
    "## 가변인자\n",
    "\n",
    "### `*args`\n",
    "- parameter 이름 앞의 * :\n",
    "- 임의의 개수의 인자값들을 받아 tuple로 저장\n"
   ]
  },
  {
   "cell_type": "code",
   "execution_count": 40,
   "metadata": {
    "ExecuteTime": {
     "end_time": "2021-07-24T07:48:25.702203Z",
     "start_time": "2021-07-24T07:48:25.698212Z"
    }
   },
   "outputs": [],
   "source": [
    "def add_num(*args):\n",
    "    total_sum = 0 \n",
    "    for x in args:\n",
    "        total_sum +=x\n",
    "    return total_sum\n"
   ]
  },
  {
   "cell_type": "code",
   "execution_count": 41,
   "metadata": {
    "ExecuteTime": {
     "end_time": "2021-07-24T07:48:25.876881Z",
     "start_time": "2021-07-24T07:48:25.872912Z"
    }
   },
   "outputs": [
    {
     "data": {
      "text/plain": [
       "10"
      ]
     },
     "execution_count": 41,
     "metadata": {},
     "output_type": "execute_result"
    }
   ],
   "source": [
    "add_num(1,2,3,4)"
   ]
  },
  {
   "cell_type": "code",
   "execution_count": 42,
   "metadata": {
    "ExecuteTime": {
     "end_time": "2021-07-24T07:48:26.048995Z",
     "start_time": "2021-07-24T07:48:26.046031Z"
    }
   },
   "outputs": [],
   "source": [
    "# 내장함수를 사용하여 더욱 간단하게 \n",
    "\n",
    "def add_num(*args):\n",
    "    return sum(args)\n"
   ]
  },
  {
   "cell_type": "code",
   "execution_count": 43,
   "metadata": {
    "ExecuteTime": {
     "end_time": "2021-07-24T07:48:29.320302Z",
     "start_time": "2021-07-24T07:48:29.315316Z"
    }
   },
   "outputs": [
    {
     "data": {
      "text/plain": [
       "10"
      ]
     },
     "execution_count": 43,
     "metadata": {},
     "output_type": "execute_result"
    }
   ],
   "source": [
    "add_num(1,2,3,4)"
   ]
  },
  {
   "cell_type": "markdown",
   "metadata": {},
   "source": [
    "### `**kargs`\n",
    "\n",
    "- 사전dictionary을 통째로 변수로 받음"
   ]
  },
  {
   "cell_type": "code",
   "execution_count": 45,
   "metadata": {
    "ExecuteTime": {
     "end_time": "2021-07-24T08:02:48.815030Z",
     "start_time": "2021-07-24T08:02:48.811040Z"
    }
   },
   "outputs": [],
   "source": [
    "def price(**cost):\n",
    "    for key,value in cost.items():\n",
    "        print(f'교통수단{key} 요금{value}')\n",
    "        "
   ]
  },
  {
   "cell_type": "code",
   "execution_count": null,
   "metadata": {},
   "outputs": [],
   "source": [
    "def price(**cost):\n",
    "    for i in cost:\n",
    "        print(f'교통수단{i:<7s} 요금{cost[i]:>4d}원')"
   ]
  },
  {
   "cell_type": "code",
   "execution_count": 46,
   "metadata": {
    "ExecuteTime": {
     "end_time": "2021-07-24T08:02:49.329008Z",
     "start_time": "2021-07-24T08:02:49.326015Z"
    }
   },
   "outputs": [
    {
     "name": "stdout",
     "output_type": "stream",
     "text": [
      "교통수단walking 요금0\n",
      "교통수단bus 요금1200\n",
      "교통수단taxi 요금3800\n"
     ]
    }
   ],
   "source": [
    "cost = {'walking': 0, 'bus':1200, 'taxi':3800}\n",
    "price(**cost)"
   ]
  },
  {
   "cell_type": "code",
   "execution_count": null,
   "metadata": {},
   "outputs": [],
   "source": [
    "def count_price(*count,**cost): # 순서 바뀌면 안됨\n",
    "    total = 0 \n",
    "    c = 0\n",
    "    for key, value in cost.items():\n",
    "        total+= count[c]*value\n",
    "        print(f'교통수단{key} {count[c]}회',end='\\n')\n",
    "        c+=1\n",
    "    print(f\"총 요금:{total}원\")"
   ]
  },
  {
   "cell_type": "code",
   "execution_count": null,
   "metadata": {},
   "outputs": [],
   "source": [
    "count = [1,2,3]\n",
    "cost = {'walking': 0, 'bus':1200, 'taxi':3800}\n",
    "count_price(*count,**cost)"
   ]
  },
  {
   "cell_type": "markdown",
   "metadata": {},
   "source": [
    "<div class=\"alert alert-success\">\n",
    "    <b>예제(Exercise)</b>:\n",
    "    <ul>\n",
    "        <li>\n",
    "        다음을 값을 출력하시오 \n",
    "        </li>\n",
    "    </ul>\n",
    "</div>\n",
    "\n",
    "입력값\n",
    "```python \n",
    "count = [1,2,3]\n",
    "fruits = {\"포도\":6000,\"수박\":12000,\"자두\":4000}\n",
    "```\n",
    "출력값\n",
    "```python \n",
    "과일:    포도 01개\n",
    "과일:    수박 02개\n",
    "과일:    자두 03개\n",
    "총 요금: 42000원\n",
    "```"
   ]
  },
  {
   "cell_type": "code",
   "execution_count": null,
   "metadata": {},
   "outputs": [],
   "source": []
  },
  {
   "cell_type": "code",
   "execution_count": null,
   "metadata": {},
   "outputs": [],
   "source": []
  },
  {
   "cell_type": "markdown",
   "metadata": {},
   "source": [
    "## Split"
   ]
  },
  {
   "cell_type": "code",
   "execution_count": 47,
   "metadata": {
    "ExecuteTime": {
     "end_time": "2021-07-24T08:09:59.464460Z",
     "start_time": "2021-07-24T08:09:59.459473Z"
    }
   },
   "outputs": [
    {
     "data": {
      "text/plain": [
       "['file', 'mp4']"
      ]
     },
     "execution_count": 47,
     "metadata": {},
     "output_type": "execute_result"
    }
   ],
   "source": [
    "tmp1 = 'file.mp4'\n",
    "tmp1.split('.')"
   ]
  },
  {
   "cell_type": "code",
   "execution_count": 48,
   "metadata": {
    "ExecuteTime": {
     "end_time": "2021-07-24T08:09:59.776625Z",
     "start_time": "2021-07-24T08:09:59.772655Z"
    }
   },
   "outputs": [
    {
     "data": {
      "text/plain": [
       "['python', 'c++', 'JAVA']"
      ]
     },
     "execution_count": 48,
     "metadata": {},
     "output_type": "execute_result"
    }
   ],
   "source": [
    "tmp2 = 'python,c++,JAVA'\n",
    "tmp2.split(',')"
   ]
  },
  {
   "cell_type": "markdown",
   "metadata": {},
   "source": [
    "<hr style=\"height:3px;border:none;color:#5F71F7;background-color:#5F71F7;\" />\n",
    "\n",
    "<div class=\"alert alert-success\">\n",
    "    <b>예제(Exercise)</b>:\n",
    "    <ul>\n",
    "        <li>\n",
    "        다음 문자열을 txt = \"The quick brown fox jupsover the lazy dog\" 다음과 같이 출력하시오\n",
    "        </li>\n",
    "    </ul>\n",
    "</div>\n",
    "\n",
    "```python \n",
    "['The', 'quick', 'brown', 'fox', 'jupsover', 'the', 'lazy', 'dog']\n",
    "```"
   ]
  },
  {
   "cell_type": "code",
   "execution_count": null,
   "metadata": {},
   "outputs": [],
   "source": []
  },
  {
   "cell_type": "markdown",
   "metadata": {},
   "source": [
    "## Join"
   ]
  },
  {
   "cell_type": "code",
   "execution_count": 50,
   "metadata": {
    "ExecuteTime": {
     "end_time": "2021-07-24T08:10:21.073008Z",
     "start_time": "2021-07-24T08:10:21.069023Z"
    }
   },
   "outputs": [
    {
     "data": {
      "text/plain": [
       "'ab'"
      ]
     },
     "execution_count": 50,
     "metadata": {},
     "output_type": "execute_result"
    }
   ],
   "source": [
    "'a'+'b'"
   ]
  },
  {
   "cell_type": "code",
   "execution_count": 49,
   "metadata": {
    "ExecuteTime": {
     "end_time": "2021-07-24T08:10:11.367908Z",
     "start_time": "2021-07-24T08:10:11.362923Z"
    }
   },
   "outputs": [
    {
     "data": {
      "text/plain": [
       "'ab'"
      ]
     },
     "execution_count": 49,
     "metadata": {},
     "output_type": "execute_result"
    }
   ],
   "source": [
    "''.join('a''b')"
   ]
  },
  {
   "cell_type": "code",
   "execution_count": 53,
   "metadata": {
    "ExecuteTime": {
     "end_time": "2021-07-24T08:30:24.716471Z",
     "start_time": "2021-07-24T08:30:24.713484Z"
    }
   },
   "outputs": [
    {
     "data": {
      "text/plain": [
       "'red-blue-green'"
      ]
     },
     "execution_count": 53,
     "metadata": {},
     "output_type": "execute_result"
    }
   ],
   "source": []
  },
  {
   "cell_type": "markdown",
   "metadata": {},
   "source": [
    "<hr style=\"height:3px;border:none;color:#5F71F7;background-color:#5F71F7;\" />\n",
    "\n",
    "<div class=\"alert alert-success\">\n",
    "    <b>예제(Exercise)</b>:\n",
    "    <ul>\n",
    "        <li>\n",
    "        다음 리스트를 colors = ['red', 'blue', 'green'] 다음과 같이 출력하시오\n",
    "        </li>\n",
    "    </ul>\n",
    "</div>\n",
    "\n",
    "```python \n",
    "red-blue-green\n",
    "redbluegreen\n",
    "red,blue,green\n",
    "```"
   ]
  },
  {
   "cell_type": "code",
   "execution_count": null,
   "metadata": {},
   "outputs": [],
   "source": []
  },
  {
   "cell_type": "code",
   "execution_count": null,
   "metadata": {},
   "outputs": [],
   "source": []
  },
  {
   "cell_type": "markdown",
   "metadata": {},
   "source": [
    "<hr style=\"height:3px;border:none;color:#5F71F7;background-color:#5F71F7;\" />\n",
    "\n",
    "<div class=\"alert alert-success\">\n",
    "    <b>예제(Exercise)</b>:\n",
    "    <ul>\n",
    "        <li>\n",
    "        과일의 비타민 함유량 출력하는 함수를 만들고자 한다. \n",
    "         <li>\n",
    "         각 과일 이름과 함유량을 인자로 받아 dict로 저장하고, 이름과 함유량을 출력예와 같이 출력하는 함수 vitamin_c를 정의하라. \n",
    "        </li>\n",
    "        </li>\n",
    "    </ul>\n",
    "</div>\n",
    "\n",
    "예제\n",
    "- 입력값: vitamin_c(citron=105,strawberry=94,quince=81,lemon=70,tangerine=39)\n",
    "- 출력값: \n",
    "\n",
    "```python \n",
    "----------------------------------\n",
    "Fruit Name      Vitamin C Content\n",
    "----------------------------------\n",
    "citron          105\n",
    "strawberry      94\n",
    "quince          81\n",
    "lemon           70\n",
    "tangerine       39\n",
    "----------------------------------\n",
    "총 함유량: 389\n",
    "```\n",
    "\n",
    "테스트 케이스 \n",
    "vitamin_c(orange=43, kiwi=27, cherryTomato=21, appe=4)"
   ]
  },
  {
   "cell_type": "code",
   "execution_count": null,
   "metadata": {},
   "outputs": [],
   "source": []
  },
  {
   "cell_type": "code",
   "execution_count": null,
   "metadata": {},
   "outputs": [],
   "source": []
  },
  {
   "cell_type": "code",
   "execution_count": null,
   "metadata": {},
   "outputs": [],
   "source": []
  },
  {
   "cell_type": "code",
   "execution_count": null,
   "metadata": {},
   "outputs": [],
   "source": []
  },
  {
   "cell_type": "markdown",
   "metadata": {},
   "source": [
    "<hr style=\"height:3px;border:none;color:#5F71F7;background-color:#5F71F7;\" />\n",
    "\n",
    "<div class=\"alert alert-success\">\n",
    "    <b>예제(Exercise)</b>:\n",
    "    <ul>\n",
    "        <li>\n",
    "        다음을 값을 출력하시오 __ 중첩리스트 \n",
    "        </li>\n",
    "    </ul>\n",
    "</div>\n",
    "\n",
    "```python \n",
    "(0, 0) (0, 1) (0, 2) \n",
    "(1, 0) (1, 1) (1, 2) \n",
    "(2, 0) (2, 1) (2, 2) \n",
    "```"
   ]
  },
  {
   "cell_type": "code",
   "execution_count": null,
   "metadata": {},
   "outputs": [],
   "source": []
  },
  {
   "cell_type": "markdown",
   "metadata": {},
   "source": [
    "<hr style=\"height:3px;border:none;color:#5F71F7;background-color:#5F71F7;\" />\n",
    "\n",
    "<div class=\"alert alert-success\">\n",
    "    <b>예제(Exercise)</b>:\n",
    "    <ul>\n",
    "        <li>\n",
    "        이름과 성적을 입력받아 합격 기준이 60점이 넘으면 '합격하였습니다.'를 출력하며, 그렇지 않은 경우는 '불합격하였습니다. 를 반환하는 함수를 만드시오.  \n",
    "        </li>\n",
    "    </ul>\n",
    "</div>\n",
    "\n",
    "함수 예제\n",
    "\n",
    "```python \n",
    "def check_score(x,y,criterion=60):\n",
    "    ''''... 생량 ...''''\n",
    "   \n",
    "```\n",
    "\n",
    "테스트 케이스 \n",
    "- check_score('A',90)\n",
    "- check_score('B',40)"
   ]
  },
  {
   "cell_type": "code",
   "execution_count": null,
   "metadata": {},
   "outputs": [],
   "source": []
  },
  {
   "cell_type": "code",
   "execution_count": null,
   "metadata": {},
   "outputs": [],
   "source": []
  },
  {
   "cell_type": "markdown",
   "metadata": {},
   "source": [
    "<hr style=\"height:3px;border:none;color:#5F71F7;background-color:#5F71F7;\" />\n",
    "\n",
    "<div class=\"alert alert-success\">\n",
    "    <b>예제(Exercise)</b>:\n",
    "    <ul>\n",
    "        <li>\n",
    "        다음 학급에 김씨, 이씨가 각각 몇 명잇는지 구하시오.__ for문, if문 \n",
    "        </li>\n",
    "    </ul>\n",
    "</div>\n",
    "\n",
    "```python \n",
    "name_list='이유덕,이재영,권종표,이재영,박민호,강상희,이재영,김지완,최승혁,이성연,박영서,박민호,전경헌,송정환,김재성,이유덕,전경헌'\n",
    "```"
   ]
  },
  {
   "cell_type": "code",
   "execution_count": null,
   "metadata": {},
   "outputs": [],
   "source": []
  },
  {
   "cell_type": "code",
   "execution_count": null,
   "metadata": {},
   "outputs": [],
   "source": []
  },
  {
   "cell_type": "markdown",
   "metadata": {},
   "source": [
    "<hr style=\"height:3px;border:none;color:#5F71F7;background-color:#5F71F7;\" />\n",
    "\n",
    "<div class=\"alert alert-success\">\n",
    "    <b>예제(Exercise)</b>:\n",
    "    <ul>\n",
    "        <li>\n",
    "        다음 학급의 전체 인원 수 와 같은 이름이 몇명 있는지 구하시오.__ len, set \n",
    "        </li>\n",
    "    </ul>\n",
    "</div>\n",
    "\n",
    "```python \n",
    "name_list='이유덕,이재영,권종표,이재영,박민호,강상희,이재영,김지완,최승혁,이성연,박영서,박민호,전경헌,송정환,김재성,이유덕,전경헌'\n",
    "```"
   ]
  },
  {
   "cell_type": "code",
   "execution_count": null,
   "metadata": {},
   "outputs": [],
   "source": []
  },
  {
   "cell_type": "code",
   "execution_count": null,
   "metadata": {},
   "outputs": [],
   "source": []
  },
  {
   "cell_type": "markdown",
   "metadata": {},
   "source": [
    "<hr style=\"height:3px;border:none;color:#5F71F7;background-color:#5F71F7;\" />\n",
    "\n",
    "<div class=\"alert alert-success\">\n",
    "    <b>예제(Exercise)</b>:\n",
    "    <ul>\n",
    "        <li>\n",
    "        주어진 문자열 안에서의 각 문자의 출현빈도를 사전형으로 만들어 반환하는 함수 ch_bin()을 작성하시오. \n",
    "        </li>\n",
    "    </ul>\n",
    "</div>\n",
    "\n",
    "예제\n",
    "- 입력값(input): brontosaurus\n",
    "- 출력값: {'b': 1, 'r': 2, 'o': 2, 'n': 1, 't': 1, 's': 2, 'a': 1, 'u': 2}\n",
    "\n",
    "테스트 케이스 \n",
    "```python \n",
    "words = ['Seoul','Subway','Happy',\n",
    "         'Deep Learning','Machine Learning',\n",
    "         'NIA','Life','Python','apple','banana']\n",
    "```"
   ]
  },
  {
   "cell_type": "code",
   "execution_count": null,
   "metadata": {},
   "outputs": [],
   "source": []
  },
  {
   "cell_type": "code",
   "execution_count": null,
   "metadata": {},
   "outputs": [],
   "source": []
  },
  {
   "cell_type": "code",
   "execution_count": null,
   "metadata": {},
   "outputs": [],
   "source": []
  },
  {
   "cell_type": "markdown",
   "metadata": {},
   "source": [
    "<hr style=\"height:3px;border:none;color:#5F71F7;background-color:#5F71F7;\" />\n",
    "\n",
    "<div class=\"alert alert-success\">\n",
    "    <b>예제(Exercise)</b>:\n",
    "    <ul>\n",
    "        <li>\n",
    "        앞서 만든 함수 ch_bin()을 변형하여 1개만 잇는 문자들을 출력하게 만드시오. \n",
    "        </li>\n",
    "    </ul>\n",
    "</div>\n",
    "\n",
    "예제\n",
    "- 입력값(input): brontosaurus\n",
    "- 출력값: {'b', 'n', 't',  'a' }\n",
    "\n",
    "테스트 케이스 \n",
    "```python \n",
    "words = ['Seoul','Subway','Happy',\n",
    "         'Deep Learning','Machine Learning',\n",
    "         'NIA','Life','Python','apple','banana']\n",
    "```"
   ]
  },
  {
   "cell_type": "code",
   "execution_count": null,
   "metadata": {},
   "outputs": [],
   "source": []
  },
  {
   "cell_type": "code",
   "execution_count": null,
   "metadata": {},
   "outputs": [],
   "source": []
  },
  {
   "cell_type": "code",
   "execution_count": null,
   "metadata": {},
   "outputs": [],
   "source": []
  },
  {
   "cell_type": "code",
   "execution_count": null,
   "metadata": {},
   "outputs": [],
   "source": []
  },
  {
   "cell_type": "code",
   "execution_count": null,
   "metadata": {},
   "outputs": [],
   "source": []
  }
 ],
 "metadata": {
  "kernelspec": {
   "display_name": "Python 3",
   "language": "python",
   "name": "python3"
  },
  "language_info": {
   "codemirror_mode": {
    "name": "ipython",
    "version": 3
   },
   "file_extension": ".py",
   "mimetype": "text/x-python",
   "name": "python",
   "nbconvert_exporter": "python",
   "pygments_lexer": "ipython3",
   "version": "3.7.0"
  },
  "toc": {
   "base_numbering": 1,
   "nav_menu": {},
   "number_sections": true,
   "sideBar": true,
   "skip_h1_title": true,
   "title_cell": "Table of Contents",
   "title_sidebar": "Contents",
   "toc_cell": true,
   "toc_position": {},
   "toc_section_display": true,
   "toc_window_display": false
  },
  "varInspector": {
   "cols": {
    "lenName": 16,
    "lenType": 16,
    "lenVar": 40
   },
   "kernels_config": {
    "python": {
     "delete_cmd_postfix": "",
     "delete_cmd_prefix": "del ",
     "library": "var_list.py",
     "varRefreshCmd": "print(var_dic_list())"
    },
    "r": {
     "delete_cmd_postfix": ") ",
     "delete_cmd_prefix": "rm(",
     "library": "var_list.r",
     "varRefreshCmd": "cat(var_dic_list()) "
    }
   },
   "types_to_exclude": [
    "module",
    "function",
    "builtin_function_or_method",
    "instance",
    "_Feature"
   ],
   "window_display": false
  }
 },
 "nbformat": 4,
 "nbformat_minor": 5
}
