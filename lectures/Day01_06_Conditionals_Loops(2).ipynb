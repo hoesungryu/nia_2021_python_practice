{
 "cells": [
  {
   "cell_type": "markdown",
   "metadata": {},
   "source": [
    "# Day1_06_Conditionals_Loops!\n",
    "\n",
    "<font size=5><b>조건문과 반복문02<b></font>\n",
    "<div align='right'>류 회 성<br>(Hoe Sung Ryu)</div>\n",
    "\n",
    "  \n",
    "<img src='../imgs/06_main.png' width=40%>\n",
    "\n",
    "    \n",
    "---"
   ]
  },
  {
   "cell_type": "markdown",
   "metadata": {
    "toc": true
   },
   "source": [
    "<h1>Table of Contents<span class=\"tocSkip\"></span></h1>\n",
    "<div class=\"toc\"><ul class=\"toc-item\"><li><span><a href=\"#조건문과-반복문\" data-toc-modified-id=\"조건문과-반복문-1\"><span class=\"toc-item-num\">1&nbsp;&nbsp;</span>조건문과 반복문</a></span></li><li><span><a href=\"#For--문\" data-toc-modified-id=\"For--문-2\"><span class=\"toc-item-num\">2&nbsp;&nbsp;</span>For  문</a></span><ul class=\"toc-item\"><li><span><a href=\"#기본-for문\" data-toc-modified-id=\"기본-for문-2.1\"><span class=\"toc-item-num\">2.1&nbsp;&nbsp;</span>기본 for문</a></span></li><li><span><a href=\"#for-else\" data-toc-modified-id=\"for-else-2.2\"><span class=\"toc-item-num\">2.2&nbsp;&nbsp;</span>for-else</a></span></li><li><span><a href=\"#for-break\" data-toc-modified-id=\"for-break-2.3\"><span class=\"toc-item-num\">2.3&nbsp;&nbsp;</span>for-break</a></span></li><li><span><a href=\"#for-continue\" data-toc-modified-id=\"for-continue-2.4\"><span class=\"toc-item-num\">2.4&nbsp;&nbsp;</span>for-continue</a></span></li></ul></li><li><span><a href=\"#중복-for문\" data-toc-modified-id=\"중복-for문-3\"><span class=\"toc-item-num\">3&nbsp;&nbsp;</span>중복 for문</a></span></li><li><span><a href=\"#Quiz\" data-toc-modified-id=\"Quiz-4\"><span class=\"toc-item-num\">4&nbsp;&nbsp;</span>Quiz</a></span></li></ul></div>"
   ]
  },
  {
   "cell_type": "markdown",
   "metadata": {},
   "source": [
    "## 조건문과 반복문\n",
    "\n",
    "- 프로그램은 명령문들을 순차적으로 실행 (top-down order)\n",
    "- 조건문Conditionals : 실행 순서를 조건에 따라 바꿈 \n",
    "- 반복문Loops : 특정 조건을 만족할 때 까지 계속 시행\n",
    "\n",
    "\n",
    "- 종류\n",
    ">- if / else if / if-elif ... else\n",
    ">- while / for\n",
    ">- break / continue"
   ]
  },
  {
   "cell_type": "markdown",
   "metadata": {},
   "source": [
    "## For  문\n",
    "\n",
    "- while 문 반복 횟수 미정 일 때 사용\n",
    "- for문 반복 횟수가 정확 할 때 사용"
   ]
  },
  {
   "cell_type": "markdown",
   "metadata": {},
   "source": [
    "### 기본 for문"
   ]
  },
  {
   "cell_type": "code",
   "execution_count": 9,
   "metadata": {
    "ExecuteTime": {
     "end_time": "2021-07-23T12:54:21.274968Z",
     "start_time": "2021-07-23T12:54:21.269981Z"
    }
   },
   "outputs": [
    {
     "name": "stdout",
     "output_type": "stream",
     "text": [
      "1 2 3 4 5 6 7 8 9 10 "
     ]
    }
   ],
   "source": [
    "for i in range(1,10+1):\n",
    "    print(i, end=' ')"
   ]
  },
  {
   "cell_type": "code",
   "execution_count": 5,
   "metadata": {
    "ExecuteTime": {
     "end_time": "2021-07-23T12:48:39.194235Z",
     "start_time": "2021-07-23T12:48:39.190220Z"
    }
   },
   "outputs": [
    {
     "name": "stdout",
     "output_type": "stream",
     "text": [
      "* * * * * * * * * * "
     ]
    }
   ],
   "source": [
    "for _ in range(10): # iterate 되는 것들\n",
    "    print('*',end=' ')"
   ]
  },
  {
   "cell_type": "code",
   "execution_count": 7,
   "metadata": {
    "ExecuteTime": {
     "end_time": "2021-07-23T12:51:36.916399Z",
     "start_time": "2021-07-23T12:51:36.911413Z"
    }
   },
   "outputs": [
    {
     "name": "stdout",
     "output_type": "stream",
     "text": [
      "20,19,18,17,16,15,14,13,12,11,10,9,8,7,6,5,4,"
     ]
    }
   ],
   "source": [
    "## 역순으로 출력 \n",
    "for i in range(20,4-1,-1):\n",
    "    print(i, end=',')"
   ]
  },
  {
   "cell_type": "code",
   "execution_count": 8,
   "metadata": {
    "ExecuteTime": {
     "end_time": "2021-07-23T12:52:34.548638Z",
     "start_time": "2021-07-23T12:52:34.544648Z"
    }
   },
   "outputs": [
    {
     "name": "stdout",
     "output_type": "stream",
     "text": [
      "10,9,8,7,6,5,4,3,2,"
     ]
    }
   ],
   "source": [
    "## 역순으로 출력 \n",
    "for i in range(10,1,-1):\n",
    "    print(i, end=',')"
   ]
  },
  {
   "cell_type": "markdown",
   "metadata": {},
   "source": [
    "<div class=\"alert alert-success\">\n",
    "    <b>예제(Exercise)</b>:\n",
    "    <ul>\n",
    "        <li>\n",
    "        다음 결과값을 출력하시오.\n",
    "        </li>\n",
    "    </ul>\n",
    "</div>\n",
    "\n",
    "```python\n",
    " 2  4  6  8 10 \n",
    "12 14 16 18 20 \n",
    "22 24 26 28 30 \n",
    "32 34 36 38 40 \n",
    "42 44 46 48 50\n",
    "```"
   ]
  },
  {
   "cell_type": "code",
   "execution_count": null,
   "metadata": {},
   "outputs": [],
   "source": []
  },
  {
   "cell_type": "markdown",
   "metadata": {},
   "source": [
    "### for-else"
   ]
  },
  {
   "cell_type": "code",
   "execution_count": 6,
   "metadata": {
    "ExecuteTime": {
     "end_time": "2021-07-23T12:51:06.556069Z",
     "start_time": "2021-07-23T12:51:06.552080Z"
    }
   },
   "outputs": [
    {
     "name": "stdout",
     "output_type": "stream",
     "text": [
      "1 2 3 4 5 6 7 8 9 10 출력끝\n"
     ]
    }
   ],
   "source": [
    "for i in range(1,11):\n",
    "    print(i, end=' ')\n",
    "else:\n",
    "    print('출력끝')"
   ]
  },
  {
   "cell_type": "markdown",
   "metadata": {},
   "source": [
    "### for-break"
   ]
  },
  {
   "cell_type": "code",
   "execution_count": 10,
   "metadata": {
    "ExecuteTime": {
     "end_time": "2021-07-23T12:57:25.379955Z",
     "start_time": "2021-07-23T12:57:25.375989Z"
    }
   },
   "outputs": [
    {
     "name": "stdout",
     "output_type": "stream",
     "text": [
      "0,1,2,3,4,"
     ]
    }
   ],
   "source": [
    "for i in range(10):\n",
    "    if i == 5: \n",
    "        break\n",
    "    print(i, end=',')\n",
    "else:\n",
    "    print('END')"
   ]
  },
  {
   "cell_type": "markdown",
   "metadata": {},
   "source": [
    "### for-continue"
   ]
  },
  {
   "cell_type": "code",
   "execution_count": 11,
   "metadata": {
    "ExecuteTime": {
     "end_time": "2021-07-23T13:00:29.541082Z",
     "start_time": "2021-07-23T13:00:29.536088Z"
    }
   },
   "outputs": [
    {
     "name": "stdout",
     "output_type": "stream",
     "text": [
      "0,check\n",
      "1,check\n",
      "2,check\n",
      "3,check\n",
      "4,check\n",
      "5,6,check\n",
      "7,check\n",
      "8,check\n",
      "9,check\n",
      "END\n"
     ]
    }
   ],
   "source": [
    "for i in range(10):\n",
    "    print(i, end=',')\n",
    "    if i == 5: \n",
    "        continue\n",
    "    print('check')\n",
    "else:\n",
    "    print('END')"
   ]
  },
  {
   "cell_type": "markdown",
   "metadata": {},
   "source": [
    "<hr style=\"height:3px;border:none;color:#5F71F7;background-color:#5F71F7;\" />\n",
    "\n",
    "## 중복 for문\n",
    "\n",
    "반복문 안에 반복문이 중첩되는 경우를 뜻한다. "
   ]
  },
  {
   "cell_type": "code",
   "execution_count": 13,
   "metadata": {
    "ExecuteTime": {
     "end_time": "2021-07-23T13:06:40.941692Z",
     "start_time": "2021-07-23T13:06:40.936730Z"
    }
   },
   "outputs": [
    {
     "name": "stdout",
     "output_type": "stream",
     "text": [
      "Pattern A\n",
      "1 \n",
      "1 2 \n",
      "1 2 3 \n",
      "1 2 3 4 \n",
      "1 2 3 4 5 \n",
      "1 2 3 4 5 6 \n",
      "\n"
     ]
    }
   ],
   "source": [
    "print('Pattern A')\n",
    "for i in range(1,7):\n",
    "    for j in range(1,i+1):\n",
    "        print(j,end=' ')\n",
    "    print()\n",
    "\n",
    "print()"
   ]
  },
  {
   "cell_type": "markdown",
   "metadata": {},
   "source": [
    "<div class=\"alert alert-success\">\n",
    "    <b>예제(Exercise)</b>:\n",
    "    <ul>\n",
    "        <li>\n",
    "        다음을 출력하시오\n",
    "        </li>\n",
    "    </ul>\n",
    "</div>\n",
    "\n",
    "```python \n",
    "Pattern B\n",
    "1 2 3 4 5 6 \n",
    "1 2 3 4 5 \n",
    "1 2 3 4 \n",
    "1 2 3 \n",
    "1 2 \n",
    "1 \n",
    "```"
   ]
  },
  {
   "cell_type": "code",
   "execution_count": null,
   "metadata": {},
   "outputs": [],
   "source": []
  },
  {
   "cell_type": "markdown",
   "metadata": {},
   "source": [
    "<hr style=\"height:3px;border:none;color:#5F71F7;background-color:#5F71F7;\" />\n",
    "\n",
    "## Quiz \n",
    "\n"
   ]
  },
  {
   "cell_type": "markdown",
   "metadata": {},
   "source": [
    "<div class=\"alert alert-success\">\n",
    "    <b>실습(Practice)_01</b>:\n",
    "    <ul>\n",
    "        <li>\n",
    "        다음 출력 값을 나타내는 for 문을 작성하시오. \n",
    "        </li>\n",
    "    </ul>\n",
    "</div>\n",
    "\n",
    "```python\n",
    ">> 1 + 2 + 3 + 4 + 5 + 7 + 8 + 9 + 10 + 11 + 13 + 14 + 15 + 16 + 17 + 19 + 20 \n",
    "= 174\n",
    "```\n",
    "```\n",
    "hint\n",
    "6의 배수는 더하지 않는다. \n",
    "```"
   ]
  },
  {
   "cell_type": "code",
   "execution_count": null,
   "metadata": {},
   "outputs": [],
   "source": []
  },
  {
   "cell_type": "markdown",
   "metadata": {},
   "source": [
    "<div class=\"alert alert-success\">\n",
    "    <b>실습(Practice)_02</b>:\n",
    "    <ul>\n",
    "        <li>\n",
    "        다음을 출력하시오/\n",
    "        </li>\n",
    "    </ul>\n",
    "</div>\n",
    "\n",
    "```p\n",
    "     *\n",
    "    ***\n",
    "   *****\n",
    "  *******\n",
    " *********\n",
    "```"
   ]
  },
  {
   "cell_type": "code",
   "execution_count": null,
   "metadata": {},
   "outputs": [],
   "source": []
  },
  {
   "cell_type": "code",
   "execution_count": null,
   "metadata": {},
   "outputs": [],
   "source": []
  }
 ],
 "metadata": {
  "kernelspec": {
   "display_name": "Python 3",
   "language": "python",
   "name": "python3"
  },
  "language_info": {
   "codemirror_mode": {
    "name": "ipython",
    "version": 3
   },
   "file_extension": ".py",
   "mimetype": "text/x-python",
   "name": "python",
   "nbconvert_exporter": "python",
   "pygments_lexer": "ipython3",
   "version": "3.7.0"
  },
  "toc": {
   "base_numbering": 1,
   "nav_menu": {},
   "number_sections": true,
   "sideBar": true,
   "skip_h1_title": true,
   "title_cell": "Table of Contents",
   "title_sidebar": "Contents",
   "toc_cell": true,
   "toc_position": {},
   "toc_section_display": true,
   "toc_window_display": false
  },
  "varInspector": {
   "cols": {
    "lenName": 16,
    "lenType": 16,
    "lenVar": 40
   },
   "kernels_config": {
    "python": {
     "delete_cmd_postfix": "",
     "delete_cmd_prefix": "del ",
     "library": "var_list.py",
     "varRefreshCmd": "print(var_dic_list())"
    },
    "r": {
     "delete_cmd_postfix": ") ",
     "delete_cmd_prefix": "rm(",
     "library": "var_list.r",
     "varRefreshCmd": "cat(var_dic_list()) "
    }
   },
   "types_to_exclude": [
    "module",
    "function",
    "builtin_function_or_method",
    "instance",
    "_Feature"
   ],
   "window_display": false
  }
 },
 "nbformat": 4,
 "nbformat_minor": 5
}
