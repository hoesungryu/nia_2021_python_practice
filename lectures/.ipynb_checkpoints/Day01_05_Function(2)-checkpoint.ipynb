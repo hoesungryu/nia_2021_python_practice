{
 "cells": [
  {
   "cell_type": "markdown",
   "metadata": {},
   "source": [
    "# Day1_05_Function\n",
    "\n",
    "<font size=5><b>함수 style<b></font>\n",
    "<div align='right'>류 회 성<br>(Hoe Sung Ryu)</div>\n",
    "\n",
    "  \n",
    "<img src='../imgs/05_main.png' width=40%>\n",
    "\n",
    "    \n",
    "---"
   ]
  },
  {
   "cell_type": "markdown",
   "metadata": {
    "toc": true
   },
   "source": [
    "<h1>Table of Contents<span class=\"tocSkip\"></span></h1>\n",
    "<div class=\"toc\"><ul class=\"toc-item\"><li><span><a href=\"#Style-Guide-for-Python-Code\" data-toc-modified-id=\"Style-Guide-for-Python-Code-1\"><span class=\"toc-item-num\">1&nbsp;&nbsp;</span>Style Guide for Python Code</a></span></li><li><span><a href=\"#Function-Declaration\" data-toc-modified-id=\"Function-Declaration-2\"><span class=\"toc-item-num\">2&nbsp;&nbsp;</span>Function Declaration</a></span><ul class=\"toc-item\"><li><span><a href=\"#Function-Call\" data-toc-modified-id=\"Function-Call-2.1\"><span class=\"toc-item-num\">2.1&nbsp;&nbsp;</span>Function Call</a></span></li><li><span><a href=\"#Operator-and,-Operand\" data-toc-modified-id=\"Operator-and,-Operand-2.2\"><span class=\"toc-item-num\">2.2&nbsp;&nbsp;</span>Operator and, Operand</a></span></li><li><span><a href=\"#3.-Binary-Operators\" data-toc-modified-id=\"3.-Binary-Operators-2.3\"><span class=\"toc-item-num\">2.3&nbsp;&nbsp;</span>3. Binary Operators</a></span></li></ul></li></ul></div>"
   ]
  },
  {
   "cell_type": "markdown",
   "metadata": {},
   "source": [
    "## Style Guide for Python Code\n",
    "참조: https://www.python.org/dev/peps/pep-0008/\n",
    "\n",
    "\n",
    "- 들여쓰기는 공백 4개로 한다.\n",
    "- 한 줄의 최대 글자는 79자로 한다.\n",
    "- File encoding은 UTF-8 또는 ASCII\n",
    "- One Line One Import\n",
    "- Standard, 3rd Party, Local libraries 순서로 import\n",
    "- 소괄호, 중괄호, 대괄호 사이에 추가 공백을 입력금지"
   ]
  },
  {
   "cell_type": "markdown",
   "metadata": {},
   "source": [
    "## Function Declaration\n",
    "어느 것이 정답일까?\n",
    "```python\n",
    "def long_args_func(var_one, var_two,\n",
    "    var_three):\n",
    "    print(var_one)\n",
    "\n",
    "def long_args2_func(var_one, var_two\n",
    "        ,var_three):\n",
    "    print(var_one)\n",
    "    \n",
    "# two extra indent\n",
    "def long_args3_func(\n",
    "        var_one, var_two, var_three):\n",
    "    print(var_one)\n",
    "```"
   ]
  },
  {
   "cell_type": "code",
   "execution_count": null,
   "metadata": {},
   "outputs": [],
   "source": [
    "def long_args3_func(\n",
    "        var_one, var_two, var_three):\n",
    "    print(var_one)"
   ]
  },
  {
   "cell_type": "markdown",
   "metadata": {},
   "source": [
    "### Function Call\n",
    "\n",
    "```python\n",
    "# 이건 진짜 이상함\n",
    "long_args_func(1, 2,\n",
    "3, 4)\n",
    "\n",
    "# 이건 그나마 비슷해짐\n",
    "long_args_func(1, 2,\n",
    "                  3, 4)\n",
    "\n",
    "# 아래가 표준이다\n",
    "long_args_func(1, 2,\n",
    "               3, 4)\n",
    "```"
   ]
  },
  {
   "cell_type": "markdown",
   "metadata": {},
   "source": [
    "### Operator and, Operand\n",
    "- 연산자가 흩어지면 안된다. \n",
    "- 읽는 순서는 Left 로 다시 돌아가서 확인해야 합니다\n",
    "\n",
    "```python\n",
    "# 틀린 예시 : 이해하기 어려운 예시\n",
    "income = 1 +\n",
    "         2 +\n",
    "         (3 - 4) -\n",
    "         5 -\n",
    "         6\n",
    "\n",
    "# 옳은 예시\n",
    "income = 1\n",
    "         + 2\n",
    "         + (3 - 4) # 식 중간에 있는 괄호들은 붙여서!\n",
    "         - 5\n",
    "         - 6\n",
    "```"
   ]
  },
  {
   "cell_type": "markdown",
   "metadata": {},
   "source": [
    "### 3. Binary Operators\n",
    "```python\n",
    "hypot2 = x*x + y*y # 우선순위가 높은건 붙여주자\n",
    "```"
   ]
  },
  {
   "cell_type": "code",
   "execution_count": null,
   "metadata": {},
   "outputs": [],
   "source": []
  }
 ],
 "metadata": {
  "kernelspec": {
   "display_name": "Python 3",
   "language": "python",
   "name": "python3"
  },
  "language_info": {
   "codemirror_mode": {
    "name": "ipython",
    "version": 3
   },
   "file_extension": ".py",
   "mimetype": "text/x-python",
   "name": "python",
   "nbconvert_exporter": "python",
   "pygments_lexer": "ipython3",
   "version": "3.7.0"
  },
  "toc": {
   "base_numbering": 1,
   "nav_menu": {},
   "number_sections": true,
   "sideBar": true,
   "skip_h1_title": true,
   "title_cell": "Table of Contents",
   "title_sidebar": "Contents",
   "toc_cell": true,
   "toc_position": {},
   "toc_section_display": true,
   "toc_window_display": false
  },
  "varInspector": {
   "cols": {
    "lenName": 16,
    "lenType": 16,
    "lenVar": 40
   },
   "kernels_config": {
    "python": {
     "delete_cmd_postfix": "",
     "delete_cmd_prefix": "del ",
     "library": "var_list.py",
     "varRefreshCmd": "print(var_dic_list())"
    },
    "r": {
     "delete_cmd_postfix": ") ",
     "delete_cmd_prefix": "rm(",
     "library": "var_list.r",
     "varRefreshCmd": "cat(var_dic_list()) "
    }
   },
   "types_to_exclude": [
    "module",
    "function",
    "builtin_function_or_method",
    "instance",
    "_Feature"
   ],
   "window_display": false
  }
 },
 "nbformat": 4,
 "nbformat_minor": 5
}
