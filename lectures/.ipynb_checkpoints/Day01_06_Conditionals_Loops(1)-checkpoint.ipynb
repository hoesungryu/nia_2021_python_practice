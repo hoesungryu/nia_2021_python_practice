{
 "cells": [
  {
   "cell_type": "markdown",
   "metadata": {},
   "source": [
    "# Day1_06_Conditionals_Loops!\n",
    "\n",
    "<font size=5><b>조건문과 반복문01<b></font>\n",
    "<div align='right'>류 회 성<br>(Hoe Sung Ryu)</div>\n",
    "\n",
    "  \n",
    "<img src='../imgs/06_main.png' width=40%>\n",
    "\n",
    "    \n",
    "---"
   ]
  },
  {
   "cell_type": "markdown",
   "metadata": {
    "toc": true
   },
   "source": [
    "<h1>Table of Contents<span class=\"tocSkip\"></span></h1>\n",
    "<div class=\"toc\"><ul class=\"toc-item\"><li><span><a href=\"#조건문과-반복문\" data-toc-modified-id=\"조건문과-반복문-1\"><span class=\"toc-item-num\">1&nbsp;&nbsp;</span>조건문과 반복문</a></span></li><li><span><a href=\"#조건문(Conditionals)\" data-toc-modified-id=\"조건문(Conditionals)-2\"><span class=\"toc-item-num\">2&nbsp;&nbsp;</span>조건문(Conditionals)</a></span><ul class=\"toc-item\"><li><span><a href=\"#if---else\" data-toc-modified-id=\"if---else-2.1\"><span class=\"toc-item-num\">2.1&nbsp;&nbsp;</span>if - else</a></span></li><li><span><a href=\"#간단한-조건문은-한-줄에-표현\" data-toc-modified-id=\"간단한-조건문은-한-줄에-표현-2.2\"><span class=\"toc-item-num\">2.2&nbsp;&nbsp;</span>간단한 조건문은 한 줄에 표현</a></span></li><li><span><a href=\"#if-elif-else\" data-toc-modified-id=\"if-elif-else-2.3\"><span class=\"toc-item-num\">2.3&nbsp;&nbsp;</span>if-elif-else</a></span></li></ul></li><li><span><a href=\"#반복문\" data-toc-modified-id=\"반복문-3\"><span class=\"toc-item-num\">3&nbsp;&nbsp;</span>반복문</a></span><ul class=\"toc-item\"><li><span><a href=\"#while\" data-toc-modified-id=\"while-3.1\"><span class=\"toc-item-num\">3.1&nbsp;&nbsp;</span>while</a></span></li><li><span><a href=\"#While-break-문\" data-toc-modified-id=\"While-break-문-3.2\"><span class=\"toc-item-num\">3.2&nbsp;&nbsp;</span>While-break 문</a></span></li><li><span><a href=\"#While-else\" data-toc-modified-id=\"While-else-3.3\"><span class=\"toc-item-num\">3.3&nbsp;&nbsp;</span>While-else</a></span></li><li><span><a href=\"#While-else-break\" data-toc-modified-id=\"While-else-break-3.4\"><span class=\"toc-item-num\">3.4&nbsp;&nbsp;</span>While-else break</a></span></li><li><span><a href=\"#While-else-continue\" data-toc-modified-id=\"While-else-continue-3.5\"><span class=\"toc-item-num\">3.5&nbsp;&nbsp;</span>While-else continue</a></span></li></ul></li><li><span><a href=\"#Quiz\" data-toc-modified-id=\"Quiz-4\"><span class=\"toc-item-num\">4&nbsp;&nbsp;</span>Quiz</a></span></li></ul></div>"
   ]
  },
  {
   "cell_type": "markdown",
   "metadata": {},
   "source": [
    "## 조건문과 반복문\n",
    "\n",
    "- 프로그램은 명령문들을 순차적으로 실행 (top-down order)\n",
    "- 조건문Conditionals : 실행 순서를 조건에 따라 바꿈 \n",
    "- 반복문Loops : 특정 조건을 만족할 때 까지 계속 시행\n",
    "\n",
    "\n",
    "- 종류\n",
    ">- if / else if / if-elif ... else\n",
    ">- while / for\n",
    ">- break / continue"
   ]
  },
  {
   "cell_type": "markdown",
   "metadata": {},
   "source": [
    "## 조건문(Conditionals)\n",
    "\n",
    "조건문Conditionals : 실행 순서를 조건에 따라 바꿈 \n",
    "\n",
    "\n",
    "```python\n",
    "if condition1:\n",
    "    statement1\n",
    "    statement2\n",
    "    statement3\n",
    "# elif condition2:\n",
    "    # statement4\n",
    "else : \n",
    "    statement5\n",
    "```\n",
    "\n",
    "- `조건(conditon_`이 `True`인 경우, if block 실행, 아니면 else block 실행  \n",
    "- else 부분은 `optional`\n",
    "- _들여쓰기 지키기(indentation)_"
   ]
  },
  {
   "cell_type": "markdown",
   "metadata": {},
   "source": [
    "### if - else "
   ]
  },
  {
   "cell_type": "code",
   "execution_count": 1,
   "metadata": {
    "ExecuteTime": {
     "end_time": "2021-07-23T11:55:01.022179Z",
     "start_time": "2021-07-23T11:54:58.967397Z"
    }
   },
   "outputs": [
    {
     "name": "stdout",
     "output_type": "stream",
     "text": [
      "x:12\n"
     ]
    }
   ],
   "source": [
    "x = int(input('x:')) # 값 입력바딕"
   ]
  },
  {
   "cell_type": "code",
   "execution_count": 2,
   "metadata": {
    "ExecuteTime": {
     "end_time": "2021-07-23T11:55:01.848493Z",
     "start_time": "2021-07-23T11:55:01.844514Z"
    }
   },
   "outputs": [
    {
     "name": "stdout",
     "output_type": "stream",
     "text": [
      "x(12)는 10 보다 큰 수\n"
     ]
    }
   ],
   "source": [
    "if x <= 10:\n",
    "    print(f'x({x})는 10 보다 작거나 같은 수')\n",
    "else:\n",
    "    print(f'x({x})는 10 보다 큰 수')"
   ]
  },
  {
   "cell_type": "markdown",
   "metadata": {},
   "source": [
    "### 간단한 조건문은 한 줄에 표현"
   ]
  },
  {
   "cell_type": "code",
   "execution_count": null,
   "metadata": {},
   "outputs": [],
   "source": [
    "value=12\n",
    "answer='10보다 작은 수' if value<=10 else '10보다 큰수'\n",
    "print(answer)"
   ]
  },
  {
   "cell_type": "markdown",
   "metadata": {},
   "source": [
    "### if-elif-else"
   ]
  },
  {
   "cell_type": "code",
   "execution_count": null,
   "metadata": {},
   "outputs": [],
   "source": [
    "## if-elif-else 사용하여 두 개의 정수를 입력 받아 큰 수를 출력 해보기\n",
    "x,y = eval(input(\"x,y:\"))\n",
    "\n",
    "if x>y:\n",
    "    print(f'큰 수는 x({x}) 입니다.')\n",
    "elif y>y:\n",
    "    print(f'큰 수는 y({y}) 입니다.')\n",
    "else:\n",
    "    print('두수의 값이 같습니다.')\n",
    "    "
   ]
  },
  {
   "cell_type": "markdown",
   "metadata": {},
   "source": [
    "<div class=\"alert alert-success\">\n",
    "    <b>예제(Exercise)</b>:\n",
    "    <ul>\n",
    "        <li>\n",
    "        학점 계산기 함수를 만들고 학생들의 학점을 출력하시오. \n",
    "        </li>\n",
    "    </ul>\n",
    "</div>\n",
    "\n",
    "<img src='../imgs/if_else.png'>"
   ]
  },
  {
   "cell_type": "code",
   "execution_count": null,
   "metadata": {},
   "outputs": [],
   "source": []
  },
  {
   "cell_type": "markdown",
   "metadata": {},
   "source": [
    "<hr style=\"height:3px;border:none;color:#5F71F7;background-color:#5F71F7;\" />\n",
    "\n",
    "## 반복문\n",
    "\n",
    "- 같은 내용들을 여러 번 작성하지 않고 원하는 작업을 반복시킴\n",
    "- Python에서 while문과 for 문이 존재\n",
    "\n",
    "\n",
    "```python\n",
    "while condition:\n",
    "    statement1\n",
    "else: # this part is optional\n",
    "    statement2\n",
    "```"
   ]
  },
  {
   "cell_type": "markdown",
   "metadata": {},
   "source": [
    "### while"
   ]
  },
  {
   "cell_type": "code",
   "execution_count": null,
   "metadata": {},
   "outputs": [],
   "source": [
    "cup = 0\n",
    "while cup<5:\n",
    "    cup +=1\n",
    "    print(f'오늘 커피 {cup}잔 먹음')"
   ]
  },
  {
   "cell_type": "markdown",
   "metadata": {},
   "source": [
    "### While-break 문\n"
   ]
  },
  {
   "cell_type": "markdown",
   "metadata": {},
   "source": [
    "<div class=\"alert alert-success\">\n",
    "    <b>예제(Exercise)</b>:\n",
    "    <ul>\n",
    "        <li>\n",
    "        다음 출력 값은?\n",
    "        </li>\n",
    "    </ul>\n",
    "</div>\n",
    "\n",
    "```python\n",
    "cup = 0\n",
    "while cup<5:\n",
    "    cup +=1\n",
    "    print(f'오늘 커피 {cup}잔 먹음')\n",
    "    if cup ==3:\n",
    "        print('커피 그만 마시세요.')\n",
    "        break\n",
    "```"
   ]
  },
  {
   "cell_type": "code",
   "execution_count": null,
   "metadata": {},
   "outputs": [],
   "source": []
  },
  {
   "cell_type": "markdown",
   "metadata": {},
   "source": [
    "### While-else\n"
   ]
  },
  {
   "cell_type": "markdown",
   "metadata": {},
   "source": [
    "<div class=\"alert alert-success\">\n",
    "    <b>예제(Exercise)</b>:\n",
    "    <ul>\n",
    "        <li>\n",
    "        다음 출력 값은?\n",
    "        </li>\n",
    "    </ul>\n",
    "</div>\n",
    "\n",
    "```python\n",
    "cup = 0\n",
    "while cup<5:\n",
    "    cup +=1\n",
    "    print(f'오늘 커피 {cup}잔 먹음')\n",
    "else:\n",
    "    print('더 이상 커피가 없습니다.')\n",
    "```"
   ]
  },
  {
   "cell_type": "code",
   "execution_count": null,
   "metadata": {},
   "outputs": [],
   "source": []
  },
  {
   "cell_type": "markdown",
   "metadata": {},
   "source": [
    "### While-else break"
   ]
  },
  {
   "cell_type": "markdown",
   "metadata": {},
   "source": [
    "<div class=\"alert alert-success\">\n",
    "    <b>예제(Exercise)</b>:\n",
    "    <ul>\n",
    "        <li>\n",
    "        다음 출력 값은?\n",
    "        </li>\n",
    "    </ul>\n",
    "</div>\n",
    "\n",
    "```python\n",
    "cup = 0\n",
    "while cup < 5:\n",
    "    cup += 1\n",
    "    print(f'오늘 커피 {cup}잔 먹음')\n",
    "    if cup == 3:\n",
    "        print('커피 그만 마시세요.')\n",
    "        break\n",
    "else:\n",
    "    print('더 이상 커피가 없습니다.')\n",
    "```"
   ]
  },
  {
   "cell_type": "code",
   "execution_count": null,
   "metadata": {},
   "outputs": [],
   "source": []
  },
  {
   "cell_type": "markdown",
   "metadata": {},
   "source": [
    "### While-else continue\n"
   ]
  },
  {
   "cell_type": "code",
   "execution_count": 8,
   "metadata": {
    "ExecuteTime": {
     "end_time": "2021-07-23T12:14:11.883192Z",
     "start_time": "2021-07-23T12:14:11.879168Z"
    }
   },
   "outputs": [
    {
     "name": "stdout",
     "output_type": "stream",
     "text": [
      "오늘 커피 1잔 먹음\n",
      "꿀꺽~\n",
      "오늘 커피 2잔 먹음\n",
      "꿀꺽~\n",
      "오늘 커피 3잔 먹음\n",
      "커피 그만 마시세요.\n",
      "오늘 커피 4잔 먹음\n",
      "꿀꺽~\n",
      "오늘 커피 5잔 먹음\n",
      "꿀꺽~\n",
      "더 이상 커피가 없습니다.\n"
     ]
    }
   ],
   "source": [
    "cup = 0\n",
    "while cup < 5:\n",
    "    cup += 1\n",
    "    print(f'오늘 커피 {cup}잔 먹음')\n",
    "    if cup == 3: \n",
    "        print('커피 그만 마시세요.')\n",
    "        continue\n",
    "    print('꿀꺽~')\n",
    "else: \n",
    "    print('더 이상 커피가 없습니다.')"
   ]
  },
  {
   "cell_type": "markdown",
   "metadata": {},
   "source": [
    "<hr style=\"height:3px;border:none;color:#5F71F7;background-color:#5F71F7;\" />\n",
    "\n",
    "## Quiz \n",
    "\n"
   ]
  },
  {
   "cell_type": "markdown",
   "metadata": {},
   "source": [
    "<div class=\"alert alert-success\">\n",
    "    <b>실습(Practice)_01</b>:\n",
    "    <ul>\n",
    "        <li>\n",
    "        다음 출력 값을 나타내는 while 문을 작성하시오. \n",
    "        </li>\n",
    "    </ul>\n",
    "</div>\n",
    "\n",
    "```python\n",
    ">> 0 1 2 3 4 5 6 7 8 9 hi\n",
    "```"
   ]
  },
  {
   "cell_type": "code",
   "execution_count": null,
   "metadata": {},
   "outputs": [],
   "source": []
  },
  {
   "cell_type": "markdown",
   "metadata": {},
   "source": [
    "<div class=\"alert alert-success\">\n",
    "    <b>실습(Practice)_02</b>:\n",
    "    <ul>\n",
    "        <li>\n",
    "        다음 출력 값은?\n",
    "        </li>\n",
    "    </ul>\n",
    "</div>\n",
    "\n",
    "```python\n",
    "n = 1\n",
    "while n**3<15000:\n",
    "    n+=1\n",
    "print(n)\n",
    "```"
   ]
  },
  {
   "cell_type": "code",
   "execution_count": null,
   "metadata": {},
   "outputs": [],
   "source": []
  },
  {
   "cell_type": "markdown",
   "metadata": {
    "ExecuteTime": {
     "end_time": "2021-07-23T12:16:37.377723Z",
     "start_time": "2021-07-23T12:16:37.373734Z"
    }
   },
   "source": [
    "<div class=\"alert alert-success\">\n",
    "    <b>실습(Practice)_03</b>:\n",
    "    <ul>\n",
    "        <li>\n",
    "        1에서 100 까지 정수 중 5의 배수가 아닌 정수의 합을 구하는 함수를 만드시오 \n",
    "        </li>\n",
    "    </ul>\n",
    "</div>\n"
   ]
  },
  {
   "cell_type": "code",
   "execution_count": null,
   "metadata": {},
   "outputs": [],
   "source": []
  }
 ],
 "metadata": {
  "kernelspec": {
   "display_name": "Python 3",
   "language": "python",
   "name": "python3"
  },
  "language_info": {
   "codemirror_mode": {
    "name": "ipython",
    "version": 3
   },
   "file_extension": ".py",
   "mimetype": "text/x-python",
   "name": "python",
   "nbconvert_exporter": "python",
   "pygments_lexer": "ipython3",
   "version": "3.7.0"
  },
  "toc": {
   "base_numbering": 1,
   "nav_menu": {},
   "number_sections": true,
   "sideBar": true,
   "skip_h1_title": true,
   "title_cell": "Table of Contents",
   "title_sidebar": "Contents",
   "toc_cell": true,
   "toc_position": {},
   "toc_section_display": true,
   "toc_window_display": false
  },
  "varInspector": {
   "cols": {
    "lenName": 16,
    "lenType": 16,
    "lenVar": 40
   },
   "kernels_config": {
    "python": {
     "delete_cmd_postfix": "",
     "delete_cmd_prefix": "del ",
     "library": "var_list.py",
     "varRefreshCmd": "print(var_dic_list())"
    },
    "r": {
     "delete_cmd_postfix": ") ",
     "delete_cmd_prefix": "rm(",
     "library": "var_list.r",
     "varRefreshCmd": "cat(var_dic_list()) "
    }
   },
   "types_to_exclude": [
    "module",
    "function",
    "builtin_function_or_method",
    "instance",
    "_Feature"
   ],
   "window_display": false
  }
 },
 "nbformat": 4,
 "nbformat_minor": 5
}
