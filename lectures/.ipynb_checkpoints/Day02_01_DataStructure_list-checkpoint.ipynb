{
 "cells": [
  {
   "cell_type": "markdown",
   "metadata": {},
   "source": [
    "# Day02_01_Data_Structure\n",
    "\n",
    "<font size=5><b>리스트(LIST)<b></font>\n",
    "<div align='right'>류 회 성<br>(Hoe Sung Ryu)</div>\n",
    "\n",
    "  \n",
    "<img src='../imgs/02_01_main.png' width=70%>\n",
    "\n",
    "    \n",
    "---"
   ]
  },
  {
   "cell_type": "markdown",
   "metadata": {
    "toc": true
   },
   "source": [
    "<h1>Table of Contents<span class=\"tocSkip\"></span></h1>\n",
    "<div class=\"toc\"><ul class=\"toc-item\"><li><span><a href=\"#리스트\" data-toc-modified-id=\"리스트-1\"><span class=\"toc-item-num\">1&nbsp;&nbsp;</span>리스트</a></span><ul class=\"toc-item\"><li><span><a href=\"#리스트-선언\" data-toc-modified-id=\"리스트-선언-1.1\"><span class=\"toc-item-num\">1.1&nbsp;&nbsp;</span>리스트 선언</a></span></li><li><span><a href=\"#리스트-인덱싱\" data-toc-modified-id=\"리스트-인덱싱-1.2\"><span class=\"toc-item-num\">1.2&nbsp;&nbsp;</span>리스트 인덱싱</a></span></li><li><span><a href=\"#리스트-슬라이싱\" data-toc-modified-id=\"리스트-슬라이싱-1.3\"><span class=\"toc-item-num\">1.3&nbsp;&nbsp;</span>리스트 슬라이싱</a></span></li><li><span><a href=\"#리스트-원소값-변경\" data-toc-modified-id=\"리스트-원소값-변경-1.4\"><span class=\"toc-item-num\">1.4&nbsp;&nbsp;</span>리스트 원소값 변경</a></span></li><li><span><a href=\"#리스트에-원소-추가하기\" data-toc-modified-id=\"리스트에-원소-추가하기-1.5\"><span class=\"toc-item-num\">1.5&nbsp;&nbsp;</span>리스트에 원소 추가하기</a></span></li><li><span><a href=\"#고차원-리스트\" data-toc-modified-id=\"고차원-리스트-1.6\"><span class=\"toc-item-num\">1.6&nbsp;&nbsp;</span>고차원 리스트</a></span><ul class=\"toc-item\"><li><span><a href=\"#이차원리스트\" data-toc-modified-id=\"이차원리스트-1.6.1\"><span class=\"toc-item-num\">1.6.1&nbsp;&nbsp;</span>이차원리스트</a></span></li><li><span><a href=\"#삼차원리스트\" data-toc-modified-id=\"삼차원리스트-1.6.2\"><span class=\"toc-item-num\">1.6.2&nbsp;&nbsp;</span>삼차원리스트</a></span></li></ul></li></ul></li><li><span><a href=\"#리스트-함수\" data-toc-modified-id=\"리스트-함수-2\"><span class=\"toc-item-num\">2&nbsp;&nbsp;</span>리스트 함수</a></span><ul class=\"toc-item\"><li><span><a href=\"#Continuous-Braces\" data-toc-modified-id=\"Continuous-Braces-2.1\"><span class=\"toc-item-num\">2.1&nbsp;&nbsp;</span>Continuous Braces</a></span></li></ul></li><li><span><a href=\"#튜플\" data-toc-modified-id=\"튜플-3\"><span class=\"toc-item-num\">3&nbsp;&nbsp;</span>튜플</a></span><ul class=\"toc-item\"><li><span><a href=\"#튜플-할당Tuple-Assignment\" data-toc-modified-id=\"튜플-할당Tuple-Assignment-3.1\"><span class=\"toc-item-num\">3.1&nbsp;&nbsp;</span>튜플 할당Tuple Assignment</a></span></li></ul></li></ul></div>"
   ]
  },
  {
   "cell_type": "markdown",
   "metadata": {},
   "source": [
    "## 리스트"
   ]
  },
  {
   "cell_type": "markdown",
   "metadata": {},
   "source": [
    "### 리스트 선언 "
   ]
  },
  {
   "cell_type": "code",
   "execution_count": 1,
   "metadata": {
    "ExecuteTime": {
     "end_time": "2021-07-23T15:00:18.335714Z",
     "start_time": "2021-07-23T15:00:18.330775Z"
    }
   },
   "outputs": [
    {
     "name": "stdout",
     "output_type": "stream",
     "text": [
      "[]\n",
      "[]\n"
     ]
    }
   ],
   "source": [
    "# 빈 리스트 \n",
    "empty_list = []\n",
    "print(empty_list)\n",
    "\n",
    "empty_list2 = list()\n",
    "print(empty_list2)"
   ]
  },
  {
   "cell_type": "code",
   "execution_count": null,
   "metadata": {},
   "outputs": [],
   "source": [
    "# 콤마(,)로 구분하자\n",
    "x = [10,20,30] \n",
    "print(x)"
   ]
  },
  {
   "cell_type": "code",
   "execution_count": null,
   "metadata": {},
   "outputs": [],
   "source": [
    "# Type이 다 같을 필요가 없음! 즉, 어떤 type이든 상관없음\n",
    "y = [100,3.14,'abc',True,x] \n",
    "print(y)"
   ]
  },
  {
   "cell_type": "markdown",
   "metadata": {},
   "source": [
    "### 리스트 인덱싱"
   ]
  },
  {
   "cell_type": "code",
   "execution_count": 4,
   "metadata": {
    "ExecuteTime": {
     "end_time": "2021-07-23T15:05:18.425383Z",
     "start_time": "2021-07-23T15:05:18.420088Z"
    }
   },
   "outputs": [
    {
     "name": "stdout",
     "output_type": "stream",
     "text": [
      "스파게티\n"
     ]
    }
   ],
   "source": [
    "menu=['스파게티','라자냐','피자','모밀','소고기']\n",
    "print(menu[0]) # print하면 따옴표 날아감 "
   ]
  },
  {
   "cell_type": "markdown",
   "metadata": {},
   "source": [
    "메뉴에서 마지막 원소 출력하기"
   ]
  },
  {
   "cell_type": "code",
   "execution_count": 7,
   "metadata": {
    "ExecuteTime": {
     "end_time": "2021-07-23T15:08:00.105158Z",
     "start_time": "2021-07-23T15:08:00.102175Z"
    }
   },
   "outputs": [
    {
     "name": "stdout",
     "output_type": "stream",
     "text": [
      "소고기\n"
     ]
    }
   ],
   "source": [
    "print(menu[-1])"
   ]
  },
  {
   "cell_type": "markdown",
   "metadata": {},
   "source": [
    "### 리스트 슬라이싱"
   ]
  },
  {
   "cell_type": "code",
   "execution_count": 6,
   "metadata": {
    "ExecuteTime": {
     "end_time": "2021-07-23T15:05:46.695059Z",
     "start_time": "2021-07-23T15:05:46.690329Z"
    }
   },
   "outputs": [
    {
     "name": "stdout",
     "output_type": "stream",
     "text": [
      "['스파게티', '라자냐', '피자', '모밀', '소고기']\n"
     ]
    }
   ],
   "source": [
    "# 전체 출력 \n",
    "menu=['스파게티','라자냐','피자','모밀','소고기']\n",
    "print(menu[:])"
   ]
  },
  {
   "cell_type": "code",
   "execution_count": 14,
   "metadata": {
    "ExecuteTime": {
     "end_time": "2021-07-23T15:30:01.078368Z",
     "start_time": "2021-07-23T15:30:01.072583Z"
    }
   },
   "outputs": [
    {
     "data": {
      "text/plain": [
       "['라자냐', '피자', '모밀']"
      ]
     },
     "execution_count": 14,
     "metadata": {},
     "output_type": "execute_result"
    }
   ],
   "source": [
    "menu[1:4] "
   ]
  },
  {
   "cell_type": "code",
   "execution_count": 4,
   "metadata": {
    "ExecuteTime": {
     "end_time": "2021-07-24T04:38:02.111691Z",
     "start_time": "2021-07-24T04:38:02.106705Z"
    }
   },
   "outputs": [
    {
     "name": "stdout",
     "output_type": "stream",
     "text": [
      "['라자냐', '모밀', '치킨']\n"
     ]
    }
   ],
   "source": [
    "menu=['스파게티','라자냐','피자','모밀','소고기','치킨','된장찌개']\n",
    "print(menu[1:6:2])"
   ]
  },
  {
   "cell_type": "code",
   "execution_count": 9,
   "metadata": {
    "ExecuteTime": {
     "end_time": "2021-07-23T15:09:41.642570Z",
     "start_time": "2021-07-23T15:09:41.636520Z"
    }
   },
   "outputs": [
    {
     "data": {
      "text/plain": [
       "['스파게티', '피자', '소고기']"
      ]
     },
     "execution_count": 9,
     "metadata": {},
     "output_type": "execute_result"
    }
   ],
   "source": [
    "# 전체 리스트를 두칸씩 띄어서 출력\n",
    "print(menu[::2]) "
   ]
  },
  {
   "cell_type": "markdown",
   "metadata": {},
   "source": [
    "### 리스트 원소값 변경 \n"
   ]
  },
  {
   "cell_type": "code",
   "execution_count": 12,
   "metadata": {
    "ExecuteTime": {
     "end_time": "2021-07-24T05:06:35.665708Z",
     "start_time": "2021-07-24T05:06:35.662716Z"
    }
   },
   "outputs": [
    {
     "name": "stdout",
     "output_type": "stream",
     "text": [
      "['스파게티', '라자냐', '피자', '모밀', '소고기']\n"
     ]
    }
   ],
   "source": [
    "menu=['스파게티','라자냐','피자','모밀','소고기']\n",
    "print(menu)"
   ]
  },
  {
   "cell_type": "code",
   "execution_count": 13,
   "metadata": {
    "ExecuteTime": {
     "end_time": "2021-07-23T15:11:27.103913Z",
     "start_time": "2021-07-23T15:11:27.098650Z"
    }
   },
   "outputs": [
    {
     "name": "stdout",
     "output_type": "stream",
     "text": [
      "['라면', '라자냐', '피자', '모밀', '소고기']\n",
      "라면\n"
     ]
    }
   ],
   "source": [
    "menu[0]='라면'\n",
    "print(menu)\n",
    "print(menu[0])"
   ]
  },
  {
   "cell_type": "code",
   "execution_count": 13,
   "metadata": {
    "ExecuteTime": {
     "end_time": "2021-07-24T05:10:13.487519Z",
     "start_time": "2021-07-24T05:10:13.483501Z"
    }
   },
   "outputs": [
    {
     "name": "stdout",
     "output_type": "stream",
     "text": [
      "['라자냐', '피자', '모밀', '소고기']\n"
     ]
    }
   ],
   "source": [
    "menu=['스파게티','라자냐','피자','모밀','소고기']\n",
    "del menu[0]\n",
    "print(menu)"
   ]
  },
  {
   "cell_type": "code",
   "execution_count": 17,
   "metadata": {
    "ExecuteTime": {
     "end_time": "2021-07-23T15:31:13.792850Z",
     "start_time": "2021-07-23T15:31:13.787527Z"
    }
   },
   "outputs": [
    {
     "name": "stdout",
     "output_type": "stream",
     "text": [
      "['스파게티', '돈까스', '샐러드', '모밀', '소고기']\n"
     ]
    }
   ],
   "source": [
    "menu=['스파게티','라자냐','피자','모밀','소고기']\n",
    "menu[1:3]=['돈까스','샐러드']\n",
    "print(menu)"
   ]
  },
  {
   "cell_type": "code",
   "execution_count": 21,
   "metadata": {
    "ExecuteTime": {
     "end_time": "2021-07-23T15:31:58.266755Z",
     "start_time": "2021-07-23T15:31:58.262121Z"
    }
   },
   "outputs": [
    {
     "name": "stdout",
     "output_type": "stream",
     "text": [
      "['돈까스', '라자냐', '샐러드', '모밀', '냉면']\n"
     ]
    }
   ],
   "source": [
    "# 전체 리스트를 두칸씩 띄어서 출력 한 값을 변경 \n",
    "menu=['스파게티','라자냐','피자','모밀','소고기']\n",
    "menu[::2] = ['돈까스','샐러드','냉면']\n",
    "print(menu)"
   ]
  },
  {
   "cell_type": "markdown",
   "metadata": {},
   "source": [
    "### 리스트에 원소 추가하기 \n",
    "- `+` 연산자\n",
    "- append\n",
    "- extend"
   ]
  },
  {
   "cell_type": "code",
   "execution_count": 23,
   "metadata": {
    "ExecuteTime": {
     "end_time": "2021-07-23T15:34:24.780786Z",
     "start_time": "2021-07-23T15:34:24.775910Z"
    }
   },
   "outputs": [
    {
     "name": "stdout",
     "output_type": "stream",
     "text": [
      "['스파게티', '라자냐', '비냉']\n"
     ]
    }
   ],
   "source": [
    "# + 연산자 \n",
    "menu=['스파게티','라자냐'] +['비냉']\n",
    "print(menu)"
   ]
  },
  {
   "cell_type": "code",
   "execution_count": 26,
   "metadata": {
    "ExecuteTime": {
     "end_time": "2021-07-24T02:02:19.000868Z",
     "start_time": "2021-07-24T02:02:18.995107Z"
    }
   },
   "outputs": [
    {
     "data": {
      "text/plain": [
       "['스파게티', '라자냐', '짬뽕']"
      ]
     },
     "execution_count": 26,
     "metadata": {},
     "output_type": "execute_result"
    }
   ],
   "source": [
    "# append 순수하게 그대로 더하기 \n",
    "menu=['스파게티','라자냐']\n",
    "menu.append('짬뽕')\n",
    "menu"
   ]
  },
  {
   "cell_type": "code",
   "execution_count": 27,
   "metadata": {
    "ExecuteTime": {
     "end_time": "2021-07-24T02:03:12.009045Z",
     "start_time": "2021-07-24T02:03:12.003746Z"
    }
   },
   "outputs": [
    {
     "data": {
      "text/plain": [
       "['스파게티', '라자냐', ['짬뽕', '비냉']]"
      ]
     },
     "execution_count": 27,
     "metadata": {},
     "output_type": "execute_result"
    }
   ],
   "source": [
    "menu=['스파게티','라자냐']\n",
    "menu.append(['짬뽕','비냉'])\n",
    "print(menu)"
   ]
  },
  {
   "cell_type": "code",
   "execution_count": 28,
   "metadata": {
    "ExecuteTime": {
     "end_time": "2021-07-24T02:03:21.439797Z",
     "start_time": "2021-07-24T02:03:21.433947Z"
    }
   },
   "outputs": [
    {
     "data": {
      "text/plain": [
       "['스파게티', '라자냐', '짬뽕', '비냉']"
      ]
     },
     "execution_count": 28,
     "metadata": {},
     "output_type": "execute_result"
    }
   ],
   "source": [
    "# extend # 원소별로 따로 저장 \n",
    "menu=['스파게티','라자냐']\n",
    "menu.extend(['짬뽕','비냉'])\n",
    "menu"
   ]
  },
  {
   "cell_type": "markdown",
   "metadata": {},
   "source": [
    "### 고차원 리스트 \n",
    "\n",
    "#### 이차원리스트 "
   ]
  },
  {
   "cell_type": "code",
   "execution_count": 29,
   "metadata": {
    "ExecuteTime": {
     "end_time": "2021-07-24T02:05:09.584296Z",
     "start_time": "2021-07-24T02:05:09.580166Z"
    }
   },
   "outputs": [],
   "source": [
    "양식 = ['스파게티','라자냐']\n",
    "일식 = ['초밥','모밀']\n",
    "중식 = ['짜장면', '짱뽕']\n",
    "한식 = ['비빔밥','불고기']"
   ]
  },
  {
   "cell_type": "code",
   "execution_count": 31,
   "metadata": {
    "ExecuteTime": {
     "end_time": "2021-07-24T02:05:14.100568Z",
     "start_time": "2021-07-24T02:05:14.098400Z"
    }
   },
   "outputs": [],
   "source": [
    "new_menu = [양식, 일식, 중식, 한식]"
   ]
  },
  {
   "cell_type": "code",
   "execution_count": 32,
   "metadata": {
    "ExecuteTime": {
     "end_time": "2021-07-24T02:05:14.449861Z",
     "start_time": "2021-07-24T02:05:14.446436Z"
    }
   },
   "outputs": [
    {
     "data": {
      "text/plain": [
       "[['스파게티', '라자냐'], ['초밥', '모밀'], ['짜장면', '짱뽕'], ['비빔밥', '불고기']]"
      ]
     },
     "execution_count": 32,
     "metadata": {},
     "output_type": "execute_result"
    }
   ],
   "source": [
    "# 괄호가 두개 \n",
    "new_menu"
   ]
  },
  {
   "cell_type": "code",
   "execution_count": 34,
   "metadata": {
    "ExecuteTime": {
     "end_time": "2021-07-24T02:05:49.253617Z",
     "start_time": "2021-07-24T02:05:49.248996Z"
    }
   },
   "outputs": [
    {
     "data": {
      "text/plain": [
       "'스파게티'"
      ]
     },
     "execution_count": 34,
     "metadata": {},
     "output_type": "execute_result"
    }
   ],
   "source": [
    "# 인덱싱 \n",
    "# new_menu[행][열]\n",
    "new_menu[0][0]"
   ]
  },
  {
   "cell_type": "markdown",
   "metadata": {},
   "source": [
    "#### 삼차원리스트 "
   ]
  },
  {
   "cell_type": "code",
   "execution_count": 35,
   "metadata": {
    "ExecuteTime": {
     "end_time": "2021-07-24T02:06:48.709274Z",
     "start_time": "2021-07-24T02:06:48.702427Z"
    }
   },
   "outputs": [
    {
     "data": {
      "text/plain": [
       "[[['스파게티', '라자냐'], ['초밥', '모밀'], ['짜장면', '짱뽕'], ['비빔밥', '불고기']],\n",
       " [['스파게티', '라자냐'], ['초밥', '모밀'], ['짜장면', '짱뽕'], ['비빔밥', '불고기']],\n",
       " [['스파게티', '라자냐'], ['초밥', '모밀'], ['짜장면', '짱뽕'], ['비빔밥', '불고기']]]"
      ]
     },
     "execution_count": 35,
     "metadata": {},
     "output_type": "execute_result"
    }
   ],
   "source": [
    "menu_set =[new_menu,new_menu,new_menu]\n",
    "menu_set # 대괄호가 3개니까 3차원이란걸 단번에 알 수 있음"
   ]
  },
  {
   "cell_type": "code",
   "execution_count": 36,
   "metadata": {
    "ExecuteTime": {
     "end_time": "2021-07-24T02:07:08.512011Z",
     "start_time": "2021-07-24T02:07:08.506317Z"
    }
   },
   "outputs": [
    {
     "data": {
      "text/plain": [
       "'스파게티'"
      ]
     },
     "execution_count": 36,
     "metadata": {},
     "output_type": "execute_result"
    }
   ],
   "source": [
    "menu_set[0][0][0]"
   ]
  },
  {
   "cell_type": "markdown",
   "metadata": {},
   "source": [
    "## 리스트 함수 \n",
    "\n",
    "- 전체 길이len\n",
    "- 요소 추가append\n",
    "- 확장extend\n",
    "- 정렬sort\n",
    "- 뒤집기reverse \n",
    "- 요소 위치 반환index \n",
    "- 요소 삽입insert \n",
    "- 요소 제거remove \n",
    "- 요소 끄집어내기pop\n",
    "- 요소 개수 세기count\n"
   ]
  },
  {
   "cell_type": "code",
   "execution_count": 14,
   "metadata": {
    "ExecuteTime": {
     "end_time": "2021-07-24T05:19:04.431231Z",
     "start_time": "2021-07-24T05:19:04.427242Z"
    }
   },
   "outputs": [
    {
     "name": "stdout",
     "output_type": "stream",
     "text": [
      "5\n",
      "4\n"
     ]
    }
   ],
   "source": [
    "# len \n",
    "menu=['스파게티','라자냐','피자','모밀','소고기']\n",
    "print(len(menu)) # list의 길이\n",
    "print(len(menu[0])) # string의 길이"
   ]
  },
  {
   "cell_type": "code",
   "execution_count": 15,
   "metadata": {
    "ExecuteTime": {
     "end_time": "2021-07-24T05:20:00.839050Z",
     "start_time": "2021-07-24T05:20:00.835030Z"
    }
   },
   "outputs": [
    {
     "name": "stdout",
     "output_type": "stream",
     "text": [
      "마지막 원소 :  소고기\n",
      "['스파게티', '라자냐', '피자', '모밀']\n",
      "['스파게티', '라자냐', '피자', '모밀']\n"
     ]
    }
   ],
   "source": [
    "### pop: 마지막 원소 삭제\n",
    "menu=['스파게티','라자냐','피자','모밀','소고기']\n",
    "print(\"마지막 원소 : \",menu.pop()) \n",
    "print(menu)"
   ]
  },
  {
   "cell_type": "code",
   "execution_count": 17,
   "metadata": {
    "ExecuteTime": {
     "end_time": "2021-07-24T05:21:00.707463Z",
     "start_time": "2021-07-24T05:21:00.703444Z"
    }
   },
   "outputs": [
    {
     "name": "stdout",
     "output_type": "stream",
     "text": [
      "['스파게티', '라자냐', '피자', '모밀', '소고기']\n"
     ]
    }
   ],
   "source": [
    "# 값 지움  중복된 값 다 지우진 않음 (왼쪽 부터 지움)\n",
    "menu=['스파게티','소고기', '라자냐','피자','모밀','소고기']\n",
    "menu.remove('소고기')\n",
    "print(menu)"
   ]
  },
  {
   "cell_type": "code",
   "execution_count": 19,
   "metadata": {
    "ExecuteTime": {
     "end_time": "2021-07-24T05:21:42.744397Z",
     "start_time": "2021-07-24T05:21:42.740408Z"
    }
   },
   "outputs": [
    {
     "name": "stdout",
     "output_type": "stream",
     "text": [
      "['스파게티', '라자냐', '소고기', '피자', '모밀', '소고기']\n"
     ]
    }
   ],
   "source": [
    "menu=['스파게티','소고기', '라자냐','소고기','피자','모밀','소고기']\n",
    "menu.remove('소고기')\n",
    "print(menu)"
   ]
  },
  {
   "cell_type": "code",
   "execution_count": 20,
   "metadata": {
    "ExecuteTime": {
     "end_time": "2021-07-24T05:21:44.350316Z",
     "start_time": "2021-07-24T05:21:44.346331Z"
    }
   },
   "outputs": [
    {
     "name": "stdout",
     "output_type": "stream",
     "text": [
      "['스파게티', '라자냐', '소고기', '피자', '모밀', '소고기']\n",
      "['스파게티', '라자냐', '피자', '모밀', '소고기']\n"
     ]
    }
   ],
   "source": [
    "menu=['스파게티','소고기', '라자냐','소고기','피자','모밀','소고기']\n",
    "menu.remove('소고기')\n",
    "print(menu)\n",
    "menu.remove('소고기')\n",
    "print(menu)"
   ]
  },
  {
   "cell_type": "code",
   "execution_count": 21,
   "metadata": {
    "ExecuteTime": {
     "end_time": "2021-07-24T05:22:54.120389Z",
     "start_time": "2021-07-24T05:22:54.116395Z"
    }
   },
   "outputs": [
    {
     "name": "stdout",
     "output_type": "stream",
     "text": [
      "['스파게티', '소고기', '라자냐', '김치찌개', '소고기', '피자', '모밀', '소고기']\n"
     ]
    }
   ],
   "source": [
    "# insert : 위치 지정해서 넣어줄수 잇음 \n",
    "menu=['스파게티','소고기', '라자냐','소고기','피자','모밀','소고기']\n",
    "menu.insert(3,'김치찌개')# 3번째에 넣어라\n",
    "print(menu)"
   ]
  },
  {
   "cell_type": "code",
   "execution_count": 22,
   "metadata": {
    "ExecuteTime": {
     "end_time": "2021-07-24T05:23:22.578975Z",
     "start_time": "2021-07-24T05:23:22.559525Z"
    }
   },
   "outputs": [
    {
     "name": "stdout",
     "output_type": "stream",
     "text": [
      "['라자냐', '모밀', '소고기', '소고기', '소고기', '스파게티', '피자']\n"
     ]
    }
   ],
   "source": [
    "# sort # 가나다순으로 정렬해줌\n",
    "menu=['스파게티','소고기', '라자냐','소고기','피자','모밀','소고기']\n",
    "menu.sort()\n",
    "print(menu)"
   ]
  },
  {
   "cell_type": "code",
   "execution_count": 23,
   "metadata": {
    "ExecuteTime": {
     "end_time": "2021-07-24T05:23:46.096372Z",
     "start_time": "2021-07-24T05:23:46.092356Z"
    }
   },
   "outputs": [
    {
     "name": "stdout",
     "output_type": "stream",
     "text": [
      "['피자', '스파게티', '소고기', '소고기', '소고기', '모밀', '라자냐']\n"
     ]
    }
   ],
   "source": [
    "# sort # 가나다순으로 정렬해줌\n",
    "menu=['스파게티','소고기', '라자냐','소고기','피자','모밀','소고기']\n",
    "menu.sort(reverse=True) # 역순으로 정렬 \n",
    "print(menu)"
   ]
  },
  {
   "cell_type": "code",
   "execution_count": 27,
   "metadata": {
    "ExecuteTime": {
     "end_time": "2021-07-24T05:24:01.874919Z",
     "start_time": "2021-07-24T05:24:01.869933Z"
    }
   },
   "outputs": [
    {
     "data": {
      "text/plain": [
       "1"
      ]
     },
     "execution_count": 27,
     "metadata": {},
     "output_type": "execute_result"
    }
   ],
   "source": [
    "# index , 중복된 값을 다 찾아주진 않는다. \n",
    "menu=['스파게티','소고기', '라자냐','소고기','피자','모밀','소고기']\n",
    "menu.index('소고기')"
   ]
  },
  {
   "cell_type": "markdown",
   "metadata": {},
   "source": [
    "### Continuous Braces\n",
    "어느 것이 정답일까?\n",
    "\n",
    "```python\n",
    "my_list = [\n",
    "    1, 2, 3,\n",
    "    4, 5, 6,\n",
    "]\n",
    "\n",
    "my_list = [\n",
    "    1, 2, 3,\n",
    "    4, 5, 6,\n",
    "    ]\n",
    "```"
   ]
  },
  {
   "cell_type": "markdown",
   "metadata": {},
   "source": [
    "## 튜플 \n",
    "\n",
    "- 값을 바꿀 수 없는 리스트, 수정 불가!!\n",
    "- 값 변경, 추가, 제거, 정렬 다 안됨"
   ]
  },
  {
   "cell_type": "code",
   "execution_count": 37,
   "metadata": {
    "ExecuteTime": {
     "end_time": "2021-07-24T02:12:03.976658Z",
     "start_time": "2021-07-24T02:12:03.972394Z"
    }
   },
   "outputs": [
    {
     "name": "stdout",
     "output_type": "stream",
     "text": [
      "()\n"
     ]
    }
   ],
   "source": [
    "### 빈 튜플 설정\n",
    "tmp = tuple()\n",
    "print(tmp)"
   ]
  },
  {
   "cell_type": "code",
   "execution_count": 38,
   "metadata": {
    "ExecuteTime": {
     "end_time": "2021-07-24T02:12:08.792606Z",
     "start_time": "2021-07-24T02:12:08.788803Z"
    }
   },
   "outputs": [
    {
     "name": "stdout",
     "output_type": "stream",
     "text": [
      "()\n"
     ]
    }
   ],
   "source": [
    "tmp = ()\n",
    "print(tmp)"
   ]
  },
  {
   "cell_type": "code",
   "execution_count": null,
   "metadata": {},
   "outputs": [],
   "source": [
    "days = ('Sun','Mon','Tue','Wed','Thur','Fri','Sat') \n",
    "days"
   ]
  },
  {
   "cell_type": "markdown",
   "metadata": {},
   "source": [
    "\n",
    "### 튜플 할당Tuple Assignment \n",
    "\n",
    "# 함수의 리턴 값은 튜플 ... \n",
    "\n",
    "```python \n",
    "\n",
    "def play(x):\n",
    "     '''... 생략 ...'''\n",
    "    return x1, x2\n",
    "```"
   ]
  },
  {
   "cell_type": "code",
   "execution_count": null,
   "metadata": {},
   "outputs": [],
   "source": [
    "# 사실 괄호가 없어도 됨\n",
    "days = 'Sun','Mon','Tue','Wed','Thur','Fri','Sat' \n",
    "print(type(days))"
   ]
  },
  {
   "cell_type": "code",
   "execution_count": 40,
   "metadata": {
    "ExecuteTime": {
     "end_time": "2021-07-24T02:15:30.012495Z",
     "start_time": "2021-07-24T02:15:30.008776Z"
    }
   },
   "outputs": [
    {
     "name": "stdout",
     "output_type": "stream",
     "text": [
      "1 2 3\n"
     ]
    }
   ],
   "source": [
    "a,b,c = (1,2,3)\n",
    "print(a,b,c)"
   ]
  },
  {
   "cell_type": "code",
   "execution_count": 39,
   "metadata": {
    "ExecuteTime": {
     "end_time": "2021-07-24T02:15:29.784033Z",
     "start_time": "2021-07-24T02:15:29.780517Z"
    }
   },
   "outputs": [
    {
     "name": "stdout",
     "output_type": "stream",
     "text": [
      "1 2 3\n"
     ]
    }
   ],
   "source": [
    "a,b,c = 1,2,3\n",
    "print(a,b,c)"
   ]
  }
 ],
 "metadata": {
  "kernelspec": {
   "display_name": "Python 3",
   "language": "python",
   "name": "python3"
  },
  "language_info": {
   "codemirror_mode": {
    "name": "ipython",
    "version": 3
   },
   "file_extension": ".py",
   "mimetype": "text/x-python",
   "name": "python",
   "nbconvert_exporter": "python",
   "pygments_lexer": "ipython3",
   "version": "3.7.0"
  },
  "toc": {
   "base_numbering": 1,
   "nav_menu": {},
   "number_sections": true,
   "sideBar": true,
   "skip_h1_title": true,
   "title_cell": "Table of Contents",
   "title_sidebar": "Contents",
   "toc_cell": true,
   "toc_position": {},
   "toc_section_display": true,
   "toc_window_display": false
  },
  "varInspector": {
   "cols": {
    "lenName": 16,
    "lenType": 16,
    "lenVar": 40
   },
   "kernels_config": {
    "python": {
     "delete_cmd_postfix": "",
     "delete_cmd_prefix": "del ",
     "library": "var_list.py",
     "varRefreshCmd": "print(var_dic_list())"
    },
    "r": {
     "delete_cmd_postfix": ") ",
     "delete_cmd_prefix": "rm(",
     "library": "var_list.r",
     "varRefreshCmd": "cat(var_dic_list()) "
    }
   },
   "types_to_exclude": [
    "module",
    "function",
    "builtin_function_or_method",
    "instance",
    "_Feature"
   ],
   "window_display": false
  }
 },
 "nbformat": 4,
 "nbformat_minor": 4
}
