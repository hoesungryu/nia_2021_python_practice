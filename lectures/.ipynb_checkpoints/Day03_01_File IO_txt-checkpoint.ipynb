{
 "cells": [
  {
   "cell_type": "markdown",
   "metadata": {},
   "source": [
    "# Day03_File I/O \n",
    "\n",
    "<font size=5><b>txt_file<b></font>\n",
    "<div align='right'>류 회 성<br>(Hoe Sung Ryu)</div>\n",
    "\n",
    " \n",
    "\n",
    "    \n",
    "---"
   ]
  },
  {
   "cell_type": "markdown",
   "metadata": {
    "toc": true
   },
   "source": [
    "<h1>Table of Contents<span class=\"tocSkip\"></span></h1>\n",
    "<div class=\"toc\"><ul class=\"toc-item\"><li><span><a href=\"#os.path-module의-File-관련-함수\" data-toc-modified-id=\"os.path-module의-File-관련-함수-1\"><span class=\"toc-item-num\">1&nbsp;&nbsp;</span>os.path module의 File 관련 함수</a></span></li><li><span><a href=\"#File-I/O\" data-toc-modified-id=\"File-I/O-2\"><span class=\"toc-item-num\">2&nbsp;&nbsp;</span>File I/O</a></span><ul class=\"toc-item\"><li><span><a href=\"#File-열기-/-닫기\" data-toc-modified-id=\"File-열기-/-닫기-2.1\"><span class=\"toc-item-num\">2.1&nbsp;&nbsp;</span>File 열기 / 닫기</a></span></li><li><span><a href=\"#File-전체-읽기\" data-toc-modified-id=\"File-전체-읽기-2.2\"><span class=\"toc-item-num\">2.2&nbsp;&nbsp;</span>File 전체 읽기</a></span><ul class=\"toc-item\"><li><span><a href=\"#반복문-이용\" data-toc-modified-id=\"반복문-이용-2.2.1\"><span class=\"toc-item-num\">2.2.1&nbsp;&nbsp;</span>반복문 이용</a></span></li><li><span><a href=\"#한번에-읽기-=>-readlines()-함수-사용\" data-toc-modified-id=\"한번에-읽기-=>-readlines()-함수-사용-2.2.2\"><span class=\"toc-item-num\">2.2.2&nbsp;&nbsp;</span>한번에 읽기 =&gt; readlines() 함수 사용</a></span></li></ul></li><li><span><a href=\"#한번에-읽기2\" data-toc-modified-id=\"한번에-읽기2-2.3\"><span class=\"toc-item-num\">2.3&nbsp;&nbsp;</span>한번에 읽기2</a></span></li><li><span><a href=\"#File-쓰기\" data-toc-modified-id=\"File-쓰기-2.4\"><span class=\"toc-item-num\">2.4&nbsp;&nbsp;</span>File 쓰기</a></span></li><li><span><a href=\"#File-한-줄-읽기\" data-toc-modified-id=\"File-한-줄-읽기-2.5\"><span class=\"toc-item-num\">2.5&nbsp;&nbsp;</span>File 한 줄 읽기</a></span></li><li><span><a href=\"#File에-추가로-쓰기\" data-toc-modified-id=\"File에-추가로-쓰기-2.6\"><span class=\"toc-item-num\">2.6&nbsp;&nbsp;</span>File에 추가로 쓰기</a></span></li><li><span><a href=\"#close-함수없이쓰기\" data-toc-modified-id=\"close-함수없이쓰기-2.7\"><span class=\"toc-item-num\">2.7&nbsp;&nbsp;</span>close 함수없이쓰기</a></span></li><li><span><a href=\"#확인하기\" data-toc-modified-id=\"확인하기-2.8\"><span class=\"toc-item-num\">2.8&nbsp;&nbsp;</span>확인하기</a></span></li></ul></li></ul></div>"
   ]
  },
  {
   "cell_type": "markdown",
   "metadata": {},
   "source": [
    "## os.path module의 File 관련 함수"
   ]
  },
  {
   "cell_type": "code",
   "execution_count": 8,
   "metadata": {
    "ExecuteTime": {
     "end_time": "2021-07-24T11:48:12.810228Z",
     "start_time": "2021-07-24T11:48:12.806230Z"
    }
   },
   "outputs": [],
   "source": [
    "import os\n",
    "data_path ='./data'\n",
    "file_name = 'test.txt'\n",
    "txt_path = os.path.join(data_path,file_name)"
   ]
  },
  {
   "cell_type": "code",
   "execution_count": 9,
   "metadata": {
    "ExecuteTime": {
     "end_time": "2021-07-24T11:48:12.973754Z",
     "start_time": "2021-07-24T11:48:12.969793Z"
    }
   },
   "outputs": [
    {
     "data": {
      "text/plain": [
       "True"
      ]
     },
     "execution_count": 9,
     "metadata": {},
     "output_type": "execute_result"
    }
   ],
   "source": [
    "os.path.exists(txt_path) # File 존재 확인하기"
   ]
  },
  {
   "cell_type": "code",
   "execution_count": 10,
   "metadata": {
    "ExecuteTime": {
     "end_time": "2021-07-24T11:48:13.150293Z",
     "start_time": "2021-07-24T11:48:13.145321Z"
    }
   },
   "outputs": [
    {
     "data": {
      "text/plain": [
       "'./data'"
      ]
     },
     "execution_count": 10,
     "metadata": {},
     "output_type": "execute_result"
    }
   ],
   "source": [
    "os.path.dirname(txt_path) # dicrectory 경로만 추출하기"
   ]
  },
  {
   "cell_type": "code",
   "execution_count": 11,
   "metadata": {
    "ExecuteTime": {
     "end_time": "2021-07-24T11:48:13.297108Z",
     "start_time": "2021-07-24T11:48:13.293088Z"
    }
   },
   "outputs": [
    {
     "data": {
      "text/plain": [
       "'test.txt'"
      ]
     },
     "execution_count": 11,
     "metadata": {},
     "output_type": "execute_result"
    }
   ],
   "source": [
    "os.path.basename(txt_path) # 파일 이름만 추출하기 "
   ]
  },
  {
   "cell_type": "code",
   "execution_count": 12,
   "metadata": {
    "ExecuteTime": {
     "end_time": "2021-07-24T11:48:13.468839Z",
     "start_time": "2021-07-24T11:48:13.464876Z"
    }
   },
   "outputs": [
    {
     "data": {
      "text/plain": [
       "('./data', 'test.txt')"
      ]
     },
     "execution_count": 12,
     "metadata": {},
     "output_type": "execute_result"
    }
   ],
   "source": [
    "os.path.split(txt_path) # 디렉토리와 파일로 구분"
   ]
  },
  {
   "cell_type": "code",
   "execution_count": 13,
   "metadata": {
    "ExecuteTime": {
     "end_time": "2021-07-24T11:48:13.638868Z",
     "start_time": "2021-07-24T11:48:13.634879Z"
    }
   },
   "outputs": [
    {
     "data": {
      "text/plain": [
       "('./data\\\\test', '.txt')"
      ]
     },
     "execution_count": 13,
     "metadata": {},
     "output_type": "execute_result"
    }
   ],
   "source": [
    "os.path.splitext(txt_path) # 확장자와 나머지로 구분"
   ]
  },
  {
   "cell_type": "markdown",
   "metadata": {},
   "source": [
    "---\n",
    "\n",
    "## File I/O"
   ]
  },
  {
   "cell_type": "code",
   "execution_count": 24,
   "metadata": {
    "ExecuteTime": {
     "end_time": "2021-07-24T11:51:28.976938Z",
     "start_time": "2021-07-24T11:51:28.972972Z"
    }
   },
   "outputs": [],
   "source": [
    "### 읽을 파일 설정\n",
    "data_path ='./data'\n",
    "file_name1 = 'test.txt'\n",
    "file_name2 = 'fun.txt'\n",
    "\n",
    "txt_path1 = txt_path = os.path.join(data_path,file_name1)\n",
    "txt_path2 = txt_path = os.path.join(data_path,file_name2)"
   ]
  },
  {
   "cell_type": "markdown",
   "metadata": {},
   "source": [
    "### File 열기 / 닫기"
   ]
  },
  {
   "cell_type": "code",
   "execution_count": 25,
   "metadata": {
    "ExecuteTime": {
     "end_time": "2021-07-24T11:51:29.492218Z",
     "start_time": "2021-07-24T11:51:29.487202Z"
    }
   },
   "outputs": [
    {
     "name": "stdout",
     "output_type": "stream",
     "text": [
      "Lorem ipsum dolor sit amet, consectetur adipiscing elit.\n",
      "\n"
     ]
    }
   ],
   "source": [
    "f = open(txt_path1, 'r')\n",
    "print(f.readline())\n",
    "f.close()"
   ]
  },
  {
   "cell_type": "markdown",
   "metadata": {},
   "source": [
    "### File 전체 읽기\n",
    "\n",
    "#### 반복문 이용"
   ]
  },
  {
   "cell_type": "code",
   "execution_count": 28,
   "metadata": {
    "ExecuteTime": {
     "end_time": "2021-07-24T11:51:38.725812Z",
     "start_time": "2021-07-24T11:51:38.720193Z"
    }
   },
   "outputs": [
    {
     "name": "stdout",
     "output_type": "stream",
     "text": [
      "Lorem ipsum dolor sit amet, consectetur adipiscing elit.\n",
      "\n",
      "Aliquam sit amet varius quam, eu placerat diam.\n",
      "\n",
      "Donec ut odio non ligula volutpat molestie et et nunc.\n",
      "\n",
      "Aenean quis mauris dui. Sed lacus massa, blandit non lectus ac, sollicitudin porttitor ante.\n",
      "\n",
      "Integer vel diam dapibus, lobortis velit vel, sollicitudin enim.\n",
      "\n",
      "Phasellus vel ex aliquet, consectetur est in, pretium leo. Proin ultrices eros ac libero dapibus, ut aliquet odio vulputate.\n"
     ]
    }
   ],
   "source": [
    "f = open(txt_path1, 'r')\n",
    "while True :\n",
    "    line = f.readline() # 개행문자까지 다 읽어라\n",
    "    if not line:\n",
    "        break\n",
    "    print(line)\n",
    "f.close()"
   ]
  },
  {
   "cell_type": "markdown",
   "metadata": {},
   "source": [
    "#### 한번에 읽기 => readlines() 함수 사용"
   ]
  },
  {
   "cell_type": "code",
   "execution_count": 29,
   "metadata": {
    "ExecuteTime": {
     "end_time": "2021-07-24T11:51:46.734331Z",
     "start_time": "2021-07-24T11:51:46.729368Z"
    }
   },
   "outputs": [
    {
     "name": "stdout",
     "output_type": "stream",
     "text": [
      "Total Lines Num :  6\n",
      "Lorem ipsum dolor sit amet, consectetur adipiscing elit.\n",
      "\n",
      "Aliquam sit amet varius quam, eu placerat diam.\n",
      "\n",
      "Donec ut odio non ligula volutpat molestie et et nunc.\n",
      "\n",
      "Aenean quis mauris dui. Sed lacus massa, blandit non lectus ac, sollicitudin porttitor ante.\n",
      "\n",
      "Integer vel diam dapibus, lobortis velit vel, sollicitudin enim.\n",
      "\n",
      "Phasellus vel ex aliquet, consectetur est in, pretium leo. Proin ultrices eros ac libero dapibus, ut aliquet odio vulputate.\n"
     ]
    }
   ],
   "source": [
    "f = open(txt_path1, 'r')\n",
    "lines = f.readlines()\n",
    "print(\"Total Lines Num : \",len(lines))\n",
    "for line in lines: \n",
    "    print(line)\n",
    "f.close()"
   ]
  },
  {
   "cell_type": "markdown",
   "metadata": {},
   "source": [
    "### 한번에 읽기2"
   ]
  },
  {
   "cell_type": "code",
   "execution_count": 30,
   "metadata": {
    "ExecuteTime": {
     "end_time": "2021-07-24T11:51:48.413142Z",
     "start_time": "2021-07-24T11:51:48.408190Z"
    }
   },
   "outputs": [
    {
     "name": "stdout",
     "output_type": "stream",
     "text": [
      "442\n",
      "Lorem ipsum dolor sit amet, consectetur adipiscing elit.\n",
      "Aliquam sit amet varius quam, eu placerat diam.\n",
      "Donec ut odio non ligula volutpat molestie et et nunc.\n",
      "Aenean quis mauris dui. Sed lacus massa, blandit non lectus ac, sollicitudin porttitor ante.\n",
      "Integer vel diam dapibus, lobortis velit vel, sollicitudin enim.\n",
      "Phasellus vel ex aliquet, consectetur est in, pretium leo. Proin ultrices eros ac libero dapibus, ut aliquet odio vulputate.\n"
     ]
    }
   ],
   "source": [
    "f = open(txt_path1, 'r')\n",
    "lines = f.read() # 모든 라인을 읽어서 내용 전체를 하나의 문자열로 리턴\n",
    "print(len(lines))\n",
    "print(lines)\n",
    "f.close()"
   ]
  },
  {
   "cell_type": "markdown",
   "metadata": {},
   "source": [
    "### File 쓰기"
   ]
  },
  {
   "cell_type": "code",
   "execution_count": 26,
   "metadata": {
    "ExecuteTime": {
     "end_time": "2021-07-24T11:51:30.776732Z",
     "start_time": "2021-07-24T11:51:30.757452Z"
    }
   },
   "outputs": [],
   "source": [
    "f = open(txt_path2, 'w')\n",
    "f.write('Programming is fun.')\n",
    "f.close()"
   ]
  },
  {
   "cell_type": "markdown",
   "metadata": {},
   "source": [
    "### File 한 줄 읽기"
   ]
  },
  {
   "cell_type": "code",
   "execution_count": 31,
   "metadata": {
    "ExecuteTime": {
     "end_time": "2021-07-24T11:54:25.918071Z",
     "start_time": "2021-07-24T11:54:25.914082Z"
    }
   },
   "outputs": [
    {
     "name": "stdout",
     "output_type": "stream",
     "text": [
      "Programming is fun.\n"
     ]
    }
   ],
   "source": [
    "f = open(txt_path2, 'r')\n",
    "line = f.readline()\n",
    "print(line)\n",
    "f.close()"
   ]
  },
  {
   "cell_type": "markdown",
   "metadata": {},
   "source": [
    "### File에 추가로 쓰기"
   ]
  },
  {
   "cell_type": "code",
   "execution_count": 32,
   "metadata": {
    "ExecuteTime": {
     "end_time": "2021-07-24T11:54:26.503957Z",
     "start_time": "2021-07-24T11:54:26.499972Z"
    }
   },
   "outputs": [],
   "source": [
    "f = open(txt_path2, 'a')\n",
    "f.write('\\nhahahahahaha\\n')\n",
    "f.close()"
   ]
  },
  {
   "cell_type": "code",
   "execution_count": 35,
   "metadata": {
    "ExecuteTime": {
     "end_time": "2021-07-24T11:54:57.861899Z",
     "start_time": "2021-07-24T11:54:57.856904Z"
    }
   },
   "outputs": [
    {
     "name": "stdout",
     "output_type": "stream",
     "text": [
      "Programming is fun.\n",
      "\n",
      "hahahahahaha\n",
      "\n"
     ]
    }
   ],
   "source": [
    "f = open(txt_path2, 'r')\n",
    "lines = f.readlines()\n",
    "for line in lines: \n",
    "    print(line)\n",
    "f.close()"
   ]
  },
  {
   "cell_type": "markdown",
   "metadata": {},
   "source": [
    "### close 함수없이쓰기"
   ]
  },
  {
   "cell_type": "code",
   "execution_count": 38,
   "metadata": {
    "ExecuteTime": {
     "end_time": "2021-07-24T11:55:39.202004Z",
     "start_time": "2021-07-24T11:55:39.197018Z"
    }
   },
   "outputs": [],
   "source": [
    "with open(txt_path2, 'a') as f :\n",
    "    f.write('very very fun ')"
   ]
  },
  {
   "cell_type": "markdown",
   "metadata": {},
   "source": [
    "### 확인하기"
   ]
  },
  {
   "cell_type": "code",
   "execution_count": 39,
   "metadata": {
    "ExecuteTime": {
     "end_time": "2021-07-24T11:55:39.785816Z",
     "start_time": "2021-07-24T11:55:39.775843Z"
    }
   },
   "outputs": [
    {
     "name": "stdout",
     "output_type": "stream",
     "text": [
      "Programming is fun.\n",
      "\n",
      "hahahahahaha\n",
      "\n",
      "very very fun \n"
     ]
    }
   ],
   "source": [
    "f = open(txt_path2, 'r')\n",
    "lines = f.readlines()\n",
    "for line in lines: \n",
    "    print(line)\n",
    "f.close()"
   ]
  },
  {
   "cell_type": "markdown",
   "metadata": {},
   "source": [
    "<hr style=\"height:3px;border:none;color:#5F71F7;background-color:#5F71F7;\" />\n",
    "\n",
    "<div class=\"alert alert-success\">\n",
    "    <b>예제(Exercise)</b>:\n",
    "    <ul>\n",
    "        <li>\n",
    "        다음과 같이 각 라인마다 점수 한개씩 기록되어 있는 score.txt 파일을 읽어서 점수들의 합계와 평균을 구하여 result.txt 파일에 쓰는 프로그램을 작성하세요.(score.txt 는 data 폴더에 있습니다)\n",
    "        </li>\n",
    "    </ul>\n",
    "</div>\n",
    "\n",
    "```\n",
    "=================\n",
    "result.txt 파일 내용 (예시1)\n",
    "75\n",
    "56\n",
    "38\n",
    "98\n",
    "62\n",
    "3\n",
    "81\n",
    "17\n",
    "52\n",
    "43\n",
    "\n",
    "=================\n",
    "score.txt 파일 내용 (예시2)\n",
    "99\n",
    "100\n",
    "75\n",
    "언어 : python3\n",
    "입력 설명 :\n",
    "\n",
    "result.txt   또는 score.txt 파일 만들어 사용\n",
    "출력 설명 :\n",
    "\n",
    "sum , average 출력\n",
    "샘플 출력 :\n",
    "\n",
    "sum : 525\n",
    "average : 52.5\n",
    "```"
   ]
  },
  {
   "cell_type": "code",
   "execution_count": 44,
   "metadata": {
    "ExecuteTime": {
     "end_time": "2021-07-24T12:01:21.390737Z",
     "start_time": "2021-07-24T12:01:21.386747Z"
    }
   },
   "outputs": [],
   "source": [
    "import os\n",
    "data_path ='./data'\n",
    "file_name = 'score.txt'\n",
    "save_name = 'result.txt'\n",
    "score_path = os.path.join(data_path,file_name)\n",
    "result_path = os.path.join(data_path,save_name)"
   ]
  },
  {
   "cell_type": "code",
   "execution_count": null,
   "metadata": {},
   "outputs": [],
   "source": []
  },
  {
   "cell_type": "code",
   "execution_count": null,
   "metadata": {},
   "outputs": [],
   "source": []
  },
  {
   "cell_type": "code",
   "execution_count": null,
   "metadata": {},
   "outputs": [],
   "source": []
  },
  {
   "cell_type": "code",
   "execution_count": null,
   "metadata": {},
   "outputs": [],
   "source": []
  }
 ],
 "metadata": {
  "kernelspec": {
   "display_name": "Python 3",
   "language": "python",
   "name": "python3"
  },
  "language_info": {
   "codemirror_mode": {
    "name": "ipython",
    "version": 3
   },
   "file_extension": ".py",
   "mimetype": "text/x-python",
   "name": "python",
   "nbconvert_exporter": "python",
   "pygments_lexer": "ipython3",
   "version": "3.7.0"
  },
  "toc": {
   "base_numbering": 1,
   "nav_menu": {},
   "number_sections": true,
   "sideBar": true,
   "skip_h1_title": true,
   "title_cell": "Table of Contents",
   "title_sidebar": "Contents",
   "toc_cell": true,
   "toc_position": {
    "height": "calc(100% - 180px)",
    "left": "10px",
    "top": "150px",
    "width": "254.188px"
   },
   "toc_section_display": true,
   "toc_window_display": false
  },
  "varInspector": {
   "cols": {
    "lenName": 16,
    "lenType": 16,
    "lenVar": 40
   },
   "kernels_config": {
    "python": {
     "delete_cmd_postfix": "",
     "delete_cmd_prefix": "del ",
     "library": "var_list.py",
     "varRefreshCmd": "print(var_dic_list())"
    },
    "r": {
     "delete_cmd_postfix": ") ",
     "delete_cmd_prefix": "rm(",
     "library": "var_list.r",
     "varRefreshCmd": "cat(var_dic_list()) "
    }
   },
   "types_to_exclude": [
    "module",
    "function",
    "builtin_function_or_method",
    "instance",
    "_Feature"
   ],
   "window_display": false
  }
 },
 "nbformat": 4,
 "nbformat_minor": 5
}
