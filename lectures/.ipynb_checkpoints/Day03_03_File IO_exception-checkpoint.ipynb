{
 "cells": [
  {
   "cell_type": "markdown",
   "metadata": {},
   "source": [
    "# Day03_File I/O \n",
    "\n",
    "<font size=5><b> 예외처리(exception)<b></font>\n",
    "<div align='right'>류 회 성<br>(Hoe Sung Ryu)</div>\n",
    "\n",
    "  \n",
    "<img src='./imgs/02_03_main.png' width=50%>\n",
    "\n",
    "    \n",
    "---"
   ]
  },
  {
   "cell_type": "markdown",
   "metadata": {
    "toc": true
   },
   "source": [
    "<h1>Table of Contents<span class=\"tocSkip\"></span></h1>\n",
    "<div class=\"toc\"><ul class=\"toc-item\"><li><span><a href=\"#예외-예\" data-toc-modified-id=\"예외-예-1\"><span class=\"toc-item-num\">1&nbsp;&nbsp;</span>예외 예</a></span></li><li><span><a href=\"#Try-except\" data-toc-modified-id=\"Try-except-2\"><span class=\"toc-item-num\">2&nbsp;&nbsp;</span>Try-except</a></span><ul class=\"toc-item\"><li><span><a href=\"#예외-확인\" data-toc-modified-id=\"예외-확인-2.1\"><span class=\"toc-item-num\">2.1&nbsp;&nbsp;</span>예외 확인</a></span></li></ul></li><li><span><a href=\"#try-except-else\" data-toc-modified-id=\"try-except-else-3\"><span class=\"toc-item-num\">3&nbsp;&nbsp;</span>try-except-else</a></span><ul class=\"toc-item\"><li><span><a href=\"#try-except-else-finally\" data-toc-modified-id=\"try-except-else-finally-3.1\"><span class=\"toc-item-num\">3.1&nbsp;&nbsp;</span>try-except-else-finally</a></span></li></ul></li><li><span><a href=\"#예외-발생시키기\" data-toc-modified-id=\"예외-발생시키기-4\"><span class=\"toc-item-num\">4&nbsp;&nbsp;</span>예외 발생시키기</a></span></li></ul></div>"
   ]
  },
  {
   "cell_type": "markdown",
   "metadata": {},
   "source": [
    "## 예외 예\n",
    "예외일때 발생하는 에러 : \n",
    " - FineNotFoundError\n",
    " - ZeroDivisionError\n",
    " - IndexError\n",
    "> 예외 처리 : 예외가 발생하면 처리하는 코드"
   ]
  },
  {
   "cell_type": "markdown",
   "metadata": {},
   "source": [
    "## Try-except\n",
    "\n",
    "```python\n",
    "try:\n",
    "    <실행코드>\n",
    "except:\n",
    "    <예외가발생했을때 처리할 코드>\n",
    "\n",
    "```"
   ]
  },
  {
   "cell_type": "code",
   "execution_count": 1,
   "metadata": {
    "ExecuteTime": {
     "end_time": "2021-07-25T09:42:29.641594Z",
     "start_time": "2021-07-25T09:42:29.510294Z"
    }
   },
   "outputs": [
    {
     "ename": "ZeroDivisionError",
     "evalue": "division by zero",
     "output_type": "error",
     "traceback": [
      "\u001b[0;31m---------------------------------------------------------------------------\u001b[0m",
      "\u001b[0;31mZeroDivisionError\u001b[0m                         Traceback (most recent call last)",
      "\u001b[0;32m<ipython-input-1-cd759d3fcf39>\u001b[0m in \u001b[0;36m<module>\u001b[0;34m\u001b[0m\n\u001b[0;32m----> 1\u001b[0;31m \u001b[0;36m10\u001b[0m \u001b[0;34m/\u001b[0m \u001b[0;36m0\u001b[0m\u001b[0;34m\u001b[0m\u001b[0m\n\u001b[0m",
      "\u001b[0;31mZeroDivisionError\u001b[0m: division by zero"
     ]
    }
   ],
   "source": [
    "10 / 0"
   ]
  },
  {
   "cell_type": "code",
   "execution_count": 3,
   "metadata": {
    "ExecuteTime": {
     "end_time": "2021-07-25T09:47:46.370193Z",
     "start_time": "2021-07-25T09:47:46.364549Z"
    }
   },
   "outputs": [
    {
     "name": "stdout",
     "output_type": "stream",
     "text": [
      "예외 발생!\n"
     ]
    }
   ],
   "source": [
    "try:\n",
    "    10 / 0\n",
    "    print('step1')\n",
    "except:\n",
    "    print(\"예외 발생!\")"
   ]
  },
  {
   "cell_type": "code",
   "execution_count": 11,
   "metadata": {
    "ExecuteTime": {
     "end_time": "2021-07-25T09:57:06.983229Z",
     "start_time": "2021-07-25T09:57:06.976858Z"
    }
   },
   "outputs": [
    {
     "name": "stdout",
     "output_type": "stream",
     "text": [
      "ZeroDivisionError \n",
      "2.0\n",
      "1.5\n",
      "IndexError\n"
     ]
    }
   ],
   "source": [
    "y = [1, 2, 3]\n",
    "length = 4\n",
    "\n",
    "for i in range(length):\n",
    "    try:\n",
    "        print(y[i]/i)\n",
    "    except FileNotFoundError:\n",
    "        print(\"FileNotFoundError\")\n",
    "    except ZeroDivisionError:\n",
    "        print(\"ZeroDivisionError \")\n",
    "    except IndexError:\n",
    "        print(\"IndexError\")"
   ]
  },
  {
   "cell_type": "code",
   "execution_count": 1,
   "metadata": {
    "ExecuteTime": {
     "end_time": "2021-07-24T12:05:31.473291Z",
     "start_time": "2021-07-24T12:05:31.469315Z"
    }
   },
   "outputs": [
    {
     "name": "stdout",
     "output_type": "stream",
     "text": [
      "step 1\n",
      "step 2\n",
      "step 4\n",
      "예외 발생!\n",
      "step 5\n",
      "step 6\n"
     ]
    }
   ],
   "source": [
    "#모든 예외 처리\n",
    "print('step 1')\n",
    "try:\n",
    "    print('step 2')\n",
    "    f = open(\"finename.txt\")#1 #filename이 없기때문에 여기서 에러가 난다\n",
    "    print('step 3')\n",
    "except :#2 에러가 나면 except로 넘어간다\n",
    "    print('step 4')# 3\n",
    "    print(\"예외 발생!\")\n",
    "    print('step 5')\n",
    "print('step 6')"
   ]
  },
  {
   "cell_type": "markdown",
   "metadata": {},
   "source": [
    "### 예외 확인"
   ]
  },
  {
   "cell_type": "code",
   "execution_count": 13,
   "metadata": {
    "ExecuteTime": {
     "end_time": "2021-07-25T10:02:09.548513Z",
     "start_time": "2021-07-25T10:02:09.543414Z"
    }
   },
   "outputs": [
    {
     "name": "stdout",
     "output_type": "stream",
     "text": [
      "예외 발생! [Errno 2] No such file or directory: 'finename.txt'\n"
     ]
    }
   ],
   "source": [
    "#지정 예외 처리 및 특정 예외 명시\n",
    "try:\n",
    "    f = open(\"finename.txt\")\n",
    "except FileNotFoundError as e # e 라는 변수한테 에러가 난 이유를 담는다\n",
    "    print(\"예외 발생!\",e)"
   ]
  },
  {
   "cell_type": "markdown",
   "metadata": {},
   "source": [
    "## try-except-else"
   ]
  },
  {
   "cell_type": "code",
   "execution_count": 25,
   "metadata": {
    "ExecuteTime": {
     "end_time": "2021-07-25T10:13:51.879024Z",
     "start_time": "2021-07-25T10:13:51.873479Z"
    }
   },
   "outputs": [
    {
     "name": "stdout",
     "output_type": "stream",
     "text": [
      "성공1.0\n"
     ]
    }
   ],
   "source": [
    "x = 10 \n",
    "try:\n",
    "    y = 10/x\n",
    "except ZeroDivisionError:\n",
    "    print('0 으로 나눌 수 없습니다.')\n",
    "else:\n",
    "    print(f'성공{y}')"
   ]
  },
  {
   "cell_type": "code",
   "execution_count": 24,
   "metadata": {
    "ExecuteTime": {
     "end_time": "2021-07-25T10:13:49.141727Z",
     "start_time": "2021-07-25T10:13:49.137904Z"
    }
   },
   "outputs": [
    {
     "name": "stdout",
     "output_type": "stream",
     "text": [
      "0 으로 나눌 수 없습니다.\n"
     ]
    }
   ],
   "source": [
    "x = 0 \n",
    "try:\n",
    "    y = 10/x\n",
    "except ZeroDivisionError:\n",
    "    print('0 으로 나눌 수 없습니다.')\n",
    "else:\n",
    "    print(f'성공{y}')"
   ]
  },
  {
   "cell_type": "markdown",
   "metadata": {},
   "source": [
    "<hr style=\"height:3px;border:none;color:#5F71F7;background-color:#5F71F7;\" />\n",
    "\n",
    "<div class=\"alert alert-success\">\n",
    "    <b>예제(Exercise)</b>:\n",
    "    <ul>\n",
    "        <li>\n",
    "        다음 코드를 함수로 만드시오. \n",
    "        </li>\n",
    "    </ul>\n",
    "</div>\n",
    "\n",
    "```python \n",
    "x = 10 \n",
    "try:\n",
    "    y = 10/x\n",
    "except ZeroDivisionError:\n",
    "    print('0 ?으로 나눌 수 없습니다.')\n",
    "else:\n",
    "    print(f'성공{y}')\n",
    "```"
   ]
  },
  {
   "cell_type": "code",
   "execution_count": null,
   "metadata": {},
   "outputs": [],
   "source": []
  },
  {
   "cell_type": "code",
   "execution_count": null,
   "metadata": {},
   "outputs": [],
   "source": []
  },
  {
   "cell_type": "code",
   "execution_count": null,
   "metadata": {},
   "outputs": [],
   "source": []
  },
  {
   "cell_type": "markdown",
   "metadata": {},
   "source": [
    "### try-except-else-finally"
   ]
  },
  {
   "cell_type": "code",
   "execution_count": 30,
   "metadata": {
    "ExecuteTime": {
     "end_time": "2021-07-25T10:16:45.722749Z",
     "start_time": "2021-07-25T10:16:45.716856Z"
    }
   },
   "outputs": [
    {
     "name": "stdout",
     "output_type": "stream",
     "text": [
      "0 으로 나눌 수 없습니다.\n",
      "Done\n"
     ]
    }
   ],
   "source": [
    "try:\n",
    "    x = 0\n",
    "    y = 10/x\n",
    "except ZeroDivisionError:\n",
    "    print('0 으로 나눌 수 없습니다.')\n",
    "else:\n",
    "    print(f'성공{y}')\n",
    "finally:\n",
    "    print('Done')"
   ]
  },
  {
   "cell_type": "code",
   "execution_count": 31,
   "metadata": {
    "ExecuteTime": {
     "end_time": "2021-07-25T10:16:51.929015Z",
     "start_time": "2021-07-25T10:16:51.923688Z"
    }
   },
   "outputs": [
    {
     "name": "stdout",
     "output_type": "stream",
     "text": [
      "성공10.0\n",
      "Done\n"
     ]
    }
   ],
   "source": [
    "try:\n",
    "    x = 1\n",
    "    y = 10/x\n",
    "except ZeroDivisionError:\n",
    "    print('0 으로 나눌 수 없습니다.')\n",
    "else:\n",
    "    print(f'성공{y}')\n",
    "finally:\n",
    "    print('Done')"
   ]
  },
  {
   "cell_type": "markdown",
   "metadata": {},
   "source": [
    "## 예외 발생시키기 \n",
    "\n",
    "`assert`\n",
    "\n",
    "assert < 원하는 식 > , False 일시 나올 문자열"
   ]
  },
  {
   "cell_type": "code",
   "execution_count": 37,
   "metadata": {
    "ExecuteTime": {
     "end_time": "2021-07-25T10:19:58.244232Z",
     "start_time": "2021-07-25T10:19:58.241150Z"
    }
   },
   "outputs": [],
   "source": [
    "assert True"
   ]
  },
  {
   "cell_type": "code",
   "execution_count": 38,
   "metadata": {
    "ExecuteTime": {
     "end_time": "2021-07-25T10:19:58.623308Z",
     "start_time": "2021-07-25T10:19:58.614497Z"
    }
   },
   "outputs": [
    {
     "ename": "AssertionError",
     "evalue": "This assertion failed!",
     "output_type": "error",
     "traceback": [
      "\u001b[0;31m---------------------------------------------------------------------------\u001b[0m",
      "\u001b[0;31mAssertionError\u001b[0m                            Traceback (most recent call last)",
      "\u001b[0;32m<ipython-input-38-92d9be9eed70>\u001b[0m in \u001b[0;36m<module>\u001b[0;34m\u001b[0m\n\u001b[0;32m----> 1\u001b[0;31m \u001b[0;32massert\u001b[0m \u001b[0;32mFalse\u001b[0m\u001b[0;34m,\u001b[0m \u001b[0;34m\"This assertion failed!\"\u001b[0m\u001b[0;34m\u001b[0m\u001b[0m\n\u001b[0m",
      "\u001b[0;31mAssertionError\u001b[0m: This assertion failed!"
     ]
    }
   ],
   "source": [
    "assert False, \"This assertion failed!\""
   ]
  },
  {
   "cell_type": "markdown",
   "metadata": {},
   "source": [
    "<hr style=\"height:3px;border:none;color:#5F71F7;background-color:#5F71F7;\" />\n",
    "\n",
    "<div class=\"alert alert-success\">\n",
    "    <b>예제(Exercise)</b>:\n",
    "    <ul>\n",
    "        <li>\n",
    "        리스트길이가 특정 길이가 아니면 \"리스트 길이를 확인해 주세요.\" 라는 출력이 나오도록 assert문을 작성하시오.\n",
    "        </li>\n",
    "    </ul>\n",
    "</div>"
   ]
  },
  {
   "cell_type": "code",
   "execution_count": null,
   "metadata": {},
   "outputs": [],
   "source": []
  },
  {
   "cell_type": "code",
   "execution_count": null,
   "metadata": {},
   "outputs": [],
   "source": []
  },
  {
   "cell_type": "code",
   "execution_count": null,
   "metadata": {},
   "outputs": [],
   "source": []
  },
  {
   "cell_type": "code",
   "execution_count": null,
   "metadata": {},
   "outputs": [],
   "source": []
  },
  {
   "cell_type": "markdown",
   "metadata": {},
   "source": [
    "<hr style=\"height:3px;border:none;color:#5F71F7;background-color:#5F71F7;\" />\n",
    "\n",
    "<div class=\"alert alert-success\">\n",
    "    <b>예제(Exercise)</b>:\n",
    "    <ul>\n",
    "        <li>\n",
    "        다음 코드의 실행 값을 구하시오. \n",
    "        </li>\n",
    "    </ul>\n",
    "</div>\n",
    "\n",
    "```python \n",
    "result = 0\n",
    "try:\n",
    "    [1, 2, 3][3]\n",
    "    \"a\"+1\n",
    "    4 / 0\n",
    "except TypeError:\n",
    "    result += 1\n",
    "except ZeroDivisionError:\n",
    "    result += 2\n",
    "except IndexError:\n",
    "    result += 3\n",
    "print(result)\n",
    "```"
   ]
  },
  {
   "cell_type": "code",
   "execution_count": null,
   "metadata": {},
   "outputs": [],
   "source": []
  },
  {
   "cell_type": "markdown",
   "metadata": {},
   "source": [
    "<hr style=\"height:3px;border:none;color:#5F71F7;background-color:#5F71F7;\" />\n",
    "\n",
    "<div class=\"alert alert-success\">\n",
    "    <b>예제(Exercise)</b>:\n",
    "    <ul>\n",
    "        <li>\n",
    "        number.txt 파일에서 각 line의 첫번째 숫자를 두번째 숫자로 나눈 몫을 화면에 출력하십시오.          \n",
    "        </li>\n",
    "    </ul>\n",
    "</div>\n",
    "\n",
    "출력예시 \n",
    "```\n",
    "다음과 같이 출력됩니다.         \n",
    "10 / 5 = 2         \n",
    "9 / 4 = 2        \n",
    "90 / 10 = 9          \n",
    "두번째 숫자가 0입니다             .\n",
    "\n",
    "```\n"
   ]
  },
  {
   "cell_type": "code",
   "execution_count": null,
   "metadata": {},
   "outputs": [],
   "source": []
  },
  {
   "cell_type": "code",
   "execution_count": null,
   "metadata": {},
   "outputs": [],
   "source": []
  },
  {
   "cell_type": "code",
   "execution_count": null,
   "metadata": {},
   "outputs": [],
   "source": []
  }
 ],
 "metadata": {
  "kernelspec": {
   "display_name": "Python 3",
   "language": "python",
   "name": "python3"
  },
  "language_info": {
   "codemirror_mode": {
    "name": "ipython",
    "version": 3
   },
   "file_extension": ".py",
   "mimetype": "text/x-python",
   "name": "python",
   "nbconvert_exporter": "python",
   "pygments_lexer": "ipython3",
   "version": "3.7.0"
  },
  "toc": {
   "base_numbering": 1,
   "nav_menu": {},
   "number_sections": true,
   "sideBar": true,
   "skip_h1_title": true,
   "title_cell": "Table of Contents",
   "title_sidebar": "Contents",
   "toc_cell": true,
   "toc_position": {},
   "toc_section_display": true,
   "toc_window_display": false
  },
  "varInspector": {
   "cols": {
    "lenName": 16,
    "lenType": 16,
    "lenVar": 40
   },
   "kernels_config": {
    "python": {
     "delete_cmd_postfix": "",
     "delete_cmd_prefix": "del ",
     "library": "var_list.py",
     "varRefreshCmd": "print(var_dic_list())"
    },
    "r": {
     "delete_cmd_postfix": ") ",
     "delete_cmd_prefix": "rm(",
     "library": "var_list.r",
     "varRefreshCmd": "cat(var_dic_list()) "
    }
   },
   "types_to_exclude": [
    "module",
    "function",
    "builtin_function_or_method",
    "instance",
    "_Feature"
   ],
   "window_display": false
  }
 },
 "nbformat": 4,
 "nbformat_minor": 5
}
