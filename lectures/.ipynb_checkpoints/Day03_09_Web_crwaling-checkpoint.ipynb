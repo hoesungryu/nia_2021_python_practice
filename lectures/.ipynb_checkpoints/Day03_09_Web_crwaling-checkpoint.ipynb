{
 "cells": [
  {
   "cell_type": "markdown",
   "metadata": {},
   "source": [
    "# Day03_Web_crwaling\n",
    "<font size=5><b>네이버 뉴스 크롤링<b></font>\n",
    "<div align='right'>류 회 성(Hoe Sung Ryu)</div>\n",
    "\n",
    "    \n",
    "<img src='https://www.simplilearn.com/ice9/free_resources_article_thumb/what_is_Web_Crawler.jpg' width = 60%>\n",
    "    \n",
    "---"
   ]
  },
  {
   "cell_type": "markdown",
   "metadata": {
    "toc": true
   },
   "source": [
    "<h1>Table of Contents<span class=\"tocSkip\"></span></h1>\n",
    "<div class=\"toc\"><ul class=\"toc-item\"></ul></div>"
   ]
  },
  {
   "cell_type": "code",
   "execution_count": 1,
   "metadata": {
    "ExecuteTime": {
     "end_time": "2021-07-25T13:19:38.823992Z",
     "start_time": "2021-07-25T13:19:38.184195Z"
    }
   },
   "outputs": [],
   "source": [
    "# -*- coding: utf-8 -*-\n",
    "import requests\n",
    "from bs4 import BeautifulSoup\n",
    "import pandas as pd\n",
    "from datetime import datetime\n",
    "from pprint import pprint\n",
    "from tqdm import tqdm_notebook\n",
    "\n",
    "'''''''''''''''''''''''''''''''''''''''''''''''''''''''''\n",
    "< naver 뉴스 전문 가져오기 >_select 사용\n",
    "- 네이버 뉴스만 가져와서 결과값 조금 작음 \n",
    "- 결과 메모장 저장 -> 엑셀로 저장 \n",
    "'''''''''''''''''''''''''''''''''''''''''''''''''''''''''\n",
    "\n",
    "def get_news(n_url):\n",
    "    news_detail = []\n",
    "\n",
    "    breq = requests.get(n_url, headers={'User-Agent':'Mozilla/5.0'})\n",
    "    bsoup = BeautifulSoup(breq.content, 'lxml')\n",
    "\n",
    "    title = bsoup.select('h3#articleTitle')[0].text  #대괄호는  h3#articleTitle 인 것중 첫번째 그룹만 가져오겠다.\n",
    "    news_detail.append(title)\n",
    "\n",
    "    pdate = bsoup.select('.t11')[0].get_text()[:11]\n",
    "    news_detail.append(pdate)\n",
    "\n",
    "    _text = bsoup.select('#articleBodyContents')[0].get_text().replace('\\n', \" \")\n",
    "    _text = _text.replace(\"    동영상 뉴스   \", \"\")\n",
    "    btext = _text.replace(\"// flash 오류를 우회하기 위한 함수 추가 function _flash_removeCallback() {}\", \"\")\n",
    "    news_detail.append(btext.strip())\n",
    "  \n",
    "    news_detail.append(n_url)\n",
    "    \n",
    "    pcompany = bsoup.select('#footer address')[0].a.get_text()\n",
    "    news_detail.append(pcompany)\n",
    "\n",
    "    return news_detail\n",
    "\n",
    "def crawler(maxpage,query,s_date,e_date):\n",
    "\n",
    "    crawled_data = {}\n",
    "    years = []\n",
    "    company = []\n",
    "    title = []\n",
    "    contents = []\n",
    "    link = []\n",
    "    s_from = s_date.replace(\".\",\"\")\n",
    "    e_to = e_date.replace(\".\",\"\")\n",
    "    page = 1\n",
    "    maxpage_t =(int(maxpage)-1)*10+1   # 11= 2페이지 21=3페이지 31=4페이지  ...81=9페이지 , 91=10페이지, 101=11페이지\n",
    "\n",
    "    f = open(base_path + f\"/contents_text_{query}.txt\", 'w', encoding='utf-8-sig')\n",
    "    \n",
    "    for page in tqdm_notebook(range(1, maxpage_t+1, 10)):\n",
    "    \n",
    "        url = \"https://search.naver.com/search.naver?where=news&query=\" + query + \"&sort=0&ds=\" + s_date + \"&de=\" + e_date + \"&nso=so%3Ar%2Cp%3Afrom\" + s_from + \"to\" + e_to + \"%2Ca%3A&start=\" + str(page)\n",
    "        \n",
    "        req = requests.get(url,\n",
    "                          headers={'User-Agent':'Mozilla/5.0'})\n",
    "        print(url)\n",
    "        cont = req.content\n",
    "        soup = BeautifulSoup(cont, 'lxml')\n",
    "        \n",
    "        for urls in soup.find_all(\"a\", class_=\"info\"):\n",
    "            try :\n",
    "                if urls.get_text() == \"네이버뉴스\":\n",
    "                    print(urls[\"href\"])\n",
    "                    news_detail = get_news(urls[\"href\"])\n",
    "                        # pdate, pcompany, title, btext\n",
    "                    f.write(\"{}\\t{}\\t{}\\t{}\\t{}\\n\".format(news_detail[1], news_detail[4], news_detail[0], news_detail[2],news_detail[3]))  # new style\n",
    "                    years.append(news_detail[1])\n",
    "                    company.append(news_detail[4])\n",
    "                    title.append(news_detail[0])\n",
    "                    contents.append(news_detail[2])\n",
    "                    link.append(news_detail[3])\n",
    "                    \n",
    "            except Exception as e:\n",
    "                print(e)\n",
    "                continue\n",
    "        \n",
    "    crawled_data[\"years\"] = years\n",
    "    crawled_data[\"company\"] = company\n",
    "    crawled_data[\"title\"] = title\n",
    "    crawled_data[\"contents\"] = contents\n",
    "    crawled_data[\"link\"] = link\n",
    "    f.close()\n",
    "    return crawled_data\n",
    "    \n",
    "def excel_make(crawled_data):\n",
    "    data = pd.DataFrame(crawled_data)\n",
    "    \n",
    "    xlsx_outputFileName = f'{query}_({s_date}~{e_date}).xlsx'\n",
    "    data.to_excel(RESULT_PATH+xlsx_outputFileName, encoding='utf-8-sig')"
   ]
  },
  {
   "cell_type": "code",
   "execution_count": 2,
   "metadata": {
    "ExecuteTime": {
     "end_time": "2021-07-25T13:19:58.990677Z",
     "start_time": "2021-07-25T13:19:39.062393Z"
    }
   },
   "outputs": [
    {
     "name": "stdout",
     "output_type": "stream",
     "text": [
      "최대 출력할 페이지수 입력하시오: 1\n",
      "검색어 입력: 코로나\n",
      "시작날짜 입력(ex) 2020.01.01):2021.07.25\n",
      "끝날짜 입력(ex) 2020.12.31):2021.07.25\n"
     ]
    },
    {
     "name": "stderr",
     "output_type": "stream",
     "text": [
      "/Users/hoesungryu/opt/anaconda3/envs/pytorch/lib/python3.7/site-packages/ipykernel_launcher.py:55: TqdmDeprecationWarning: This function will be removed in tqdm==5.0.0\n",
      "Please use `tqdm.notebook.tqdm` instead of `tqdm.tqdm_notebook`\n"
     ]
    },
    {
     "data": {
      "application/vnd.jupyter.widget-view+json": {
       "model_id": "ccfa965fe40b4020af0ba27df6763823",
       "version_major": 2,
       "version_minor": 0
      },
      "text/plain": [
       "  0%|          | 0/1 [00:00<?, ?it/s]"
      ]
     },
     "metadata": {},
     "output_type": "display_data"
    },
    {
     "name": "stdout",
     "output_type": "stream",
     "text": [
      "https://search.naver.com/search.naver?where=news&query=코로나&sort=0&ds=2021.07.25&de=2021.07.25&nso=so%3Ar%2Cp%3Afrom20210725to20210725%2Ca%3A&start=1\n",
      "https://news.naver.com/main/read.naver?mode=LSD&mid=sec&sid1=101&oid=056&aid=0011089635\n",
      "https://news.naver.com/main/read.naver?mode=LSD&mid=sec&sid1=104&oid=003&aid=0010626538\n",
      "https://news.naver.com/main/read.naver?mode=LSD&mid=sec&sid1=104&oid=015&aid=0004582924\n",
      "https://news.naver.com/main/read.naver?mode=LSD&mid=sec&sid1=102&oid=001&aid=0012548936\n",
      "https://news.naver.com/main/read.naver?mode=LSD&mid=sec&sid1=105&oid=366&aid=0000749340\n",
      "https://news.naver.com/main/read.naver?mode=LSD&mid=sec&sid1=101&oid=001&aid=0012548929\n",
      "https://news.naver.com/main/read.naver?mode=LSD&mid=sec&sid1=104&oid=277&aid=0004943005\n",
      "https://news.naver.com/main/read.naver?mode=LSD&mid=sec&sid1=101&oid=018&aid=0004994137\n",
      "https://news.naver.com/main/read.naver?mode=LSD&mid=sec&sid1=101&oid=079&aid=0003532785\n",
      "https://news.naver.com/main/read.naver?mode=LSD&mid=sec&sid1=104&oid=421&aid=0005500555\n"
     ]
    }
   ],
   "source": [
    "base_path = '../data'\n",
    "RESULT_PATH = base_path + '/'\n",
    "now = datetime.now() #파일이름 현 시간으로 저장하기  \n",
    "maxpage = input(\"최대 출력할 페이지수 입력하시오: \")\n",
    "if not maxpage.isdigit():\n",
    "    maxpage = input(\"최대 출력할 페이지수 입력하시오: \")\n",
    "query = input(\"검색어 입력: \")\n",
    "s_date = input(\"시작날짜 입력(ex) 2020.01.01):\")  \n",
    "e_date = input(\"끝날짜 입력(ex) 2020.12.31):\")\n",
    "crawled_data = crawler(maxpage,query,s_date,e_date) #검색된 네이버뉴스의 기사내용을 크롤링합니다. \n",
    "excel_make(crawled_data) #엑셀로 만들기 "
   ]
  },
  {
   "cell_type": "code",
   "execution_count": 5,
   "metadata": {
    "ExecuteTime": {
     "end_time": "2021-07-25T13:37:10.741085Z",
     "start_time": "2021-07-25T13:37:10.735625Z"
    }
   },
   "outputs": [
    {
     "data": {
      "text/plain": [
       "['NC Dinos.xlsx',\n",
       " 'contents_text_코로나.txt',\n",
       " 'data-society-game-of-thrones',\n",
       " '.DS_Store',\n",
       " 'result.txt',\n",
       " 'number.txt',\n",
       " 'sea_line.csv',\n",
       " '4_udong_2015.xlsx',\n",
       " 'fun.txt',\n",
       " 'python-quiz.txt',\n",
       " 'water_quality.csv',\n",
       " 'test.txt',\n",
       " 'score.txt',\n",
       " '코로나_(2021.07.25~2021.07.25).xlsx']"
      ]
     },
     "execution_count": 5,
     "metadata": {},
     "output_type": "execute_result"
    }
   ],
   "source": [
    "# 확인하기 \n",
    "import os \n",
    "\n",
    "os.listdir(base_path)"
   ]
  },
  {
   "cell_type": "code",
   "execution_count": 12,
   "metadata": {
    "ExecuteTime": {
     "end_time": "2021-07-25T13:39:15.988351Z",
     "start_time": "2021-07-25T13:39:15.981075Z"
    }
   },
   "outputs": [
    {
     "data": {
      "text/plain": [
       "True"
      ]
     },
     "execution_count": 12,
     "metadata": {},
     "output_type": "execute_result"
    }
   ],
   "source": [
    "os.path.basename(base_path + f'/{query}_({s_date}~{e_date}).xlsx') in os.listdir(base_path)"
   ]
  },
  {
   "cell_type": "code",
   "execution_count": 3,
   "metadata": {
    "ExecuteTime": {
     "end_time": "2021-07-25T13:20:28.390677Z",
     "start_time": "2021-07-25T13:20:28.342193Z"
    }
   },
   "outputs": [
    {
     "data": {
      "text/html": [
       "<div>\n",
       "<style scoped>\n",
       "    .dataframe tbody tr th:only-of-type {\n",
       "        vertical-align: middle;\n",
       "    }\n",
       "\n",
       "    .dataframe tbody tr th {\n",
       "        vertical-align: top;\n",
       "    }\n",
       "\n",
       "    .dataframe thead th {\n",
       "        text-align: right;\n",
       "    }\n",
       "</style>\n",
       "<table border=\"1\" class=\"dataframe\">\n",
       "  <thead>\n",
       "    <tr style=\"text-align: right;\">\n",
       "      <th></th>\n",
       "      <th>years</th>\n",
       "      <th>company</th>\n",
       "      <th>title</th>\n",
       "      <th>contents</th>\n",
       "      <th>link</th>\n",
       "    </tr>\n",
       "  </thead>\n",
       "  <tbody>\n",
       "    <tr>\n",
       "      <th>0</th>\n",
       "      <td>2021.07.25.</td>\n",
       "      <td>KBS</td>\n",
       "      <td>기아 소하리공장서 코로나19 무더기 확진…내일 1공장 휴무</td>\n",
       "      <td>기아 오토랜드 광명(옛 기아차 소하리공장)에서 직원 23명이 한꺼번에 코로나19 확...</td>\n",
       "      <td>https://news.naver.com/main/read.naver?mode=LS...</td>\n",
       "    </tr>\n",
       "    <tr>\n",
       "      <th>1</th>\n",
       "      <td>2021.07.25.</td>\n",
       "      <td>뉴시스</td>\n",
       "      <td>백신 안맞은 美샌디에이고 동물원 표범, 코로나19 감염</td>\n",
       "      <td>9살 스노 레오퍼드 한 마리 감기증상으로 시작[샌디에이고( 미 캘리포니아주)=AP/...</td>\n",
       "      <td>https://news.naver.com/main/read.naver?mode=LS...</td>\n",
       "    </tr>\n",
       "    <tr>\n",
       "      <th>2</th>\n",
       "      <td>2021.07.25.</td>\n",
       "      <td>한경닷컴</td>\n",
       "      <td>코로나19에 발목잡힌 '장타왕'…디섐보, 도쿄올림픽 포기</td>\n",
       "      <td>출국 전 코로나19 검사에서 '양성'사진=AP'장타왕' 브라이슨 디섐보(28·미국·...</td>\n",
       "      <td>https://news.naver.com/main/read.naver?mode=LS...</td>\n",
       "    </tr>\n",
       "    <tr>\n",
       "      <th>3</th>\n",
       "      <td>2021.07.25.</td>\n",
       "      <td>연합뉴스</td>\n",
       "      <td>전세계 근로자 셋중 둘 코로나19 끝나도 재택근무 원해</td>\n",
       "      <td>(서울=연합뉴스) 구정모 기자 = 전 세계 근로자 3명 중 2명꼴로 신종 코로나바이...</td>\n",
       "      <td>https://news.naver.com/main/read.naver?mode=LS...</td>\n",
       "    </tr>\n",
       "    <tr>\n",
       "      <th>4</th>\n",
       "      <td>2021.07.25.</td>\n",
       "      <td>조선비즈</td>\n",
       "      <td>전체 인구 33% 코로나 백신 1차 접종…주말 맞아 접종자 2만명대로 떨어져</td>\n",
       "      <td>접종 완료자 총 685만8588명…접종률 13.4%지난 24일, 2만7000여명이 ...</td>\n",
       "      <td>https://news.naver.com/main/read.naver?mode=LS...</td>\n",
       "    </tr>\n",
       "  </tbody>\n",
       "</table>\n",
       "</div>"
      ],
      "text/plain": [
       "         years company                                       title  \\\n",
       "0  2021.07.25.     KBS            기아 소하리공장서 코로나19 무더기 확진…내일 1공장 휴무   \n",
       "1  2021.07.25.     뉴시스              백신 안맞은 美샌디에이고 동물원 표범, 코로나19 감염   \n",
       "2  2021.07.25.    한경닷컴             코로나19에 발목잡힌 '장타왕'…디섐보, 도쿄올림픽 포기   \n",
       "3  2021.07.25.    연합뉴스              전세계 근로자 셋중 둘 코로나19 끝나도 재택근무 원해   \n",
       "4  2021.07.25.    조선비즈  전체 인구 33% 코로나 백신 1차 접종…주말 맞아 접종자 2만명대로 떨어져   \n",
       "\n",
       "                                            contents  \\\n",
       "0  기아 오토랜드 광명(옛 기아차 소하리공장)에서 직원 23명이 한꺼번에 코로나19 확...   \n",
       "1  9살 스노 레오퍼드 한 마리 감기증상으로 시작[샌디에이고( 미 캘리포니아주)=AP/...   \n",
       "2  출국 전 코로나19 검사에서 '양성'사진=AP'장타왕' 브라이슨 디섐보(28·미국·...   \n",
       "3  (서울=연합뉴스) 구정모 기자 = 전 세계 근로자 3명 중 2명꼴로 신종 코로나바이...   \n",
       "4  접종 완료자 총 685만8588명…접종률 13.4%지난 24일, 2만7000여명이 ...   \n",
       "\n",
       "                                                link  \n",
       "0  https://news.naver.com/main/read.naver?mode=LS...  \n",
       "1  https://news.naver.com/main/read.naver?mode=LS...  \n",
       "2  https://news.naver.com/main/read.naver?mode=LS...  \n",
       "3  https://news.naver.com/main/read.naver?mode=LS...  \n",
       "4  https://news.naver.com/main/read.naver?mode=LS...  "
      ]
     },
     "execution_count": 3,
     "metadata": {},
     "output_type": "execute_result"
    }
   ],
   "source": [
    "import pandas as pd\n",
    "\n",
    "data = pd.read_excel(base_path + f'/{query}_({s_date}~{e_date}).xlsx').drop('Unnamed: 0',axis=1)\n",
    "data.head()"
   ]
  },
  {
   "cell_type": "code",
   "execution_count": 4,
   "metadata": {
    "ExecuteTime": {
     "end_time": "2021-07-25T13:20:41.048451Z",
     "start_time": "2021-07-25T13:20:41.041918Z"
    }
   },
   "outputs": [
    {
     "data": {
      "text/plain": [
       "0              기아 소하리공장서 코로나19 무더기 확진…내일 1공장 휴무\n",
       "1                백신 안맞은 美샌디에이고 동물원 표범, 코로나19 감염\n",
       "2               코로나19에 발목잡힌 '장타왕'…디섐보, 도쿄올림픽 포기\n",
       "3                전세계 근로자 셋중 둘 코로나19 끝나도 재택근무 원해\n",
       "4    전체 인구 33% 코로나 백신 1차 접종…주말 맞아 접종자 2만명대로 떨어져\n",
       "5          5대 금융그룹 상반기 이자이익만 '20조'…코로나 1년새 11%↑\n",
       "6                  백신 조롱하던 미국 30대 남성, 코로나19로 사망\n",
       "7                코로나 대출만기 125조…당국 \"연장 없다\"→\"신중론\"\n",
       "8                       코로나19 소상공인 지원…최대 2천만원까지\n",
       "9        [올림픽] 디섐보에 존 람까지…코로나 확진으로 골프 출전 무산(종합)\n",
       "Name: title, dtype: object"
      ]
     },
     "execution_count": 4,
     "metadata": {},
     "output_type": "execute_result"
    }
   ],
   "source": [
    "data['title']"
   ]
  },
  {
   "cell_type": "code",
   "execution_count": null,
   "metadata": {},
   "outputs": [],
   "source": []
  }
 ],
 "metadata": {
  "kernelspec": {
   "display_name": "Python 3",
   "language": "python",
   "name": "python3"
  },
  "language_info": {
   "codemirror_mode": {
    "name": "ipython",
    "version": 3
   },
   "file_extension": ".py",
   "mimetype": "text/x-python",
   "name": "python",
   "nbconvert_exporter": "python",
   "pygments_lexer": "ipython3",
   "version": "3.7.0"
  },
  "toc": {
   "base_numbering": 1,
   "nav_menu": {},
   "number_sections": true,
   "sideBar": true,
   "skip_h1_title": true,
   "title_cell": "Table of Contents",
   "title_sidebar": "Contents",
   "toc_cell": true,
   "toc_position": {},
   "toc_section_display": true,
   "toc_window_display": false
  },
  "varInspector": {
   "cols": {
    "lenName": 16,
    "lenType": 16,
    "lenVar": 40
   },
   "kernels_config": {
    "python": {
     "delete_cmd_postfix": "",
     "delete_cmd_prefix": "del ",
     "library": "var_list.py",
     "varRefreshCmd": "print(var_dic_list())"
    },
    "r": {
     "delete_cmd_postfix": ") ",
     "delete_cmd_prefix": "rm(",
     "library": "var_list.r",
     "varRefreshCmd": "cat(var_dic_list()) "
    }
   },
   "types_to_exclude": [
    "module",
    "function",
    "builtin_function_or_method",
    "instance",
    "_Feature"
   ],
   "window_display": false
  }
 },
 "nbformat": 4,
 "nbformat_minor": 4
}
