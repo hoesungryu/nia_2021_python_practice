{
 "cells": [
  {
   "cell_type": "markdown",
   "metadata": {},
   "source": [
    "# Day02_07_module_library \n",
    "\n",
    "<font size=5><b>모듈, 라이브러리<b></font>\n",
    "<div align='right'>류 회 성<br>(Hoe Sung Ryu)</div>\n",
    "\n",
    " \n",
    "\n",
    "    \n",
    "---"
   ]
  },
  {
   "cell_type": "markdown",
   "metadata": {
    "toc": true
   },
   "source": [
    "<h1>Table of Contents<span class=\"tocSkip\"></span></h1>\n",
    "<div class=\"toc\"><ul class=\"toc-item\"><li><span><a href=\"#자주-실수하는-유형\" data-toc-modified-id=\"자주-실수하는-유형-1\"><span class=\"toc-item-num\">1&nbsp;&nbsp;</span>자주 실수하는 유형</a></span><ul class=\"toc-item\"><li><span><a href=\"#1.-String-Quotes\" data-toc-modified-id=\"1.-String-Quotes-1.1\"><span class=\"toc-item-num\">1.1&nbsp;&nbsp;</span>1. String Quotes</a></span></li><li><span><a href=\"#2.-Assignment\" data-toc-modified-id=\"2.-Assignment-1.2\"><span class=\"toc-item-num\">1.2&nbsp;&nbsp;</span>2. Assignment</a></span></li></ul></li><li><span><a href=\"#import-라이브러리-순서\" data-toc-modified-id=\"import-라이브러리-순서-2\"><span class=\"toc-item-num\">2&nbsp;&nbsp;</span>import 라이브러리 순서</a></span></li><li><span><a href=\"#Function\" data-toc-modified-id=\"Function-3\"><span class=\"toc-item-num\">3&nbsp;&nbsp;</span>Function</a></span><ul class=\"toc-item\"><li><span><a href=\"#1.-declaration\" data-toc-modified-id=\"1.-declaration-3.1\"><span class=\"toc-item-num\">3.1&nbsp;&nbsp;</span>1. declaration</a></span></li><li><span><a href=\"#space\" data-toc-modified-id=\"space-3.2\"><span class=\"toc-item-num\">3.2&nbsp;&nbsp;</span>space</a></span></li></ul></li><li><span><a href=\"#Braces\" data-toc-modified-id=\"Braces-4\"><span class=\"toc-item-num\">4&nbsp;&nbsp;</span>Braces</a></span><ul class=\"toc-item\"><li><span><a href=\"#Indexing,-Slicing\" data-toc-modified-id=\"Indexing,-Slicing-4.1\"><span class=\"toc-item-num\">4.1&nbsp;&nbsp;</span>Indexing, Slicing</a></span></li></ul></li></ul></div>"
   ]
  },
  {
   "cell_type": "markdown",
   "metadata": {},
   "source": [
    "## 자주 실수하는 유형\n",
    "\n",
    "### 1. String Quotes\n",
    "```python\n",
    "student = 'Cardinal Biggles'\n",
    "student = \"Cardinal Biggles\"\n",
    "```\n",
    "둘이 혼용해서 하지 말자"
   ]
  },
  {
   "cell_type": "markdown",
   "metadata": {},
   "source": [
    "### 2. Assignment\n",
    "```python\n",
    "x             = 1\n",
    "y             = 2\n",
    "long_variable = 3\n",
    "```\n",
    "이렇게 붙일 필요없다!"
   ]
  },
  {
   "cell_type": "code",
   "execution_count": null,
   "metadata": {},
   "outputs": [],
   "source": []
  },
  {
   "cell_type": "markdown",
   "metadata": {},
   "source": [
    "## import 라이브러리 순서\n",
    "> Standard lib -> Third-party lib -> Private lib 순서로\n",
    "\n",
    "이런건 사람이 꼭 해줘야 한다. `망치`로 때린다고 알아서 되지 않습니다.  \n",
    "(* 물론 이클립스에서는 자동으로 해줍니다.)\n",
    "\n",
    "\n",
    "```python \n",
    "# -*- coding: utf-8 -*-\n",
    "\"\"\"This is the example module. This\n",
    "module does stuff.\n",
    "\"\"\"\n",
    "# import sys, os, my_module # 이렇게 한줄에 다 쓰지 말자\n",
    "import sys # standard lib\n",
    "import os # standard lib\n",
    "import numpy as np # third-party lib\n",
    "import my_module # private lib\n",
    "```"
   ]
  },
  {
   "cell_type": "markdown",
   "metadata": {},
   "source": [
    "다음을 옳게 배치하시오 \n",
    "\n",
    "```\n",
    "\n",
    "__all__ = ['a', \"b\", 'c']\n",
    "\n",
    "\n",
    "\"\"\"This is the example module. This module does stuff.\"\"\"\n",
    "\n",
    "__version__ = '0.1'\n",
    "\n",
    "import os  # standard lib\n",
    "import numpy as np  # third-party lib\n",
    "import my_module  # private lib\n",
    "# -*- coding: utf-8 -*-\n",
    "my_age = 25\n",
    "name = 'string'\n",
    "cnt = \"5\"\n",
    "s_point = (6, )\n",
    "```"
   ]
  },
  {
   "cell_type": "code",
   "execution_count": null,
   "metadata": {},
   "outputs": [],
   "source": [
    "# -*- coding: utf-8 -*-\n",
    "\"\"\"This is the example module. This module does stuff.\"\"\"\n",
    "import os  # standard lib\n",
    "import numpy as np  # third-party lib\n",
    "import my_module  # private lib\n",
    "\n",
    "__all__ = ['a', \"b\", 'c']\n",
    "__version__ = '0.1'\n",
    "\n",
    "# 광역변수는 대문자로 써준다. \n",
    "MY_AGE = 25\n",
    "NAME = 'string'\n",
    "CNT = \"5\"\n",
    "S_POINT =(6,)"
   ]
  },
  {
   "cell_type": "markdown",
   "metadata": {},
   "source": [
    "## Function \n",
    "### 1. declaration \n",
    "\n",
    "```python\n",
    "def munge(input_: str) -> str:  # ->: 리턴타입을 알려주는 주석처럼\n",
    "    # python에서만 ->를 어노테이션으로 씀\n",
    "    return \"string\"\n",
    "\n",
    "def summation(x, y ) -> int: # 리턴은 인트타입 \n",
    "    return x+y \n",
    "\n",
    "def complex(real, imag=0.0): # default param은 붙여주자\n",
    "    return 0\n",
    "\n",
    "```"
   ]
  },
  {
   "cell_type": "markdown",
   "metadata": {},
   "source": [
    "### space\n",
    "- `:`, `;` 은 왼쪽은 항상 붙인다\n",
    "\n",
    "```python\n",
    "if x == 4 : print(x , y) ; x , y = y , x # 틀린예제 \n",
    "if x == 4: print(x, y); x, y = y, x \n",
    "```"
   ]
  },
  {
   "cell_type": "markdown",
   "metadata": {},
   "source": [
    "## Braces\n",
    "\n",
    "### Indexing, Slicing\n",
    "```python\n",
    "spam( ham[ 1 ], { eggs: 2 } )\n",
    "spam(ham[1], {eggs: 2})\n",
    "\n",
    "dct ['key'] = lst [index]\n",
    "dct['key'] = lst[index]\n",
    "\n",
    "ham[1: 9] ham[1 :9]\n",
    "ham[1:9]\n",
    "\n",
    "ham[1:9 :3]\n",
    "ham[1:9:]\n",
    "ham[1:9:3] ham[:9:3] ham[1::3]\n",
    "```"
   ]
  },
  {
   "cell_type": "markdown",
   "metadata": {},
   "source": [
    "from <.py 이름> import <함수이름>"
   ]
  },
  {
   "cell_type": "code",
   "execution_count": null,
   "metadata": {},
   "outputs": [],
   "source": [
    "# python--version\n",
    "import sys\n",
    "\n",
    "print(\"--sys.version—\")\n",
    "print(sys.version)"
   ]
  },
  {
   "cell_type": "code",
   "execution_count": 2,
   "metadata": {
    "ExecuteTime": {
     "end_time": "2021-07-24T15:55:19.519657Z",
     "start_time": "2021-07-24T15:55:19.514690Z"
    }
   },
   "outputs": [
    {
     "name": "stdout",
     "output_type": "stream",
     "text": [
      "/Users/hoesungryu/Documents/NIA_Python/lectures\n"
     ]
    }
   ],
   "source": [
    "import os \n",
    "# 현재 경로\n",
    "print(os.getcwd())\n",
    "# 현재폴더 파일확인\n",
    "# print(os.listdir('./'))\n",
    "# >> ['example_01.ipynb', 'example_02.ipynb']"
   ]
  },
  {
   "cell_type": "code",
   "execution_count": null,
   "metadata": {},
   "outputs": [],
   "source": [
    "import time\n",
    "time.time()\n",
    "# >> 1626800045.00839"
   ]
  },
  {
   "cell_type": "code",
   "execution_count": null,
   "metadata": {},
   "outputs": [],
   "source": [
    "# time.strftime('포맷', 시간객체)\n",
    "time.strftime('%Y-%m-%d', time.localtime(time.time()))"
   ]
  },
  {
   "cell_type": "code",
   "execution_count": null,
   "metadata": {},
   "outputs": [],
   "source": [
    "import datetime\n",
    "\n",
    "datetime.datetime.today().strftime('%Y-%m-%d')"
   ]
  },
  {
   "cell_type": "code",
   "execution_count": null,
   "metadata": {},
   "outputs": [],
   "source": [
    "from datetime import datetime\n",
    "datetime.today().strftime('%Y-%m-%d')"
   ]
  },
  {
   "cell_type": "code",
   "execution_count": null,
   "metadata": {},
   "outputs": [],
   "source": [
    "!conda install tqdm -y"
   ]
  },
  {
   "cell_type": "code",
   "execution_count": null,
   "metadata": {},
   "outputs": [],
   "source": [
    "from tqdm import tqdm\n",
    "\n",
    "result = []\n",
    "for i in tqdm(range(1,10)):\n",
    "    result.append(i)"
   ]
  },
  {
   "cell_type": "code",
   "execution_count": null,
   "metadata": {},
   "outputs": [],
   "source": [
    "tmp = [i for i in tqdm(range(1,100))]"
   ]
  },
  {
   "cell_type": "code",
   "execution_count": null,
   "metadata": {},
   "outputs": [],
   "source": [
    "import numpy as np \n",
    "\n",
    "print(np.pi)\n",
    "# >> 3.141592653589793"
   ]
  },
  {
   "cell_type": "code",
   "execution_count": null,
   "metadata": {},
   "outputs": [],
   "source": [
    "np.sin(np.array((0., 30., 45., 60., 90.)) * np.pi / 180. )"
   ]
  },
  {
   "cell_type": "code",
   "execution_count": 1,
   "metadata": {
    "ExecuteTime": {
     "end_time": "2021-07-25T15:41:26.059767Z",
     "start_time": "2021-07-25T15:41:26.054514Z"
    }
   },
   "outputs": [],
   "source": [
    "import sys \n",
    "sys.path.insert(0, '../utils') # 폴더 패스 변경 "
   ]
  },
  {
   "cell_type": "code",
   "execution_count": 2,
   "metadata": {
    "ExecuteTime": {
     "end_time": "2021-07-25T15:41:26.513013Z",
     "start_time": "2021-07-25T15:41:26.507765Z"
    }
   },
   "outputs": [],
   "source": [
    "from utils import *"
   ]
  },
  {
   "cell_type": "code",
   "execution_count": null,
   "metadata": {},
   "outputs": [],
   "source": [
    "# def add_num(*x):\n",
    "#    return sum(x)\n"
   ]
  },
  {
   "cell_type": "code",
   "execution_count": 3,
   "metadata": {
    "ExecuteTime": {
     "end_time": "2021-07-25T15:41:28.451129Z",
     "start_time": "2021-07-25T15:41:28.437264Z"
    }
   },
   "outputs": [
    {
     "data": {
      "text/plain": [
       "6"
      ]
     },
     "execution_count": 3,
     "metadata": {},
     "output_type": "execute_result"
    }
   ],
   "source": [
    "add_num(1,2,3)"
   ]
  }
 ],
 "metadata": {
  "kernelspec": {
   "display_name": "Python 3",
   "language": "python",
   "name": "python3"
  },
  "language_info": {
   "codemirror_mode": {
    "name": "ipython",
    "version": 3
   },
   "file_extension": ".py",
   "mimetype": "text/x-python",
   "name": "python",
   "nbconvert_exporter": "python",
   "pygments_lexer": "ipython3",
   "version": "3.7.0"
  },
  "toc": {
   "base_numbering": 1,
   "nav_menu": {},
   "number_sections": true,
   "sideBar": true,
   "skip_h1_title": true,
   "title_cell": "Table of Contents",
   "title_sidebar": "Contents",
   "toc_cell": true,
   "toc_position": {},
   "toc_section_display": true,
   "toc_window_display": false
  },
  "varInspector": {
   "cols": {
    "lenName": 16,
    "lenType": 16,
    "lenVar": 40
   },
   "kernels_config": {
    "python": {
     "delete_cmd_postfix": "",
     "delete_cmd_prefix": "del ",
     "library": "var_list.py",
     "varRefreshCmd": "print(var_dic_list())"
    },
    "r": {
     "delete_cmd_postfix": ") ",
     "delete_cmd_prefix": "rm(",
     "library": "var_list.r",
     "varRefreshCmd": "cat(var_dic_list()) "
    }
   },
   "types_to_exclude": [
    "module",
    "function",
    "builtin_function_or_method",
    "instance",
    "_Feature"
   ],
   "window_display": false
  }
 },
 "nbformat": 4,
 "nbformat_minor": 5
}
