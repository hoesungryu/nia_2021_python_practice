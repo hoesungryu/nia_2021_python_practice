{
 "cells": [
  {
   "cell_type": "markdown",
   "metadata": {},
   "source": [
    "# Day02_06_ OOP\n",
    "<font size=5><b>클래스<b></font>\n",
    "<div align='right'>류 회 성<br>(Hoe Sung Ryu)</div>\n",
    "\n",
    "  \n",
    "<img src='./imgs/02_06_main.png' width=40%>\n",
    "\n",
    "    \n",
    "---"
   ]
  },
  {
   "cell_type": "markdown",
   "metadata": {
    "toc": true
   },
   "source": [
    "<h1>Table of Contents<span class=\"tocSkip\"></span></h1>\n",
    "<div class=\"toc\"><ul class=\"toc-item\"><li><span><a href=\"#클래스\" data-toc-modified-id=\"클래스-1\"><span class=\"toc-item-num\">1&nbsp;&nbsp;</span>클래스</a></span></li><li><span><a href=\"#빈클래스-만들기\" data-toc-modified-id=\"빈클래스-만들기-2\"><span class=\"toc-item-num\">2&nbsp;&nbsp;</span>빈클래스 만들기</a></span></li><li><span><a href=\"#빈클래스안에-인스턴스를-생성하고-속성-추가하기\" data-toc-modified-id=\"빈클래스안에-인스턴스를-생성하고-속성-추가하기-3\"><span class=\"toc-item-num\">3&nbsp;&nbsp;</span>빈클래스안에 인스턴스를 생성하고 속성 추가하기</a></span></li><li><span><a href=\"#init()\" data-toc-modified-id=\"init()-4\"><span class=\"toc-item-num\">4&nbsp;&nbsp;</span><strong>init</strong>()</a></span></li><li><span><a href=\"#인스턴스-추가-생성-제한하기\" data-toc-modified-id=\"인스턴스-추가-생성-제한하기-5\"><span class=\"toc-item-num\">5&nbsp;&nbsp;</span>인스턴스 추가 생성 제한하기</a></span></li><li><span><a href=\"#클래스-바깥에서-속성-못접근하게-하기\" data-toc-modified-id=\"클래스-바깥에서-속성-못접근하게-하기-6\"><span class=\"toc-item-num\">6&nbsp;&nbsp;</span>클래스 바깥에서 속성 못접근하게 하기</a></span></li><li><span><a href=\"#클래스-바깥에서-method-접근-못하게-하기\" data-toc-modified-id=\"클래스-바깥에서-method-접근-못하게-하기-7\"><span class=\"toc-item-num\">7&nbsp;&nbsp;</span>클래스 바깥에서 method 접근 못하게 하기</a></span></li><li><span><a href=\"#docstring\" data-toc-modified-id=\"docstring-8\"><span class=\"toc-item-num\">8&nbsp;&nbsp;</span>docstring</a></span></li><li><span><a href=\"#클래스-상속\" data-toc-modified-id=\"클래스-상속-9\"><span class=\"toc-item-num\">9&nbsp;&nbsp;</span>클래스 상속</a></span></li><li><span><a href=\"#오버로딩,-오버라이딩\" data-toc-modified-id=\"오버로딩,-오버라이딩-10\"><span class=\"toc-item-num\">10&nbsp;&nbsp;</span>오버로딩, 오버라이딩</a></span></li><li><span><a href=\"#데코레이터-decorator\" data-toc-modified-id=\"데코레이터-decorator-11\"><span class=\"toc-item-num\">11&nbsp;&nbsp;</span>데코레이터 decorator</a></span></li><li><span><a href=\"#str,-repr\" data-toc-modified-id=\"str,-repr-12\"><span class=\"toc-item-num\">12&nbsp;&nbsp;</span><strong>str</strong>, <strong>repr</strong></a></span></li></ul></div>"
   ]
  },
  {
   "cell_type": "markdown",
   "metadata": {},
   "source": [
    "## 클래스 \n",
    "\n",
    "1. 구성요소\n",
    "- self란? self는 인스턴스 자기 자신을 뜻함 \n",
    "- 인스턴스(객체 == 인스턴스): 클래스에 의해 만들어진 객체\n",
    "> 객체만 지칭 할떄는 그냥 객체 하지만 클래스와 연관 지어서 말할때는 인스턴스instance\n",
    "- 인스턴스 메소드(`magic_method`): 변수 인자에 self를 받는 것은 인스턴스 메소드 ex) get_information(self,x) \n",
    "\n",
    "2. naming convention\n",
    "python의 대부분 네이밍컨벤션이 단어와 단어사이에 _ 를 넣는 다면 클래스의 네이밍컨벤션은 CamelCase 를 사용합니다."
   ]
  },
  {
   "cell_type": "markdown",
   "metadata": {},
   "source": [
    "## 빈클래스 만들기"
   ]
  },
  {
   "cell_type": "code",
   "execution_count": 1,
   "metadata": {
    "ExecuteTime": {
     "end_time": "2021-07-24T09:13:02.924220Z",
     "start_time": "2021-07-24T09:13:02.920258Z"
    }
   },
   "outputs": [],
   "source": [
    "class Person:\n",
    "    pass \n"
   ]
  },
  {
   "cell_type": "code",
   "execution_count": 2,
   "metadata": {
    "ExecuteTime": {
     "end_time": "2021-07-24T09:13:03.102740Z",
     "start_time": "2021-07-24T09:13:03.098751Z"
    }
   },
   "outputs": [],
   "source": [
    "ryu  = Person()"
   ]
  },
  {
   "cell_type": "code",
   "execution_count": 3,
   "metadata": {
    "ExecuteTime": {
     "end_time": "2021-07-24T09:13:03.239511Z",
     "start_time": "2021-07-24T09:13:03.230557Z"
    }
   },
   "outputs": [
    {
     "data": {
      "text/plain": [
       "True"
      ]
     },
     "execution_count": 3,
     "metadata": {},
     "output_type": "execute_result"
    }
   ],
   "source": [
    "isinstance(ryu,Person) # 특정 클래스의 instance인가? "
   ]
  },
  {
   "cell_type": "markdown",
   "metadata": {},
   "source": [
    "## 빈클래스안에 인스턴스를 생성하고 속성 추가하기 "
   ]
  },
  {
   "cell_type": "code",
   "execution_count": 9,
   "metadata": {
    "ExecuteTime": {
     "end_time": "2021-07-24T09:17:40.075429Z",
     "start_time": "2021-07-24T09:17:40.071567Z"
    }
   },
   "outputs": [],
   "source": [
    "class Person:\n",
    "    pass \n",
    "ryu = Person()"
   ]
  },
  {
   "cell_type": "code",
   "execution_count": 10,
   "metadata": {
    "ExecuteTime": {
     "end_time": "2021-07-24T09:17:40.259967Z",
     "start_time": "2021-07-24T09:17:40.252989Z"
    }
   },
   "outputs": [
    {
     "ename": "AttributeError",
     "evalue": "'Person' object has no attribute 'first'",
     "output_type": "error",
     "traceback": [
      "\u001b[1;31m---------------------------------------------------------------------------\u001b[0m",
      "\u001b[1;31mAttributeError\u001b[0m                            Traceback (most recent call last)",
      "\u001b[1;32m<ipython-input-10-a9bbdd8d6e0b>\u001b[0m in \u001b[0;36m<module>\u001b[1;34m\u001b[0m\n\u001b[1;32m----> 1\u001b[1;33m \u001b[0mprint\u001b[0m\u001b[1;33m(\u001b[0m\u001b[0mryu\u001b[0m\u001b[1;33m.\u001b[0m\u001b[0mfirst\u001b[0m\u001b[1;33m)\u001b[0m\u001b[1;33m\u001b[0m\u001b[1;33m\u001b[0m\u001b[0m\n\u001b[0m",
      "\u001b[1;31mAttributeError\u001b[0m: 'Person' object has no attribute 'first'"
     ]
    }
   ],
   "source": [
    "print(ryu.first)"
   ]
  },
  {
   "cell_type": "code",
   "execution_count": 11,
   "metadata": {
    "ExecuteTime": {
     "end_time": "2021-07-24T09:17:40.415700Z",
     "start_time": "2021-07-24T09:17:40.413674Z"
    }
   },
   "outputs": [
    {
     "name": "stdout",
     "output_type": "stream",
     "text": [
      "Ryu\n"
     ]
    }
   ],
   "source": [
    "ryu.first = 'Ryu'\n",
    "print(ryu.first)"
   ]
  },
  {
   "cell_type": "code",
   "execution_count": 12,
   "metadata": {
    "ExecuteTime": {
     "end_time": "2021-07-24T09:17:40.570325Z",
     "start_time": "2021-07-24T09:17:40.567333Z"
    }
   },
   "outputs": [],
   "source": [
    "# 임시적으로 추가가된거기 때문에  클래스로 다른 인스턴스를 만들었을때는 추가한 속성이 생성되지않음 \n",
    "kim = Person()"
   ]
  },
  {
   "cell_type": "code",
   "execution_count": 13,
   "metadata": {
    "ExecuteTime": {
     "end_time": "2021-07-24T09:17:42.234073Z",
     "start_time": "2021-07-24T09:17:42.228068Z"
    }
   },
   "outputs": [
    {
     "ename": "AttributeError",
     "evalue": "'Person' object has no attribute 'first'",
     "output_type": "error",
     "traceback": [
      "\u001b[1;31m---------------------------------------------------------------------------\u001b[0m",
      "\u001b[1;31mAttributeError\u001b[0m                            Traceback (most recent call last)",
      "\u001b[1;32m<ipython-input-13-2d79e2885ee5>\u001b[0m in \u001b[0;36m<module>\u001b[1;34m\u001b[0m\n\u001b[0;32m      1\u001b[0m \u001b[1;31m# kim.first = 'kim'\u001b[0m\u001b[1;33m\u001b[0m\u001b[1;33m\u001b[0m\u001b[1;33m\u001b[0m\u001b[0m\n\u001b[1;32m----> 2\u001b[1;33m \u001b[0mprint\u001b[0m\u001b[1;33m(\u001b[0m\u001b[0mkim\u001b[0m\u001b[1;33m.\u001b[0m\u001b[0mfirst\u001b[0m\u001b[1;33m)\u001b[0m\u001b[1;33m\u001b[0m\u001b[1;33m\u001b[0m\u001b[0m\n\u001b[0m",
      "\u001b[1;31mAttributeError\u001b[0m: 'Person' object has no attribute 'first'"
     ]
    }
   ],
   "source": [
    "print(kim.first)"
   ]
  },
  {
   "cell_type": "code",
   "execution_count": 14,
   "metadata": {
    "ExecuteTime": {
     "end_time": "2021-07-24T09:17:58.449226Z",
     "start_time": "2021-07-24T09:17:58.445240Z"
    }
   },
   "outputs": [
    {
     "name": "stdout",
     "output_type": "stream",
     "text": [
      "kim\n"
     ]
    }
   ],
   "source": [
    "kim.first = 'kim'\n",
    "print(kim.first)"
   ]
  },
  {
   "cell_type": "markdown",
   "metadata": {},
   "source": [
    "## __init__()\n",
    "\n",
    "- 매번 속성 추가 하기 부담스럽다. \n",
    "- initialize 약자로 앞뒤로 underscore magic method \n",
    "- 속성(attribute) 값을 할당, 클래스 안에서 변수로 사용 될 수 있게 해줌 \n"
   ]
  },
  {
   "cell_type": "code",
   "execution_count": null,
   "metadata": {},
   "outputs": [],
   "source": [
    "class Person:\n",
    "    def __init__(self):  \n",
    "        self.hello='안녕하세요'\n",
    "        \n",
    "    def greeting(self): # 클래스 안 함수 == \n",
    "        print(self.hello)"
   ]
  },
  {
   "cell_type": "code",
   "execution_count": null,
   "metadata": {},
   "outputs": [],
   "source": [
    "ryu  = Person()\n",
    "ryu.greeting()"
   ]
  },
  {
   "cell_type": "code",
   "execution_count": 6,
   "metadata": {
    "ExecuteTime": {
     "end_time": "2021-07-24T09:16:52.903537Z",
     "start_time": "2021-07-24T09:16:52.899551Z"
    }
   },
   "outputs": [],
   "source": [
    "# 클래스로 인스턴스 만들시 값 받기\n",
    "class Person:\n",
    "    def __init__(self, _first, _last):\n",
    "        # self. 가 붙은 것을  인스턴스속성 이라 부른다. \n",
    "        self.first = _first\n",
    "        self.last = _last\n",
    "        self.hello='안녕하세요'\n",
    "        \n",
    "    def greeting(self):\n",
    "        print(self.first,self.last, self.hello)"
   ]
  },
  {
   "cell_type": "code",
   "execution_count": 7,
   "metadata": {
    "ExecuteTime": {
     "end_time": "2021-07-24T09:16:53.096995Z",
     "start_time": "2021-07-24T09:16:53.093032Z"
    }
   },
   "outputs": [
    {
     "name": "stdout",
     "output_type": "stream",
     "text": [
      "hoesung ryu 안녕하세요\n"
     ]
    }
   ],
   "source": [
    "ryu  = Person('hoesung','ryu')\n",
    "ryu.greeting()"
   ]
  },
  {
   "cell_type": "code",
   "execution_count": 8,
   "metadata": {
    "ExecuteTime": {
     "end_time": "2021-07-24T09:16:53.238616Z",
     "start_time": "2021-07-24T09:16:53.234647Z"
    }
   },
   "outputs": [
    {
     "name": "stdout",
     "output_type": "stream",
     "text": [
      "이름 hoesung\n"
     ]
    }
   ],
   "source": [
    "# 클래스 바깥에서 속성에 접근할때\n",
    "# 인스턴스.속성으로 접근\n",
    "print('이름', ryu.first)"
   ]
  },
  {
   "cell_type": "markdown",
   "metadata": {},
   "source": [
    "## 인스턴스 추가 생성 제한하기\n",
    "\n",
    "` __slots__ `"
   ]
  },
  {
   "cell_type": "code",
   "execution_count": 15,
   "metadata": {
    "ExecuteTime": {
     "end_time": "2021-07-24T09:20:08.780205Z",
     "start_time": "2021-07-24T09:20:08.775225Z"
    }
   },
   "outputs": [],
   "source": [
    "# 클래스 바깥에서 접근 못하게 하기 \n",
    "# _ _속성\n",
    "# 클래스로 인스턴스 만들시 값 받기\n",
    "class Person:\n",
    "    \n",
    "    __slots__ = ['first','last'] # 두가지속성만 허용 \n",
    "    \n",
    "    def __init__(self, _first, _last, wallet):\n",
    "        self.first = _first #== public attribute(공개속성)\n",
    "        self.last = _last #== public attribute(공개속성)\n",
    "        self.__wallet = wallet # 비공개 속성 클래스 내부에서만 접근 가능  == priviate attribute(비공개속성)\n",
    "        self.hello='안녕하세요'\n",
    "        \n",
    "    def greeting(self):\n",
    "        print(self.first,self.last, self.hello)"
   ]
  },
  {
   "cell_type": "code",
   "execution_count": 16,
   "metadata": {
    "ExecuteTime": {
     "end_time": "2021-07-24T09:20:08.968921Z",
     "start_time": "2021-07-24T09:20:08.959970Z"
    }
   },
   "outputs": [
    {
     "ename": "AttributeError",
     "evalue": "'Person' object has no attribute '_Person__wallet'",
     "output_type": "error",
     "traceback": [
      "\u001b[1;31m---------------------------------------------------------------------------\u001b[0m",
      "\u001b[1;31mAttributeError\u001b[0m                            Traceback (most recent call last)",
      "\u001b[1;32m<ipython-input-16-52ef16d6e3c7>\u001b[0m in \u001b[0;36m<module>\u001b[1;34m\u001b[0m\n\u001b[0;32m      1\u001b[0m \u001b[1;31m# 두가지속성만 허용  wallet 이 있으므로 에러\u001b[0m\u001b[1;33m\u001b[0m\u001b[1;33m\u001b[0m\u001b[1;33m\u001b[0m\u001b[0m\n\u001b[1;32m----> 2\u001b[1;33m \u001b[0mryu\u001b[0m  \u001b[1;33m=\u001b[0m \u001b[0mPerson\u001b[0m\u001b[1;33m(\u001b[0m\u001b[1;34m'hoesung'\u001b[0m\u001b[1;33m,\u001b[0m\u001b[1;34m'ryu'\u001b[0m\u001b[1;33m,\u001b[0m\u001b[1;34m'1000'\u001b[0m\u001b[1;33m)\u001b[0m\u001b[1;33m\u001b[0m\u001b[1;33m\u001b[0m\u001b[0m\n\u001b[0m\u001b[0;32m      3\u001b[0m \u001b[0mprint\u001b[0m\u001b[1;33m(\u001b[0m\u001b[0mryu\u001b[0m\u001b[1;33m.\u001b[0m\u001b[0mfirst\u001b[0m\u001b[1;33m)\u001b[0m\u001b[1;33m\u001b[0m\u001b[1;33m\u001b[0m\u001b[0m\n",
      "\u001b[1;32m<ipython-input-15-4325b9fad622>\u001b[0m in \u001b[0;36m__init__\u001b[1;34m(self, _first, _last, wallet)\u001b[0m\n\u001b[0;32m      9\u001b[0m         \u001b[0mself\u001b[0m\u001b[1;33m.\u001b[0m\u001b[0mfirst\u001b[0m \u001b[1;33m=\u001b[0m \u001b[0m_first\u001b[0m \u001b[1;31m#== public attribute(공개속성)\u001b[0m\u001b[1;33m\u001b[0m\u001b[1;33m\u001b[0m\u001b[0m\n\u001b[0;32m     10\u001b[0m         \u001b[0mself\u001b[0m\u001b[1;33m.\u001b[0m\u001b[0mlast\u001b[0m \u001b[1;33m=\u001b[0m \u001b[0m_last\u001b[0m \u001b[1;31m#== public attribute(공개속성)\u001b[0m\u001b[1;33m\u001b[0m\u001b[1;33m\u001b[0m\u001b[0m\n\u001b[1;32m---> 11\u001b[1;33m         \u001b[0mself\u001b[0m\u001b[1;33m.\u001b[0m\u001b[0m__wallet\u001b[0m \u001b[1;33m=\u001b[0m \u001b[0mwallet\u001b[0m \u001b[1;31m# 비공개 속성 클래스 내부에서만 접근 가능  == priviate attribute(비공개속성)\u001b[0m\u001b[1;33m\u001b[0m\u001b[1;33m\u001b[0m\u001b[0m\n\u001b[0m\u001b[0;32m     12\u001b[0m         \u001b[0mself\u001b[0m\u001b[1;33m.\u001b[0m\u001b[0mhello\u001b[0m\u001b[1;33m=\u001b[0m\u001b[1;34m'안녕하세요'\u001b[0m\u001b[1;33m\u001b[0m\u001b[1;33m\u001b[0m\u001b[0m\n\u001b[0;32m     13\u001b[0m \u001b[1;33m\u001b[0m\u001b[0m\n",
      "\u001b[1;31mAttributeError\u001b[0m: 'Person' object has no attribute '_Person__wallet'"
     ]
    }
   ],
   "source": [
    "# 두가지속성만 허용  wallet 이 있으므로 에러 \n",
    "ryu  = Person('hoesung','ryu','1000')\n",
    "print(ryu.first)"
   ]
  },
  {
   "cell_type": "code",
   "execution_count": 18,
   "metadata": {
    "ExecuteTime": {
     "end_time": "2021-07-24T09:20:21.526867Z",
     "start_time": "2021-07-24T09:20:21.523829Z"
    }
   },
   "outputs": [],
   "source": [
    "# 클래스 바깥에서 접근 못하게 하기 \n",
    "# _ _속성\n",
    "# 클래스로 인스턴스 만들시 값 받기\n",
    "class Person:\n",
    "    \n",
    "    __slots__ = ['first','last','__wallet','hello'] # 정해진 속성만 허용  # 메모리 효율적 \n",
    "    \n",
    "    def __init__(self, _first, _last, wallet):\n",
    "        self.first = _first #== public attribute(공개속성)\n",
    "        self.last = _last #== public attribute(공개속성)\n",
    "        self.__wallet = wallet # 비공개 속성 클래스 내부에서만 접근 가능  == priviate attribute(비공개속성)\n",
    "        self.hello='안녕하세요'\n",
    "        \n",
    "    def greeting(self):\n",
    "        print(self.first,self.last, self.hello)"
   ]
  },
  {
   "cell_type": "code",
   "execution_count": 19,
   "metadata": {
    "ExecuteTime": {
     "end_time": "2021-07-24T09:20:21.725623Z",
     "start_time": "2021-07-24T09:20:21.721658Z"
    }
   },
   "outputs": [
    {
     "name": "stdout",
     "output_type": "stream",
     "text": [
      "hoesung\n"
     ]
    }
   ],
   "source": [
    "ryu  = Person('hoesung','ryu','1000')\n",
    "print(ryu.first)"
   ]
  },
  {
   "cell_type": "markdown",
   "metadata": {},
   "source": [
    "## 클래스 바깥에서 속성 못접근하게 하기 "
   ]
  },
  {
   "cell_type": "code",
   "execution_count": 20,
   "metadata": {
    "ExecuteTime": {
     "end_time": "2021-07-24T09:20:49.944510Z",
     "start_time": "2021-07-24T09:20:49.940496Z"
    }
   },
   "outputs": [],
   "source": [
    "# 클래스 바깥에서 접근 못하게 하기 \n",
    "# _ _속성\n",
    "# 클래스로 인스턴스 만들시 값 받기\n",
    "class Person:\n",
    "    def __init__(self, _first, _last, wallet):\n",
    "        self.first = _first #== public attribute(공개속성)\n",
    "        self.last = _last #== public attribute(공개속성)\n",
    "        self.__wallet = wallet # 비공개 속성 클래스 내부에서만 접근 가능  == priviate attribute(비공개속성)\n",
    "        self.hello='안녕하세요'\n",
    "        \n",
    "    def greeting(self):\n",
    "        print(self.first,self.last, self.hello)"
   ]
  },
  {
   "cell_type": "code",
   "execution_count": 21,
   "metadata": {
    "ExecuteTime": {
     "end_time": "2021-07-24T09:20:50.111367Z",
     "start_time": "2021-07-24T09:20:50.108346Z"
    }
   },
   "outputs": [],
   "source": [
    "ryu  = Person('hoesung','ryu','1000')"
   ]
  },
  {
   "cell_type": "code",
   "execution_count": 22,
   "metadata": {
    "ExecuteTime": {
     "end_time": "2021-07-24T09:20:50.258059Z",
     "start_time": "2021-07-24T09:20:50.251080Z"
    }
   },
   "outputs": [
    {
     "name": "stdout",
     "output_type": "stream",
     "text": [
      "이름 hoesung\n"
     ]
    },
    {
     "ename": "AttributeError",
     "evalue": "'Person' object has no attribute '__wallet'",
     "output_type": "error",
     "traceback": [
      "\u001b[1;31m---------------------------------------------------------------------------\u001b[0m",
      "\u001b[1;31mAttributeError\u001b[0m                            Traceback (most recent call last)",
      "\u001b[1;32m<ipython-input-22-edc2b9737800>\u001b[0m in \u001b[0;36m<module>\u001b[1;34m\u001b[0m\n\u001b[0;32m      1\u001b[0m \u001b[0mprint\u001b[0m\u001b[1;33m(\u001b[0m\u001b[1;34m'이름'\u001b[0m\u001b[1;33m,\u001b[0m \u001b[0mryu\u001b[0m\u001b[1;33m.\u001b[0m\u001b[0mfirst\u001b[0m\u001b[1;33m)\u001b[0m\u001b[1;33m\u001b[0m\u001b[1;33m\u001b[0m\u001b[0m\n\u001b[1;32m----> 2\u001b[1;33m \u001b[0mprint\u001b[0m\u001b[1;33m(\u001b[0m\u001b[1;34m'지값'\u001b[0m\u001b[1;33m,\u001b[0m \u001b[0mryu\u001b[0m\u001b[1;33m.\u001b[0m\u001b[0m__wallet\u001b[0m\u001b[1;33m)\u001b[0m\u001b[1;33m\u001b[0m\u001b[1;33m\u001b[0m\u001b[0m\n\u001b[0m",
      "\u001b[1;31mAttributeError\u001b[0m: 'Person' object has no attribute '__wallet'"
     ]
    }
   ],
   "source": [
    "print('이름', ryu.first)\n",
    "print('지값', ryu.__wallet)"
   ]
  },
  {
   "cell_type": "markdown",
   "metadata": {},
   "source": [
    "## 클래스 바깥에서 method 접근 못하게 하기\n",
    "\n",
    "\n",
    "magicmethod: method `__`를 붙인다 "
   ]
  },
  {
   "cell_type": "code",
   "execution_count": null,
   "metadata": {},
   "outputs": [],
   "source": [
    "# 클래스 바깥에서 접근 못하게 하기 \n",
    "# _ _속성\n",
    "# 클래스로 인스턴스 만들시 값 받기\n",
    "class Person:\n",
    "    def __init__(self, _first, _last, wallet):\n",
    "        self.first = _first #== public attribute(공개속성)\n",
    "        self.last = _last #== public attribute(공개속성)\n",
    "        self.__wallet = wallet # 비공개 속성 클래스 내부에서만 접근 가능  == priviate attribute(비공개속성)\n",
    "        self.hello='안녕하세요'\n",
    "    \n",
    "    # magic method, 역시 __붙이면 비공개 \n",
    "    def __greeting(self):\n",
    "        print(self.first,self.last, self.hello)"
   ]
  },
  {
   "cell_type": "code",
   "execution_count": null,
   "metadata": {},
   "outputs": [],
   "source": [
    "ryu  = Person('hoesung','ryu','1000')\n",
    "ryu.__greeting()"
   ]
  },
  {
   "cell_type": "markdown",
   "metadata": {},
   "source": [
    "## docstring \n",
    "\n",
    "`\"\"\" \"\"\"` or `''' '''` 안에 설명을 넣는다"
   ]
  },
  {
   "cell_type": "markdown",
   "metadata": {},
   "source": [
    "## 클래스 상속\n",
    "\n",
    "- superclass\n",
    "- subclass"
   ]
  },
  {
   "cell_type": "code",
   "execution_count": 51,
   "metadata": {
    "ExecuteTime": {
     "end_time": "2021-07-24T11:23:40.464258Z",
     "start_time": "2021-07-24T11:23:40.460235Z"
    }
   },
   "outputs": [],
   "source": [
    "class Person:\n",
    "    '''SuperClass'''\n",
    "    \n",
    "    def greeting(self):\n",
    "        print('안녕하세요.')\n",
    "\n",
    "class Student(Person):\n",
    "    '''subclass'''\n",
    "    def study(self):\n",
    "        print('공부하기')"
   ]
  },
  {
   "cell_type": "code",
   "execution_count": 52,
   "metadata": {
    "ExecuteTime": {
     "end_time": "2021-07-24T11:23:40.639754Z",
     "start_time": "2021-07-24T11:23:40.636762Z"
    }
   },
   "outputs": [],
   "source": [
    "Ryu = Student()"
   ]
  },
  {
   "cell_type": "code",
   "execution_count": 54,
   "metadata": {
    "ExecuteTime": {
     "end_time": "2021-07-24T11:23:49.351880Z",
     "start_time": "2021-07-24T11:23:49.347892Z"
    }
   },
   "outputs": [
    {
     "name": "stdout",
     "output_type": "stream",
     "text": [
      "안녕하세요.\n"
     ]
    }
   ],
   "source": [
    "Ryu.greeting() # subclass 함수 사용 "
   ]
  },
  {
   "cell_type": "code",
   "execution_count": 47,
   "metadata": {
    "ExecuteTime": {
     "end_time": "2021-07-24T11:22:03.849986Z",
     "start_time": "2021-07-24T11:22:03.845995Z"
    }
   },
   "outputs": [
    {
     "name": "stdout",
     "output_type": "stream",
     "text": [
      "공부하기\n"
     ]
    }
   ],
   "source": [
    "Ryu.study() # superclass에 있는 함수 사용가능 "
   ]
  },
  {
   "cell_type": "code",
   "execution_count": 48,
   "metadata": {
    "ExecuteTime": {
     "end_time": "2021-07-24T11:22:07.999564Z",
     "start_time": "2021-07-24T11:22:07.995576Z"
    }
   },
   "outputs": [
    {
     "data": {
      "text/plain": [
       "True"
      ]
     },
     "execution_count": 48,
     "metadata": {},
     "output_type": "execute_result"
    }
   ],
   "source": [
    "# 상속관계확인하기 \n",
    "# issubclass(sub, super)\n",
    "issubclass(Student, Person)"
   ]
  },
  {
   "cell_type": "code",
   "execution_count": 49,
   "metadata": {
    "ExecuteTime": {
     "end_time": "2021-07-24T11:22:11.840167Z",
     "start_time": "2021-07-24T11:22:11.836193Z"
    }
   },
   "outputs": [
    {
     "data": {
      "text/plain": [
       "[__main__.Student, __main__.Person, object]"
      ]
     },
     "execution_count": 49,
     "metadata": {},
     "output_type": "execute_result"
    }
   ],
   "source": [
    "# 메소드 우선순위 확인하기 \n",
    "Student.mro()"
   ]
  },
  {
   "cell_type": "code",
   "execution_count": 58,
   "metadata": {
    "ExecuteTime": {
     "end_time": "2021-07-24T11:25:10.469056Z",
     "start_time": "2021-07-24T11:25:10.464069Z"
    },
    "collapsed": true
   },
   "outputs": [
    {
     "data": {
      "text/plain": [
       "['__class__',\n",
       " '__delattr__',\n",
       " '__dict__',\n",
       " '__dir__',\n",
       " '__doc__',\n",
       " '__eq__',\n",
       " '__format__',\n",
       " '__ge__',\n",
       " '__getattribute__',\n",
       " '__gt__',\n",
       " '__hash__',\n",
       " '__init__',\n",
       " '__init_subclass__',\n",
       " '__le__',\n",
       " '__lt__',\n",
       " '__module__',\n",
       " '__ne__',\n",
       " '__new__',\n",
       " '__reduce__',\n",
       " '__reduce_ex__',\n",
       " '__repr__',\n",
       " '__setattr__',\n",
       " '__sizeof__',\n",
       " '__str__',\n",
       " '__subclasshook__',\n",
       " '__weakref__',\n",
       " 'greeting',\n",
       " 'study']"
      ]
     },
     "execution_count": 58,
     "metadata": {},
     "output_type": "execute_result"
    }
   ],
   "source": [
    "vars(Ryu) # attribute\n",
    "dir(Ryu) # method "
   ]
  },
  {
   "cell_type": "code",
   "execution_count": 61,
   "metadata": {
    "ExecuteTime": {
     "end_time": "2021-07-24T11:26:29.823383Z",
     "start_time": "2021-07-24T11:26:29.818379Z"
    }
   },
   "outputs": [],
   "source": [
    "# 메소드(함수)는 접근 가능 하지만 속성(attribute; init 에있는것)은 접근 할수는 없다. \n",
    "class Person:\n",
    "    '''SuperClass'''\n",
    "    def __init__(self, greeting='안녕하세요'):\n",
    "        self.greeting = greeting\n",
    "\n",
    "class Student(Person):\n",
    "    '''subclass'''\n",
    "    def __init__(self, name):\n",
    "        self.name = name\n",
    "    \n",
    "    def study(self):\n",
    "        print('공부하기')"
   ]
  },
  {
   "cell_type": "code",
   "execution_count": 62,
   "metadata": {
    "ExecuteTime": {
     "end_time": "2021-07-24T11:26:30.151277Z",
     "start_time": "2021-07-24T11:26:30.143292Z"
    }
   },
   "outputs": [
    {
     "ename": "AttributeError",
     "evalue": "'Student' object has no attribute 'greeting'",
     "output_type": "error",
     "traceback": [
      "\u001b[1;31m---------------------------------------------------------------------------\u001b[0m",
      "\u001b[1;31mAttributeError\u001b[0m                            Traceback (most recent call last)",
      "\u001b[1;32m<ipython-input-62-16fd8ceef4b3>\u001b[0m in \u001b[0;36m<module>\u001b[1;34m\u001b[0m\n\u001b[0;32m      1\u001b[0m \u001b[0mRyu\u001b[0m \u001b[1;33m=\u001b[0m \u001b[0mStudent\u001b[0m\u001b[1;33m(\u001b[0m\u001b[1;34m'ryu'\u001b[0m\u001b[1;33m)\u001b[0m\u001b[1;33m\u001b[0m\u001b[1;33m\u001b[0m\u001b[0m\n\u001b[1;32m----> 2\u001b[1;33m \u001b[0mRyu\u001b[0m\u001b[1;33m.\u001b[0m\u001b[0mgreeting\u001b[0m\u001b[1;33m\u001b[0m\u001b[1;33m\u001b[0m\u001b[0m\n\u001b[0m",
      "\u001b[1;31mAttributeError\u001b[0m: 'Student' object has no attribute 'greeting'"
     ]
    }
   ],
   "source": [
    "Ryu = Student('ryu')\n",
    "Ryu.greeting"
   ]
  },
  {
   "cell_type": "code",
   "execution_count": 63,
   "metadata": {
    "ExecuteTime": {
     "end_time": "2021-07-24T11:26:51.463717Z",
     "start_time": "2021-07-24T11:26:51.458759Z"
    }
   },
   "outputs": [],
   "source": [
    "# 메소드(함수)는 접근 가능 하지만 속성(attribute; init 에있는것)은 접근 할수는 없다. \n",
    "class Person:\n",
    "    '''SuperClass'''\n",
    "    def __init__(self, greeting='안녕하세요'):\n",
    "        self.greeting = greeting\n",
    "\n",
    "class Student(Person):\n",
    "    '''subclass'''\n",
    "    def __init__(self, name):\n",
    "        self.name = name\n",
    "        super().__init__() # superclass의 init method or init method 없애면 자동으로superclass 따름 \n",
    "        \n",
    "    def study(self):\n",
    "        print('공부하기')"
   ]
  },
  {
   "cell_type": "code",
   "execution_count": 64,
   "metadata": {
    "ExecuteTime": {
     "end_time": "2021-07-24T11:26:51.646316Z",
     "start_time": "2021-07-24T11:26:51.641359Z"
    }
   },
   "outputs": [
    {
     "data": {
      "text/plain": [
       "'안녕하세요'"
      ]
     },
     "execution_count": 64,
     "metadata": {},
     "output_type": "execute_result"
    }
   ],
   "source": [
    "Ryu = Student('ryu')\n",
    "Ryu.greeting"
   ]
  },
  {
   "cell_type": "markdown",
   "metadata": {},
   "source": [
    "##  오버로딩, 오버라이딩\n",
    "\n",
    "- 오버로딩 : \"두변수\" 타입이 다른 \n",
    "- 오버라이딩: 동일한 함수는 무시된다\n",
    "\n",
    "> 오버라이딩(overriding): superclass의 메서드를 무시하고subclass 매서드를따른다. \n",
    "> 사용이유: 원래 기능으 ㄴ유지하면서 새로운 기능을 덧붙일떄 사용한다. \n"
   ]
  },
  {
   "cell_type": "code",
   "execution_count": 70,
   "metadata": {
    "ExecuteTime": {
     "end_time": "2021-07-24T11:29:01.835329Z",
     "start_time": "2021-07-24T11:29:01.831330Z"
    }
   },
   "outputs": [],
   "source": [
    "class Person:\n",
    "    def greeting(self):\n",
    "        print(\"hello in Super\")\n",
    "\n",
    "class Student(Person):\n",
    "    def greeting(self):\n",
    "        print(\"hello in sub\")"
   ]
  },
  {
   "cell_type": "code",
   "execution_count": 71,
   "metadata": {
    "ExecuteTime": {
     "end_time": "2021-07-24T11:29:02.056476Z",
     "start_time": "2021-07-24T11:29:02.053484Z"
    }
   },
   "outputs": [],
   "source": [
    "ryu = Student()"
   ]
  },
  {
   "cell_type": "code",
   "execution_count": 72,
   "metadata": {
    "ExecuteTime": {
     "end_time": "2021-07-24T11:29:02.288942Z",
     "start_time": "2021-07-24T11:29:02.284982Z"
    }
   },
   "outputs": [
    {
     "name": "stdout",
     "output_type": "stream",
     "text": [
      "hello in sub\n"
     ]
    }
   ],
   "source": [
    "ryu.greeting()"
   ]
  },
  {
   "cell_type": "code",
   "execution_count": 73,
   "metadata": {
    "ExecuteTime": {
     "end_time": "2021-07-24T11:29:02.652968Z",
     "start_time": "2021-07-24T11:29:02.647981Z"
    }
   },
   "outputs": [
    {
     "data": {
      "text/plain": [
       "[__main__.Student, __main__.Person, object]"
      ]
     },
     "execution_count": 73,
     "metadata": {},
     "output_type": "execute_result"
    }
   ],
   "source": [
    "# 메소드 우선순위 확인하기 \n",
    "Student.mro()"
   ]
  },
  {
   "cell_type": "code",
   "execution_count": 74,
   "metadata": {
    "ExecuteTime": {
     "end_time": "2021-07-24T11:29:20.986062Z",
     "start_time": "2021-07-24T11:29:20.981071Z"
    }
   },
   "outputs": [],
   "source": [
    "class Person:\n",
    "    def greeting(self):\n",
    "        print(\"hello in Super\")\n",
    "\n",
    "class Student(Person):\n",
    "    def greeting(self):\n",
    "        super().greeting()\n",
    "        print(\"hello in sub\")"
   ]
  },
  {
   "cell_type": "code",
   "execution_count": 75,
   "metadata": {
    "ExecuteTime": {
     "end_time": "2021-07-24T11:29:21.157717Z",
     "start_time": "2021-07-24T11:29:21.154749Z"
    }
   },
   "outputs": [
    {
     "name": "stdout",
     "output_type": "stream",
     "text": [
      "hello in Super\n",
      "hello in sub\n"
     ]
    }
   ],
   "source": [
    "ryu = Student()\n",
    "ryu.greeting()"
   ]
  },
  {
   "cell_type": "markdown",
   "metadata": {},
   "source": [
    "## 데코레이터 decorator\n",
    "\n",
    "정적매소드 @statcimethod \n",
    "추상매소드 @abstractmethod \n",
    "속성매소드 @property\n",
    " "
   ]
  },
  {
   "cell_type": "code",
   "execution_count": null,
   "metadata": {
    "ExecuteTime": {
     "end_time": "2021-07-22T10:49:35.679530Z",
     "start_time": "2021-07-22T10:49:35.671524Z"
    }
   },
   "outputs": [],
   "source": [
    "import sys\n",
    "sys.path"
   ]
  },
  {
   "cell_type": "code",
   "execution_count": 13,
   "metadata": {
    "ExecuteTime": {
     "end_time": "2021-07-22T10:52:35.122120Z",
     "start_time": "2021-07-22T10:52:35.116165Z"
    }
   },
   "outputs": [],
   "source": [
    "class Person:\n",
    "    def __init__(self, first_name, last_name, age):\n",
    "        self.first_name = first_name\n",
    "        self.last_name = last_name\n",
    "        self._age = age\n",
    "        \n",
    "    @property\n",
    "    def age(self):\n",
    "        return self._age\n",
    "\n",
    "    @age.setter\n",
    "    def age(self, age):\n",
    "        if age < 0:\n",
    "            raise ValueError(\"Invalid age\")\n",
    "        self._age = age\n",
    "        \n",
    "    @age.deleter \n",
    "    def age(self):\n",
    "        print('Deleting')\n",
    "        del self._age"
   ]
  },
  {
   "cell_type": "code",
   "execution_count": 14,
   "metadata": {
    "ExecuteTime": {
     "end_time": "2021-07-22T10:52:35.415338Z",
     "start_time": "2021-07-22T10:52:35.412346Z"
    }
   },
   "outputs": [],
   "source": [
    "# Person 클래스의 인스턴스를 생성 후에, 현재 필드 값을 읽거나 새로운 필드 값 쓰는 것은 매우 자유롭습니다."
   ]
  },
  {
   "cell_type": "code",
   "execution_count": 24,
   "metadata": {
    "ExecuteTime": {
     "end_time": "2021-07-22T10:53:29.168766Z",
     "start_time": "2021-07-22T10:53:29.164756Z"
    }
   },
   "outputs": [
    {
     "data": {
      "text/plain": [
       "20"
      ]
     },
     "execution_count": 24,
     "metadata": {},
     "output_type": "execute_result"
    }
   ],
   "source": [
    "person = Person(\"John\", \"Doe\", 20)\n",
    "person.age"
   ]
  },
  {
   "cell_type": "code",
   "execution_count": 25,
   "metadata": {
    "ExecuteTime": {
     "end_time": "2021-07-22T10:53:29.429052Z",
     "start_time": "2021-07-22T10:53:29.425036Z"
    }
   },
   "outputs": [
    {
     "data": {
      "text/plain": [
       "True"
      ]
     },
     "execution_count": 25,
     "metadata": {},
     "output_type": "execute_result"
    }
   ],
   "source": [
    "person.age is person._age"
   ]
  },
  {
   "cell_type": "code",
   "execution_count": 26,
   "metadata": {
    "ExecuteTime": {
     "end_time": "2021-07-22T10:53:30.081305Z",
     "start_time": "2021-07-22T10:53:30.078289Z"
    }
   },
   "outputs": [],
   "source": [
    "# person.age = -1\n",
    "# person.age"
   ]
  },
  {
   "cell_type": "code",
   "execution_count": 27,
   "metadata": {
    "ExecuteTime": {
     "end_time": "2021-07-22T10:53:30.325770Z",
     "start_time": "2021-07-22T10:53:30.321755Z"
    }
   },
   "outputs": [
    {
     "data": {
      "text/plain": [
       "20"
      ]
     },
     "execution_count": 27,
     "metadata": {},
     "output_type": "execute_result"
    }
   ],
   "source": [
    "person.age"
   ]
  },
  {
   "cell_type": "code",
   "execution_count": 28,
   "metadata": {
    "ExecuteTime": {
     "end_time": "2021-07-22T10:53:32.830719Z",
     "start_time": "2021-07-22T10:53:32.826704Z"
    }
   },
   "outputs": [
    {
     "name": "stdout",
     "output_type": "stream",
     "text": [
      "Deleting\n"
     ]
    }
   ],
   "source": [
    "del person.age"
   ]
  },
  {
   "cell_type": "markdown",
   "metadata": {},
   "source": [
    "## __str__, __repr__"
   ]
  },
  {
   "cell_type": "code",
   "execution_count": null,
   "metadata": {},
   "outputs": [],
   "source": [
    "class InitialAbility:\n",
    "    \"\"\"Super Class\"\"\"\n",
    "        \n",
    "    def talk(self):\n",
    "        print('Wal Wal')\n",
    "    def __str__(self):\n",
    "        return f'str : {store_name} 에서 다음과 같은 물건을 팝니다.'\n",
    "    \n",
    "class BorderCollie(InitialAbility):\n",
    "    \"\"\"Sub Class\"\"\"\n",
    "    def __init__(self,_name = 'BorderCollie'):\n",
    "#         인스턴스 변수: self.name 같이 self가 붙은 변수\n",
    "        self.name = _name\n",
    "        self.direction = \"움직임없음\"\n",
    "        self.order = '명령없음'\n",
    "        \n",
    "    def go_to(self, direct):\n",
    "        self.direction = direct\n",
    "    \n",
    "    def run_stop(self, order):\n",
    "        self.order = order\n",
    "        \n",
    "    def __str__(self): # print()\n",
    "        return self.name\n",
    "    \n",
    "    def __repr__(self): # print()\n",
    "        return self.name +'repr'"
   ]
  },
  {
   "cell_type": "code",
   "execution_count": null,
   "metadata": {},
   "outputs": [],
   "source": [
    "dog1 = BorderCollie()"
   ]
  },
  {
   "cell_type": "code",
   "execution_count": null,
   "metadata": {},
   "outputs": [],
   "source": [
    "# class의 값을 보고 싶으면 __dict__을 사용\n",
    "BorderCollie.__dict__"
   ]
  },
  {
   "cell_type": "code",
   "execution_count": null,
   "metadata": {},
   "outputs": [],
   "source": [
    "# python class magic method - str\n",
    "# __str__ 매직 메소드가 구현되어 있지 않은 상태에서 인스턴스를 print하면 object가 나옴\n",
    "# print() 또는 str() 함수가 호출될 때 사용 - 기본적으로 str 메소드가 먼저 실행되며, str 메소드가 없으면 repr 메소드를 실행함\n",
    "\n",
    "\n",
    "print(dog1)"
   ]
  },
  {
   "cell_type": "code",
   "execution_count": null,
   "metadata": {},
   "outputs": [],
   "source": [
    "# ython class magic method - repr\n",
    "# __repr__ : str과 비슷\n",
    "# 개발, 엔지니어 레벨에서 객체의 엄격한 타입을 표현시 사용\n",
    "# 객체 표현을 반환함\n",
    "# repr() 함수가 호출될 때 사용"
   ]
  },
  {
   "cell_type": "code",
   "execution_count": null,
   "metadata": {},
   "outputs": [],
   "source": [
    "dog1.__repr__()"
   ]
  },
  {
   "cell_type": "markdown",
   "metadata": {},
   "source": [
    "<hr style=\"height:3px;border:none;color:#5F71F7;background-color:#5F71F7;\" />\n",
    "\n",
    "<div class=\"alert alert-success\">\n",
    "    <b>예제(Exercise)</b>:\n",
    "    <ul>\n",
    "        <li>\n",
    "        클래스명이 Person인 클래스 만들어 보기 \n",
    "        </li>\n",
    "    </ul>\n",
    "</div>\n"
   ]
  },
  {
   "cell_type": "code",
   "execution_count": 24,
   "metadata": {
    "ExecuteTime": {
     "end_time": "2021-07-24T10:36:39.084520Z",
     "start_time": "2021-07-24T10:36:39.081535Z"
    }
   },
   "outputs": [],
   "source": [
    "# 클래스 속성 \n",
    "class Person:\n",
    "    pass"
   ]
  },
  {
   "cell_type": "markdown",
   "metadata": {},
   "source": [
    "<hr style=\"height:3px;border:none;color:#5F71F7;background-color:#5F71F7;\" />\n",
    "\n",
    "<div class=\"alert alert-success\">\n",
    "    <b>예제(Exercise)</b>:\n",
    "    <ul>\n",
    "        <li>\n",
    "        클래스명이 Person인 클래스는 물건 속성을 받으며 가지고 잇는 물건에 대해 출력하는 함수를 가지고 있다. \n",
    "        </li>\n",
    "    </ul>\n",
    "</div>\n"
   ]
  },
  {
   "cell_type": "code",
   "execution_count": 41,
   "metadata": {
    "ExecuteTime": {
     "end_time": "2021-07-24T10:41:10.914998Z",
     "start_time": "2021-07-24T10:41:10.911008Z"
    }
   },
   "outputs": [],
   "source": [
    "# 클래스 속성 \n",
    "class Person:\n",
    "  \n",
    "    def __init__(self, _stuff):\n",
    "        self.stuff  = _stuff        \n",
    "\n",
    "    def output(self):\n",
    "        print(f'가지고 있는 물건은 {self.stuff} 입니다.')\n",
    "        "
   ]
  },
  {
   "cell_type": "code",
   "execution_count": 42,
   "metadata": {
    "ExecuteTime": {
     "end_time": "2021-07-24T10:41:11.087819Z",
     "start_time": "2021-07-24T10:41:11.085825Z"
    }
   },
   "outputs": [],
   "source": [
    "ryu = Person('갤럭시')"
   ]
  },
  {
   "cell_type": "code",
   "execution_count": 43,
   "metadata": {
    "ExecuteTime": {
     "end_time": "2021-07-24T10:41:11.264754Z",
     "start_time": "2021-07-24T10:41:11.262756Z"
    }
   },
   "outputs": [
    {
     "name": "stdout",
     "output_type": "stream",
     "text": [
      "가지고 있는 물건은 갤럭시 입니다.\n"
     ]
    }
   ],
   "source": [
    "ryu.output()"
   ]
  }
 ],
 "metadata": {
  "kernelspec": {
   "display_name": "Python 3",
   "language": "python",
   "name": "python3"
  },
  "language_info": {
   "codemirror_mode": {
    "name": "ipython",
    "version": 3
   },
   "file_extension": ".py",
   "mimetype": "text/x-python",
   "name": "python",
   "nbconvert_exporter": "python",
   "pygments_lexer": "ipython3",
   "version": "3.7.0"
  },
  "toc": {
   "base_numbering": 1,
   "nav_menu": {},
   "number_sections": true,
   "sideBar": true,
   "skip_h1_title": true,
   "title_cell": "Table of Contents",
   "title_sidebar": "Contents",
   "toc_cell": true,
   "toc_position": {},
   "toc_section_display": true,
   "toc_window_display": false
  },
  "varInspector": {
   "cols": {
    "lenName": 16,
    "lenType": 16,
    "lenVar": 40
   },
   "kernels_config": {
    "python": {
     "delete_cmd_postfix": "",
     "delete_cmd_prefix": "del ",
     "library": "var_list.py",
     "varRefreshCmd": "print(var_dic_list())"
    },
    "r": {
     "delete_cmd_postfix": ") ",
     "delete_cmd_prefix": "rm(",
     "library": "var_list.r",
     "varRefreshCmd": "cat(var_dic_list()) "
    }
   },
   "types_to_exclude": [
    "module",
    "function",
    "builtin_function_or_method",
    "instance",
    "_Feature"
   ],
   "window_display": false
  }
 },
 "nbformat": 4,
 "nbformat_minor": 5
}
