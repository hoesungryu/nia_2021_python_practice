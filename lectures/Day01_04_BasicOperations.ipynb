{
 "cells": [
  {
   "cell_type": "markdown",
   "metadata": {},
   "source": [
    "# Day1_04_BasicOperations\n",
    "\n",
    "<font size=5><b>파이썬 익숙해지기<b></font>\n",
    "<div align='right'>류 회 성<br>(Hoe Sung Ryu)</div>\n",
    "\n",
    "  \n",
    "<img src='../imgs/04_main.png' width=40%>\n",
    "<center>수 많은 연산자들이 존재한다</center>\n",
    "    \n",
    "---"
   ]
  },
  {
   "cell_type": "markdown",
   "metadata": {
    "toc": true
   },
   "source": [
    "<h1>Table of Contents<span class=\"tocSkip\"></span></h1>\n",
    "<div class=\"toc\"><ul class=\"toc-item\"><li><span><a href=\"#수치형\" data-toc-modified-id=\"수치형-1\"><span class=\"toc-item-num\">1&nbsp;&nbsp;</span>수치형</a></span></li><li><span><a href=\"#산술연산\" data-toc-modified-id=\"산술연산-2\"><span class=\"toc-item-num\">2&nbsp;&nbsp;</span>산술연산</a></span><ul class=\"toc-item\"><li><span><a href=\"#1.-사칙-연산자\" data-toc-modified-id=\"1.-사칙-연산자-2.1\"><span class=\"toc-item-num\">2.1&nbsp;&nbsp;</span>1. 사칙 연산자</a></span></li><li><span><a href=\"#연산순서\" data-toc-modified-id=\"연산순서-2.2\"><span class=\"toc-item-num\">2.2&nbsp;&nbsp;</span>연산순서</a></span></li><li><span><a href=\"#축약-연산자\" data-toc-modified-id=\"축약-연산자-2.3\"><span class=\"toc-item-num\">2.3&nbsp;&nbsp;</span>축약 연산자</a></span></li></ul></li><li><span><a href=\"#논리연산자(Logical-Operators)\" data-toc-modified-id=\"논리연산자(Logical-Operators)-3\"><span class=\"toc-item-num\">3&nbsp;&nbsp;</span>논리연산자(Logical Operators)</a></span><ul class=\"toc-item\"><li><span><a href=\"#And(그리고)-table\" data-toc-modified-id=\"And(그리고)-table-3.1\"><span class=\"toc-item-num\">3.1&nbsp;&nbsp;</span>And(그리고) table</a></span></li><li><span><a href=\"#Or(또는)-table\" data-toc-modified-id=\"Or(또는)-table-3.2\"><span class=\"toc-item-num\">3.2&nbsp;&nbsp;</span>Or(또는) table</a></span></li></ul></li><li><span><a href=\"#비교연산자\" data-toc-modified-id=\"비교연산자-4\"><span class=\"toc-item-num\">4&nbsp;&nbsp;</span>비교연산자</a></span><ul class=\"toc-item\"><li><span><a href=\"#숫자-비교\" data-toc-modified-id=\"숫자-비교-4.1\"><span class=\"toc-item-num\">4.1&nbsp;&nbsp;</span>숫자 비교</a></span></li><li><span><a href=\"#문자열-비교\" data-toc-modified-id=\"문자열-비교-4.2\"><span class=\"toc-item-num\">4.2&nbsp;&nbsp;</span>문자열 비교</a></span></li></ul></li><li><span><a href=\"#비트연산자\" data-toc-modified-id=\"비트연산자-5\"><span class=\"toc-item-num\">5&nbsp;&nbsp;</span>비트연산자</a></span><ul class=\"toc-item\"><li><span><a href=\"#AND,-OR,-XOR\" data-toc-modified-id=\"AND,-OR,-XOR-5.1\"><span class=\"toc-item-num\">5.1&nbsp;&nbsp;</span>AND, OR, XOR</a></span></li><li><span><a href=\"#보수연산\" data-toc-modified-id=\"보수연산-5.2\"><span class=\"toc-item-num\">5.2&nbsp;&nbsp;</span>보수연산</a></span></li><li><span><a href=\"#비트-쉬프트\" data-toc-modified-id=\"비트-쉬프트-5.3\"><span class=\"toc-item-num\">5.3&nbsp;&nbsp;</span>비트 쉬프트</a></span></li></ul></li><li><span><a href=\"#여러값-입력받기\" data-toc-modified-id=\"여러값-입력받기-6\"><span class=\"toc-item-num\">6&nbsp;&nbsp;</span>여러값 입력받기</a></span></li><li><span><a href=\"#Quiz\" data-toc-modified-id=\"Quiz-7\"><span class=\"toc-item-num\">7&nbsp;&nbsp;</span>Quiz</a></span></li></ul></div>"
   ]
  },
  {
   "cell_type": "markdown",
   "metadata": {},
   "source": [
    "## 수치형\n",
    "\n",
    "<img src='./imgs/numeric_type.png' width=80%>"
   ]
  },
  {
   "cell_type": "code",
   "execution_count": 1,
   "metadata": {
    "ExecuteTime": {
     "end_time": "2021-07-23T06:46:09.302955Z",
     "start_time": "2021-07-23T06:46:09.297969Z"
    }
   },
   "outputs": [
    {
     "name": "stdout",
     "output_type": "stream",
     "text": [
      "2 <class 'int'>\n"
     ]
    }
   ],
   "source": [
    "x = 2 \n",
    "print(x, type(x))"
   ]
  },
  {
   "cell_type": "code",
   "execution_count": 4,
   "metadata": {
    "ExecuteTime": {
     "end_time": "2021-07-23T06:46:25.273556Z",
     "start_time": "2021-07-23T06:46:25.269542Z"
    }
   },
   "outputs": [
    {
     "name": "stdout",
     "output_type": "stream",
     "text": [
      "1.232 <class 'float'>\n"
     ]
    }
   ],
   "source": [
    "x = 1.232\n",
    "print(x, type(x))"
   ]
  },
  {
   "cell_type": "code",
   "execution_count": 2,
   "metadata": {
    "ExecuteTime": {
     "end_time": "2021-07-23T06:46:13.217046Z",
     "start_time": "2021-07-23T06:46:13.213068Z"
    }
   },
   "outputs": [
    {
     "name": "stdout",
     "output_type": "stream",
     "text": [
      "2.0 <class 'float'>\n"
     ]
    }
   ],
   "source": [
    "x = 2. \n",
    "print(x, type(x))"
   ]
  },
  {
   "cell_type": "code",
   "execution_count": 79,
   "metadata": {
    "ExecuteTime": {
     "end_time": "2021-07-23T08:03:25.629268Z",
     "start_time": "2021-07-23T08:03:25.625277Z"
    }
   },
   "outputs": [
    {
     "name": "stdout",
     "output_type": "stream",
     "text": [
      "2.0\n",
      "3.0\n",
      "(2-3j)\n"
     ]
    }
   ],
   "source": [
    "x = 2+3j\n",
    "print(x.real)#  실수 부 \n",
    "print(x.imag) # 허수 부 \n",
    "print(x.conjugate()) # 켤레 복소수"
   ]
  },
  {
   "cell_type": "markdown",
   "metadata": {},
   "source": [
    "## 산술연산 \n",
    "\n",
    "### 1. 사칙 연산자\n",
    "- 더하기 (+)\n",
    "- 빼기 (-)\n",
    "- 곱하기 (*)\n",
    "- 나누기 (/)\n",
    "- 몫 구하기 (//)\n",
    "- 나머지 구하기 (%)\n",
    "- 지수승 (**)"
   ]
  },
  {
   "cell_type": "code",
   "execution_count": 10,
   "metadata": {
    "ExecuteTime": {
     "end_time": "2021-07-23T06:48:17.919104Z",
     "start_time": "2021-07-23T06:48:17.915133Z"
    }
   },
   "outputs": [
    {
     "data": {
      "text/plain": [
       "4"
      ]
     },
     "execution_count": 10,
     "metadata": {},
     "output_type": "execute_result"
    }
   ],
   "source": [
    "2+2"
   ]
  },
  {
   "cell_type": "code",
   "execution_count": 15,
   "metadata": {
    "ExecuteTime": {
     "end_time": "2021-07-23T06:48:22.000374Z",
     "start_time": "2021-07-23T06:48:21.996381Z"
    }
   },
   "outputs": [
    {
     "data": {
      "text/plain": [
       "12"
      ]
     },
     "execution_count": 15,
     "metadata": {},
     "output_type": "execute_result"
    }
   ],
   "source": [
    "2*6"
   ]
  },
  {
   "cell_type": "code",
   "execution_count": 16,
   "metadata": {
    "ExecuteTime": {
     "end_time": "2021-07-23T06:48:22.189967Z",
     "start_time": "2021-07-23T06:48:22.186996Z"
    }
   },
   "outputs": [
    {
     "name": "stdout",
     "output_type": "stream",
     "text": [
      "5.666666666666667\n"
     ]
    }
   ],
   "source": [
    "# 나눗셈\n",
    "print(17/3)"
   ]
  },
  {
   "cell_type": "code",
   "execution_count": 17,
   "metadata": {
    "ExecuteTime": {
     "end_time": "2021-07-23T06:48:22.344959Z",
     "start_time": "2021-07-23T06:48:22.340969Z"
    }
   },
   "outputs": [
    {
     "name": "stdout",
     "output_type": "stream",
     "text": [
      "5\n"
     ]
    }
   ],
   "source": [
    "# 몫\n",
    "print(17//3)\n"
   ]
  },
  {
   "cell_type": "code",
   "execution_count": 18,
   "metadata": {
    "ExecuteTime": {
     "end_time": "2021-07-23T06:48:22.511022Z",
     "start_time": "2021-07-23T06:48:22.507039Z"
    }
   },
   "outputs": [
    {
     "name": "stdout",
     "output_type": "stream",
     "text": [
      "2\n"
     ]
    }
   ],
   "source": [
    "# 나머지\n",
    "print(17%3)"
   ]
  },
  {
   "cell_type": "markdown",
   "metadata": {},
   "source": [
    "### 연산순서\n",
    "|연산순서|연산자|\n",
    "|---|---|\n",
    "|1|`()`|  \n",
    "|2|`**`|  \n",
    "|3|`+,-`|  \n",
    "|4|`*,/,//,%`|  \n",
    "|5|`<,<=,>,>=,!=,==`|  \n",
    "|6|`not`|  \n",
    "|7|`and`| \n",
    "|8|`or`|"
   ]
  },
  {
   "cell_type": "code",
   "execution_count": 19,
   "metadata": {
    "ExecuteTime": {
     "end_time": "2021-07-23T06:48:22.812373Z",
     "start_time": "2021-07-23T06:48:22.807371Z"
    }
   },
   "outputs": [
    {
     "data": {
      "text/plain": [
       "5.0"
      ]
     },
     "execution_count": 19,
     "metadata": {},
     "output_type": "execute_result"
    }
   ],
   "source": [
    "# 연산의 순서를 바꾸는 법 : 괄호()\n",
    "(50-5*6)/4 "
   ]
  },
  {
   "cell_type": "markdown",
   "metadata": {},
   "source": [
    "### 축약 연산자\n",
    "\n",
    "<img src='./imgs/short_operator.png' width=40%>"
   ]
  },
  {
   "cell_type": "code",
   "execution_count": 26,
   "metadata": {
    "ExecuteTime": {
     "end_time": "2021-07-23T07:00:12.076230Z",
     "start_time": "2021-07-23T07:00:12.072238Z"
    }
   },
   "outputs": [
    {
     "name": "stdout",
     "output_type": "stream",
     "text": [
      "20\n"
     ]
    }
   ],
   "source": [
    "x  = 10 \n",
    "x = x + 10 \n",
    "print(x)"
   ]
  },
  {
   "cell_type": "code",
   "execution_count": 27,
   "metadata": {
    "ExecuteTime": {
     "end_time": "2021-07-23T07:00:12.234075Z",
     "start_time": "2021-07-23T07:00:12.231060Z"
    }
   },
   "outputs": [
    {
     "name": "stdout",
     "output_type": "stream",
     "text": [
      "20\n"
     ]
    }
   ],
   "source": [
    "x = 10 \n",
    "x+=10 \n",
    "print(x)"
   ]
  },
  {
   "cell_type": "markdown",
   "metadata": {},
   "source": [
    "<div class=\"alert alert-success\">\n",
    "    <b>예제(Exercise)</b>:\n",
    "    <ul>\n",
    "        <li>\n",
    "        x = 5.4 일때, 다음을 식을 만들고 계산하시오.\n",
    "        </li>\n",
    "    </ul>\n",
    "</div>\n",
    "\n",
    "$ 2 (x +5) -12 $"
   ]
  },
  {
   "cell_type": "code",
   "execution_count": null,
   "metadata": {},
   "outputs": [],
   "source": []
  },
  {
   "cell_type": "markdown",
   "metadata": {},
   "source": [
    "## 논리연산자(Logical Operators)\n",
    "\n",
    "- `&`: And\n",
    "- `|`: Or\n",
    "- `not`: 부정연산 True --> False , False --> True \n"
   ]
  },
  {
   "cell_type": "code",
   "execution_count": 44,
   "metadata": {
    "ExecuteTime": {
     "end_time": "2021-07-23T07:13:37.226480Z",
     "start_time": "2021-07-23T07:13:37.222490Z"
    }
   },
   "outputs": [
    {
     "name": "stdout",
     "output_type": "stream",
     "text": [
      "False\n"
     ]
    }
   ],
   "source": [
    "a, b = True, False\n",
    "print(f'a:{a}, b:{b}')\n",
    "print(f'a and b: {a and b}')\n",
    "print(f'a and b: {a or b}')\n",
    "print(f'not a: {not a }')"
   ]
  },
  {
   "cell_type": "markdown",
   "metadata": {},
   "source": [
    "###  And(그리고) table\n",
    "\n",
    "참고 참고 또 참고! 항상 참일때만 참\n",
    "\n",
    "|p|q|p $\\&$  q|\n",
    "|--|--|--|\n",
    "|T|T|T|\n",
    "|T|F|F|\n",
    "|F|T|F|\n",
    "|F|F|F|"
   ]
  },
  {
   "cell_type": "code",
   "execution_count": 43,
   "metadata": {
    "ExecuteTime": {
     "end_time": "2021-07-23T07:10:06.737479Z",
     "start_time": "2021-07-23T07:10:06.732463Z"
    }
   },
   "outputs": [
    {
     "name": "stdout",
     "output_type": "stream",
     "text": [
      "True and True:  True\n",
      "True and False: False\n",
      "False and False:False\n"
     ]
    }
   ],
   "source": [
    "print(f'True and True:  {True and True!s:4}') # !s 논리형 그대로 출력 \n",
    "print(f'True and False: {True and False!s:4}' )\n",
    "print(f'False and False:{False and False!s:4}' )"
   ]
  },
  {
   "cell_type": "markdown",
   "metadata": {},
   "source": [
    "### Or(또는) table\n",
    "\n",
    "꽝(거짓) 또 꽝(거짓) = 꽝\n",
    "\n",
    "|p|q|p $|$  q|\n",
    "|--|--|--|\n",
    "|T|T|T|\n",
    "|T|F|T|\n",
    "|F|T|T|\n",
    "|F|F|F|"
   ]
  },
  {
   "cell_type": "code",
   "execution_count": 42,
   "metadata": {
    "ExecuteTime": {
     "end_time": "2021-07-23T07:10:00.104682Z",
     "start_time": "2021-07-23T07:10:00.100690Z"
    }
   },
   "outputs": [
    {
     "name": "stdout",
     "output_type": "stream",
     "text": [
      "True or True:  True\n",
      "True or False: True\n",
      "False or False:False\n"
     ]
    }
   ],
   "source": [
    "print(f'True or True:  {True or True!s:4}') # !s 논리형 그대로 출력 \n",
    "print(f'True or False: {True or False!s:4}' )\n",
    "print(f'False or False:{False or False!s:4}' )\n"
   ]
  },
  {
   "cell_type": "markdown",
   "metadata": {},
   "source": [
    "<div class=\"alert alert-success\">\n",
    "    <b>예제(Exercise)</b>:\n",
    "    <ul>\n",
    "        <li>\n",
    "        숫자형과 논리형이 계산(사칙연산)을 할 수 있을까?\n",
    "        </li>\n",
    "    </ul>\n",
    "</div>\n",
    "\n",
    "```python\n",
    "\n",
    "print(2.2+False)\n",
    "print(3.14+True)\n",
    "\n",
    "```"
   ]
  },
  {
   "cell_type": "code",
   "execution_count": null,
   "metadata": {},
   "outputs": [],
   "source": []
  },
  {
   "cell_type": "code",
   "execution_count": null,
   "metadata": {},
   "outputs": [],
   "source": []
  },
  {
   "cell_type": "markdown",
   "metadata": {},
   "source": [
    "## 비교연산자 \n"
   ]
  },
  {
   "cell_type": "markdown",
   "metadata": {},
   "source": [
    "### 숫자 비교\n"
   ]
  },
  {
   "cell_type": "code",
   "execution_count": 46,
   "metadata": {
    "ExecuteTime": {
     "end_time": "2021-07-23T07:27:33.461146Z",
     "start_time": "2021-07-23T07:27:33.457133Z"
    }
   },
   "outputs": [
    {
     "name": "stdout",
     "output_type": "stream",
     "text": [
      "True\n",
      "False\n"
     ]
    }
   ],
   "source": [
    "a=3\n",
    "b=3\n",
    "print(a==b) # 같으면 True, 다르면 False\n",
    "print(a!=b) # 다르면 True, 같으면 False"
   ]
  },
  {
   "cell_type": "code",
   "execution_count": 45,
   "metadata": {
    "ExecuteTime": {
     "end_time": "2021-07-23T07:27:31.007002Z",
     "start_time": "2021-07-23T07:27:31.002985Z"
    }
   },
   "outputs": [
    {
     "name": "stdout",
     "output_type": "stream",
     "text": [
      "False\n"
     ]
    }
   ],
   "source": [
    "a, b = 30, 20\n",
    "print(a<b) # 같으면 True, 다르면 False"
   ]
  },
  {
   "cell_type": "markdown",
   "metadata": {},
   "source": [
    "### 문자열 비교\n",
    "\n",
    "\n",
    "<img src='./imgs/compare operators.png' width=40%>"
   ]
  },
  {
   "cell_type": "code",
   "execution_count": 48,
   "metadata": {
    "ExecuteTime": {
     "end_time": "2021-07-23T07:29:14.035693Z",
     "start_time": "2021-07-23T07:29:14.016487Z"
    }
   },
   "outputs": [],
   "source": [
    "str1 = 'hello'\n",
    "str2 = 'world'"
   ]
  },
  {
   "cell_type": "code",
   "execution_count": 49,
   "metadata": {
    "ExecuteTime": {
     "end_time": "2021-07-23T07:29:14.213837Z",
     "start_time": "2021-07-23T07:29:14.210871Z"
    }
   },
   "outputs": [
    {
     "name": "stdout",
     "output_type": "stream",
     "text": [
      "False\n"
     ]
    }
   ],
   "source": [
    "print(str1>str2)  # 'h'가 'w'보다 먼저 나오기 때문에 (즉, 사전 순으로 비교)"
   ]
  },
  {
   "cell_type": "code",
   "execution_count": 50,
   "metadata": {
    "ExecuteTime": {
     "end_time": "2021-07-23T07:33:24.968703Z",
     "start_time": "2021-07-23T07:33:24.964734Z"
    },
    "scrolled": true
   },
   "outputs": [
    {
     "name": "stdout",
     "output_type": "stream",
     "text": [
      "H :  104 ( 0x68 )\n",
      "W :  119 ( 0x77 )\n"
     ]
    }
   ],
   "source": [
    "# hex 16 진법 ord (ordinal value) ascii-code 값을 돌려줌\n",
    "print('H : ',ord('h'),'(',hex(ord('h')),')')\n",
    "print('W : ',ord('w'),'(',hex(ord('w')),')')"
   ]
  },
  {
   "cell_type": "markdown",
   "metadata": {},
   "source": [
    "## 비트연산자\n",
    "\n",
    "\n",
    "<img src='./imgs/bit_operator.png' width=40%>"
   ]
  },
  {
   "cell_type": "markdown",
   "metadata": {},
   "source": [
    "### AND, OR, XOR"
   ]
  },
  {
   "cell_type": "code",
   "execution_count": 51,
   "metadata": {
    "ExecuteTime": {
     "end_time": "2021-07-23T07:37:52.629487Z",
     "start_time": "2021-07-23T07:37:52.623474Z"
    }
   },
   "outputs": [
    {
     "name": "stdout",
     "output_type": "stream",
     "text": [
      "a: 0b1100, b:0b1000\n",
      "a & b: 0b1000\n",
      "a | b: 0b1100\n",
      "a ^ b: 0b100\n"
     ]
    }
   ],
   "source": [
    "# 앞에 0은 생략가능 \n",
    "a, b = 12, 8 \n",
    "print(f'a: {bin(a)}, b:{bin(b)}') # 0b 가 붙어 이진수 임을 나타낸다.  \n",
    "# >>a: 0b1100, b:0b1000\n",
    "print(f'a & b: {bin(a & b)}') # 둘 다 1이면, 1\n",
    "# >>a & b: 0b1000\n",
    "print(f'a | b: {bin(a | b)}') # 둘 중 하나라도 1 이면, 1 \n",
    "# >>a | b: 0b1100\n",
    "print(f'a ^ b: {bin(a ^ b)}') # 둘 중 하나만 참(1)일떄 참(1)\n",
    "# >>a ^ b: 0b100"
   ]
  },
  {
   "cell_type": "markdown",
   "metadata": {},
   "source": [
    "### 보수연산\n",
    "\n",
    "- 파이썬에서 `~` 연산 설명이 레퍼런스에서 다음과 같이 되어있다.\n",
    "> Returns the complement of x \n",
    "   - the number you get by switching each 1 for a 0 and each 0 for a 1. \n",
    "   - This is the same as -x - 1.\n",
    "\n",
    "\n",
    "- 즉, $x\\mathrm{의 보수} = -(x+1)$"
   ]
  },
  {
   "cell_type": "code",
   "execution_count": 56,
   "metadata": {
    "ExecuteTime": {
     "end_time": "2021-07-23T07:49:28.475868Z",
     "start_time": "2021-07-23T07:49:28.471850Z"
    }
   },
   "outputs": [
    {
     "name": "stdout",
     "output_type": "stream",
     "text": [
      "12\n",
      "-13\n",
      "-13\n"
     ]
    }
   ],
   "source": [
    "a = 12\n",
    "print((a))\n",
    "print(~a)\n",
    "print(-(a+1))"
   ]
  },
  {
   "cell_type": "code",
   "execution_count": 62,
   "metadata": {
    "ExecuteTime": {
     "end_time": "2021-07-23T07:51:40.405334Z",
     "start_time": "2021-07-23T07:51:40.399351Z"
    }
   },
   "outputs": [
    {
     "name": "stdout",
     "output_type": "stream",
     "text": [
      "Wall time: 0 ns\n"
     ]
    },
    {
     "data": {
      "text/plain": [
       "0"
      ]
     },
     "execution_count": 62,
     "metadata": {},
     "output_type": "execute_result"
    }
   ],
   "source": [
    "12  - 12"
   ]
  },
  {
   "cell_type": "code",
   "execution_count": 63,
   "metadata": {
    "ExecuteTime": {
     "end_time": "2021-07-23T07:51:42.435529Z",
     "start_time": "2021-07-23T07:51:42.430567Z"
    }
   },
   "outputs": [
    {
     "name": "stdout",
     "output_type": "stream",
     "text": [
      "Wall time: 0 ns\n"
     ]
    },
    {
     "data": {
      "text/plain": [
       "0"
      ]
     },
     "execution_count": 63,
     "metadata": {},
     "output_type": "execute_result"
    }
   ],
   "source": [
    "12 + ~12 + 1"
   ]
  },
  {
   "cell_type": "markdown",
   "metadata": {},
   "source": [
    "### 비트 쉬프트"
   ]
  },
  {
   "cell_type": "code",
   "execution_count": 64,
   "metadata": {
    "ExecuteTime": {
     "end_time": "2021-07-23T07:52:15.382590Z",
     "start_time": "2021-07-23T07:52:15.377604Z"
    }
   },
   "outputs": [
    {
     "name": "stdout",
     "output_type": "stream",
     "text": [
      "12\n",
      "0b1100\n",
      "0b11000\n",
      "24\n"
     ]
    }
   ],
   "source": [
    "# 왼쪽으로 한 칸 옮기는데, 빈자리는 0으로 채운다 2배 곱하기! \n",
    "a = 12\n",
    "print(a)\n",
    "print(bin(a))\n",
    "print(bin(a<<1))\n",
    "print(a<<1)"
   ]
  },
  {
   "cell_type": "code",
   "execution_count": 65,
   "metadata": {
    "ExecuteTime": {
     "end_time": "2021-07-23T07:52:18.188724Z",
     "start_time": "2021-07-23T07:52:18.184734Z"
    }
   },
   "outputs": [
    {
     "name": "stdout",
     "output_type": "stream",
     "text": [
      "8\n",
      "0b1000\n",
      "0b100\n",
      "4\n"
     ]
    }
   ],
   "source": [
    " # 오른쪽으로 한 칸 옮김 나눗샘 \n",
    "b = 8 \n",
    "print(b)\n",
    "print(bin(b))\n",
    "print(bin(b>>1))\n",
    "print(b>>1)"
   ]
  },
  {
   "cell_type": "markdown",
   "metadata": {},
   "source": [
    "## 여러값 입력받기\n",
    "- eval(expression) 은 실행 가능한 문자열(1+2, 'hi' + 'a' 같은 것)을 입력으로 받아 문자열을 실행한 결괏값을 돌려주는 함수이다.\n",
    "```python \n",
    "eval('1+2')\n",
    ">> 3\n",
    "eval(\"'hi' + 'a'\")\n",
    ">>'hia'\n",
    "```"
   ]
  },
  {
   "cell_type": "code",
   "execution_count": null,
   "metadata": {},
   "outputs": [],
   "source": [
    "v1, v2 = eval(input('v1, v2 : ')) # eval() : 알아서 콤마(,)로 구분함\n",
    "print(v1+v2)"
   ]
  },
  {
   "cell_type": "markdown",
   "metadata": {},
   "source": [
    "## Quiz"
   ]
  },
  {
   "cell_type": "markdown",
   "metadata": {},
   "source": [
    "<div class=\"alert alert-success\">\n",
    "    <b>실습(Practice)_01</b>:\n",
    "    <ul>\n",
    "        <li>\n",
    "        밑면의 가로세로가 5이고 높이가 20 인 부피를 구하시오\n",
    "        </li>\n",
    "    </ul>\n",
    "</div>\n",
    "\n",
    "부피공식: $부피 = 가로 \\times 세로 \\times 높이 $\n"
   ]
  },
  {
   "cell_type": "code",
   "execution_count": null,
   "metadata": {},
   "outputs": [],
   "source": []
  },
  {
   "cell_type": "markdown",
   "metadata": {},
   "source": [
    "<div class=\"alert alert-success\">\n",
    "    <b>실습(Practice)_01</b>:\n",
    "    <ul>\n",
    "        <li>\n",
    "        삼각형의 세변의 길이를 입력하면 삼각형 넓이를 출력하는 프로그램을 작성하십시오.\n",
    "        </li>\n",
    "    </ul>\n",
    "</div>\n",
    "\n",
    "\n",
    "\n",
    "삼각형의 세변의 길이가 3,4,5인 경우 삼각형 넓이 공식(헤론의 공식 )은 다음과 같다. \n",
    "\n",
    "$S = \\sqrt{L(L-3)(L-4)(L-5)}$ $(L = \\frac{(3 + 4 + 5)}{2})$\n",
    "\n"
   ]
  },
  {
   "cell_type": "code",
   "execution_count": null,
   "metadata": {},
   "outputs": [],
   "source": []
  }
 ],
 "metadata": {
  "kernelspec": {
   "display_name": "Python 3",
   "language": "python",
   "name": "python3"
  },
  "language_info": {
   "codemirror_mode": {
    "name": "ipython",
    "version": 3
   },
   "file_extension": ".py",
   "mimetype": "text/x-python",
   "name": "python",
   "nbconvert_exporter": "python",
   "pygments_lexer": "ipython3",
   "version": "3.7.0"
  },
  "toc": {
   "base_numbering": 1,
   "nav_menu": {},
   "number_sections": true,
   "sideBar": true,
   "skip_h1_title": true,
   "title_cell": "Table of Contents",
   "title_sidebar": "Contents",
   "toc_cell": true,
   "toc_position": {},
   "toc_section_display": true,
   "toc_window_display": false
  },
  "varInspector": {
   "cols": {
    "lenName": 16,
    "lenType": 16,
    "lenVar": 40
   },
   "kernels_config": {
    "python": {
     "delete_cmd_postfix": "",
     "delete_cmd_prefix": "del ",
     "library": "var_list.py",
     "varRefreshCmd": "print(var_dic_list())"
    },
    "r": {
     "delete_cmd_postfix": ") ",
     "delete_cmd_prefix": "rm(",
     "library": "var_list.r",
     "varRefreshCmd": "cat(var_dic_list()) "
    }
   },
   "types_to_exclude": [
    "module",
    "function",
    "builtin_function_or_method",
    "instance",
    "_Feature"
   ],
   "window_display": false
  }
 },
 "nbformat": 4,
 "nbformat_minor": 5
}
