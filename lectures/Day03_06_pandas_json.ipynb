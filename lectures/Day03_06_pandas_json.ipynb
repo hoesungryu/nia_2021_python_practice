{
 "cells": [
  {
   "cell_type": "markdown",
   "metadata": {},
   "source": [
    "# Day04_pandas_json\n",
    "<font size=5><b>Pandas 활용한 전처리<b></font>\n",
    "<div align='right'>류 회 성(Hoe Sung Ryu)</div>\n",
    "\n",
    "    \n",
    "![](https://img1.daumcdn.net/thumb/R800x0/?scode=mtistory2&fname=https%3A%2F%2Ft1.daumcdn.net%2Fcfile%2Ftistory%2F99298F365B1A19AF0A)\n",
    "\n",
    "    \n",
    "    \n",
    "---"
   ]
  },
  {
   "cell_type": "markdown",
   "metadata": {
    "toc": true
   },
   "source": [
    "<h1>Table of Contents<span class=\"tocSkip\"></span></h1>\n",
    "<div class=\"toc\"><ul class=\"toc-item\"><li><span><a href=\"#우주-정거장에-있는-우주인-확인하기\" data-toc-modified-id=\"우주-정거장에-있는-우주인-확인하기-1\"><span class=\"toc-item-num\">1&nbsp;&nbsp;</span>우주 정거장에 있는 우주인 확인하기</a></span></li></ul></div>"
   ]
  },
  {
   "cell_type": "markdown",
   "metadata": {},
   "source": [
    "## 우주 정거장에 있는 우주인 확인하기"
   ]
  },
  {
   "cell_type": "code",
   "execution_count": 1,
   "metadata": {
    "ExecuteTime": {
     "end_time": "2021-07-25T12:25:00.124732Z",
     "start_time": "2021-07-25T12:24:59.078133Z"
    }
   },
   "outputs": [],
   "source": [
    "import requests\n",
    "import pandas as pd\n",
    "\n",
    "# Make a get request to get the latest position of the international space station from the opennotify api.\n",
    "response = requests.get(\"http://api.open-notify.org/astros.json\")"
   ]
  },
  {
   "cell_type": "code",
   "execution_count": 2,
   "metadata": {
    "ExecuteTime": {
     "end_time": "2021-07-25T12:25:10.692545Z",
     "start_time": "2021-07-25T12:25:10.687512Z"
    }
   },
   "outputs": [
    {
     "name": "stdout",
     "output_type": "stream",
     "text": [
      "[{'name': 'Mark Vande Hei', 'craft': 'ISS'}, {'name': 'Oleg Novitskiy', 'craft': 'ISS'}, {'name': 'Pyotr Dubrov', 'craft': 'ISS'}, {'name': 'Thomas Pesquet', 'craft': 'ISS'}, {'name': 'Megan McArthur', 'craft': 'ISS'}, {'name': 'Shane Kimbrough', 'craft': 'ISS'}, {'name': 'Akihiko Hoshide', 'craft': 'ISS'}, {'name': 'Nie Haisheng', 'craft': 'Tiangong'}, {'name': 'Liu Boming', 'craft': 'Tiangong'}, {'name': 'Tang Hongbo', 'craft': 'Tiangong'}]\n"
     ]
    }
   ],
   "source": [
    "# Get the response data as a python object.  Verify that it's a dictionary.\n",
    "info= response.json()\n",
    "\n",
    "#using pandas!!!\n",
    "people=info['people']\n",
    "print(people)"
   ]
  },
  {
   "cell_type": "code",
   "execution_count": 3,
   "metadata": {
    "ExecuteTime": {
     "end_time": "2021-07-25T12:25:13.589446Z",
     "start_time": "2021-07-25T12:25:13.576943Z"
    }
   },
   "outputs": [
    {
     "name": "stdout",
     "output_type": "stream",
     "text": [
      "There are 10 people in the space right now \n",
      "              name     craft\n",
      "0   Mark Vande Hei       ISS\n",
      "1   Oleg Novitskiy       ISS\n",
      "2     Pyotr Dubrov       ISS\n",
      "3   Thomas Pesquet       ISS\n",
      "4   Megan McArthur       ISS\n",
      "5  Shane Kimbrough       ISS\n",
      "6  Akihiko Hoshide       ISS\n",
      "7     Nie Haisheng  Tiangong\n",
      "8       Liu Boming  Tiangong\n",
      "9      Tang Hongbo  Tiangong\n"
     ]
    }
   ],
   "source": [
    "df=pd.DataFrame(people)\n",
    "print(f\"There are {info['number']} people in the space right now \")\n",
    "print(df.reindex(index=None,columns=['name','craft'])) #convert oder of columns and index"
   ]
  }
 ],
 "metadata": {
  "kernelspec": {
   "display_name": "Python 3",
   "language": "python",
   "name": "python3"
  },
  "language_info": {
   "codemirror_mode": {
    "name": "ipython",
    "version": 3
   },
   "file_extension": ".py",
   "mimetype": "text/x-python",
   "name": "python",
   "nbconvert_exporter": "python",
   "pygments_lexer": "ipython3",
   "version": "3.7.0"
  },
  "toc": {
   "base_numbering": 1,
   "nav_menu": {},
   "number_sections": true,
   "sideBar": true,
   "skip_h1_title": true,
   "title_cell": "Table of Contents",
   "title_sidebar": "Contents",
   "toc_cell": true,
   "toc_position": {},
   "toc_section_display": true,
   "toc_window_display": false
  },
  "varInspector": {
   "cols": {
    "lenName": 16,
    "lenType": 16,
    "lenVar": 40
   },
   "kernels_config": {
    "python": {
     "delete_cmd_postfix": "",
     "delete_cmd_prefix": "del ",
     "library": "var_list.py",
     "varRefreshCmd": "print(var_dic_list())"
    },
    "r": {
     "delete_cmd_postfix": ") ",
     "delete_cmd_prefix": "rm(",
     "library": "var_list.r",
     "varRefreshCmd": "cat(var_dic_list()) "
    }
   },
   "types_to_exclude": [
    "module",
    "function",
    "builtin_function_or_method",
    "instance",
    "_Feature"
   ],
   "window_display": false
  }
 },
 "nbformat": 4,
 "nbformat_minor": 4
}
