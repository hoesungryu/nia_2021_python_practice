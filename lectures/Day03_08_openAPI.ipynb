{
 "cells": [
  {
   "cell_type": "markdown",
   "metadata": {},
   "source": [
    "# Day03_openAPI(ans)\n",
    "\n",
    "<font size=5><b>OpenAPI & Folium <b></font>\n",
    "<div align='right'>류 회 성(Hoe Sung Ryu)</div>\n",
    "\n",
    " \n",
    " \n",
    "   \n",
    "\n",
    "<img src ='https://nitrocdn.com/GuYcnotRkcKfJXshTEEKnCZTOtUwxDnm/assets/static/optimized/rev-d990ed3/wp-content/uploads/2020/01/rest.png' width=40%>\n",
    "\n",
    "---"
   ]
  },
  {
   "cell_type": "markdown",
   "metadata": {},
   "source": [
    "## 인증키 조합"
   ]
  },
  {
   "cell_type": "code",
   "execution_count": 60,
   "metadata": {
    "ExecuteTime": {
     "end_time": "2021-07-25T11:45:33.457327Z",
     "start_time": "2021-07-25T11:45:33.454529Z"
    }
   },
   "outputs": [],
   "source": [
    "# 인증키 조합 하기 \n",
    "url = 'http://openapi.seoul.go.kr:8088'\n",
    "api_key = 'sample' # '426a646142736b6138386a48566963'\n",
    "return_format = 'xml' # 'xml' or 'json' \n",
    "service_id = 'SdeSwardbndrygtW' #SdeSwardbndrygtW or 'SdeWarnhydrantgt'\n",
    "start_idx = 1\n",
    "end_idx = 5"
   ]
  },
  {
   "cell_type": "code",
   "execution_count": 62,
   "metadata": {
    "ExecuteTime": {
     "end_time": "2021-07-25T11:45:34.417853Z",
     "start_time": "2021-07-25T11:45:34.411769Z"
    }
   },
   "outputs": [
    {
     "data": {
      "text/plain": [
       "'http://openapi.seoul.go.kr:8088/sample/xml/SdeSwardbndrygtW/1/5'"
      ]
     },
     "execution_count": 62,
     "metadata": {},
     "output_type": "execute_result"
    }
   ],
   "source": [
    "request_url = '/'.join([url,\n",
    "                        api_key,\n",
    "                        return_format,\n",
    "                        service_id,\n",
    "                        str(start_idx),\n",
    "                        str(end_idx)]\n",
    "                       )\n",
    "request_url"
   ]
  },
  {
   "cell_type": "markdown",
   "metadata": {},
   "source": [
    "## 요청보내기 "
   ]
  },
  {
   "cell_type": "code",
   "execution_count": 80,
   "metadata": {
    "ExecuteTime": {
     "end_time": "2021-07-25T11:48:05.501073Z",
     "start_time": "2021-07-25T11:48:05.453838Z"
    }
   },
   "outputs": [
    {
     "data": {
      "text/plain": [
       "<Response [200]>"
      ]
     },
     "execution_count": 80,
     "metadata": {},
     "output_type": "execute_result"
    }
   ],
   "source": [
    "import requests # query 날려주는 패키지\n",
    "\n",
    "response = requests.get(request_url) # 200 일 경우 성공!\n",
    "response # 응답받은 json 파일 "
   ]
  },
  {
   "cell_type": "code",
   "execution_count": 81,
   "metadata": {
    "ExecuteTime": {
     "end_time": "2021-07-25T11:48:05.956520Z",
     "start_time": "2021-07-25T11:48:05.952329Z"
    }
   },
   "outputs": [],
   "source": [
    "assert str(response) == '<Response [200]>', 'query error'"
   ]
  },
  {
   "cell_type": "markdown",
   "metadata": {},
   "source": [
    "## XML file 바꾸기 \n",
    "\n",
    "\n",
    "json 이면 한번에 해결 되지만 xml 하나하나 찾아 줘야됨...\n",
    "```python\n",
    "import json \n",
    "json_data = response.json() # json 데이터 읽어오기 \n",
    "```"
   ]
  },
  {
   "cell_type": "code",
   "execution_count": 65,
   "metadata": {
    "ExecuteTime": {
     "end_time": "2021-07-25T11:45:37.115767Z",
     "start_time": "2021-07-25T11:45:37.112774Z"
    }
   },
   "outputs": [],
   "source": [
    "# !pip install xmltodict"
   ]
  },
  {
   "cell_type": "code",
   "execution_count": 82,
   "metadata": {
    "ExecuteTime": {
     "end_time": "2021-07-25T11:48:31.130248Z",
     "start_time": "2021-07-25T11:48:31.120919Z"
    }
   },
   "outputs": [
    {
     "data": {
      "text/plain": [
       "OrderedDict([('SdeSwardbndrygtW',\n",
       "              OrderedDict([('list_total_count', '117'),\n",
       "                           ('RESULT',\n",
       "                            OrderedDict([('CODE', 'INFO-000'),\n",
       "                                         ('MESSAGE', '정상 처리되었습니다')])),\n",
       "                           ('row',\n",
       "                            [OrderedDict([('OBJECTID', '21'),\n",
       "                                          ('WARD_ID', '1121101'),\n",
       "                                          ('WARD_NM', '양천119안전센터'),\n",
       "                                          ('LAT', '37.527161'),\n",
       "                                          ('LNG', '126.8694519')]),\n",
       "                             OrderedDict([('OBJECTID', '22'),\n",
       "                                          ('WARD_ID', '1122101'),\n",
       "                                          ('WARD_NM', '신내119안전센터'),\n",
       "                                          ('LAT', '37.6102463'),\n",
       "                                          ('LNG', '127.0964731')]),\n",
       "                             OrderedDict([('OBJECTID', '42'),\n",
       "                                          ('WARD_ID', '1115104'),\n",
       "                                          ('WARD_NM', '서초119안전센터'),\n",
       "                                          ('LAT', '37.4877727'),\n",
       "                                          ('LNG', '127.0171447')]),\n",
       "                             OrderedDict([('OBJECTID', '3'),\n",
       "                                          ('WARD_ID', '1106102'),\n",
       "                                          ('WARD_NM', '이촌119안전센터'),\n",
       "                                          ('LAT', '37.5278414'),\n",
       "                                          ('LNG', '126.9583175')]),\n",
       "                             OrderedDict([('OBJECTID', '4'),\n",
       "                                          ('WARD_ID', '1106104'),\n",
       "                                          ('WARD_NM', '후암119안전센터'),\n",
       "                                          ('LAT', '37.5448956'),\n",
       "                                          ('LNG', '126.9812418')])])]))])"
      ]
     },
     "execution_count": 82,
     "metadata": {},
     "output_type": "execute_result"
    }
   ],
   "source": [
    "import xmltodict\n",
    "\n",
    "dict_data = xmltodict.parse(response.content)\n",
    "dict_data"
   ]
  },
  {
   "cell_type": "code",
   "execution_count": 83,
   "metadata": {
    "ExecuteTime": {
     "end_time": "2021-07-25T11:48:33.805588Z",
     "start_time": "2021-07-25T11:48:33.800389Z"
    }
   },
   "outputs": [
    {
     "data": {
      "text/plain": [
       "odict_keys(['SdeSwardbndrygtW'])"
      ]
     },
     "execution_count": 83,
     "metadata": {},
     "output_type": "execute_result"
    }
   ],
   "source": [
    "dict_data.keys()"
   ]
  },
  {
   "cell_type": "code",
   "execution_count": 84,
   "metadata": {
    "ExecuteTime": {
     "end_time": "2021-07-25T11:48:35.960237Z",
     "start_time": "2021-07-25T11:48:35.954623Z"
    }
   },
   "outputs": [
    {
     "data": {
      "text/plain": [
       "odict_keys(['list_total_count', 'RESULT', 'row'])"
      ]
     },
     "execution_count": 84,
     "metadata": {},
     "output_type": "execute_result"
    }
   ],
   "source": [
    "dict_data['SdeSwardbndrygtW'].keys()"
   ]
  },
  {
   "cell_type": "code",
   "execution_count": 85,
   "metadata": {
    "ExecuteTime": {
     "end_time": "2021-07-25T11:48:36.167772Z",
     "start_time": "2021-07-25T11:48:36.162925Z"
    }
   },
   "outputs": [
    {
     "data": {
      "text/plain": [
       "[OrderedDict([('OBJECTID', '21'),\n",
       "              ('WARD_ID', '1121101'),\n",
       "              ('WARD_NM', '양천119안전센터'),\n",
       "              ('LAT', '37.527161'),\n",
       "              ('LNG', '126.8694519')]),\n",
       " OrderedDict([('OBJECTID', '22'),\n",
       "              ('WARD_ID', '1122101'),\n",
       "              ('WARD_NM', '신내119안전센터'),\n",
       "              ('LAT', '37.6102463'),\n",
       "              ('LNG', '127.0964731')]),\n",
       " OrderedDict([('OBJECTID', '42'),\n",
       "              ('WARD_ID', '1115104'),\n",
       "              ('WARD_NM', '서초119안전센터'),\n",
       "              ('LAT', '37.4877727'),\n",
       "              ('LNG', '127.0171447')]),\n",
       " OrderedDict([('OBJECTID', '3'),\n",
       "              ('WARD_ID', '1106102'),\n",
       "              ('WARD_NM', '이촌119안전센터'),\n",
       "              ('LAT', '37.5278414'),\n",
       "              ('LNG', '126.9583175')]),\n",
       " OrderedDict([('OBJECTID', '4'),\n",
       "              ('WARD_ID', '1106104'),\n",
       "              ('WARD_NM', '후암119안전센터'),\n",
       "              ('LAT', '37.5448956'),\n",
       "              ('LNG', '126.9812418')])]"
      ]
     },
     "execution_count": 85,
     "metadata": {},
     "output_type": "execute_result"
    }
   ],
   "source": [
    "dict_data['SdeSwardbndrygtW']['row']"
   ]
  },
  {
   "cell_type": "code",
   "execution_count": 86,
   "metadata": {
    "ExecuteTime": {
     "end_time": "2021-07-25T11:48:38.483573Z",
     "start_time": "2021-07-25T11:48:38.477773Z"
    }
   },
   "outputs": [
    {
     "data": {
      "text/plain": [
       "OrderedDict([('OBJECTID', '21'),\n",
       "             ('WARD_ID', '1121101'),\n",
       "             ('WARD_NM', '양천119안전센터'),\n",
       "             ('LAT', '37.527161'),\n",
       "             ('LNG', '126.8694519')])"
      ]
     },
     "execution_count": 86,
     "metadata": {},
     "output_type": "execute_result"
    }
   ],
   "source": [
    "dict_data['SdeSwardbndrygtW']['row'][0]"
   ]
  },
  {
   "cell_type": "code",
   "execution_count": 87,
   "metadata": {
    "ExecuteTime": {
     "end_time": "2021-07-25T11:48:41.006932Z",
     "start_time": "2021-07-25T11:48:41.001397Z"
    }
   },
   "outputs": [
    {
     "data": {
      "text/plain": [
       "odict_keys(['OBJECTID', 'WARD_ID', 'WARD_NM', 'LAT', 'LNG'])"
      ]
     },
     "execution_count": 87,
     "metadata": {},
     "output_type": "execute_result"
    }
   ],
   "source": [
    "dict_data['SdeSwardbndrygtW']['row'][0].keys()"
   ]
  },
  {
   "cell_type": "code",
   "execution_count": 88,
   "metadata": {
    "ExecuteTime": {
     "end_time": "2021-07-25T11:48:41.507452Z",
     "start_time": "2021-07-25T11:48:41.501600Z"
    }
   },
   "outputs": [
    {
     "data": {
      "text/plain": [
       "OrderedDict([('OBJECTID', '21'),\n",
       "             ('WARD_ID', '1121101'),\n",
       "             ('WARD_NM', '양천119안전센터'),\n",
       "             ('LAT', '37.527161'),\n",
       "             ('LNG', '126.8694519')])"
      ]
     },
     "execution_count": 88,
     "metadata": {},
     "output_type": "execute_result"
    }
   ],
   "source": [
    "dict_data['SdeSwardbndrygtW']['row'][0]"
   ]
  },
  {
   "cell_type": "code",
   "execution_count": 93,
   "metadata": {
    "ExecuteTime": {
     "end_time": "2021-07-25T11:49:33.516832Z",
     "start_time": "2021-07-25T11:49:33.510857Z"
    }
   },
   "outputs": [
    {
     "name": "stdout",
     "output_type": "stream",
     "text": [
      "이름: 양천119안전센터\n",
      "LAT: 37.527161\n",
      "LNG: 126.8694519\n"
     ]
    }
   ],
   "source": [
    "print('이름:', dict_data['SdeSwardbndrygtW']['row'][0]['WARD_NM'])\n",
    "print('LAT:', dict_data['SdeSwardbndrygtW']['row'][0]['LAT'])\n",
    "print('LNG:', dict_data['SdeSwardbndrygtW']['row'][0]['LNG'])"
   ]
  },
  {
   "cell_type": "markdown",
   "metadata": {},
   "source": [
    "### 함수만들기"
   ]
  },
  {
   "cell_type": "code",
   "execution_count": 94,
   "metadata": {
    "ExecuteTime": {
     "end_time": "2021-07-25T11:51:36.711848Z",
     "start_time": "2021-07-25T11:51:36.704726Z"
    }
   },
   "outputs": [
    {
     "name": "stdout",
     "output_type": "stream",
     "text": [
      "이름: 양천119안전센터\n",
      "LAT: 37.527161\n",
      "LNG: 126.8694519\n",
      "--------------------------------------------------\n",
      "이름: 신내119안전센터\n",
      "LAT: 37.6102463\n",
      "LNG: 127.0964731\n",
      "--------------------------------------------------\n",
      "이름: 서초119안전센터\n",
      "LAT: 37.4877727\n",
      "LNG: 127.0171447\n",
      "--------------------------------------------------\n",
      "이름: 이촌119안전센터\n",
      "LAT: 37.5278414\n",
      "LNG: 126.9583175\n",
      "--------------------------------------------------\n",
      "이름: 후암119안전센터\n",
      "LAT: 37.5448956\n",
      "LNG: 126.9812418\n",
      "--------------------------------------------------\n"
     ]
    }
   ],
   "source": [
    "for idx in range(5):\n",
    "    print('이름:', dict_data['SdeSwardbndrygtW']['row'][idx]['WARD_NM'])\n",
    "    print('LAT:', dict_data['SdeSwardbndrygtW']['row'][idx]['LAT'])\n",
    "    print('LNG:', dict_data['SdeSwardbndrygtW']['row'][idx]['LNG'])\n",
    "    print('-'*50)"
   ]
  },
  {
   "cell_type": "code",
   "execution_count": 111,
   "metadata": {
    "ExecuteTime": {
     "end_time": "2021-07-25T11:56:31.785813Z",
     "start_time": "2021-07-25T11:56:31.779011Z"
    }
   },
   "outputs": [],
   "source": [
    "import pandas as pd \n",
    "\n",
    "def xml2df(dict_data):\n",
    "    \"\"\"\n",
    "    input: dict_data \n",
    "    output df: 이름:name, 위도:Latitude, 경도:Longitude)\n",
    "    \"\"\"\n",
    "    name_list = []\n",
    "    LAT_list = []\n",
    "    LA_list = []\n",
    "    length = len(dict_data['SdeSwardbndrygtW']['row'])\n",
    "    \n",
    "    for idx in range(length):\n",
    "        name_list.append(dict_data['SdeSwardbndrygtW']['row'][idx]['WARD_NM'])\n",
    "        LAT_list.append(dict_data['SdeSwardbndrygtW']['row'][idx]['LAT'])\n",
    "        LA_list.append(dict_data['SdeSwardbndrygtW']['row'][idx]['LNG'])\n",
    "    \n",
    "    df = pd.DataFrame(pd.DataFrame(data= [name_list,LAT_list,LA_list])).T\n",
    "    df.columns =['이름','LAT','LNG']\n",
    "    \n",
    "    return df"
   ]
  },
  {
   "cell_type": "code",
   "execution_count": 112,
   "metadata": {
    "ExecuteTime": {
     "end_time": "2021-07-25T11:56:34.587389Z",
     "start_time": "2021-07-25T11:56:34.581514Z"
    }
   },
   "outputs": [],
   "source": [
    "df = xml2df(dict_data)"
   ]
  },
  {
   "cell_type": "code",
   "execution_count": 114,
   "metadata": {
    "ExecuteTime": {
     "end_time": "2021-07-25T11:56:38.926120Z",
     "start_time": "2021-07-25T11:56:38.914787Z"
    }
   },
   "outputs": [
    {
     "data": {
      "text/html": [
       "<div>\n",
       "<style scoped>\n",
       "    .dataframe tbody tr th:only-of-type {\n",
       "        vertical-align: middle;\n",
       "    }\n",
       "\n",
       "    .dataframe tbody tr th {\n",
       "        vertical-align: top;\n",
       "    }\n",
       "\n",
       "    .dataframe thead th {\n",
       "        text-align: right;\n",
       "    }\n",
       "</style>\n",
       "<table border=\"1\" class=\"dataframe\">\n",
       "  <thead>\n",
       "    <tr style=\"text-align: right;\">\n",
       "      <th></th>\n",
       "      <th>이름</th>\n",
       "      <th>LAT</th>\n",
       "      <th>LNG</th>\n",
       "    </tr>\n",
       "  </thead>\n",
       "  <tbody>\n",
       "    <tr>\n",
       "      <th>0</th>\n",
       "      <td>양천119안전센터</td>\n",
       "      <td>37.527161</td>\n",
       "      <td>126.8694519</td>\n",
       "    </tr>\n",
       "    <tr>\n",
       "      <th>1</th>\n",
       "      <td>신내119안전센터</td>\n",
       "      <td>37.6102463</td>\n",
       "      <td>127.0964731</td>\n",
       "    </tr>\n",
       "    <tr>\n",
       "      <th>2</th>\n",
       "      <td>서초119안전센터</td>\n",
       "      <td>37.4877727</td>\n",
       "      <td>127.0171447</td>\n",
       "    </tr>\n",
       "    <tr>\n",
       "      <th>3</th>\n",
       "      <td>이촌119안전센터</td>\n",
       "      <td>37.5278414</td>\n",
       "      <td>126.9583175</td>\n",
       "    </tr>\n",
       "    <tr>\n",
       "      <th>4</th>\n",
       "      <td>후암119안전센터</td>\n",
       "      <td>37.5448956</td>\n",
       "      <td>126.9812418</td>\n",
       "    </tr>\n",
       "  </tbody>\n",
       "</table>\n",
       "</div>"
      ],
      "text/plain": [
       "          이름         LAT          LNG\n",
       "0  양천119안전센터   37.527161  126.8694519\n",
       "1  신내119안전센터  37.6102463  127.0964731\n",
       "2  서초119안전센터  37.4877727  127.0171447\n",
       "3  이촌119안전센터  37.5278414  126.9583175\n",
       "4  후암119안전센터  37.5448956  126.9812418"
      ]
     },
     "execution_count": 114,
     "metadata": {},
     "output_type": "execute_result"
    }
   ],
   "source": [
    "df.head()"
   ]
  },
  {
   "cell_type": "markdown",
   "metadata": {
    "ExecuteTime": {
     "end_time": "2021-07-24T17:11:21.724059Z",
     "start_time": "2021-07-24T17:11:21.719019Z"
    }
   },
   "source": [
    "## Folium를 이용하여 시각화\n",
    "\n",
    "1. Folium\n",
    ">지리적 데이터 시각화에 특화된 라이브러리 (leaflet.js 기반)\n",
    "웹브라우저에서 확인 가능\n",
    "지도 데이터 사용을 위해 선행되어야 하는 작업이 원래 매우 많은데, 이러한 선행작업을 간단화함.\n",
    "\n",
    "2. 참조 \n",
    "- https://github.com/python-visualization/folium\n",
    "- http://python-visualization.github.io/folium/docs-v0.5.0/\n",
    "- http://pinkwink.kr/971"
   ]
  },
  {
   "cell_type": "markdown",
   "metadata": {},
   "source": [
    "### 설치 "
   ]
  },
  {
   "cell_type": "code",
   "execution_count": 48,
   "metadata": {
    "ExecuteTime": {
     "end_time": "2021-07-24T17:11:29.234714Z",
     "start_time": "2021-07-24T17:11:26.242221Z"
    },
    "collapsed": true
   },
   "outputs": [
    {
     "name": "stdout",
     "output_type": "stream",
     "text": [
      "Collecting folium\n",
      "  Downloading folium-0.12.1-py2.py3-none-any.whl (94 kB)\n",
      "\u001b[K     |████████████████████████████████| 94 kB 1.5 MB/s eta 0:00:01\n",
      "\u001b[?25hRequirement already satisfied: jinja2>=2.9 in /Users/hoesungryu/opt/anaconda3/envs/pytorch/lib/python3.7/site-packages (from folium) (2.11.2)\n",
      "Requirement already satisfied: requests in /Users/hoesungryu/opt/anaconda3/envs/pytorch/lib/python3.7/site-packages (from folium) (2.24.0)\n",
      "Requirement already satisfied: numpy in /Users/hoesungryu/opt/anaconda3/envs/pytorch/lib/python3.7/site-packages (from folium) (1.19.1)\n",
      "Collecting branca>=0.3.0\n",
      "  Downloading branca-0.4.2-py3-none-any.whl (24 kB)\n",
      "Requirement already satisfied: MarkupSafe>=0.23 in /Users/hoesungryu/opt/anaconda3/envs/pytorch/lib/python3.7/site-packages (from jinja2>=2.9->folium) (1.1.1)\n",
      "Requirement already satisfied: urllib3!=1.25.0,!=1.25.1,<1.26,>=1.21.1 in /Users/hoesungryu/opt/anaconda3/envs/pytorch/lib/python3.7/site-packages (from requests->folium) (1.25.10)\n",
      "Requirement already satisfied: certifi>=2017.4.17 in /Users/hoesungryu/opt/anaconda3/envs/pytorch/lib/python3.7/site-packages (from requests->folium) (2021.5.30)\n",
      "Requirement already satisfied: idna<3,>=2.5 in /Users/hoesungryu/opt/anaconda3/envs/pytorch/lib/python3.7/site-packages (from requests->folium) (2.10)\n",
      "Requirement already satisfied: chardet<4,>=3.0.2 in /Users/hoesungryu/opt/anaconda3/envs/pytorch/lib/python3.7/site-packages (from requests->folium) (3.0.4)\n",
      "Installing collected packages: branca, folium\n",
      "Successfully installed branca-0.4.2 folium-0.12.1\n"
     ]
    }
   ],
   "source": [
    "!pip install folium"
   ]
  },
  {
   "cell_type": "markdown",
   "metadata": {},
   "source": [
    "### 지도에 표시"
   ]
  },
  {
   "cell_type": "code",
   "execution_count": 116,
   "metadata": {
    "ExecuteTime": {
     "end_time": "2021-07-25T12:02:00.743058Z",
     "start_time": "2021-07-25T12:02:00.173894Z"
    }
   },
   "outputs": [],
   "source": [
    "import folium # 지도를 그려주는 패키지 # 무료  #네이버맵, 카카오맵"
   ]
  },
  {
   "cell_type": "code",
   "execution_count": 150,
   "metadata": {
    "ExecuteTime": {
     "end_time": "2021-07-25T12:11:26.530130Z",
     "start_time": "2021-07-25T12:11:26.522337Z"
    }
   },
   "outputs": [],
   "source": [
    "# location = 위도 경도 (Latitude and Longitude)\n",
    "map1 = folium.Map(location=[37.566535, 126.97796919999996],\n",
    "                  zoom_start = 10, tiles='stamentoner')"
   ]
  },
  {
   "cell_type": "code",
   "execution_count": 151,
   "metadata": {
    "ExecuteTime": {
     "end_time": "2021-07-25T12:11:26.992995Z",
     "start_time": "2021-07-25T12:11:26.984866Z"
    }
   },
   "outputs": [
    {
     "data": {
      "text/html": [
       "<div style=\"width:100%;\"><div style=\"position:relative;width:100%;height:0;padding-bottom:60%;\"><span style=\"color:#565656\">Make this Notebook Trusted to load map: File -> Trust Notebook</span><iframe src=\"about:blank\" style=\"position:absolute;width:100%;height:100%;left:0;top:0;border:none !important;\" data-html=%3C%21DOCTYPE%20html%3E%0A%3Chead%3E%20%20%20%20%0A%20%20%20%20%3Cmeta%20http-equiv%3D%22content-type%22%20content%3D%22text/html%3B%20charset%3DUTF-8%22%20/%3E%0A%20%20%20%20%0A%20%20%20%20%20%20%20%20%3Cscript%3E%0A%20%20%20%20%20%20%20%20%20%20%20%20L_NO_TOUCH%20%3D%20false%3B%0A%20%20%20%20%20%20%20%20%20%20%20%20L_DISABLE_3D%20%3D%20false%3B%0A%20%20%20%20%20%20%20%20%3C/script%3E%0A%20%20%20%20%0A%20%20%20%20%3Cstyle%3Ehtml%2C%20body%20%7Bwidth%3A%20100%25%3Bheight%3A%20100%25%3Bmargin%3A%200%3Bpadding%3A%200%3B%7D%3C/style%3E%0A%20%20%20%20%3Cstyle%3E%23map%20%7Bposition%3Aabsolute%3Btop%3A0%3Bbottom%3A0%3Bright%3A0%3Bleft%3A0%3B%7D%3C/style%3E%0A%20%20%20%20%3Cscript%20src%3D%22https%3A//cdn.jsdelivr.net/npm/leaflet%401.6.0/dist/leaflet.js%22%3E%3C/script%3E%0A%20%20%20%20%3Cscript%20src%3D%22https%3A//code.jquery.com/jquery-1.12.4.min.js%22%3E%3C/script%3E%0A%20%20%20%20%3Cscript%20src%3D%22https%3A//maxcdn.bootstrapcdn.com/bootstrap/3.2.0/js/bootstrap.min.js%22%3E%3C/script%3E%0A%20%20%20%20%3Cscript%20src%3D%22https%3A//cdnjs.cloudflare.com/ajax/libs/Leaflet.awesome-markers/2.0.2/leaflet.awesome-markers.js%22%3E%3C/script%3E%0A%20%20%20%20%3Clink%20rel%3D%22stylesheet%22%20href%3D%22https%3A//cdn.jsdelivr.net/npm/leaflet%401.6.0/dist/leaflet.css%22/%3E%0A%20%20%20%20%3Clink%20rel%3D%22stylesheet%22%20href%3D%22https%3A//maxcdn.bootstrapcdn.com/bootstrap/3.2.0/css/bootstrap.min.css%22/%3E%0A%20%20%20%20%3Clink%20rel%3D%22stylesheet%22%20href%3D%22https%3A//maxcdn.bootstrapcdn.com/bootstrap/3.2.0/css/bootstrap-theme.min.css%22/%3E%0A%20%20%20%20%3Clink%20rel%3D%22stylesheet%22%20href%3D%22https%3A//maxcdn.bootstrapcdn.com/font-awesome/4.6.3/css/font-awesome.min.css%22/%3E%0A%20%20%20%20%3Clink%20rel%3D%22stylesheet%22%20href%3D%22https%3A//cdnjs.cloudflare.com/ajax/libs/Leaflet.awesome-markers/2.0.2/leaflet.awesome-markers.css%22/%3E%0A%20%20%20%20%3Clink%20rel%3D%22stylesheet%22%20href%3D%22https%3A//cdn.jsdelivr.net/gh/python-visualization/folium/folium/templates/leaflet.awesome.rotate.min.css%22/%3E%0A%20%20%20%20%0A%20%20%20%20%20%20%20%20%20%20%20%20%3Cmeta%20name%3D%22viewport%22%20content%3D%22width%3Ddevice-width%2C%0A%20%20%20%20%20%20%20%20%20%20%20%20%20%20%20%20initial-scale%3D1.0%2C%20maximum-scale%3D1.0%2C%20user-scalable%3Dno%22%20/%3E%0A%20%20%20%20%20%20%20%20%20%20%20%20%3Cstyle%3E%0A%20%20%20%20%20%20%20%20%20%20%20%20%20%20%20%20%23map_28b688fd7ff844c0b558f6c03639fe79%20%7B%0A%20%20%20%20%20%20%20%20%20%20%20%20%20%20%20%20%20%20%20%20position%3A%20relative%3B%0A%20%20%20%20%20%20%20%20%20%20%20%20%20%20%20%20%20%20%20%20width%3A%20100.0%25%3B%0A%20%20%20%20%20%20%20%20%20%20%20%20%20%20%20%20%20%20%20%20height%3A%20100.0%25%3B%0A%20%20%20%20%20%20%20%20%20%20%20%20%20%20%20%20%20%20%20%20left%3A%200.0%25%3B%0A%20%20%20%20%20%20%20%20%20%20%20%20%20%20%20%20%20%20%20%20top%3A%200.0%25%3B%0A%20%20%20%20%20%20%20%20%20%20%20%20%20%20%20%20%7D%0A%20%20%20%20%20%20%20%20%20%20%20%20%3C/style%3E%0A%20%20%20%20%20%20%20%20%0A%3C/head%3E%0A%3Cbody%3E%20%20%20%20%0A%20%20%20%20%0A%20%20%20%20%20%20%20%20%20%20%20%20%3Cdiv%20class%3D%22folium-map%22%20id%3D%22map_28b688fd7ff844c0b558f6c03639fe79%22%20%3E%3C/div%3E%0A%20%20%20%20%20%20%20%20%0A%3C/body%3E%0A%3Cscript%3E%20%20%20%20%0A%20%20%20%20%0A%20%20%20%20%20%20%20%20%20%20%20%20var%20map_28b688fd7ff844c0b558f6c03639fe79%20%3D%20L.map%28%0A%20%20%20%20%20%20%20%20%20%20%20%20%20%20%20%20%22map_28b688fd7ff844c0b558f6c03639fe79%22%2C%0A%20%20%20%20%20%20%20%20%20%20%20%20%20%20%20%20%7B%0A%20%20%20%20%20%20%20%20%20%20%20%20%20%20%20%20%20%20%20%20center%3A%20%5B37.566535%2C%20126.97796919999996%5D%2C%0A%20%20%20%20%20%20%20%20%20%20%20%20%20%20%20%20%20%20%20%20crs%3A%20L.CRS.EPSG3857%2C%0A%20%20%20%20%20%20%20%20%20%20%20%20%20%20%20%20%20%20%20%20zoom%3A%2010%2C%0A%20%20%20%20%20%20%20%20%20%20%20%20%20%20%20%20%20%20%20%20zoomControl%3A%20true%2C%0A%20%20%20%20%20%20%20%20%20%20%20%20%20%20%20%20%20%20%20%20preferCanvas%3A%20false%2C%0A%20%20%20%20%20%20%20%20%20%20%20%20%20%20%20%20%7D%0A%20%20%20%20%20%20%20%20%20%20%20%20%29%3B%0A%0A%20%20%20%20%20%20%20%20%20%20%20%20%0A%0A%20%20%20%20%20%20%20%20%0A%20%20%20%20%0A%20%20%20%20%20%20%20%20%20%20%20%20var%20tile_layer_d02778cc34f44a12a19b7ceb080074b7%20%3D%20L.tileLayer%28%0A%20%20%20%20%20%20%20%20%20%20%20%20%20%20%20%20%22https%3A//stamen-tiles-%7Bs%7D.a.ssl.fastly.net/toner/%7Bz%7D/%7Bx%7D/%7By%7D.png%22%2C%0A%20%20%20%20%20%20%20%20%20%20%20%20%20%20%20%20%7B%22attribution%22%3A%20%22Map%20tiles%20by%20%5Cu003ca%20href%3D%5C%22http%3A//stamen.com%5C%22%5Cu003eStamen%20Design%5Cu003c/a%5Cu003e%2C%20under%20%5Cu003ca%20href%3D%5C%22http%3A//creativecommons.org/licenses/by/3.0%5C%22%5Cu003eCC%20BY%203.0%5Cu003c/a%5Cu003e.%20Data%20by%20%5Cu0026copy%3B%20%5Cu003ca%20href%3D%5C%22http%3A//openstreetmap.org%5C%22%5Cu003eOpenStreetMap%5Cu003c/a%5Cu003e%2C%20under%20%5Cu003ca%20href%3D%5C%22http%3A//www.openstreetmap.org/copyright%5C%22%5Cu003eODbL%5Cu003c/a%5Cu003e.%22%2C%20%22detectRetina%22%3A%20false%2C%20%22maxNativeZoom%22%3A%2018%2C%20%22maxZoom%22%3A%2018%2C%20%22minZoom%22%3A%200%2C%20%22noWrap%22%3A%20false%2C%20%22opacity%22%3A%201%2C%20%22subdomains%22%3A%20%22abc%22%2C%20%22tms%22%3A%20false%7D%0A%20%20%20%20%20%20%20%20%20%20%20%20%29.addTo%28map_28b688fd7ff844c0b558f6c03639fe79%29%3B%0A%20%20%20%20%20%20%20%20%0A%3C/script%3E onload=\"this.contentDocument.open();this.contentDocument.write(    decodeURIComponent(this.getAttribute('data-html')));this.contentDocument.close();\" allowfullscreen webkitallowfullscreen mozallowfullscreen></iframe></div></div>"
      ],
      "text/plain": [
       "<folium.folium.Map at 0x7fe552905908>"
      ]
     },
     "execution_count": 151,
     "metadata": {},
     "output_type": "execute_result"
    }
   ],
   "source": [
    "map1"
   ]
  },
  {
   "cell_type": "markdown",
   "metadata": {},
   "source": [
    "### 포맷 맞춰주기 "
   ]
  },
  {
   "cell_type": "code",
   "execution_count": 152,
   "metadata": {
    "ExecuteTime": {
     "end_time": "2021-07-25T12:11:31.032274Z",
     "start_time": "2021-07-25T12:11:31.017525Z"
    }
   },
   "outputs": [
    {
     "data": {
      "text/html": [
       "<div>\n",
       "<style scoped>\n",
       "    .dataframe tbody tr th:only-of-type {\n",
       "        vertical-align: middle;\n",
       "    }\n",
       "\n",
       "    .dataframe tbody tr th {\n",
       "        vertical-align: top;\n",
       "    }\n",
       "\n",
       "    .dataframe thead th {\n",
       "        text-align: right;\n",
       "    }\n",
       "</style>\n",
       "<table border=\"1\" class=\"dataframe\">\n",
       "  <thead>\n",
       "    <tr style=\"text-align: right;\">\n",
       "      <th></th>\n",
       "      <th>이름</th>\n",
       "      <th>LAT</th>\n",
       "      <th>LNG</th>\n",
       "      <th>위도경도</th>\n",
       "    </tr>\n",
       "  </thead>\n",
       "  <tbody>\n",
       "    <tr>\n",
       "      <th>0</th>\n",
       "      <td>양천119안전센터</td>\n",
       "      <td>37.527161</td>\n",
       "      <td>126.8694519</td>\n",
       "      <td>[37.527161, 126.8694519]</td>\n",
       "    </tr>\n",
       "    <tr>\n",
       "      <th>1</th>\n",
       "      <td>신내119안전센터</td>\n",
       "      <td>37.6102463</td>\n",
       "      <td>127.0964731</td>\n",
       "      <td>[37.6102463, 127.0964731]</td>\n",
       "    </tr>\n",
       "    <tr>\n",
       "      <th>2</th>\n",
       "      <td>서초119안전센터</td>\n",
       "      <td>37.4877727</td>\n",
       "      <td>127.0171447</td>\n",
       "      <td>[37.4877727, 127.0171447]</td>\n",
       "    </tr>\n",
       "    <tr>\n",
       "      <th>3</th>\n",
       "      <td>이촌119안전센터</td>\n",
       "      <td>37.5278414</td>\n",
       "      <td>126.9583175</td>\n",
       "      <td>[37.5278414, 126.9583175]</td>\n",
       "    </tr>\n",
       "    <tr>\n",
       "      <th>4</th>\n",
       "      <td>후암119안전센터</td>\n",
       "      <td>37.5448956</td>\n",
       "      <td>126.9812418</td>\n",
       "      <td>[37.5448956, 126.9812418]</td>\n",
       "    </tr>\n",
       "  </tbody>\n",
       "</table>\n",
       "</div>"
      ],
      "text/plain": [
       "          이름         LAT          LNG                       위도경도\n",
       "0  양천119안전센터   37.527161  126.8694519   [37.527161, 126.8694519]\n",
       "1  신내119안전센터  37.6102463  127.0964731  [37.6102463, 127.0964731]\n",
       "2  서초119안전센터  37.4877727  127.0171447  [37.4877727, 127.0171447]\n",
       "3  이촌119안전센터  37.5278414  126.9583175  [37.5278414, 126.9583175]\n",
       "4  후암119안전센터  37.5448956  126.9812418  [37.5448956, 126.9812418]"
      ]
     },
     "execution_count": 152,
     "metadata": {},
     "output_type": "execute_result"
    }
   ],
   "source": [
    "df"
   ]
  },
  {
   "cell_type": "code",
   "execution_count": 153,
   "metadata": {
    "ExecuteTime": {
     "end_time": "2021-07-25T12:11:31.286514Z",
     "start_time": "2021-07-25T12:11:31.284013Z"
    }
   },
   "outputs": [],
   "source": [
    "def convert_loc(L1,L2): return [L1,L2]"
   ]
  },
  {
   "cell_type": "code",
   "execution_count": 154,
   "metadata": {
    "ExecuteTime": {
     "end_time": "2021-07-25T12:11:31.552358Z",
     "start_time": "2021-07-25T12:11:31.547079Z"
    }
   },
   "outputs": [],
   "source": [
    "df['위도경도']= df.apply(lambda row: convert_loc(row['LAT'],row['LNG']),axis=1)"
   ]
  },
  {
   "cell_type": "code",
   "execution_count": 155,
   "metadata": {
    "ExecuteTime": {
     "end_time": "2021-07-25T12:11:31.867924Z",
     "start_time": "2021-07-25T12:11:31.854100Z"
    }
   },
   "outputs": [
    {
     "data": {
      "text/html": [
       "<div>\n",
       "<style scoped>\n",
       "    .dataframe tbody tr th:only-of-type {\n",
       "        vertical-align: middle;\n",
       "    }\n",
       "\n",
       "    .dataframe tbody tr th {\n",
       "        vertical-align: top;\n",
       "    }\n",
       "\n",
       "    .dataframe thead th {\n",
       "        text-align: right;\n",
       "    }\n",
       "</style>\n",
       "<table border=\"1\" class=\"dataframe\">\n",
       "  <thead>\n",
       "    <tr style=\"text-align: right;\">\n",
       "      <th></th>\n",
       "      <th>이름</th>\n",
       "      <th>LAT</th>\n",
       "      <th>LNG</th>\n",
       "      <th>위도경도</th>\n",
       "    </tr>\n",
       "  </thead>\n",
       "  <tbody>\n",
       "    <tr>\n",
       "      <th>0</th>\n",
       "      <td>양천119안전센터</td>\n",
       "      <td>37.527161</td>\n",
       "      <td>126.8694519</td>\n",
       "      <td>[37.527161, 126.8694519]</td>\n",
       "    </tr>\n",
       "    <tr>\n",
       "      <th>1</th>\n",
       "      <td>신내119안전센터</td>\n",
       "      <td>37.6102463</td>\n",
       "      <td>127.0964731</td>\n",
       "      <td>[37.6102463, 127.0964731]</td>\n",
       "    </tr>\n",
       "    <tr>\n",
       "      <th>2</th>\n",
       "      <td>서초119안전센터</td>\n",
       "      <td>37.4877727</td>\n",
       "      <td>127.0171447</td>\n",
       "      <td>[37.4877727, 127.0171447]</td>\n",
       "    </tr>\n",
       "    <tr>\n",
       "      <th>3</th>\n",
       "      <td>이촌119안전센터</td>\n",
       "      <td>37.5278414</td>\n",
       "      <td>126.9583175</td>\n",
       "      <td>[37.5278414, 126.9583175]</td>\n",
       "    </tr>\n",
       "    <tr>\n",
       "      <th>4</th>\n",
       "      <td>후암119안전센터</td>\n",
       "      <td>37.5448956</td>\n",
       "      <td>126.9812418</td>\n",
       "      <td>[37.5448956, 126.9812418]</td>\n",
       "    </tr>\n",
       "  </tbody>\n",
       "</table>\n",
       "</div>"
      ],
      "text/plain": [
       "          이름         LAT          LNG                       위도경도\n",
       "0  양천119안전센터   37.527161  126.8694519   [37.527161, 126.8694519]\n",
       "1  신내119안전센터  37.6102463  127.0964731  [37.6102463, 127.0964731]\n",
       "2  서초119안전센터  37.4877727  127.0171447  [37.4877727, 127.0171447]\n",
       "3  이촌119안전센터  37.5278414  126.9583175  [37.5278414, 126.9583175]\n",
       "4  후암119안전센터  37.5448956  126.9812418  [37.5448956, 126.9812418]"
      ]
     },
     "execution_count": 155,
     "metadata": {},
     "output_type": "execute_result"
    }
   ],
   "source": [
    "df"
   ]
  },
  {
   "cell_type": "code",
   "execution_count": 156,
   "metadata": {
    "ExecuteTime": {
     "end_time": "2021-07-25T12:11:32.123343Z",
     "start_time": "2021-07-25T12:11:32.115777Z"
    }
   },
   "outputs": [
    {
     "name": "stdout",
     "output_type": "stream",
     "text": [
      "양천119안전센터 ['37.527161', '126.8694519']\n",
      "신내119안전센터 ['37.6102463', '127.0964731']\n",
      "서초119안전센터 ['37.4877727', '127.0171447']\n",
      "이촌119안전센터 ['37.5278414', '126.9583175']\n",
      "후암119안전센터 ['37.5448956', '126.9812418']\n"
     ]
    }
   ],
   "source": [
    "for index, row in df.iterrows():\n",
    "    print(row['이름'],row['위도경도'] )\n",
    "    folium.Marker(row['위도경도'], \n",
    "                  popup= row['이름'],\n",
    "                 icon=folium.Icon(color='red')).add_to(map1)"
   ]
  },
  {
   "cell_type": "code",
   "execution_count": 157,
   "metadata": {
    "ExecuteTime": {
     "end_time": "2021-07-25T12:11:32.526961Z",
     "start_time": "2021-07-25T12:11:32.507003Z"
    }
   },
   "outputs": [
    {
     "data": {
      "text/html": [
       "<div style=\"width:100%;\"><div style=\"position:relative;width:100%;height:0;padding-bottom:60%;\"><span style=\"color:#565656\">Make this Notebook Trusted to load map: File -> Trust Notebook</span><iframe src=\"about:blank\" style=\"position:absolute;width:100%;height:100%;left:0;top:0;border:none !important;\" data-html=%3C%21DOCTYPE%20html%3E%0A%3Chead%3E%20%20%20%20%0A%20%20%20%20%3Cmeta%20http-equiv%3D%22content-type%22%20content%3D%22text/html%3B%20charset%3DUTF-8%22%20/%3E%0A%20%20%20%20%0A%20%20%20%20%20%20%20%20%3Cscript%3E%0A%20%20%20%20%20%20%20%20%20%20%20%20L_NO_TOUCH%20%3D%20false%3B%0A%20%20%20%20%20%20%20%20%20%20%20%20L_DISABLE_3D%20%3D%20false%3B%0A%20%20%20%20%20%20%20%20%3C/script%3E%0A%20%20%20%20%0A%20%20%20%20%3Cstyle%3Ehtml%2C%20body%20%7Bwidth%3A%20100%25%3Bheight%3A%20100%25%3Bmargin%3A%200%3Bpadding%3A%200%3B%7D%3C/style%3E%0A%20%20%20%20%3Cstyle%3E%23map%20%7Bposition%3Aabsolute%3Btop%3A0%3Bbottom%3A0%3Bright%3A0%3Bleft%3A0%3B%7D%3C/style%3E%0A%20%20%20%20%3Cscript%20src%3D%22https%3A//cdn.jsdelivr.net/npm/leaflet%401.6.0/dist/leaflet.js%22%3E%3C/script%3E%0A%20%20%20%20%3Cscript%20src%3D%22https%3A//code.jquery.com/jquery-1.12.4.min.js%22%3E%3C/script%3E%0A%20%20%20%20%3Cscript%20src%3D%22https%3A//maxcdn.bootstrapcdn.com/bootstrap/3.2.0/js/bootstrap.min.js%22%3E%3C/script%3E%0A%20%20%20%20%3Cscript%20src%3D%22https%3A//cdnjs.cloudflare.com/ajax/libs/Leaflet.awesome-markers/2.0.2/leaflet.awesome-markers.js%22%3E%3C/script%3E%0A%20%20%20%20%3Clink%20rel%3D%22stylesheet%22%20href%3D%22https%3A//cdn.jsdelivr.net/npm/leaflet%401.6.0/dist/leaflet.css%22/%3E%0A%20%20%20%20%3Clink%20rel%3D%22stylesheet%22%20href%3D%22https%3A//maxcdn.bootstrapcdn.com/bootstrap/3.2.0/css/bootstrap.min.css%22/%3E%0A%20%20%20%20%3Clink%20rel%3D%22stylesheet%22%20href%3D%22https%3A//maxcdn.bootstrapcdn.com/bootstrap/3.2.0/css/bootstrap-theme.min.css%22/%3E%0A%20%20%20%20%3Clink%20rel%3D%22stylesheet%22%20href%3D%22https%3A//maxcdn.bootstrapcdn.com/font-awesome/4.6.3/css/font-awesome.min.css%22/%3E%0A%20%20%20%20%3Clink%20rel%3D%22stylesheet%22%20href%3D%22https%3A//cdnjs.cloudflare.com/ajax/libs/Leaflet.awesome-markers/2.0.2/leaflet.awesome-markers.css%22/%3E%0A%20%20%20%20%3Clink%20rel%3D%22stylesheet%22%20href%3D%22https%3A//cdn.jsdelivr.net/gh/python-visualization/folium/folium/templates/leaflet.awesome.rotate.min.css%22/%3E%0A%20%20%20%20%0A%20%20%20%20%20%20%20%20%20%20%20%20%3Cmeta%20name%3D%22viewport%22%20content%3D%22width%3Ddevice-width%2C%0A%20%20%20%20%20%20%20%20%20%20%20%20%20%20%20%20initial-scale%3D1.0%2C%20maximum-scale%3D1.0%2C%20user-scalable%3Dno%22%20/%3E%0A%20%20%20%20%20%20%20%20%20%20%20%20%3Cstyle%3E%0A%20%20%20%20%20%20%20%20%20%20%20%20%20%20%20%20%23map_28b688fd7ff844c0b558f6c03639fe79%20%7B%0A%20%20%20%20%20%20%20%20%20%20%20%20%20%20%20%20%20%20%20%20position%3A%20relative%3B%0A%20%20%20%20%20%20%20%20%20%20%20%20%20%20%20%20%20%20%20%20width%3A%20100.0%25%3B%0A%20%20%20%20%20%20%20%20%20%20%20%20%20%20%20%20%20%20%20%20height%3A%20100.0%25%3B%0A%20%20%20%20%20%20%20%20%20%20%20%20%20%20%20%20%20%20%20%20left%3A%200.0%25%3B%0A%20%20%20%20%20%20%20%20%20%20%20%20%20%20%20%20%20%20%20%20top%3A%200.0%25%3B%0A%20%20%20%20%20%20%20%20%20%20%20%20%20%20%20%20%7D%0A%20%20%20%20%20%20%20%20%20%20%20%20%3C/style%3E%0A%20%20%20%20%20%20%20%20%0A%3C/head%3E%0A%3Cbody%3E%20%20%20%20%0A%20%20%20%20%0A%20%20%20%20%20%20%20%20%20%20%20%20%3Cdiv%20class%3D%22folium-map%22%20id%3D%22map_28b688fd7ff844c0b558f6c03639fe79%22%20%3E%3C/div%3E%0A%20%20%20%20%20%20%20%20%0A%3C/body%3E%0A%3Cscript%3E%20%20%20%20%0A%20%20%20%20%0A%20%20%20%20%20%20%20%20%20%20%20%20var%20map_28b688fd7ff844c0b558f6c03639fe79%20%3D%20L.map%28%0A%20%20%20%20%20%20%20%20%20%20%20%20%20%20%20%20%22map_28b688fd7ff844c0b558f6c03639fe79%22%2C%0A%20%20%20%20%20%20%20%20%20%20%20%20%20%20%20%20%7B%0A%20%20%20%20%20%20%20%20%20%20%20%20%20%20%20%20%20%20%20%20center%3A%20%5B37.566535%2C%20126.97796919999996%5D%2C%0A%20%20%20%20%20%20%20%20%20%20%20%20%20%20%20%20%20%20%20%20crs%3A%20L.CRS.EPSG3857%2C%0A%20%20%20%20%20%20%20%20%20%20%20%20%20%20%20%20%20%20%20%20zoom%3A%2010%2C%0A%20%20%20%20%20%20%20%20%20%20%20%20%20%20%20%20%20%20%20%20zoomControl%3A%20true%2C%0A%20%20%20%20%20%20%20%20%20%20%20%20%20%20%20%20%20%20%20%20preferCanvas%3A%20false%2C%0A%20%20%20%20%20%20%20%20%20%20%20%20%20%20%20%20%7D%0A%20%20%20%20%20%20%20%20%20%20%20%20%29%3B%0A%0A%20%20%20%20%20%20%20%20%20%20%20%20%0A%0A%20%20%20%20%20%20%20%20%0A%20%20%20%20%0A%20%20%20%20%20%20%20%20%20%20%20%20var%20tile_layer_d02778cc34f44a12a19b7ceb080074b7%20%3D%20L.tileLayer%28%0A%20%20%20%20%20%20%20%20%20%20%20%20%20%20%20%20%22https%3A//stamen-tiles-%7Bs%7D.a.ssl.fastly.net/toner/%7Bz%7D/%7Bx%7D/%7By%7D.png%22%2C%0A%20%20%20%20%20%20%20%20%20%20%20%20%20%20%20%20%7B%22attribution%22%3A%20%22Map%20tiles%20by%20%5Cu003ca%20href%3D%5C%22http%3A//stamen.com%5C%22%5Cu003eStamen%20Design%5Cu003c/a%5Cu003e%2C%20under%20%5Cu003ca%20href%3D%5C%22http%3A//creativecommons.org/licenses/by/3.0%5C%22%5Cu003eCC%20BY%203.0%5Cu003c/a%5Cu003e.%20Data%20by%20%5Cu0026copy%3B%20%5Cu003ca%20href%3D%5C%22http%3A//openstreetmap.org%5C%22%5Cu003eOpenStreetMap%5Cu003c/a%5Cu003e%2C%20under%20%5Cu003ca%20href%3D%5C%22http%3A//www.openstreetmap.org/copyright%5C%22%5Cu003eODbL%5Cu003c/a%5Cu003e.%22%2C%20%22detectRetina%22%3A%20false%2C%20%22maxNativeZoom%22%3A%2018%2C%20%22maxZoom%22%3A%2018%2C%20%22minZoom%22%3A%200%2C%20%22noWrap%22%3A%20false%2C%20%22opacity%22%3A%201%2C%20%22subdomains%22%3A%20%22abc%22%2C%20%22tms%22%3A%20false%7D%0A%20%20%20%20%20%20%20%20%20%20%20%20%29.addTo%28map_28b688fd7ff844c0b558f6c03639fe79%29%3B%0A%20%20%20%20%20%20%20%20%0A%20%20%20%20%0A%20%20%20%20%20%20%20%20%20%20%20%20var%20marker_7369b933dd734aeca9545b25b9cec8e4%20%3D%20L.marker%28%0A%20%20%20%20%20%20%20%20%20%20%20%20%20%20%20%20%5B37.527161%2C%20126.8694519%5D%2C%0A%20%20%20%20%20%20%20%20%20%20%20%20%20%20%20%20%7B%7D%0A%20%20%20%20%20%20%20%20%20%20%20%20%29.addTo%28map_28b688fd7ff844c0b558f6c03639fe79%29%3B%0A%20%20%20%20%20%20%20%20%0A%20%20%20%20%0A%20%20%20%20%20%20%20%20%20%20%20%20var%20icon_a52d1eeff955472687d1381fb786ae96%20%3D%20L.AwesomeMarkers.icon%28%0A%20%20%20%20%20%20%20%20%20%20%20%20%20%20%20%20%7B%22extraClasses%22%3A%20%22fa-rotate-0%22%2C%20%22icon%22%3A%20%22info-sign%22%2C%20%22iconColor%22%3A%20%22white%22%2C%20%22markerColor%22%3A%20%22red%22%2C%20%22prefix%22%3A%20%22glyphicon%22%7D%0A%20%20%20%20%20%20%20%20%20%20%20%20%29%3B%0A%20%20%20%20%20%20%20%20%20%20%20%20marker_7369b933dd734aeca9545b25b9cec8e4.setIcon%28icon_a52d1eeff955472687d1381fb786ae96%29%3B%0A%20%20%20%20%20%20%20%20%0A%20%20%20%20%0A%20%20%20%20%20%20%20%20var%20popup_de433193a1364877ade9dd68a0e41a7a%20%3D%20L.popup%28%7B%22maxWidth%22%3A%20%22100%25%22%7D%29%3B%0A%0A%20%20%20%20%20%20%20%20%0A%20%20%20%20%20%20%20%20%20%20%20%20var%20html_462dded6e3dd440485ab18121bf6641e%20%3D%20%24%28%60%3Cdiv%20id%3D%22html_462dded6e3dd440485ab18121bf6641e%22%20style%3D%22width%3A%20100.0%25%3B%20height%3A%20100.0%25%3B%22%3E%EC%96%91%EC%B2%9C119%EC%95%88%EC%A0%84%EC%84%BC%ED%84%B0%3C/div%3E%60%29%5B0%5D%3B%0A%20%20%20%20%20%20%20%20%20%20%20%20popup_de433193a1364877ade9dd68a0e41a7a.setContent%28html_462dded6e3dd440485ab18121bf6641e%29%3B%0A%20%20%20%20%20%20%20%20%0A%0A%20%20%20%20%20%20%20%20marker_7369b933dd734aeca9545b25b9cec8e4.bindPopup%28popup_de433193a1364877ade9dd68a0e41a7a%29%0A%20%20%20%20%20%20%20%20%3B%0A%0A%20%20%20%20%20%20%20%20%0A%20%20%20%20%0A%20%20%20%20%0A%20%20%20%20%20%20%20%20%20%20%20%20var%20marker_170893f8ad014c5a8b72c4f7f83abcff%20%3D%20L.marker%28%0A%20%20%20%20%20%20%20%20%20%20%20%20%20%20%20%20%5B37.6102463%2C%20127.0964731%5D%2C%0A%20%20%20%20%20%20%20%20%20%20%20%20%20%20%20%20%7B%7D%0A%20%20%20%20%20%20%20%20%20%20%20%20%29.addTo%28map_28b688fd7ff844c0b558f6c03639fe79%29%3B%0A%20%20%20%20%20%20%20%20%0A%20%20%20%20%0A%20%20%20%20%20%20%20%20%20%20%20%20var%20icon_72a3cceebfc843e59f25426aeb84769d%20%3D%20L.AwesomeMarkers.icon%28%0A%20%20%20%20%20%20%20%20%20%20%20%20%20%20%20%20%7B%22extraClasses%22%3A%20%22fa-rotate-0%22%2C%20%22icon%22%3A%20%22info-sign%22%2C%20%22iconColor%22%3A%20%22white%22%2C%20%22markerColor%22%3A%20%22red%22%2C%20%22prefix%22%3A%20%22glyphicon%22%7D%0A%20%20%20%20%20%20%20%20%20%20%20%20%29%3B%0A%20%20%20%20%20%20%20%20%20%20%20%20marker_170893f8ad014c5a8b72c4f7f83abcff.setIcon%28icon_72a3cceebfc843e59f25426aeb84769d%29%3B%0A%20%20%20%20%20%20%20%20%0A%20%20%20%20%0A%20%20%20%20%20%20%20%20var%20popup_865dd4692c7341259e667dbdfff13576%20%3D%20L.popup%28%7B%22maxWidth%22%3A%20%22100%25%22%7D%29%3B%0A%0A%20%20%20%20%20%20%20%20%0A%20%20%20%20%20%20%20%20%20%20%20%20var%20html_c47144d6332c4962a2ccb77c315ad93b%20%3D%20%24%28%60%3Cdiv%20id%3D%22html_c47144d6332c4962a2ccb77c315ad93b%22%20style%3D%22width%3A%20100.0%25%3B%20height%3A%20100.0%25%3B%22%3E%EC%8B%A0%EB%82%B4119%EC%95%88%EC%A0%84%EC%84%BC%ED%84%B0%3C/div%3E%60%29%5B0%5D%3B%0A%20%20%20%20%20%20%20%20%20%20%20%20popup_865dd4692c7341259e667dbdfff13576.setContent%28html_c47144d6332c4962a2ccb77c315ad93b%29%3B%0A%20%20%20%20%20%20%20%20%0A%0A%20%20%20%20%20%20%20%20marker_170893f8ad014c5a8b72c4f7f83abcff.bindPopup%28popup_865dd4692c7341259e667dbdfff13576%29%0A%20%20%20%20%20%20%20%20%3B%0A%0A%20%20%20%20%20%20%20%20%0A%20%20%20%20%0A%20%20%20%20%0A%20%20%20%20%20%20%20%20%20%20%20%20var%20marker_71963f6e8d7f43b48fa6586f032289f5%20%3D%20L.marker%28%0A%20%20%20%20%20%20%20%20%20%20%20%20%20%20%20%20%5B37.4877727%2C%20127.0171447%5D%2C%0A%20%20%20%20%20%20%20%20%20%20%20%20%20%20%20%20%7B%7D%0A%20%20%20%20%20%20%20%20%20%20%20%20%29.addTo%28map_28b688fd7ff844c0b558f6c03639fe79%29%3B%0A%20%20%20%20%20%20%20%20%0A%20%20%20%20%0A%20%20%20%20%20%20%20%20%20%20%20%20var%20icon_9e24599636aa41c9b9216b727847695d%20%3D%20L.AwesomeMarkers.icon%28%0A%20%20%20%20%20%20%20%20%20%20%20%20%20%20%20%20%7B%22extraClasses%22%3A%20%22fa-rotate-0%22%2C%20%22icon%22%3A%20%22info-sign%22%2C%20%22iconColor%22%3A%20%22white%22%2C%20%22markerColor%22%3A%20%22red%22%2C%20%22prefix%22%3A%20%22glyphicon%22%7D%0A%20%20%20%20%20%20%20%20%20%20%20%20%29%3B%0A%20%20%20%20%20%20%20%20%20%20%20%20marker_71963f6e8d7f43b48fa6586f032289f5.setIcon%28icon_9e24599636aa41c9b9216b727847695d%29%3B%0A%20%20%20%20%20%20%20%20%0A%20%20%20%20%0A%20%20%20%20%20%20%20%20var%20popup_cc5eabd18b664ee58b4a2f616706210c%20%3D%20L.popup%28%7B%22maxWidth%22%3A%20%22100%25%22%7D%29%3B%0A%0A%20%20%20%20%20%20%20%20%0A%20%20%20%20%20%20%20%20%20%20%20%20var%20html_54116802baab4e32bd4e67970d474035%20%3D%20%24%28%60%3Cdiv%20id%3D%22html_54116802baab4e32bd4e67970d474035%22%20style%3D%22width%3A%20100.0%25%3B%20height%3A%20100.0%25%3B%22%3E%EC%84%9C%EC%B4%88119%EC%95%88%EC%A0%84%EC%84%BC%ED%84%B0%3C/div%3E%60%29%5B0%5D%3B%0A%20%20%20%20%20%20%20%20%20%20%20%20popup_cc5eabd18b664ee58b4a2f616706210c.setContent%28html_54116802baab4e32bd4e67970d474035%29%3B%0A%20%20%20%20%20%20%20%20%0A%0A%20%20%20%20%20%20%20%20marker_71963f6e8d7f43b48fa6586f032289f5.bindPopup%28popup_cc5eabd18b664ee58b4a2f616706210c%29%0A%20%20%20%20%20%20%20%20%3B%0A%0A%20%20%20%20%20%20%20%20%0A%20%20%20%20%0A%20%20%20%20%0A%20%20%20%20%20%20%20%20%20%20%20%20var%20marker_43683a80ca714b038fec65e10ba9bf00%20%3D%20L.marker%28%0A%20%20%20%20%20%20%20%20%20%20%20%20%20%20%20%20%5B37.5278414%2C%20126.9583175%5D%2C%0A%20%20%20%20%20%20%20%20%20%20%20%20%20%20%20%20%7B%7D%0A%20%20%20%20%20%20%20%20%20%20%20%20%29.addTo%28map_28b688fd7ff844c0b558f6c03639fe79%29%3B%0A%20%20%20%20%20%20%20%20%0A%20%20%20%20%0A%20%20%20%20%20%20%20%20%20%20%20%20var%20icon_5b3e0e99f5c647b89e486144b0e6bb28%20%3D%20L.AwesomeMarkers.icon%28%0A%20%20%20%20%20%20%20%20%20%20%20%20%20%20%20%20%7B%22extraClasses%22%3A%20%22fa-rotate-0%22%2C%20%22icon%22%3A%20%22info-sign%22%2C%20%22iconColor%22%3A%20%22white%22%2C%20%22markerColor%22%3A%20%22red%22%2C%20%22prefix%22%3A%20%22glyphicon%22%7D%0A%20%20%20%20%20%20%20%20%20%20%20%20%29%3B%0A%20%20%20%20%20%20%20%20%20%20%20%20marker_43683a80ca714b038fec65e10ba9bf00.setIcon%28icon_5b3e0e99f5c647b89e486144b0e6bb28%29%3B%0A%20%20%20%20%20%20%20%20%0A%20%20%20%20%0A%20%20%20%20%20%20%20%20var%20popup_fade62e375e64c11bd5959c13f2b8555%20%3D%20L.popup%28%7B%22maxWidth%22%3A%20%22100%25%22%7D%29%3B%0A%0A%20%20%20%20%20%20%20%20%0A%20%20%20%20%20%20%20%20%20%20%20%20var%20html_de56dd7795524569ae87aaad1ad1cf79%20%3D%20%24%28%60%3Cdiv%20id%3D%22html_de56dd7795524569ae87aaad1ad1cf79%22%20style%3D%22width%3A%20100.0%25%3B%20height%3A%20100.0%25%3B%22%3E%EC%9D%B4%EC%B4%8C119%EC%95%88%EC%A0%84%EC%84%BC%ED%84%B0%3C/div%3E%60%29%5B0%5D%3B%0A%20%20%20%20%20%20%20%20%20%20%20%20popup_fade62e375e64c11bd5959c13f2b8555.setContent%28html_de56dd7795524569ae87aaad1ad1cf79%29%3B%0A%20%20%20%20%20%20%20%20%0A%0A%20%20%20%20%20%20%20%20marker_43683a80ca714b038fec65e10ba9bf00.bindPopup%28popup_fade62e375e64c11bd5959c13f2b8555%29%0A%20%20%20%20%20%20%20%20%3B%0A%0A%20%20%20%20%20%20%20%20%0A%20%20%20%20%0A%20%20%20%20%0A%20%20%20%20%20%20%20%20%20%20%20%20var%20marker_addc92cdff55433c80b487bd59bc76c5%20%3D%20L.marker%28%0A%20%20%20%20%20%20%20%20%20%20%20%20%20%20%20%20%5B37.5448956%2C%20126.9812418%5D%2C%0A%20%20%20%20%20%20%20%20%20%20%20%20%20%20%20%20%7B%7D%0A%20%20%20%20%20%20%20%20%20%20%20%20%29.addTo%28map_28b688fd7ff844c0b558f6c03639fe79%29%3B%0A%20%20%20%20%20%20%20%20%0A%20%20%20%20%0A%20%20%20%20%20%20%20%20%20%20%20%20var%20icon_485170f0246446559c6975356a469db6%20%3D%20L.AwesomeMarkers.icon%28%0A%20%20%20%20%20%20%20%20%20%20%20%20%20%20%20%20%7B%22extraClasses%22%3A%20%22fa-rotate-0%22%2C%20%22icon%22%3A%20%22info-sign%22%2C%20%22iconColor%22%3A%20%22white%22%2C%20%22markerColor%22%3A%20%22red%22%2C%20%22prefix%22%3A%20%22glyphicon%22%7D%0A%20%20%20%20%20%20%20%20%20%20%20%20%29%3B%0A%20%20%20%20%20%20%20%20%20%20%20%20marker_addc92cdff55433c80b487bd59bc76c5.setIcon%28icon_485170f0246446559c6975356a469db6%29%3B%0A%20%20%20%20%20%20%20%20%0A%20%20%20%20%0A%20%20%20%20%20%20%20%20var%20popup_b00e05d7049f40b18e8f8a2f922c17ab%20%3D%20L.popup%28%7B%22maxWidth%22%3A%20%22100%25%22%7D%29%3B%0A%0A%20%20%20%20%20%20%20%20%0A%20%20%20%20%20%20%20%20%20%20%20%20var%20html_633e1fed961946d992e9fabd38ea4042%20%3D%20%24%28%60%3Cdiv%20id%3D%22html_633e1fed961946d992e9fabd38ea4042%22%20style%3D%22width%3A%20100.0%25%3B%20height%3A%20100.0%25%3B%22%3E%ED%9B%84%EC%95%94119%EC%95%88%EC%A0%84%EC%84%BC%ED%84%B0%3C/div%3E%60%29%5B0%5D%3B%0A%20%20%20%20%20%20%20%20%20%20%20%20popup_b00e05d7049f40b18e8f8a2f922c17ab.setContent%28html_633e1fed961946d992e9fabd38ea4042%29%3B%0A%20%20%20%20%20%20%20%20%0A%0A%20%20%20%20%20%20%20%20marker_addc92cdff55433c80b487bd59bc76c5.bindPopup%28popup_b00e05d7049f40b18e8f8a2f922c17ab%29%0A%20%20%20%20%20%20%20%20%3B%0A%0A%20%20%20%20%20%20%20%20%0A%20%20%20%20%0A%3C/script%3E onload=\"this.contentDocument.open();this.contentDocument.write(    decodeURIComponent(this.getAttribute('data-html')));this.contentDocument.close();\" allowfullscreen webkitallowfullscreen mozallowfullscreen></iframe></div></div>"
      ],
      "text/plain": [
       "<folium.folium.Map at 0x7fe552905908>"
      ]
     },
     "execution_count": 157,
     "metadata": {},
     "output_type": "execute_result"
    }
   ],
   "source": [
    "map1"
   ]
  },
  {
   "cell_type": "markdown",
   "metadata": {},
   "source": [
    "<hr style=\"height:3px;border:none;color:#5F71F7;background-color:#5F71F7;\" />\n",
    "\n",
    "<div class=\"alert alert-success\">\n",
    "    <b>예제(Exercise)</b>:\n",
    "    <ul>\n",
    "        <li>\n",
    "        2015년 서울시 유동인구 조사 엑셀 파일이다. 해당 파일에서 위치를 지도에 표시하시오.\n",
    "        </li>\n",
    "    </ul>\n",
    "</div>\n",
    "\n",
    "- 데이터 경로 :\n",
    "```python \n",
    " '../data/4_udong_2015.xlsx',\n",
    "```\n",
    "\n",
    "- 주어진 X좌표, y좌표를 위경도로 바꾸기 위해서 다음 함수를 사용한다. \n",
    "```python \n",
    "def convert_loc(x,y):\n",
    "    inProj = Proj(init = 'epsg:5181') # 인코딩 방식\n",
    "    outProj = Proj(init = 'epsg:4326')\n",
    "    x2, y2 = transform(inProj,outProj,x,y)\n",
    "    return [y2, x2]\n",
    "```\n",
    "\n",
    "```python\n",
    "df['위도경도'] = df.apply(lambda row: convert_loc(row['X좌표'],\n",
    "                                                row['Y좌표']),\n",
    "                                                axis=1)\n",
    "```                                                "
   ]
  },
  {
   "cell_type": "code",
   "execution_count": 165,
   "metadata": {
    "ExecuteTime": {
     "end_time": "2021-07-25T12:15:29.205072Z",
     "start_time": "2021-07-25T12:15:24.895063Z"
    },
    "scrolled": true
   },
   "outputs": [
    {
     "name": "stdout",
     "output_type": "stream",
     "text": [
      "Collecting pyproj\n",
      "  Downloading pyproj-3.1.0-cp37-cp37m-macosx_10_9_x86_64.whl (7.6 MB)\n",
      "\u001b[K     |████████████████████████████████| 7.6 MB 1.1 MB/s eta 0:00:01\n",
      "\u001b[?25hRequirement already satisfied: certifi in /Users/hoesungryu/opt/anaconda3/envs/pytorch/lib/python3.7/site-packages (from pyproj) (2021.5.30)\n",
      "Installing collected packages: pyproj\n",
      "Successfully installed pyproj-3.1.0\n"
     ]
    }
   ],
   "source": [
    "!pip install pyproj"
   ]
  },
  {
   "cell_type": "code",
   "execution_count": 166,
   "metadata": {
    "ExecuteTime": {
     "end_time": "2021-07-25T12:15:37.542276Z",
     "start_time": "2021-07-25T12:15:29.284347Z"
    }
   },
   "outputs": [],
   "source": [
    "from pyproj import Proj, transform ## x,y ---> 위도, 경도 로 바꿔주는 패키지\n",
    "\n",
    "# apply 함수 적용 \n",
    "# 함수 설정 \n",
    "# 위치 정보를 인코딩하는 변환 함수를 정의\n",
    "def convert_loc(x,y):\n",
    "    inProj = Proj(init = 'epsg:5181') # 인코딩 방식\n",
    "    outProj = Proj(init = 'epsg:4326')\n",
    "    x2, y2 = transform(inProj,outProj,x,y)\n",
    "    return [y2, x2]"
   ]
  },
  {
   "cell_type": "code",
   "execution_count": null,
   "metadata": {},
   "outputs": [],
   "source": [
    "import pandas as pd\n",
    "\n",
    "\n",
    "# 오류(SettingWithCopyError 발생)\n",
    "pd.set_option('mode.chained_assignment', 'raise') # SettingWithCopyError\n",
    "# 경고(SettingWithCopyWarning 발생, 기본 값입니다)\n",
    "pd.set_option('mode.chained_assignment', 'warn') # SettingWithCopyWarning\n",
    "# 무시\n",
    "pd.set_option('mode.chained_assignment',  None) # <==== 경고를 끈다"
   ]
  },
  {
   "cell_type": "code",
   "execution_count": 158,
   "metadata": {
    "ExecuteTime": {
     "end_time": "2021-07-25T12:13:24.513092Z",
     "start_time": "2021-07-25T12:13:21.304450Z"
    }
   },
   "outputs": [],
   "source": [
    "wichi = pd.read_excel('../data/4_udong_2015.xlsx',\n",
    "                     skiprows=[0,1,3])"
   ]
  },
  {
   "cell_type": "code",
   "execution_count": null,
   "metadata": {},
   "outputs": [],
   "source": []
  },
  {
   "cell_type": "code",
   "execution_count": null,
   "metadata": {},
   "outputs": [],
   "source": []
  },
  {
   "cell_type": "code",
   "execution_count": null,
   "metadata": {},
   "outputs": [],
   "source": []
  }
 ],
 "metadata": {
  "kernelspec": {
   "display_name": "Python 3",
   "language": "python",
   "name": "python3"
  },
  "language_info": {
   "codemirror_mode": {
    "name": "ipython",
    "version": 3
   },
   "file_extension": ".py",
   "mimetype": "text/x-python",
   "name": "python",
   "nbconvert_exporter": "python",
   "pygments_lexer": "ipython3",
   "version": "3.7.0"
  },
  "toc": {
   "base_numbering": 1,
   "nav_menu": {},
   "number_sections": true,
   "sideBar": true,
   "skip_h1_title": false,
   "title_cell": "Table of Contents",
   "title_sidebar": "Contents",
   "toc_cell": false,
   "toc_position": {},
   "toc_section_display": true,
   "toc_window_display": false
  },
  "varInspector": {
   "cols": {
    "lenName": 16,
    "lenType": 16,
    "lenVar": 40
   },
   "kernels_config": {
    "python": {
     "delete_cmd_postfix": "",
     "delete_cmd_prefix": "del ",
     "library": "var_list.py",
     "varRefreshCmd": "print(var_dic_list())"
    },
    "r": {
     "delete_cmd_postfix": ") ",
     "delete_cmd_prefix": "rm(",
     "library": "var_list.r",
     "varRefreshCmd": "cat(var_dic_list()) "
    }
   },
   "types_to_exclude": [
    "module",
    "function",
    "builtin_function_or_method",
    "instance",
    "_Feature"
   ],
   "window_display": false
  }
 },
 "nbformat": 4,
 "nbformat_minor": 4
}
