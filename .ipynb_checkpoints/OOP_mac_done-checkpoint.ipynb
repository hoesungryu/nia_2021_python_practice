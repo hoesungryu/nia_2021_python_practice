{
 "cells": [
  {
   "cell_type": "markdown",
   "metadata": {
    "ExecuteTime": {
     "end_time": "2021-07-23T02:29:44.613970Z",
     "start_time": "2021-07-23T02:29:44.607728Z"
    }
   },
   "source": [
    "<div class=\"alert alert-success\">\n",
    "<b>EXERCISE</b>:\n",
    "<ul>\n",
    "<li>\n",
    "Try executing the above classification, using LogisticRegression and RandomForestClassifier instead of DummyClassifier\n",
    "</li>\n",
    "<li>\n",
    "Does selecting a different subset of features help?\n",
    "</li>\n",
    "</ul>\n",
    "</div>"
   ]
  },
  {
   "cell_type": "markdown",
   "metadata": {},
   "source": [
    "<div class=\"alert alert-success\">\n",
    "    <b>EXERCISE</b>:\n",
    "     <ul>\n",
    "      <li>\n",
    "      **Change** `x_index` **and** `y_index` **in the above script\n",
    "and find a combination of two parameters\n",
    "which maximally separate the three classes.**\n",
    "      </li>\n",
    "      <li>\n",
    "      This exercise is a preview of **dimensionality reduction**, which we'll see later.\n",
    "      </li>\n",
    "    </ul>\n",
    "</div>"
   ]
  },
  {
   "cell_type": "markdown",
   "metadata": {},
   "source": [
    "## 클래스 만들기\n",
    "\n",
    "<!-- https://realpython.com/python3-object-oriented-programming/ -->\n",
    "<!-- https://zzsza.github.io/development/2020/07/05/python-class/ -->\n",
    "1. Python의 대부분 네이밍컨벤션이 단어와 단어사이에 _ 를 넣는 다면 클래스의 네이밍컨벤션은 CamelCase 를 사용합니다.\n",
    "\n",
    "2. __init__가 self를 받으며 객체의 내부에서 사용할 속성을 초기화\n",
    "\n",
    "3. self란?\n",
    "self는 인스턴스 자기 자신을 뜻함\n",
    "인스턴스 : 클래스에 의해 만들어진 객체\n",
    "self가 있는 것이 인스턴스 변수\n",
    "인자에 self를 받는 것은 인스턴스 메소드 : get_information 함수\n",
    "\n"
   ]
  },
  {
   "cell_type": "code",
   "execution_count": 1,
   "metadata": {
    "ExecuteTime": {
     "end_time": "2021-07-21T15:47:17.923060Z",
     "start_time": "2021-07-21T15:47:17.912147Z"
    }
   },
   "outputs": [
    {
     "data": {
      "text/plain": [
       "<__main__.Puppy at 0x7fdd605a2b38>"
      ]
     },
     "execution_count": 1,
     "metadata": {},
     "output_type": "execute_result"
    }
   ],
   "source": [
    "class Puppy():\n",
    "    pass\n",
    "\n",
    "Puppy1 = Puppy()\n",
    "Puppy1\n",
    "# 클래스(Puppy)의 인스턴스가 메모리의 0x7fdd605a2b38 위치에 생성되고 cPuppy1이라는 변수가 이를 바인딩하게 됩니다."
   ]
  },
  {
   "cell_type": "code",
   "execution_count": 2,
   "metadata": {
    "ExecuteTime": {
     "end_time": "2021-07-21T15:47:18.324546Z",
     "start_time": "2021-07-21T15:47:18.319727Z"
    }
   },
   "outputs": [],
   "source": [
    "class Puppy():\n",
    "    def __init__(self,_name):\n",
    "#         인스턴스 변수: self.name 같이 self가 붙은 변수\n",
    "        self.name = _name\n",
    "        self.direction = \"움직임없음\"\n",
    "        self.order = '명령없음'\n",
    "        \n",
    "    def go_to(self, direct):\n",
    "        self.direction = direct\n",
    "    \n",
    "    def run_stop(self, order):\n",
    "        self.order = order\n",
    "        \n",
    "    def __str__(self):\n",
    "        return self.name"
   ]
  },
  {
   "cell_type": "code",
   "execution_count": 3,
   "metadata": {
    "ExecuteTime": {
     "end_time": "2021-07-21T15:47:18.876659Z",
     "start_time": "2021-07-21T15:47:18.870958Z"
    }
   },
   "outputs": [
    {
     "name": "stdout",
     "output_type": "stream",
     "text": [
      "명령없음\n",
      "뛰어\n",
      "멈춰\n"
     ]
    }
   ],
   "source": [
    "puppy1 = Puppy(\"보더콜리\")\n",
    "print(puppy1.order)\n",
    "puppy1.run_stop(\"뛰어\")\n",
    "print(puppy1.order)\n",
    "puppy1.run_stop(\"멈춰\")\n",
    "print(puppy1.order)"
   ]
  },
  {
   "cell_type": "code",
   "execution_count": 10,
   "metadata": {
    "ExecuteTime": {
     "end_time": "2021-07-21T15:47:54.490497Z",
     "start_time": "2021-07-21T15:47:54.485306Z"
    }
   },
   "outputs": [
    {
     "data": {
      "text/plain": [
       "'보더콜리'"
      ]
     },
     "execution_count": 10,
     "metadata": {},
     "output_type": "execute_result"
    }
   ],
   "source": [
    "puppy1.name"
   ]
  },
  {
   "cell_type": "code",
   "execution_count": 87,
   "metadata": {
    "ExecuteTime": {
     "end_time": "2021-07-21T16:31:24.545027Z",
     "start_time": "2021-07-21T16:31:24.538928Z"
    }
   },
   "outputs": [],
   "source": [
    "class InitialAbility:\n",
    "    \"\"\"Super Class\"\"\"\n",
    "        \n",
    "    def talk(self):\n",
    "        print('Wal Wal')\n",
    "    def __str__(self):\n",
    "        return f'str : {store_name} 에서 다음과 같은 물건을 팝니다.'\n",
    "    \n",
    "class BorderCollie(InitialAbility):\n",
    "    \"\"\"Sub Class\"\"\"\n",
    "    def __init__(self,_name = 'BorderCollie'):\n",
    "#         인스턴스 변수: self.name 같이 self가 붙은 변수\n",
    "        self.name = _name\n",
    "        self.direction = \"움직임없음\"\n",
    "        self.order = '명령없음'\n",
    "        \n",
    "    def go_to(self, direct):\n",
    "        self.direction = direct\n",
    "    \n",
    "    def run_stop(self, order):\n",
    "        self.order = order\n",
    "        \n",
    "    def __str__(self): # print()\n",
    "        return self.name\n",
    "    \n",
    "    def __repr__(self): # print()\n",
    "        return self.name +'repr'"
   ]
  },
  {
   "cell_type": "code",
   "execution_count": 88,
   "metadata": {
    "ExecuteTime": {
     "end_time": "2021-07-21T16:31:24.754762Z",
     "start_time": "2021-07-21T16:31:24.750439Z"
    }
   },
   "outputs": [],
   "source": [
    "dog1 = BorderCollie()"
   ]
  },
  {
   "cell_type": "code",
   "execution_count": 89,
   "metadata": {
    "ExecuteTime": {
     "end_time": "2021-07-21T16:31:25.129973Z",
     "start_time": "2021-07-21T16:31:25.124725Z"
    }
   },
   "outputs": [
    {
     "data": {
      "text/plain": [
       "mappingproxy({'__module__': '__main__',\n",
       "              '__doc__': 'Sub Class',\n",
       "              '__init__': <function __main__.BorderCollie.__init__(self, _name='BorderCollie')>,\n",
       "              'go_to': <function __main__.BorderCollie.go_to(self, direct)>,\n",
       "              'run_stop': <function __main__.BorderCollie.run_stop(self, order)>,\n",
       "              '__str__': <function __main__.BorderCollie.__str__(self)>,\n",
       "              '__repr__': <function __main__.BorderCollie.__repr__(self)>})"
      ]
     },
     "execution_count": 89,
     "metadata": {},
     "output_type": "execute_result"
    }
   ],
   "source": [
    "# class의 값을 보고 싶으면 __dict__을 사용\n",
    "BorderCollie.__dict__"
   ]
  },
  {
   "cell_type": "code",
   "execution_count": 90,
   "metadata": {
    "ExecuteTime": {
     "end_time": "2021-07-21T16:31:25.561326Z",
     "start_time": "2021-07-21T16:31:25.556977Z"
    }
   },
   "outputs": [
    {
     "name": "stdout",
     "output_type": "stream",
     "text": [
      "BorderCollie\n"
     ]
    }
   ],
   "source": [
    "# python class magic method - str\n",
    "# __str__ 매직 메소드가 구현되어 있지 않은 상태에서 인스턴스를 print하면 object가 나옴\n",
    "# print() 또는 str() 함수가 호출될 때 사용 - 기본적으로 str 메소드가 먼저 실행되며, str 메소드가 없으면 repr 메소드를 실행함\n",
    "\n",
    "\n",
    "print(dog1)"
   ]
  },
  {
   "cell_type": "code",
   "execution_count": 91,
   "metadata": {
    "ExecuteTime": {
     "end_time": "2021-07-21T16:31:25.961302Z",
     "start_time": "2021-07-21T16:31:25.958537Z"
    }
   },
   "outputs": [],
   "source": [
    "# ython class magic method - repr\n",
    "# __repr__ : str과 비슷\n",
    "# 개발, 엔지니어 레벨에서 객체의 엄격한 타입을 표현시 사용\n",
    "# 객체 표현을 반환함\n",
    "# repr() 함수가 호출될 때 사용"
   ]
  },
  {
   "cell_type": "code",
   "execution_count": 92,
   "metadata": {
    "ExecuteTime": {
     "end_time": "2021-07-21T16:31:26.898832Z",
     "start_time": "2021-07-21T16:31:26.893068Z"
    }
   },
   "outputs": [
    {
     "data": {
      "text/plain": [
       "'BorderCollierepr'"
      ]
     },
     "execution_count": 92,
     "metadata": {},
     "output_type": "execute_result"
    }
   ],
   "source": [
    "dog1.__repr__()"
   ]
  },
  {
   "cell_type": "code",
   "execution_count": 93,
   "metadata": {
    "ExecuteTime": {
     "end_time": "2021-07-21T16:31:27.554477Z",
     "start_time": "2021-07-21T16:31:27.549016Z"
    }
   },
   "outputs": [
    {
     "data": {
      "text/plain": [
       "BorderCollierepr"
      ]
     },
     "execution_count": 93,
     "metadata": {},
     "output_type": "execute_result"
    }
   ],
   "source": [
    "dog1"
   ]
  },
  {
   "cell_type": "markdown",
   "metadata": {},
   "source": [
    "# 늘은 파이썬에서 객체를 표현하는 메소드인 __str__, __repr__를 살펴보았다. 이 두 메소드는 객체를 Universal interface인 평문으로 변환해 반환한다는 공통점이 있었다. 반면 __str__이 객체를 평문화하는 데 방점이 찍혀 있는 데 비해, __repr__는 객체를 표현하는 데 방점이 찍혀 있다는 차이점도 있었다."
   ]
  },
  {
   "cell_type": "code",
   "execution_count": null,
   "metadata": {},
   "outputs": [],
   "source": [
    "# https://it-neicebee.tistory.com/104"
   ]
  },
  {
   "cell_type": "code",
   "execution_count": 75,
   "metadata": {
    "ExecuteTime": {
     "end_time": "2021-07-21T16:25:07.526859Z",
     "start_time": "2021-07-21T16:25:07.522919Z"
    }
   },
   "outputs": [
    {
     "name": "stdout",
     "output_type": "stream",
     "text": [
      "Wal Wal\n"
     ]
    }
   ],
   "source": [
    "dog1.talk()"
   ]
  },
  {
   "cell_type": "code",
   "execution_count": 76,
   "metadata": {
    "ExecuteTime": {
     "end_time": "2021-07-21T16:25:08.013579Z",
     "start_time": "2021-07-21T16:25:08.010200Z"
    }
   },
   "outputs": [],
   "source": [
    "dog1.go_to('앞')"
   ]
  },
  {
   "cell_type": "code",
   "execution_count": 77,
   "metadata": {
    "ExecuteTime": {
     "end_time": "2021-07-21T16:25:09.777007Z",
     "start_time": "2021-07-21T16:25:09.770904Z"
    }
   },
   "outputs": [
    {
     "data": {
      "text/plain": [
       "'앞'"
      ]
     },
     "execution_count": 77,
     "metadata": {},
     "output_type": "execute_result"
    }
   ],
   "source": [
    "dog1.direction"
   ]
  },
  {
   "cell_type": "code",
   "execution_count": null,
   "metadata": {},
   "outputs": [],
   "source": [
    "class Country:\n",
    "    \"\"\"Super Class\"\"\"\n",
    "\n",
    "    name = '국가명'\n",
    "    population = '인구'\n",
    "    capital = '수도'\n",
    "\n",
    "    def show(self):\n",
    "        print('국가 클래스의 메소드입니다.')\n",
    "\n",
    "\n",
    "class Korea(Country):\n",
    "    \"\"\"Sub Class\"\"\"\n",
    "\n",
    "    def __init__(self, name):\n",
    "        self.name = name\n",
    "\n",
    "    def show_name(self):\n",
    "        print('국가 이름은 : ', self.name)"
   ]
  },
  {
   "cell_type": "code",
   "execution_count": null,
   "metadata": {},
   "outputs": [],
   "source": []
  },
  {
   "cell_type": "code",
   "execution_count": null,
   "metadata": {},
   "outputs": [],
   "source": [
    ">>> from inheritance import *\n",
    ">>> a = Korea('대한민국')\n",
    ">>> a.show()\n",
    "국가 클래스의 메소드입니다.\n",
    ">>> a.show_name()\n",
    "국가 이름은 :  대한민국\n",
    ">>> a.capital\n",
    "'수도'\n",
    ">>> a.name\n",
    "'대한민국'"
   ]
  },
  {
   "cell_type": "code",
   "execution_count": null,
   "metadata": {},
   "outputs": [],
   "source": [
    "galaxy = BorderCollie('Galaxy', 5000, 'South Korea')\n",
    "print(galaxy)  "
   ]
  },
  {
   "cell_type": "code",
   "execution_count": 11,
   "metadata": {
    "ExecuteTime": {
     "end_time": "2021-07-21T15:56:07.053750Z",
     "start_time": "2021-07-21T15:56:07.047703Z"
    }
   },
   "outputs": [
    {
     "name": "stdout",
     "output_type": "stream",
     "text": [
      "str : IPhone - 7000\n",
      "str : Galaxy 스마트폰은 Galaxy에서 출시되었고, South Korea에서 생산되었습니다. 가격은 5000입니다\n"
     ]
    }
   ],
   "source": [
    "class Smartphone:\n",
    "    def __init__(self, brand, price):\n",
    "        self._brand = brand\n",
    "        self._price = price\n",
    "      \n",
    "    \n",
    "    def __str__(self):\n",
    "        return f'str : {self._brand} - {self._price}'\n",
    "\n",
    "class Galaxy(Smartphone):\n",
    "    def __init__(self, brand, price, country):\n",
    "        self._brand = brand\n",
    "        self._price = price\n",
    "        self._country = country\n",
    " \n",
    "    def __str__(self):\n",
    "        return f'str : {self.__class__.__name__} 스마트폰은 {self._brand}에서 출시되었고, {self._country}에서 생산되었습니다. 가격은 {self._price}입니다'\n",
    "    \n",
    "iphone = Smartphone('IPhone', 7000)\n",
    "print(iphone)\n",
    "galaxy = Galaxy('Galaxy', 5000, 'South Korea')\n",
    "print(galaxy)    "
   ]
  },
  {
   "cell_type": "code",
   "execution_count": null,
   "metadata": {},
   "outputs": [],
   "source": []
  }
 ],
 "metadata": {
  "kernelspec": {
   "display_name": "Python 3",
   "language": "python",
   "name": "python3"
  },
  "language_info": {
   "codemirror_mode": {
    "name": "ipython",
    "version": 3
   },
   "file_extension": ".py",
   "mimetype": "text/x-python",
   "name": "python",
   "nbconvert_exporter": "python",
   "pygments_lexer": "ipython3",
   "version": "3.8.10"
  },
  "toc": {
   "base_numbering": 1,
   "nav_menu": {},
   "number_sections": true,
   "sideBar": true,
   "skip_h1_title": false,
   "title_cell": "Table of Contents",
   "title_sidebar": "Contents",
   "toc_cell": false,
   "toc_position": {},
   "toc_section_display": true,
   "toc_window_display": false
  },
  "varInspector": {
   "cols": {
    "lenName": 16,
    "lenType": 16,
    "lenVar": 40
   },
   "kernels_config": {
    "python": {
     "delete_cmd_postfix": "",
     "delete_cmd_prefix": "del ",
     "library": "var_list.py",
     "varRefreshCmd": "print(var_dic_list())"
    },
    "r": {
     "delete_cmd_postfix": ") ",
     "delete_cmd_prefix": "rm(",
     "library": "var_list.r",
     "varRefreshCmd": "cat(var_dic_list()) "
    }
   },
   "types_to_exclude": [
    "module",
    "function",
    "builtin_function_or_method",
    "instance",
    "_Feature"
   ],
   "window_display": false
  }
 },
 "nbformat": 4,
 "nbformat_minor": 4
}
