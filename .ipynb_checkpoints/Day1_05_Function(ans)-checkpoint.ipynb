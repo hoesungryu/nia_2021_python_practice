{
 "cells": [
  {
   "cell_type": "markdown",
   "id": "78b5216c",
   "metadata": {},
   "source": [
    "# Day1_05_Function\n",
    "\n",
    "<font size=5><b>함수 작성<b></font>\n",
    "<div align='right'>류 회 성<br>(Hoe Sung Ryu)</div>\n",
    "\n",
    "  \n",
    "<img src='./imgs/05_main.png' width=40%>\n",
    "\n",
    "    \n",
    "---"
   ]
  },
  {
   "cell_type": "markdown",
   "id": "9a2f05f5",
   "metadata": {
    "toc": true
   },
   "source": [
    "<h1>Table of Contents<span class=\"tocSkip\"></span></h1>\n",
    "<div class=\"toc\"><ul class=\"toc-item\"><li><span><a href=\"#Style-Guide-for-Python-Code\" data-toc-modified-id=\"Style-Guide-for-Python-Code-1\"><span class=\"toc-item-num\">1&nbsp;&nbsp;</span>Style Guide for Python Code</a></span><ul class=\"toc-item\"><li><span><a href=\"#들여쓰기Indentation\" data-toc-modified-id=\"들여쓰기Indentation-1.1\"><span class=\"toc-item-num\">1.1&nbsp;&nbsp;</span>들여쓰기Indentation</a></span></li><li><span><a href=\"#Max-number-of-chars\" data-toc-modified-id=\"Max-number-of-chars-1.2\"><span class=\"toc-item-num\">1.2&nbsp;&nbsp;</span>Max number of chars</a></span></li><li><span><a href=\"#File-encoding\" data-toc-modified-id=\"File-encoding-1.3\"><span class=\"toc-item-num\">1.3&nbsp;&nbsp;</span>File-encoding</a></span></li><li><span><a href=\"#Autopep8\" data-toc-modified-id=\"Autopep8-1.4\"><span class=\"toc-item-num\">1.4&nbsp;&nbsp;</span>Autopep8</a></span></li></ul></li><li><span><a href=\"#함수만들기\" data-toc-modified-id=\"함수만들기-2\"><span class=\"toc-item-num\">2&nbsp;&nbsp;</span>함수만들기</a></span><ul class=\"toc-item\"><li><span><a href=\"#리턴값-있는경우\" data-toc-modified-id=\"리턴값-있는경우-2.1\"><span class=\"toc-item-num\">2.1&nbsp;&nbsp;</span>리턴값 있는경우</a></span></li><li><span><a href=\"#리턴값-없는-경우\" data-toc-modified-id=\"리턴값-없는-경우-2.2\"><span class=\"toc-item-num\">2.2&nbsp;&nbsp;</span>리턴값 없는 경우</a></span></li><li><span><a href=\"#리턴값-유무에-따른-차이\" data-toc-modified-id=\"리턴값-유무에-따른-차이-2.3\"><span class=\"toc-item-num\">2.3&nbsp;&nbsp;</span>리턴값 유무에 따른 차이</a></span></li><li><span><a href=\"#단일-인자값-받기\" data-toc-modified-id=\"단일-인자값-받기-2.4\"><span class=\"toc-item-num\">2.4&nbsp;&nbsp;</span>단일 인자값 받기</a></span></li><li><span><a href=\"#복수-인자값-받기\" data-toc-modified-id=\"복수-인자값-받기-2.5\"><span class=\"toc-item-num\">2.5&nbsp;&nbsp;</span>복수 인자값 받기</a></span></li><li><span><a href=\"#매개변수의-기본인자값\" data-toc-modified-id=\"매개변수의-기본인자값-2.6\"><span class=\"toc-item-num\">2.6&nbsp;&nbsp;</span>매개변수의 기본인자값</a></span></li><li><span><a href=\"#함수의-결과값으로-여러-개-값-반환\" data-toc-modified-id=\"함수의-결과값으로-여러-개-값-반환-2.7\"><span class=\"toc-item-num\">2.7&nbsp;&nbsp;</span>함수의 결과값으로 여러 개 값 반환</a></span></li></ul></li></ul></div>"
   ]
  },
  {
   "cell_type": "markdown",
   "id": "799a21a1",
   "metadata": {},
   "source": [
    "## Style Guide for Python Code\n",
    "참조: https://www.python.org/dev/peps/pep-0008/\n",
    "\n",
    "\n",
    "- 들여쓰기는 공백 4개로 한다.\n",
    "- 한 줄의 최대 글자는 79자로 한다.\n",
    "- File encoding은 UTF-8 또는 ASCII\n",
    "- One Line One Import\n",
    "- Standard, 3rd Party, Local libraries 순서로 import\n",
    "- 소괄호, 중괄호, 대괄호 사이에 추가 공백을 입력금지"
   ]
  },
  {
   "attachments": {},
   "cell_type": "markdown",
   "id": "1d2b2e83",
   "metadata": {},
   "source": [
    "### 들여쓰기Indentation\n",
    "\n",
    "- Python 문법의 가장 큰 특징 \n",
    "- 코드의 구역을 들여쓰기로 구분(*다른 언어는 중괄호{}로 구분)\n",
    "- Spacebar 4 or Tab-Key (쥬피터가 아닌 곳에서는 다르다)\n",
    "- 오류가 발생하지 않도록 하나로 통일 할 것 \n",
    "\n",
    "<img src=https://www.hanselman.com/blog/content/binary/tabsvsspaces.gif>"
   ]
  },
  {
   "cell_type": "markdown",
   "id": "460d3d64",
   "metadata": {},
   "source": [
    "### Max number of chars\n",
    "\n",
    "한 라인당 `80자` 미만으로 작성한다. \n",
    "\n",
    "천공카드로 코딩할 때부터 정해진룰\n",
    "\n",
    "<img src=https://joonecomics.files.wordpress.com/2016/12/img_0670.png width=65%>\n"
   ]
  },
  {
   "cell_type": "markdown",
   "id": "3d2e199a",
   "metadata": {},
   "source": [
    "### File-encoding\n",
    "\n",
    ".py 를 만들때 파일 맨 위에 아래와 같은 내용을 적는다. \n",
    "\n",
    "```python\n",
    "# -*- coding: utf-8 -*\n",
    "```\n",
    "\n",
    "이렇게 작성하면 이 스크립트를 실행할때 utf-8모드로 동작한다"
   ]
  },
  {
   "cell_type": "markdown",
   "id": "d94c8b1d",
   "metadata": {},
   "source": [
    "### Autopep8\n",
    "수 많은 PEP8 규칙 존재.. \n",
    "하지만 우리에게는 `망치`가 있다."
   ]
  },
  {
   "cell_type": "markdown",
   "id": "d531c79b",
   "metadata": {},
   "source": [
    "## 함수만들기\n",
    "\n",
    ": `def`키워드와 `들여쓰기`\n",
    "\n",
    "```python\n",
    "def 함수이름(매개변수):\n",
    "    statement1\n",
    "    statement2\n",
    "    ...\n",
    "```\n",
    "- 함수이름 : 동사로 시작하면 함수이구나~~ \n",
    "- 매개변수 : 함수 호출 시의 인자값을 받아오는 변수들을 `,` 로 구분해서 나열\n",
    "- **함수는 만든다고 실행되는 것이 아님, 함수 호출해야 실행됨!!!**"
   ]
  },
  {
   "cell_type": "markdown",
   "id": "29096a52",
   "metadata": {},
   "source": [
    "### 리턴값 있는경우"
   ]
  },
  {
   "cell_type": "code",
   "execution_count": 6,
   "id": "b537d2b4",
   "metadata": {
    "ExecuteTime": {
     "end_time": "2021-07-23T10:50:06.062326Z",
     "start_time": "2021-07-23T10:50:06.058333Z"
    }
   },
   "outputs": [],
   "source": [
    "def say_hello():\n",
    "    return \"hello\""
   ]
  },
  {
   "cell_type": "code",
   "execution_count": 7,
   "id": "b146417b",
   "metadata": {
    "ExecuteTime": {
     "end_time": "2021-07-23T10:50:06.398542Z",
     "start_time": "2021-07-23T10:50:06.389567Z"
    }
   },
   "outputs": [
    {
     "data": {
      "text/plain": [
       "'hello'"
      ]
     },
     "execution_count": 7,
     "metadata": {},
     "output_type": "execute_result"
    }
   ],
   "source": [
    "say_hello()"
   ]
  },
  {
   "cell_type": "code",
   "execution_count": 2,
   "id": "017ddb51",
   "metadata": {
    "ExecuteTime": {
     "end_time": "2021-07-23T10:49:20.074210Z",
     "start_time": "2021-07-23T10:49:20.071216Z"
    }
   },
   "outputs": [
    {
     "name": "stdout",
     "output_type": "stream",
     "text": [
      "hello\n"
     ]
    }
   ],
   "source": [
    "print(say_hello())"
   ]
  },
  {
   "cell_type": "markdown",
   "id": "ed483e42",
   "metadata": {},
   "source": [
    "### 리턴값 없는 경우"
   ]
  },
  {
   "cell_type": "code",
   "execution_count": 3,
   "id": "b8dc232a",
   "metadata": {
    "ExecuteTime": {
     "end_time": "2021-07-23T10:49:51.981145Z",
     "start_time": "2021-07-23T10:49:51.978145Z"
    }
   },
   "outputs": [],
   "source": [
    "def say_hello():\n",
    "    print('hello')"
   ]
  },
  {
   "cell_type": "code",
   "execution_count": 4,
   "id": "74c16818",
   "metadata": {
    "ExecuteTime": {
     "end_time": "2021-07-23T10:49:55.836251Z",
     "start_time": "2021-07-23T10:49:55.832259Z"
    },
    "scrolled": true
   },
   "outputs": [
    {
     "name": "stdout",
     "output_type": "stream",
     "text": [
      "hello\n"
     ]
    }
   ],
   "source": [
    "say_hello()"
   ]
  },
  {
   "cell_type": "markdown",
   "id": "1f7a6520",
   "metadata": {},
   "source": [
    "### 리턴값 유무에 따른 차이 "
   ]
  },
  {
   "cell_type": "code",
   "execution_count": 9,
   "id": "ccb25a71",
   "metadata": {
    "ExecuteTime": {
     "end_time": "2021-07-23T10:59:21.191439Z",
     "start_time": "2021-07-23T10:59:21.188453Z"
    }
   },
   "outputs": [],
   "source": [
    "# 있다면 그 값을 저장 가능 \n",
    "def add_num(x,y):\n",
    "    return x+y "
   ]
  },
  {
   "cell_type": "code",
   "execution_count": 12,
   "id": "0b6d16e0",
   "metadata": {
    "ExecuteTime": {
     "end_time": "2021-07-23T10:59:28.699391Z",
     "start_time": "2021-07-23T10:59:28.695402Z"
    }
   },
   "outputs": [
    {
     "name": "stdout",
     "output_type": "stream",
     "text": [
      "4\n"
     ]
    }
   ],
   "source": [
    "x = add_num(1,3)\n",
    "print(x)"
   ]
  },
  {
   "cell_type": "code",
   "execution_count": 13,
   "id": "4598fa86",
   "metadata": {
    "ExecuteTime": {
     "end_time": "2021-07-23T10:59:32.919581Z",
     "start_time": "2021-07-23T10:59:32.915616Z"
    }
   },
   "outputs": [],
   "source": [
    "# 없다면 그 값을 저장 불가능 \n",
    "def add_num(x,y):\n",
    "    print(x+y)"
   ]
  },
  {
   "cell_type": "code",
   "execution_count": 14,
   "id": "4c68c2d0",
   "metadata": {
    "ExecuteTime": {
     "end_time": "2021-07-23T10:59:33.195590Z",
     "start_time": "2021-07-23T10:59:33.191573Z"
    }
   },
   "outputs": [
    {
     "name": "stdout",
     "output_type": "stream",
     "text": [
      "4\n",
      "None\n"
     ]
    }
   ],
   "source": [
    "# 리턴받는 것이 없으므로 자동으로none 으로 채워진것을 확인 할 수 있다. \n",
    "x = add_num(1,3)\n",
    "print(x)"
   ]
  },
  {
   "cell_type": "markdown",
   "id": "b1811365",
   "metadata": {},
   "source": [
    "### 단일 인자값 받기 "
   ]
  },
  {
   "cell_type": "code",
   "execution_count": 15,
   "id": "557203a7",
   "metadata": {
    "ExecuteTime": {
     "end_time": "2021-07-23T11:08:23.270133Z",
     "start_time": "2021-07-23T11:08:23.267135Z"
    }
   },
   "outputs": [],
   "source": [
    "def power(x):\n",
    "    return x*x"
   ]
  },
  {
   "cell_type": "code",
   "execution_count": 16,
   "id": "a59eaee5",
   "metadata": {
    "ExecuteTime": {
     "end_time": "2021-07-23T11:08:23.447624Z",
     "start_time": "2021-07-23T11:08:23.443660Z"
    }
   },
   "outputs": [
    {
     "name": "stdout",
     "output_type": "stream",
     "text": [
      "4\n"
     ]
    }
   ],
   "source": [
    "result = power(2)\n",
    "print(result)"
   ]
  },
  {
   "cell_type": "markdown",
   "id": "99519133",
   "metadata": {},
   "source": [
    "### 복수 인자값 받기 "
   ]
  },
  {
   "cell_type": "code",
   "execution_count": 18,
   "id": "66ef94c1",
   "metadata": {
    "ExecuteTime": {
     "end_time": "2021-07-23T11:11:41.591389Z",
     "start_time": "2021-07-23T11:11:41.588397Z"
    }
   },
   "outputs": [],
   "source": [
    "def add_num(x,y):\n",
    "    return x+y\n"
   ]
  },
  {
   "cell_type": "code",
   "execution_count": 19,
   "id": "c9aafa7a",
   "metadata": {
    "ExecuteTime": {
     "end_time": "2021-07-23T11:11:41.740107Z",
     "start_time": "2021-07-23T11:11:41.737116Z"
    }
   },
   "outputs": [
    {
     "name": "stdout",
     "output_type": "stream",
     "text": [
      "4\n"
     ]
    }
   ],
   "source": [
    "result = add_num(1,3)\n",
    "print(result)"
   ]
  },
  {
   "cell_type": "markdown",
   "id": "293f797d",
   "metadata": {},
   "source": [
    "### 매개변수의 기본인자값\n",
    "\n",
    "- 기본 값을 지정할 수 있다. \n",
    "- 기본인자값은 뒤에서부터만 줄 수 있음\n",
    "\n"
   ]
  },
  {
   "cell_type": "code",
   "execution_count": null,
   "id": "d7b94277",
   "metadata": {
    "ExecuteTime": {
     "end_time": "2021-07-23T11:13:07.452220Z",
     "start_time": "2021-07-23T11:13:07.448266Z"
    }
   },
   "outputs": [],
   "source": [
    "# times 같은 경우는 따로 쓰지 않을 경우 1로 default로 설정 \n",
    "def say(message, times = 1 ): \n",
    "    print( message * times )\n",
    "    "
   ]
  },
  {
   "cell_type": "code",
   "execution_count": 20,
   "id": "3f211437",
   "metadata": {
    "ExecuteTime": {
     "end_time": "2021-07-23T11:13:07.452220Z",
     "start_time": "2021-07-23T11:13:07.448266Z"
    }
   },
   "outputs": [
    {
     "name": "stdout",
     "output_type": "stream",
     "text": [
      "3333\n"
     ]
    }
   ],
   "source": [
    "say('3',4) # time 자리에 4 이므로 time = 4"
   ]
  },
  {
   "cell_type": "code",
   "execution_count": 21,
   "id": "f5480b03",
   "metadata": {
    "ExecuteTime": {
     "end_time": "2021-07-23T11:13:45.085455Z",
     "start_time": "2021-07-23T11:13:45.081457Z"
    }
   },
   "outputs": [
    {
     "name": "stdout",
     "output_type": "stream",
     "text": [
      "3\n"
     ]
    }
   ],
   "source": [
    "say('3') # time 자리에 변수가 없으므로 time = 1"
   ]
  },
  {
   "cell_type": "markdown",
   "id": "8ed5693d",
   "metadata": {},
   "source": [
    "<div class=\"alert alert-success\">\n",
    "    <b>예제(Exercise)</b>:\n",
    "    <ul>\n",
    "        <li>\n",
    "        다음 함수를 옳게 고치시오 \n",
    "        </li>\n",
    "    </ul>\n",
    "</div>\n",
    "\n",
    "```python\n",
    "def fun(a,b=10,c): \n",
    "    print(a,b,c)\n",
    "```"
   ]
  },
  {
   "cell_type": "code",
   "execution_count": 22,
   "id": "5a0f7f1d",
   "metadata": {
    "ExecuteTime": {
     "end_time": "2021-07-23T11:14:05.485346Z",
     "start_time": "2021-07-23T11:14:05.480331Z"
    }
   },
   "outputs": [
    {
     "ename": "SyntaxError",
     "evalue": "non-default argument follows default argument (<ipython-input-22-cfc712ed44ad>, line 1)",
     "output_type": "error",
     "traceback": [
      "\u001b[1;36m  File \u001b[1;32m\"<ipython-input-22-cfc712ed44ad>\"\u001b[1;36m, line \u001b[1;32m1\u001b[0m\n\u001b[1;33m    def fun(a,b=10,c): # c에서부터 줘야함\u001b[0m\n\u001b[1;37m            ^\u001b[0m\n\u001b[1;31mSyntaxError\u001b[0m\u001b[1;31m:\u001b[0m non-default argument follows default argument\n"
     ]
    }
   ],
   "source": [
    "def fun(a,b=10,c): # c에서부터 줘야함\n",
    "    print(a,b,c)"
   ]
  },
  {
   "cell_type": "markdown",
   "id": "2ffc83ae",
   "metadata": {},
   "source": [
    "### 함수의 결과값으로 여러 개 값 반환"
   ]
  },
  {
   "cell_type": "code",
   "execution_count": 28,
   "id": "ebe1d430",
   "metadata": {
    "ExecuteTime": {
     "end_time": "2021-07-23T11:27:34.713781Z",
     "start_time": "2021-07-23T11:27:34.688588Z"
    }
   },
   "outputs": [],
   "source": [
    "def solve_mod_remain(x,y):\n",
    "    return x//y, x%y\n",
    "\n",
    "몫,나머지= mydivmod(6,4)"
   ]
  },
  {
   "cell_type": "code",
   "execution_count": 29,
   "id": "09ff209b",
   "metadata": {
    "ExecuteTime": {
     "end_time": "2021-07-23T11:27:34.884674Z",
     "start_time": "2021-07-23T11:27:34.880656Z"
    },
    "scrolled": true
   },
   "outputs": [
    {
     "name": "stdout",
     "output_type": "stream",
     "text": [
      "Mod: 1\n",
      "Remain: 2\n"
     ]
    }
   ],
   "source": [
    "print(f'Mod: {몫}')\n",
    "print(f'Remain: {나머지}')"
   ]
  },
  {
   "cell_type": "markdown",
   "id": "80d6c2a5",
   "metadata": {},
   "source": [
    "<div class=\"alert alert-success\">\n",
    "    <b>실습(Practice)_01</b>:\n",
    "    <ul>\n",
    "        <li>\n",
    "        입력값이 홀수이면 True, 아니면 False를 return 하는 함수 odd(x)를 정의하십시오.(단, 입력값은 정수이다)\n",
    "        </li>\n",
    "    </ul>\n",
    "</div>\n",
    "\n",
    "테스트 케이스 \n",
    "- input:3 --> output: True\n",
    "- input:2 --> output: False\n"
   ]
  },
  {
   "cell_type": "code",
   "execution_count": 30,
   "id": "cfd5c56e",
   "metadata": {
    "ExecuteTime": {
     "end_time": "2021-07-23T11:31:57.525553Z",
     "start_time": "2021-07-23T11:31:55.317899Z"
    }
   },
   "outputs": [
    {
     "name": "stdout",
     "output_type": "stream",
     "text": [
      "3\n"
     ]
    },
    {
     "data": {
      "text/plain": [
       "True"
      ]
     },
     "execution_count": 30,
     "metadata": {},
     "output_type": "execute_result"
    }
   ],
   "source": [
    "x = int(input())\n",
    "def odd(x):\n",
    "    '''\n",
    "    ans = [False,True]\n",
    "    return ans[x%2]\n",
    "    '''\n",
    "    return bool(x%2)\n",
    "odd(x)"
   ]
  }
 ],
 "metadata": {
  "kernelspec": {
   "display_name": "Python 3",
   "language": "python",
   "name": "python3"
  },
  "language_info": {
   "codemirror_mode": {
    "name": "ipython",
    "version": 3
   },
   "file_extension": ".py",
   "mimetype": "text/x-python",
   "name": "python",
   "nbconvert_exporter": "python",
   "pygments_lexer": "ipython3",
   "version": "3.8.10"
  },
  "toc": {
   "base_numbering": 1,
   "nav_menu": {},
   "number_sections": true,
   "sideBar": true,
   "skip_h1_title": true,
   "title_cell": "Table of Contents",
   "title_sidebar": "Contents",
   "toc_cell": true,
   "toc_position": {},
   "toc_section_display": true,
   "toc_window_display": false
  },
  "varInspector": {
   "cols": {
    "lenName": 16,
    "lenType": 16,
    "lenVar": 40
   },
   "kernels_config": {
    "python": {
     "delete_cmd_postfix": "",
     "delete_cmd_prefix": "del ",
     "library": "var_list.py",
     "varRefreshCmd": "print(var_dic_list())"
    },
    "r": {
     "delete_cmd_postfix": ") ",
     "delete_cmd_prefix": "rm(",
     "library": "var_list.r",
     "varRefreshCmd": "cat(var_dic_list()) "
    }
   },
   "types_to_exclude": [
    "module",
    "function",
    "builtin_function_or_method",
    "instance",
    "_Feature"
   ],
   "window_display": false
  }
 },
 "nbformat": 4,
 "nbformat_minor": 5
}
