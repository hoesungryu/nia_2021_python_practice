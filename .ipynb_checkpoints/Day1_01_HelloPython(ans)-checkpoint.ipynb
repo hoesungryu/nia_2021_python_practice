{
 "cells": [
  {
   "cell_type": "markdown",
   "id": "07c7c4f2",
   "metadata": {},
   "source": [
    "# Day1_01_HelloPython\n",
    "\n",
    "<font size=5><b>파이썬 시작하기<b></font>\n",
    "<div align='right'>류 회 성<br>(Hoe Sung Ryu)</div>\n",
    "    \n",
    "  \n",
    "<img src='./imgs/01_main.png' width=50%>\n",
    "    \n",
    "---"
   ]
  },
  {
   "cell_type": "markdown",
   "id": "0fca59f8",
   "metadata": {
    "toc": true
   },
   "source": [
    "<h1>Table of Contents<span class=\"tocSkip\"></span></h1>\n",
    "<div class=\"toc\"><ul class=\"toc-item\"><li><span><a href=\"#Python\" data-toc-modified-id=\"Python-1\"><span class=\"toc-item-num\">1&nbsp;&nbsp;</span>Python</a></span><ul class=\"toc-item\"><li><span><a href=\"#Python의-특징\" data-toc-modified-id=\"Python의-특징-1.1\"><span class=\"toc-item-num\">1.1&nbsp;&nbsp;</span>Python의 특징</a></span></li><li><span><a href=\"#Python-활용분야\" data-toc-modified-id=\"Python-활용분야-1.2\"><span class=\"toc-item-num\">1.2&nbsp;&nbsp;</span>Python 활용분야</a></span></li></ul></li><li><span><a href=\"#Python-Basic-Grammar\" data-toc-modified-id=\"Python-Basic-Grammar-2\"><span class=\"toc-item-num\">2&nbsp;&nbsp;</span>Python Basic Grammar</a></span><ul class=\"toc-item\"><li><span><a href=\"#print(Hello-World)-→-작은-따옴표나-큰-따옴표로-닫지-않으면-혹은-섞어쓰면,-아래와-같은-Syntax-Error-발생\" data-toc-modified-id=\"print(Hello-World)-→-작은-따옴표나-큰-따옴표로-닫지-않으면-혹은-섞어쓰면,-아래와-같은-Syntax-Error-발생-2.1\"><span class=\"toc-item-num\">2.1&nbsp;&nbsp;</span>print(Hello World) → 작은 따옴표나 큰 따옴표로 닫지 않으면 혹은 섞어쓰면, 아래와 같은 Syntax Error 발생</a></span></li><li><span><a href=\"#여러-줄-출력하기\" data-toc-modified-id=\"여러-줄-출력하기-2.2\"><span class=\"toc-item-num\">2.2&nbsp;&nbsp;</span>여러 줄 출력하기</a></span></li></ul></li><li><span><a href=\"#쥬피터-사용하여-생산성-높히기\" data-toc-modified-id=\"쥬피터-사용하여-생산성-높히기-3\"><span class=\"toc-item-num\">3&nbsp;&nbsp;</span>쥬피터 사용하여 생산성 높히기</a></span><ul class=\"toc-item\"><li><span><a href=\"#Jupyter-notebook-단축키\" data-toc-modified-id=\"Jupyter-notebook-단축키-3.1\"><span class=\"toc-item-num\">3.1&nbsp;&nbsp;</span>Jupyter notebook 단축키</a></span></li></ul></li><li><span><a href=\"#익스텐션을-활용\" data-toc-modified-id=\"익스텐션을-활용-4\"><span class=\"toc-item-num\">4&nbsp;&nbsp;</span>익스텐션을 활용</a></span></li><li><span><a href=\"#출력과입력\" data-toc-modified-id=\"출력과입력-5\"><span class=\"toc-item-num\">5&nbsp;&nbsp;</span>출력과입력</a></span><ul class=\"toc-item\"><li><span><a href=\"#사용자로부터-값을-입력받아-출력해보기\" data-toc-modified-id=\"사용자로부터-값을-입력받아-출력해보기-5.1\"><span class=\"toc-item-num\">5.1&nbsp;&nbsp;</span>사용자로부터 값을 입력받아 출력해보기</a></span></li><li><span><a href=\"#기본제공함수\" data-toc-modified-id=\"기본제공함수-5.2\"><span class=\"toc-item-num\">5.2&nbsp;&nbsp;</span>기본제공함수</a></span></li><li><span><a href=\"#help-함수를-사용하여-함수-설명-살펴보기\" data-toc-modified-id=\"help-함수를-사용하여-함수-설명-살펴보기-5.3\"><span class=\"toc-item-num\">5.3&nbsp;&nbsp;</span>help 함수를 사용하여 함수 설명 살펴보기</a></span></li><li><span><a href=\"#절대값-연산자-사용해보기\" data-toc-modified-id=\"절대값-연산자-사용해보기-5.4\"><span class=\"toc-item-num\">5.4&nbsp;&nbsp;</span>절대값 연산자 사용해보기</a></span></li><li><span><a href=\"#map-함수-사용해보기\" data-toc-modified-id=\"map-함수-사용해보기-5.5\"><span class=\"toc-item-num\">5.5&nbsp;&nbsp;</span>map 함수 사용해보기</a></span></li></ul></li></ul></div>"
   ]
  },
  {
   "cell_type": "markdown",
   "id": "2d5a93b6",
   "metadata": {},
   "source": [
    "## Python\n",
    "\n",
    "1991년 네덜란드 출신 프로그래머 귀도 반 로썸(Guido Van Rossum)가 발표한 프로그램언어\n",
    "\n",
    "\n",
    "### Python의 특징\n",
    "1. Simple : 엄청난 개발자 층을 가지게 했고, 수많은 라이브러리를 만들어냄\n",
    "2. Cross Platform : 기존언어들과 호환, 다양한 OS에서 사용 할 수 있음\n",
    "\n",
    "### Python 활용분야\n",
    "1. Web Server\n",
    "    - Flask, django와 같은 웹프로그래밍\n",
    "2. Crawling\n",
    "    - selenium, request, BeatifulSoup\n",
    "→ 우리가 집중해야할 부분\n",
    "\n",
    "3. Data Science \n",
    "    - Pandas, Sklearn, Numpy, SciPy\n",
    "4. AI(Machine Learning, Deep Learning)\n",
    "    -  Tensorflow, PyTorch\n",
    "    \n",
    "---"
   ]
  },
  {
   "cell_type": "code",
   "execution_count": 10,
   "id": "6613d4d1",
   "metadata": {
    "ExecuteTime": {
     "end_time": "2021-07-22T13:10:33.535498Z",
     "start_time": "2021-07-22T13:10:33.530486Z"
    }
   },
   "outputs": [
    {
     "name": "stdout",
     "output_type": "stream",
     "text": [
      "The Zen of Python, by Tim Peters\n",
      "\n",
      "Beautiful is better than ugly.\n",
      "Explicit is better than implicit.\n",
      "Simple is better than complex.\n",
      "Complex is better than complicated.\n",
      "Flat is better than nested.\n",
      "Sparse is better than dense.\n",
      "Readability counts.\n",
      "Special cases aren't special enough to break the rules.\n",
      "Although practicality beats purity.\n",
      "Errors should never pass silently.\n",
      "Unless explicitly silenced.\n",
      "In the face of ambiguity, refuse the temptation to guess.\n",
      "There should be one-- and preferably only one --obvious way to do it.\n",
      "Although that way may not be obvious at first unless you're Dutch.\n",
      "Now is better than never.\n",
      "Although never is often better than *right* now.\n",
      "If the implementation is hard to explain, it's a bad idea.\n",
      "If the implementation is easy to explain, it may be a good idea.\n",
      "Namespaces are one honking great idea -- let's do more of those!\n"
     ]
    }
   ],
   "source": [
    "# EasterEgg(이스터에그)\n",
    "import this"
   ]
  },
  {
   "cell_type": "markdown",
   "id": "a1d39a78",
   "metadata": {},
   "source": [
    "## Python Basic Grammar\n",
    "\n",
    "> `Hello world!` 를 출력하시오. "
   ]
  },
  {
   "cell_type": "code",
   "execution_count": 1,
   "id": "27c76eb4",
   "metadata": {
    "ExecuteTime": {
     "end_time": "2021-07-22T11:50:34.284151Z",
     "start_time": "2021-07-22T11:50:34.280162Z"
    }
   },
   "outputs": [
    {
     "name": "stdout",
     "output_type": "stream",
     "text": [
      "Hello World!\n",
      "Hello World!\n"
     ]
    }
   ],
   "source": [
    "print('Hello World!') # 화면에 출력하라는 명령어\n",
    "print(\"Hello World!\") # 작은 따옴표, 큰 따옴표 모두 가능"
   ]
  },
  {
   "cell_type": "markdown",
   "id": "8a000893",
   "metadata": {},
   "source": [
    "### print(Hello World) → 작은 따옴표나 큰 따옴표로 닫지 않으면 혹은 섞어쓰면, 아래와 같은 Syntax Error 발생\n",
    "\n",
    "```python\n",
    "\n",
    "  File \"<ipython-input-5-10cb182148e3>\", line 1\n",
    "    print(Hello World)\n",
    "                    ^\n",
    "SyntaxError: invalid syntax\n",
    "\n",
    "```"
   ]
  },
  {
   "cell_type": "code",
   "execution_count": 2,
   "id": "424512e5",
   "metadata": {
    "ExecuteTime": {
     "end_time": "2021-07-22T11:50:34.875025Z",
     "start_time": "2021-07-22T11:50:34.871035Z"
    }
   },
   "outputs": [
    {
     "ename": "SyntaxError",
     "evalue": "invalid syntax (<ipython-input-2-10cb182148e3>, line 1)",
     "output_type": "error",
     "traceback": [
      "\u001b[1;36m  File \u001b[1;32m\"<ipython-input-2-10cb182148e3>\"\u001b[1;36m, line \u001b[1;32m1\u001b[0m\n\u001b[1;33m    print(Hello World)\u001b[0m\n\u001b[1;37m                ^\u001b[0m\n\u001b[1;31mSyntaxError\u001b[0m\u001b[1;31m:\u001b[0m invalid syntax\n"
     ]
    }
   ],
   "source": [
    "print(Hello World)"
   ]
  },
  {
   "cell_type": "markdown",
   "id": "65e1a810",
   "metadata": {},
   "source": [
    "### 여러 줄 출력하기\n",
    "\n",
    "여러줄을 출력하기 위해서는 `\"\"\" <출력하고 싶은 글> \"\"\"` 를 사용하여 출력합니다. "
   ]
  },
  {
   "cell_type": "code",
   "execution_count": 3,
   "id": "e12de36a",
   "metadata": {
    "ExecuteTime": {
     "end_time": "2021-07-22T11:50:35.422748Z",
     "start_time": "2021-07-22T11:50:35.418759Z"
    }
   },
   "outputs": [
    {
     "name": "stdout",
     "output_type": "stream",
     "text": [
      "\n",
      "여러 줄 출력하고 싶으면\n",
      "이렇게 하면 됩니다.\n",
      "\n"
     ]
    }
   ],
   "source": [
    "print('''\n",
    "여러 줄 출력하고 싶으면\n",
    "이렇게 하면 됩니다.\n",
    "''')"
   ]
  },
  {
   "cell_type": "markdown",
   "id": "dee6444e",
   "metadata": {},
   "source": [
    "## 쥬피터 사용하여 생산성 높히기 \n",
    "\n",
    "### Jupyter notebook 단축키\n",
    "<img src='./imgs/shortcut.png' width=60%>"
   ]
  },
  {
   "cell_type": "markdown",
   "id": "a0332942",
   "metadata": {},
   "source": [
    "## 익스텐션을 활용\n",
    "1. ```bash\n",
    "pip install jupyter_contrib_nbextensions && jupyter contrib nbextension install\n",
    "```\n",
    "\n",
    "2. \n",
    "```bash\n",
    "conda install -c conda-forge autopep8\n",
    "```\n",
    "\n",
    "---"
   ]
  },
  {
   "cell_type": "markdown",
   "id": "02bda698",
   "metadata": {},
   "source": [
    "## 출력과입력\n",
    "\n",
    "### 사용자로부터 값을 입력받아 출력해보기 \n",
    "> 1. 인자값(Argument)을 최저시급Minimum_wage 에 할당 \n",
    "> 2. 할당 받은 값을 출력"
   ]
  },
  {
   "cell_type": "code",
   "execution_count": 4,
   "id": "210afd65",
   "metadata": {
    "ExecuteTime": {
     "end_time": "2021-07-22T11:50:37.939127Z",
     "start_time": "2021-07-22T11:50:37.614854Z"
    }
   },
   "outputs": [
    {
     "name": "stdout",
     "output_type": "stream",
     "text": [
      "\n"
     ]
    }
   ],
   "source": [
    "a = input() # a의 값을 입력하는 함수"
   ]
  },
  {
   "cell_type": "code",
   "execution_count": 5,
   "id": "f0521fc0",
   "metadata": {
    "ExecuteTime": {
     "end_time": "2021-07-22T11:50:38.576148Z",
     "start_time": "2021-07-22T11:50:38.306707Z"
    }
   },
   "outputs": [
    {
     "name": "stdout",
     "output_type": "stream",
     "text": [
      "값을 입력하세요 : \n"
     ]
    }
   ],
   "source": [
    "b = input('값을 입력하세요 : ')  # b 값을 입력할때 문장을 같이 출력 한다."
   ]
  },
  {
   "cell_type": "code",
   "execution_count": 6,
   "id": "24c5b5f2",
   "metadata": {
    "ExecuteTime": {
     "end_time": "2021-07-22T11:50:39.292238Z",
     "start_time": "2021-07-22T11:50:38.911232Z"
    }
   },
   "outputs": [
    {
     "name": "stdout",
     "output_type": "stream",
     "text": [
      "최저시급\n",
      "\n"
     ]
    }
   ],
   "source": [
    "mini_wage = input(\"최저시급\")\n",
    "print(mini_wage)"
   ]
  },
  {
   "cell_type": "markdown",
   "id": "dde99a81",
   "metadata": {},
   "source": [
    "### 기본제공함수\n",
    "파이썬에서는 여러함수를 기본적으로 제공한다.  \n",
    "파이썬에는 기본 제공 함수(Built-in 함수)가 있다. 이런 함수들은 언제 어디서나 사용(call)할 수 있다.\n",
    "\n",
    "<img src='./imgs/built_in_functions.png' width=60%>"
   ]
  },
  {
   "cell_type": "markdown",
   "id": "cce37ba9",
   "metadata": {},
   "source": [
    "### help 함수를 사용하여 함수 설명 살펴보기 \n",
    "\n",
    "> 헬프함수를 사용하여 절대값 함수 살펴보기 \n"
   ]
  },
  {
   "cell_type": "code",
   "execution_count": 7,
   "id": "f5f23ba7",
   "metadata": {
    "ExecuteTime": {
     "end_time": "2021-07-22T11:50:40.288962Z",
     "start_time": "2021-07-22T11:50:40.283979Z"
    }
   },
   "outputs": [
    {
     "name": "stdout",
     "output_type": "stream",
     "text": [
      "Help on built-in function abs in module builtins:\n",
      "\n",
      "abs(x, /)\n",
      "    Return the absolute value of the argument.\n",
      "\n"
     ]
    }
   ],
   "source": [
    "# help function\n",
    "help(abs)"
   ]
  },
  {
   "cell_type": "markdown",
   "id": "c7506e01",
   "metadata": {},
   "source": [
    "### 절대값 연산자 사용해보기 \n",
    "\n",
    "> 변수 a 에 -10을 할당하고 양수로 바꾸어보기 "
   ]
  },
  {
   "cell_type": "code",
   "execution_count": 8,
   "id": "2f3e4b03",
   "metadata": {
    "ExecuteTime": {
     "end_time": "2021-07-22T11:50:41.011281Z",
     "start_time": "2021-07-22T11:50:41.008261Z"
    }
   },
   "outputs": [
    {
     "name": "stdout",
     "output_type": "stream",
     "text": [
      "10\n"
     ]
    }
   ],
   "source": [
    "a =  -10 \n",
    "print(abs(a))"
   ]
  },
  {
   "cell_type": "markdown",
   "id": "68e2fc50",
   "metadata": {},
   "source": [
    "### map 함수 사용해보기 \n",
    "\n",
    "> 1. 두개의 인자값을 map 함수로 받으며, \n",
    "> 2. 형태는 숫자형인 int를 사용 할 것 "
   ]
  },
  {
   "cell_type": "code",
   "execution_count": 9,
   "id": "de6f0f67",
   "metadata": {
    "ExecuteTime": {
     "end_time": "2021-07-22T11:50:43.679398Z",
     "start_time": "2021-07-22T11:50:41.637855Z"
    }
   },
   "outputs": [
    {
     "name": "stdout",
     "output_type": "stream",
     "text": [
      "두개의 값:\n"
     ]
    },
    {
     "ename": "ValueError",
     "evalue": "not enough values to unpack (expected 2, got 0)",
     "output_type": "error",
     "traceback": [
      "\u001b[1;31m---------------------------------------------------------------------------\u001b[0m",
      "\u001b[1;31mValueError\u001b[0m                                Traceback (most recent call last)",
      "\u001b[1;32m<ipython-input-9-e1357122e747>\u001b[0m in \u001b[0;36m<module>\u001b[1;34m\u001b[0m\n\u001b[1;32m----> 1\u001b[1;33m \u001b[0ma\u001b[0m\u001b[1;33m,\u001b[0m\u001b[0mb\u001b[0m \u001b[1;33m=\u001b[0m \u001b[0mmap\u001b[0m\u001b[1;33m(\u001b[0m\u001b[0mint\u001b[0m\u001b[1;33m,\u001b[0m \u001b[0minput\u001b[0m\u001b[1;33m(\u001b[0m\u001b[1;34m'두개의 값:'\u001b[0m\u001b[1;33m)\u001b[0m\u001b[1;33m.\u001b[0m\u001b[0msplit\u001b[0m\u001b[1;33m(\u001b[0m\u001b[1;33m)\u001b[0m\u001b[1;33m)\u001b[0m\u001b[1;33m\u001b[0m\u001b[1;33m\u001b[0m\u001b[0m\n\u001b[0m",
      "\u001b[1;31mValueError\u001b[0m: not enough values to unpack (expected 2, got 0)"
     ]
    }
   ],
   "source": [
    "a,b = map(int, input('두개의 값:').split())"
   ]
  },
  {
   "cell_type": "code",
   "execution_count": null,
   "id": "1a6641da",
   "metadata": {},
   "outputs": [],
   "source": []
  }
 ],
 "metadata": {
  "kernelspec": {
   "display_name": "Python 3",
   "language": "python",
   "name": "python3"
  },
  "language_info": {
   "codemirror_mode": {
    "name": "ipython",
    "version": 3
   },
   "file_extension": ".py",
   "mimetype": "text/x-python",
   "name": "python",
   "nbconvert_exporter": "python",
   "pygments_lexer": "ipython3",
   "version": "3.8.10"
  },
  "toc": {
   "base_numbering": 1,
   "nav_menu": {},
   "number_sections": true,
   "sideBar": true,
   "skip_h1_title": true,
   "title_cell": "Table of Contents",
   "title_sidebar": "Contents",
   "toc_cell": true,
   "toc_position": {},
   "toc_section_display": true,
   "toc_window_display": false
  },
  "varInspector": {
   "cols": {
    "lenName": 16,
    "lenType": 16,
    "lenVar": 40
   },
   "kernels_config": {
    "python": {
     "delete_cmd_postfix": "",
     "delete_cmd_prefix": "del ",
     "library": "var_list.py",
     "varRefreshCmd": "print(var_dic_list())"
    },
    "r": {
     "delete_cmd_postfix": ") ",
     "delete_cmd_prefix": "rm(",
     "library": "var_list.r",
     "varRefreshCmd": "cat(var_dic_list()) "
    }
   },
   "types_to_exclude": [
    "module",
    "function",
    "builtin_function_or_method",
    "instance",
    "_Feature"
   ],
   "window_display": false
  }
 },
 "nbformat": 4,
 "nbformat_minor": 5
}
