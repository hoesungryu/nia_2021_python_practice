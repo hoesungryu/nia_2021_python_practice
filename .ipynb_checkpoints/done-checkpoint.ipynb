{
 "cells": [
  {
   "cell_type": "code",
   "execution_count": 14,
   "id": "b0514ed7",
   "metadata": {
    "ExecuteTime": {
     "end_time": "2021-07-14T22:05:41.270208Z",
     "start_time": "2021-07-14T22:05:41.266219Z"
    }
   },
   "outputs": [],
   "source": [
    "a = list()"
   ]
  },
  {
   "cell_type": "code",
   "execution_count": 15,
   "id": "e795d24f",
   "metadata": {
    "ExecuteTime": {
     "end_time": "2021-07-14T22:05:41.448603Z",
     "start_time": "2021-07-14T22:05:41.446580Z"
    }
   },
   "outputs": [],
   "source": [
    "b  = []"
   ]
  },
  {
   "cell_type": "code",
   "execution_count": 16,
   "id": "8d11355a",
   "metadata": {
    "ExecuteTime": {
     "end_time": "2021-07-14T22:05:41.750663Z",
     "start_time": "2021-07-14T22:05:41.745699Z"
    }
   },
   "outputs": [
    {
     "data": {
      "text/plain": [
       "True"
      ]
     },
     "execution_count": 16,
     "metadata": {},
     "output_type": "execute_result"
    }
   ],
   "source": [
    "a == b"
   ]
  },
  {
   "cell_type": "code",
   "execution_count": 17,
   "id": "94926f52",
   "metadata": {
    "ExecuteTime": {
     "end_time": "2021-07-14T22:08:15.137961Z",
     "start_time": "2021-07-14T22:08:15.132995Z"
    }
   },
   "outputs": [
    {
     "name": "stdout",
     "output_type": "stream",
     "text": [
      "b\n"
     ]
    }
   ],
   "source": [
    "my_list = ['b']\n",
    "print(my_list[0])"
   ]
  },
  {
   "cell_type": "code",
   "execution_count": 20,
   "id": "1802b1f9",
   "metadata": {
    "ExecuteTime": {
     "end_time": "2021-07-14T22:24:25.963769Z",
     "start_time": "2021-07-14T22:24:25.958781Z"
    }
   },
   "outputs": [
    {
     "name": "stdout",
     "output_type": "stream",
     "text": [
      "['b', ['ㄱ', 'ㄴ'], 'c', 'd']\n",
      "['a', 'b', ['ㄱ', 'ㄴ']]\n"
     ]
    }
   ],
   "source": [
    "my_list = ['a','b',['ㄱ','ㄴ'],'c','d']\n",
    "print(my_list[1:]) # 이상\n",
    "print(my_list[:3]) # 미만"
   ]
  },
  {
   "cell_type": "code",
   "execution_count": 40,
   "id": "ab0b0a11",
   "metadata": {
    "ExecuteTime": {
     "end_time": "2021-07-14T22:38:29.895592Z",
     "start_time": "2021-07-14T22:38:29.890606Z"
    }
   },
   "outputs": [
    {
     "name": "stdout",
     "output_type": "stream",
     "text": [
      "['d']\n",
      "['a', 'b', ['ㄱ', 'ㄴ']]\n"
     ]
    }
   ],
   "source": [
    "my_list = ['a','b',['ㄱ','ㄴ'],'c','d']\n",
    "print(my_list[-1:]) # ~ 전 부터 (이상)\n",
    "print(my_list[:-2]) # ~ 까지    (미만)"
   ]
  },
  {
   "cell_type": "code",
   "execution_count": 41,
   "id": "188e43f5",
   "metadata": {
    "ExecuteTime": {
     "end_time": "2021-07-14T22:38:30.088305Z",
     "start_time": "2021-07-14T22:38:30.083319Z"
    }
   },
   "outputs": [
    {
     "data": {
      "text/plain": [
       "['a', ['ㄱ', 'ㄴ'], 'd']"
      ]
     },
     "execution_count": 41,
     "metadata": {},
     "output_type": "execute_result"
    }
   ],
   "source": [
    "my_list[::2]"
   ]
  },
  {
   "cell_type": "code",
   "execution_count": 42,
   "id": "9161c810",
   "metadata": {
    "ExecuteTime": {
     "end_time": "2021-07-14T22:38:30.275369Z",
     "start_time": "2021-07-14T22:38:30.271379Z"
    }
   },
   "outputs": [
    {
     "data": {
      "text/plain": [
       "['a', 'b', ['ㄱ', 'ㄴ'], 'c', 'd']"
      ]
     },
     "execution_count": 42,
     "metadata": {},
     "output_type": "execute_result"
    }
   ],
   "source": [
    "my_list[:]"
   ]
  },
  {
   "cell_type": "code",
   "execution_count": 43,
   "id": "55a180ca",
   "metadata": {
    "ExecuteTime": {
     "end_time": "2021-07-14T22:38:30.465139Z",
     "start_time": "2021-07-14T22:38:30.460152Z"
    }
   },
   "outputs": [
    {
     "data": {
      "text/plain": [
       "['a', 'b', ['ㄱ', 'ㄴ'], 'c', 'd']"
      ]
     },
     "execution_count": 43,
     "metadata": {},
     "output_type": "execute_result"
    }
   ],
   "source": [
    "my_list[::]"
   ]
  },
  {
   "cell_type": "code",
   "execution_count": 47,
   "id": "7eb6baa3",
   "metadata": {
    "ExecuteTime": {
     "end_time": "2021-07-14T22:44:02.625151Z",
     "start_time": "2021-07-14T22:44:02.621160Z"
    }
   },
   "outputs": [
    {
     "name": "stdout",
     "output_type": "stream",
     "text": [
      "['a', ['ㄱ', 'ㄴ']]\n",
      "['a', 'b', ['ㄱ', 'ㄴ'], 'c']\n"
     ]
    }
   ],
   "source": [
    "my_list = ['a','b',['ㄱ','ㄴ'],'c','d']\n",
    "print(my_list[0:4:1])\n",
    "print(my_list[0:4:2])\n",
    "print(my_list[:])\n",
    "print(my_list[::2])"
   ]
  },
  {
   "cell_type": "code",
   "execution_count": null,
   "id": "66f76c67",
   "metadata": {},
   "outputs": [],
   "source": []
  },
  {
   "cell_type": "markdown",
   "id": "929a2f13",
   "metadata": {},
   "source": [
    "값 수정과 삭제 "
   ]
  },
  {
   "cell_type": "code",
   "execution_count": 49,
   "id": "f6f69a4e",
   "metadata": {
    "ExecuteTime": {
     "end_time": "2021-07-14T23:05:39.272681Z",
     "start_time": "2021-07-14T23:05:39.268673Z"
    }
   },
   "outputs": [
    {
     "name": "stdout",
     "output_type": "stream",
     "text": [
      "[1000, 'b', ['ㄱ', 'ㄴ'], 'c', 'd']\n",
      "['b', ['ㄱ', 'ㄴ'], 'c', 'd']\n"
     ]
    }
   ],
   "source": [
    "my_list = ['a','b',['ㄱ','ㄴ'],'c','d']\n",
    "my_list[0] = 1000\n",
    "print(my_list)\n",
    "del my_list[0]\n",
    "print(my_list)"
   ]
  },
  {
   "cell_type": "code",
   "execution_count": 51,
   "id": "650aeb68",
   "metadata": {
    "ExecuteTime": {
     "end_time": "2021-07-14T23:17:23.327568Z",
     "start_time": "2021-07-14T23:17:23.322558Z"
    }
   },
   "outputs": [
    {
     "data": {
      "text/plain": [
       "['a', 'b', 'c', 'd', 'e', 'f']"
      ]
     },
     "execution_count": 51,
     "metadata": {},
     "output_type": "execute_result"
    }
   ],
   "source": [
    "['a','b','c','d'] + ['e','f']"
   ]
  },
  {
   "cell_type": "code",
   "execution_count": 63,
   "id": "2a18e4a7",
   "metadata": {
    "ExecuteTime": {
     "end_time": "2021-07-14T23:23:50.354296Z",
     "start_time": "2021-07-14T23:23:50.349311Z"
    }
   },
   "outputs": [
    {
     "data": {
      "text/plain": [
       "['a', 'b', 'c', 'd', 'a', 'b', 'c', 'd', 'a', 'b', 'c', 'd']"
      ]
     },
     "execution_count": 63,
     "metadata": {},
     "output_type": "execute_result"
    }
   ],
   "source": [
    "['a','b','c','d']*3"
   ]
  },
  {
   "cell_type": "code",
   "execution_count": 66,
   "id": "420ecbc9",
   "metadata": {
    "ExecuteTime": {
     "end_time": "2021-07-14T23:26:05.717819Z",
     "start_time": "2021-07-14T23:26:05.713804Z"
    }
   },
   "outputs": [
    {
     "name": "stdout",
     "output_type": "stream",
     "text": [
      "['a', 'b', 'c', 'd', 'e', 'f']\n"
     ]
    }
   ],
   "source": [
    "alphabet_list = ['a','b','c','d']\n",
    "alphabet_list.extend(['e','f'])\n",
    "print(tmp_list)"
   ]
  },
  {
   "cell_type": "code",
   "execution_count": 67,
   "id": "7ecd30c5",
   "metadata": {
    "ExecuteTime": {
     "end_time": "2021-07-14T23:26:06.029725Z",
     "start_time": "2021-07-14T23:26:06.026733Z"
    }
   },
   "outputs": [
    {
     "name": "stdout",
     "output_type": "stream",
     "text": [
      "['a', 'b', 'c', 'd', 'e', 'f', 'g', 'h', 'i']\n"
     ]
    }
   ],
   "source": [
    "# tmp_list = ['a','b','c','d']\n",
    "alphabet_list.extend('ghi') # 하나씩 iterable 하게 쪼개서 넣는다..\n",
    "print(tmp_list)"
   ]
  },
  {
   "cell_type": "code",
   "execution_count": 68,
   "id": "e007be9a",
   "metadata": {
    "ExecuteTime": {
     "end_time": "2021-07-14T23:27:35.556893Z",
     "start_time": "2021-07-14T23:27:35.552903Z"
    }
   },
   "outputs": [
    {
     "name": "stdout",
     "output_type": "stream",
     "text": [
      "['a', 'b', 'c', 'd', ['e', 'f']]\n",
      "['a', 'b', 'c', 'd', ['e', 'f'], 'ghi']\n"
     ]
    }
   ],
   "source": [
    "alphabet_list = ['a','b','c','d']\n",
    "alphabet_list.append(['e','f']) # 전체를 넣는다. \n",
    "print(alphabet_list)\n",
    "alphabet_list.append('ghi') \n",
    "print(alphabet_list)"
   ]
  },
  {
   "cell_type": "markdown",
   "id": "7eb8c8a3",
   "metadata": {},
   "source": [
    "# 리스트 할당"
   ]
  },
  {
   "cell_type": "code",
   "execution_count": 34,
   "id": "a980f1bd",
   "metadata": {
    "ExecuteTime": {
     "end_time": "2021-07-14T22:36:37.775105Z",
     "start_time": "2021-07-14T22:36:37.772113Z"
    }
   },
   "outputs": [],
   "source": [
    "my_list = ['a','b',['ㄱ','ㄴ'],'c','d']\n",
    "my_list_copy = my_list\n",
    "print(my_list is my_list_copy) # 같은 곳을 참조하는가?\n",
    "\n",
    "del my_list[0] # my_list 삭제 \n",
    "\n",
    "print(my_list)\n",
    "print(my_list_copy)"
   ]
  },
  {
   "cell_type": "code",
   "execution_count": 50,
   "id": "e6dcd0c0",
   "metadata": {
    "ExecuteTime": {
     "end_time": "2021-07-14T23:11:16.651433Z",
     "start_time": "2021-07-14T23:11:16.647431Z"
    }
   },
   "outputs": [
    {
     "name": "stdout",
     "output_type": "stream",
     "text": [
      "True\n",
      "[100, 'b', ['ㄱ', 'ㄴ'], 'c', 'd']\n",
      "[100, 'b', ['ㄱ', 'ㄴ'], 'c', 'd']\n"
     ]
    }
   ],
   "source": [
    "my_list = ['a','b',['ㄱ','ㄴ'],'c','d']\n",
    "my_list_copy = my_list\n",
    "print(my_list is my_list_copy) # 같은 곳을 참조하는가?\n",
    "\n",
    "my_list[0] = 100 # my_list 갱신 \n",
    "\n",
    "print(my_list)\n",
    "print(my_list_copy)"
   ]
  },
  {
   "cell_type": "code",
   "execution_count": 35,
   "id": "725739bd",
   "metadata": {
    "ExecuteTime": {
     "end_time": "2021-07-14T22:36:47.707859Z",
     "start_time": "2021-07-14T22:36:47.703868Z"
    },
    "scrolled": true
   },
   "outputs": [
    {
     "data": {
      "text/plain": [
       "True"
      ]
     },
     "execution_count": 35,
     "metadata": {},
     "output_type": "execute_result"
    }
   ],
   "source": [
    "my_list is my_list_copy"
   ]
  },
  {
   "cell_type": "code",
   "execution_count": 36,
   "id": "b71656bf",
   "metadata": {
    "ExecuteTime": {
     "end_time": "2021-07-14T22:37:00.344177Z",
     "start_time": "2021-07-14T22:37:00.340188Z"
    }
   },
   "outputs": [],
   "source": [
    "del my_list[0]"
   ]
  },
  {
   "cell_type": "code",
   "execution_count": 37,
   "id": "551a494c",
   "metadata": {
    "ExecuteTime": {
     "end_time": "2021-07-14T22:37:05.465490Z",
     "start_time": "2021-07-14T22:37:05.461474Z"
    }
   },
   "outputs": [
    {
     "data": {
      "text/plain": [
       "['b', ['ㄱ', 'ㄴ'], 'c', 'd']"
      ]
     },
     "execution_count": 37,
     "metadata": {},
     "output_type": "execute_result"
    }
   ],
   "source": [
    "my_list"
   ]
  },
  {
   "cell_type": "code",
   "execution_count": 38,
   "id": "a0fac81e",
   "metadata": {
    "ExecuteTime": {
     "end_time": "2021-07-14T22:37:08.489069Z",
     "start_time": "2021-07-14T22:37:08.485119Z"
    }
   },
   "outputs": [
    {
     "data": {
      "text/plain": [
       "['b', ['ㄱ', 'ㄴ'], 'c', 'd']"
      ]
     },
     "execution_count": 38,
     "metadata": {},
     "output_type": "execute_result"
    }
   ],
   "source": [
    "my_list_copy"
   ]
  },
  {
   "cell_type": "code",
   "execution_count": null,
   "id": "82eee7eb",
   "metadata": {},
   "outputs": [],
   "source": []
  },
  {
   "cell_type": "code",
   "execution_count": null,
   "id": "1cc8723f",
   "metadata": {},
   "outputs": [],
   "source": []
  },
  {
   "cell_type": "code",
   "execution_count": 47,
   "id": "4ddebe4c",
   "metadata": {
    "ExecuteTime": {
     "end_time": "2021-07-19T07:25:49.628336Z",
     "start_time": "2021-07-19T07:25:49.624320Z"
    }
   },
   "outputs": [
    {
     "name": "stdout",
     "output_type": "stream",
     "text": [
      "0,1,2,3,4,5,6,7,8,9,"
     ]
    }
   ],
   "source": [
    "for i in range(10):\n",
    "    print(i, end=',')\n"
   ]
  },
  {
   "cell_type": "code",
   "execution_count": 48,
   "id": "c0eb166a",
   "metadata": {
    "ExecuteTime": {
     "end_time": "2021-07-19T07:27:13.755695Z",
     "start_time": "2021-07-19T07:27:13.751702Z"
    }
   },
   "outputs": [
    {
     "name": "stdout",
     "output_type": "stream",
     "text": [
      "1,2,3,4,5,6,7,8,9,10,"
     ]
    }
   ],
   "source": [
    "# 다양한 반복문\n",
    "for i in range(1,10+1):\n",
    "    print(i, end=',')"
   ]
  },
  {
   "cell_type": "code",
   "execution_count": 49,
   "id": "ac069567",
   "metadata": {
    "ExecuteTime": {
     "end_time": "2021-07-19T07:27:32.253664Z",
     "start_time": "2021-07-19T07:27:32.248674Z"
    }
   },
   "outputs": [
    {
     "name": "stdout",
     "output_type": "stream",
     "text": [
      "1,3,5,7,9,"
     ]
    }
   ],
   "source": [
    "for i in range(1,10+1,2):\n",
    "    print(i, end=',')"
   ]
  },
  {
   "cell_type": "code",
   "execution_count": 55,
   "id": "56bec95f",
   "metadata": {
    "ExecuteTime": {
     "end_time": "2021-07-19T07:28:05.750973Z",
     "start_time": "2021-07-19T07:28:05.747014Z"
    }
   },
   "outputs": [
    {
     "name": "stdout",
     "output_type": "stream",
     "text": [
      "10,9,8,7,6,5,4,3,2,1,"
     ]
    }
   ],
   "source": [
    "for i in range(10,1-1,-1):\n",
    "    print(i, end=',')"
   ]
  },
  {
   "cell_type": "code",
   "execution_count": null,
   "id": "0bc89ef2",
   "metadata": {},
   "outputs": [],
   "source": []
  },
  {
   "cell_type": "code",
   "execution_count": 59,
   "id": "1c2a0ff4",
   "metadata": {
    "ExecuteTime": {
     "end_time": "2021-07-19T07:30:49.837740Z",
     "start_time": "2021-07-19T07:30:49.833750Z"
    }
   },
   "outputs": [
    {
     "name": "stdout",
     "output_type": "stream",
     "text": [
      "0,1,2,3,4,5,6,7,8,9, \n",
      "END\n"
     ]
    }
   ],
   "source": [
    "for i in range(10):\n",
    "    print(i, end=',')\n",
    "else:\n",
    "    print('END')"
   ]
  },
  {
   "cell_type": "code",
   "execution_count": 62,
   "id": "a22e8858",
   "metadata": {
    "ExecuteTime": {
     "end_time": "2021-07-19T07:31:58.880063Z",
     "start_time": "2021-07-19T07:31:58.876045Z"
    }
   },
   "outputs": [
    {
     "name": "stdout",
     "output_type": "stream",
     "text": [
      "0,1,2,3,4,"
     ]
    }
   ],
   "source": [
    "for i in range(10):\n",
    "    if i == 5: \n",
    "        break\n",
    "    print(i, end=',')\n",
    "else:\n",
    "    print('END')"
   ]
  },
  {
   "cell_type": "code",
   "execution_count": 63,
   "id": "56a0877a",
   "metadata": {
    "ExecuteTime": {
     "end_time": "2021-07-19T07:32:05.238939Z",
     "start_time": "2021-07-19T07:32:05.234921Z"
    }
   },
   "outputs": [
    {
     "name": "stdout",
     "output_type": "stream",
     "text": [
      "0,1,2,3,4,6,7,8,9,END\n"
     ]
    }
   ],
   "source": [
    "for i in range(10):\n",
    "    if i == 5: \n",
    "        continue\n",
    "    print(i, end=',')\n",
    "else:\n",
    "    print('END')"
   ]
  },
  {
   "cell_type": "code",
   "execution_count": null,
   "id": "fba8ff89",
   "metadata": {},
   "outputs": [],
   "source": [
    "for i in range(1, 50+1):\n",
    "    if i % 2 == 0:\n",
    "        print(i, '')"
   ]
  }
 ],
 "metadata": {
  "kernelspec": {
   "display_name": "Python 3",
   "language": "python",
   "name": "python3"
  },
  "language_info": {
   "codemirror_mode": {
    "name": "ipython",
    "version": 3
   },
   "file_extension": ".py",
   "mimetype": "text/x-python",
   "name": "python",
   "nbconvert_exporter": "python",
   "pygments_lexer": "ipython3",
   "version": "3.8.10"
  },
  "toc": {
   "base_numbering": 1,
   "nav_menu": {},
   "number_sections": true,
   "sideBar": true,
   "skip_h1_title": false,
   "title_cell": "Table of Contents",
   "title_sidebar": "Contents",
   "toc_cell": false,
   "toc_position": {},
   "toc_section_display": true,
   "toc_window_display": false
  },
  "varInspector": {
   "cols": {
    "lenName": 16,
    "lenType": 16,
    "lenVar": 40
   },
   "kernels_config": {
    "python": {
     "delete_cmd_postfix": "",
     "delete_cmd_prefix": "del ",
     "library": "var_list.py",
     "varRefreshCmd": "print(var_dic_list())"
    },
    "r": {
     "delete_cmd_postfix": ") ",
     "delete_cmd_prefix": "rm(",
     "library": "var_list.r",
     "varRefreshCmd": "cat(var_dic_list()) "
    }
   },
   "types_to_exclude": [
    "module",
    "function",
    "builtin_function_or_method",
    "instance",
    "_Feature"
   ],
   "window_display": false
  }
 },
 "nbformat": 4,
 "nbformat_minor": 5
}
