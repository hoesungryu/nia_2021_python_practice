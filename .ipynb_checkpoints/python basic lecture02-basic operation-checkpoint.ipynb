{
 "cells": [
  {
   "cell_type": "markdown",
   "metadata": {},
   "source": [
    "<img src='./img/intel-logo.jpg' width=50%, Fig1> \n",
    "\n",
    "# 파이썬 기초강의\n",
    "<font size=5><b>02. Basic Operation<b></font>\n",
    "\n",
    "<div align='right'>성  민  석 (Minsuk  Sung)</div>\n",
    "<div align='right'>류  회  성 (Hoesung Ryu)</div>\n",
    "\n",
    "<img src='./img/life is short.png' width=50%, Fig2> \n",
    "\n"
   ]
  },
  {
   "cell_type": "markdown",
   "metadata": {
    "toc": true
   },
   "source": [
    "<h1>강의목차<span class=\"tocSkip\"></span></h1>\n",
    "<div class=\"toc\"><ul class=\"toc-item\"><li><span><a href=\"#다양한-연산자들\" data-toc-modified-id=\"다양한-연산자들-1\"><span class=\"toc-item-num\">1&nbsp;&nbsp;</span>다양한 연산자들</a></span><ul class=\"toc-item\"><li><span><a href=\"#사칙-연산자\" data-toc-modified-id=\"사칙-연산자-1.1\"><span class=\"toc-item-num\">1.1&nbsp;&nbsp;</span>사칙 연산자</a></span></li></ul></li><li><span><a href=\"#비교-연산자\" data-toc-modified-id=\"비교-연산자-2\"><span class=\"toc-item-num\">2&nbsp;&nbsp;</span>비교 연산자</a></span><ul class=\"toc-item\"><li><span><a href=\"#비교연산자\" data-toc-modified-id=\"비교연산자-2.1\"><span class=\"toc-item-num\">2.1&nbsp;&nbsp;</span>비교연산자</a></span></li><li><span><a href=\"#ASCII-Code\" data-toc-modified-id=\"ASCII-Code-2.2\"><span class=\"toc-item-num\">2.2&nbsp;&nbsp;</span>ASCII Code</a></span></li></ul></li><li><span><a href=\"#논리연산자(Logical-Operators)\" data-toc-modified-id=\"논리연산자(Logical-Operators)-3\"><span class=\"toc-item-num\">3&nbsp;&nbsp;</span>논리연산자(Logical Operators)</a></span><ul class=\"toc-item\"><li><span><a href=\"#연산순서\" data-toc-modified-id=\"연산순서-3.1\"><span class=\"toc-item-num\">3.1&nbsp;&nbsp;</span>연산순서</a></span></li></ul></li><li><span><a href=\"#Example-:\" data-toc-modified-id=\"Example-:-4\"><span class=\"toc-item-num\">4&nbsp;&nbsp;</span>Example :</a></span><ul class=\"toc-item\"><li><span><a href=\"#직육면체의-부피를-구해보자\" data-toc-modified-id=\"직육면체의-부피를-구해보자-4.1\"><span class=\"toc-item-num\">4.1&nbsp;&nbsp;</span>직육면체의 부피를 구해보자</a></span></li><li><span><a href=\"#연이율구하기\" data-toc-modified-id=\"연이율구하기-4.2\"><span class=\"toc-item-num\">4.2&nbsp;&nbsp;</span>연이율구하기</a></span></li><li><span><a href=\"#삼각형-넓이를-구하시오\" data-toc-modified-id=\"삼각형-넓이를-구하시오-4.3\"><span class=\"toc-item-num\">4.3&nbsp;&nbsp;</span>삼각형 넓이를 구하시오</a></span></li></ul></li></ul></div>"
   ]
  },
  {
   "cell_type": "markdown",
   "metadata": {},
   "source": [
    "---\n",
    "## 다양한 연산자들\n",
    "\n",
    "### 사칙 연산자\n",
    "- 더하기 (+)\n",
    "- 빼기 (-)\n",
    "- 곱하기 (*)\n",
    "- 나누기 (/,//,%)\n",
    "- $n$ 제곱 (**)\n",
    "\n",
    "수많은 연산자들이 존재한다."
   ]
  },
  {
   "cell_type": "code",
   "execution_count": 11,
   "metadata": {
    "ExecuteTime": {
     "end_time": "2019-11-30T10:42:47.230108Z",
     "start_time": "2019-11-30T10:42:47.226227Z"
    }
   },
   "outputs": [
    {
     "data": {
      "text/plain": [
       "-1"
      ]
     },
     "execution_count": 11,
     "metadata": {},
     "output_type": "execute_result"
    }
   ],
   "source": [
    "# 덧셈,뺄셈\n",
    "2+2-5"
   ]
  },
  {
   "cell_type": "code",
   "execution_count": 12,
   "metadata": {
    "ExecuteTime": {
     "end_time": "2019-11-30T10:42:47.386482Z",
     "start_time": "2019-11-30T10:42:47.382284Z"
    }
   },
   "outputs": [
    {
     "data": {
      "text/plain": [
       "2.6666666666666665"
      ]
     },
     "execution_count": 12,
     "metadata": {},
     "output_type": "execute_result"
    }
   ],
   "source": [
    "# 나눗셈 \n",
    "8/3"
   ]
  },
  {
   "cell_type": "code",
   "execution_count": 13,
   "metadata": {
    "ExecuteTime": {
     "end_time": "2019-11-30T10:42:47.513292Z",
     "start_time": "2019-11-30T10:42:47.509482Z"
    }
   },
   "outputs": [
    {
     "data": {
      "text/plain": [
       "2"
      ]
     },
     "execution_count": 13,
     "metadata": {},
     "output_type": "execute_result"
    }
   ],
   "source": [
    "# 나눗셈 몫 구하기 \n",
    "8//3"
   ]
  },
  {
   "cell_type": "code",
   "execution_count": 14,
   "metadata": {
    "ExecuteTime": {
     "end_time": "2019-11-30T10:42:47.629784Z",
     "start_time": "2019-11-30T10:42:47.625742Z"
    }
   },
   "outputs": [
    {
     "data": {
      "text/plain": [
       "3"
      ]
     },
     "execution_count": 14,
     "metadata": {},
     "output_type": "execute_result"
    }
   ],
   "source": [
    "# 나눗셈 나머지구하기 \n",
    "8%5"
   ]
  },
  {
   "cell_type": "code",
   "execution_count": 15,
   "metadata": {
    "ExecuteTime": {
     "end_time": "2019-11-30T10:42:47.761934Z",
     "start_time": "2019-11-30T10:42:47.758123Z"
    }
   },
   "outputs": [
    {
     "data": {
      "text/plain": [
       "10"
      ]
     },
     "execution_count": 15,
     "metadata": {},
     "output_type": "execute_result"
    }
   ],
   "source": [
    "# 곱하기 \n",
    "5*2"
   ]
  },
  {
   "cell_type": "code",
   "execution_count": 16,
   "metadata": {
    "ExecuteTime": {
     "end_time": "2019-11-30T10:42:47.886939Z",
     "start_time": "2019-11-30T10:42:47.882927Z"
    }
   },
   "outputs": [
    {
     "data": {
      "text/plain": [
       "25"
      ]
     },
     "execution_count": 16,
     "metadata": {},
     "output_type": "execute_result"
    }
   ],
   "source": [
    "# 지수승\n",
    "5**2"
   ]
  },
  {
   "cell_type": "markdown",
   "metadata": {},
   "source": [
    "## 비교 연산자 \n",
    "\n",
    "### 비교연산자 \n",
    "- == \n",
    "- != \n",
    "- <,>\n"
   ]
  },
  {
   "cell_type": "code",
   "execution_count": 22,
   "metadata": {
    "ExecuteTime": {
     "end_time": "2019-11-30T10:47:12.201659Z",
     "start_time": "2019-11-30T10:47:12.197806Z"
    }
   },
   "outputs": [
    {
     "name": "stdout",
     "output_type": "stream",
     "text": [
      "True\n",
      "False\n"
     ]
    }
   ],
   "source": [
    "# 숫자 비교 \n",
    "a=3\n",
    "b=3\n",
    "\n",
    "print(a==b) # 같으면 True, 다르면 False\n",
    "print(a!=b) # 다르면 True, 같으면 False"
   ]
  },
  {
   "cell_type": "code",
   "execution_count": 23,
   "metadata": {
    "ExecuteTime": {
     "end_time": "2019-11-30T10:47:12.352293Z",
     "start_time": "2019-11-30T10:47:12.348592Z"
    }
   },
   "outputs": [
    {
     "name": "stdout",
     "output_type": "stream",
     "text": [
      "False\n"
     ]
    }
   ],
   "source": [
    "# 문자열 비교 \n",
    "str1 = 'hello'\n",
    "str2 = 'world'\n",
    "\n",
    "print(str1==str2)"
   ]
  },
  {
   "cell_type": "markdown",
   "metadata": {},
   "source": [
    "### ASCII Code\n",
    "`A`merican `S`tandard `C`ode for `I`nformation `I`nterchange\n",
    "\n",
    "<img src='./img/ascii_code.png' width=70%> "
   ]
  },
  {
   "cell_type": "code",
   "execution_count": 24,
   "metadata": {
    "ExecuteTime": {
     "end_time": "2019-11-30T10:47:13.464990Z",
     "start_time": "2019-11-30T10:47:13.461843Z"
    }
   },
   "outputs": [
    {
     "name": "stdout",
     "output_type": "stream",
     "text": [
      "False\n"
     ]
    }
   ],
   "source": [
    "# 'h'가 'w'보다 먼저 나오기 때문에 (즉, 사전 순으로 비교)\n",
    "print(str1>str2) "
   ]
  },
  {
   "cell_type": "markdown",
   "metadata": {},
   "source": []
  },
  {
   "cell_type": "markdown",
   "metadata": {},
   "source": [
    "### 연산순서\n",
    "\n",
    "|연산순서|연산자|\n",
    "|---|---|\n",
    "|1|`()`|  \n",
    "|2|`**`|  \n",
    "|3|`+,-`|  \n",
    "|4|`*,/,//,%`|  \n",
    "|5|`<,<=,>,>=,!=,==`|  \n",
    "|6|`not`|  \n",
    "|7|`and`| \n",
    "|8|`or`|"
   ]
  },
  {
   "cell_type": "markdown",
   "metadata": {
    "ExecuteTime": {
     "end_time": "2019-11-30T11:21:19.607744Z",
     "start_time": "2019-11-30T11:21:19.603732Z"
    }
   },
   "source": [
    "## Example :\n",
    "\n",
    "### 직육면체의 부피를 구해보자\n",
    "<img src='./img/volume.png'>"
   ]
  },
  {
   "cell_type": "code",
   "execution_count": 27,
   "metadata": {
    "ExecuteTime": {
     "end_time": "2019-11-30T11:21:37.385245Z",
     "start_time": "2019-11-30T11:21:37.382437Z"
    }
   },
   "outputs": [],
   "source": [
    "# 변수 설정 \n",
    "length = 5\n",
    "height = 5\n",
    "width = 20"
   ]
  },
  {
   "cell_type": "code",
   "execution_count": 28,
   "metadata": {
    "ExecuteTime": {
     "end_time": "2019-11-30T11:21:40.575938Z",
     "start_time": "2019-11-30T11:21:40.572249Z"
    }
   },
   "outputs": [
    {
     "name": "stdout",
     "output_type": "stream",
     "text": [
      "직육면체의 부피 : 500\n"
     ]
    }
   ],
   "source": [
    "volume = length*width*height\n",
    "print('직육면체의 부피 : %d'%volume)"
   ]
  },
  {
   "cell_type": "code",
   "execution_count": 29,
   "metadata": {
    "ExecuteTime": {
     "end_time": "2019-11-30T11:21:43.800555Z",
     "start_time": "2019-11-30T11:21:43.797100Z"
    }
   },
   "outputs": [
    {
     "name": "stdout",
     "output_type": "stream",
     "text": [
      "직육면체의 부피 : 1000\n"
     ]
    }
   ],
   "source": [
    "length = 10 # 다시 할당하면 됨\n",
    "volume = length*width*height\n",
    "print('직육면체의 부피 : %d'%volume)"
   ]
  },
  {
   "cell_type": "markdown",
   "metadata": {},
   "source": [
    "### 연이율구하기 \n",
    "```\n",
    " 2017년 7월 2일 연이율 3% 계좌를 생성하여 3000000원을 입금한 경우\n",
    " 2018년 7월 2일 계좌 총액을 계산하여 출력하는 프로그램을 작성하십시오.\n",
    " 프로그램에서 입금액을 위한 변수, 연이율을 위한 변수를 만들어 사용하십시오.\n",
    "\n",
    "위의 프로그램을  입금액과 연이율을 입력받아 총액을 출력하도록 변경하십시오.\n",
    "언어 : python3\n",
    "입력 설명 :\n",
    "\n",
    "다음은 입금액과 연이율의 입력예입니다.\n",
    "===============================\n",
    "입금액(원), 연이율(%):: 4000, 3\n",
    "출력 설명 :\n",
    "\n",
    "다음과 같이 1년 후 총액을 출력합니다.\n",
    "===============================\n",
    "4120.0\n",
    "\n",
    "샘플 입력 : 4000, 3\n",
    "샘플 출력 : 4120.0\n",
    "``` "
   ]
  },
  {
   "cell_type": "code",
   "execution_count": 1,
   "metadata": {
    "ExecuteTime": {
     "end_time": "2019-11-30T15:43:00.886088Z",
     "start_time": "2019-11-30T15:42:58.219727Z"
    },
    "scrolled": true
   },
   "outputs": [
    {
     "name": "stdout",
     "output_type": "stream",
     "text": [
      "입금액(원), 연이율(%)::4000,3\n",
      "4120.0\n"
     ]
    }
   ],
   "source": [
    "money, ratio = eval(input('입금액(원), 연이율(%)::'))\n",
    "print(money*(1+(1/100)*ratio))"
   ]
  },
  {
   "cell_type": "markdown",
   "metadata": {},
   "source": [
    "### 삼각형 넓이를 구하시오\n",
    "```\n",
    "\n",
    "삼각형의 세변의 길이가 3,4,5인 경우 삼각형 넓이는 다음과 같이 계산합니다.\n",
    "     x = (3 + 4 + 5)/2\n",
    "     넒이는   x(x-3)(x-4)(x-5)  의 양의 제곱근\n",
    "언어 : python3\n",
    "입력 설명 :\n",
    "\n",
    "다음과 같이 삼각형의 세변의 길이를 입력합니다.\n",
    "======================\n",
    "삼각형 세변의 길이(comma로 구분): 3,4,5\n",
    "출력 설명 :\n",
    "\n",
    "다음과 같이 삼각형의 넓이를 출력합니다.\n",
    "======================\n",
    "6.0\n",
    "\n",
    "샘플 입력 : 3,4,5\n",
    "샘플 출력 : 6.0\n",
    "```"
   ]
  },
  {
   "cell_type": "code",
   "execution_count": 2,
   "metadata": {
    "ExecuteTime": {
     "end_time": "2019-11-30T15:43:46.733074Z",
     "start_time": "2019-11-30T15:43:41.925006Z"
    }
   },
   "outputs": [
    {
     "name": "stdout",
     "output_type": "stream",
     "text": [
      "3,4,5\n",
      "6.0\n"
     ]
    }
   ],
   "source": [
    "a,b,c = eval(input())\n",
    "x = (a+b+c)/2\n",
    "area = (x*(x-a)*(x-b)*(x-c))**(0.5)\n",
    "print(area)"
   ]
  },
  {
   "cell_type": "code",
   "execution_count": 30,
   "metadata": {
    "ExecuteTime": {
     "end_time": "2019-11-30T11:21:59.424785Z",
     "start_time": "2019-11-30T11:21:47.788410Z"
    }
   },
   "outputs": [
    {
     "name": "stdout",
     "output_type": "stream",
     "text": [
      "\n",
      "Welcome to Python 3.6's help utility!\n",
      "\n",
      "If this is your first time using Python, you should definitely check out\n",
      "the tutorial on the Internet at https://docs.python.org/3.6/tutorial/.\n",
      "\n",
      "Enter the name of any module, keyword, or topic to get help on writing\n",
      "Python programs and using Python modules.  To quit this help utility and\n",
      "return to the interpreter, just type \"quit\".\n",
      "\n",
      "To get a list of available modules, keywords, symbols, or topics, type\n",
      "\"modules\", \"keywords\", \"symbols\", or \"topics\".  Each module also comes\n",
      "with a one-line summary of what it does; to list the modules whose name\n",
      "or summary contain a given string such as \"spam\", type \"modules spam\".\n",
      "\n",
      "help> +\n",
      "Operator precedence\n",
      "*******************\n",
      "\n",
      "The following table summarizes the operator precedence in Python, from\n",
      "lowest precedence (least binding) to highest precedence (most\n",
      "binding).  Operators in the same box have the same precedence.  Unless\n",
      "the syntax is explicitly given, operators are binary.  Operators in\n",
      "the same box group left to right (except for exponentiation, which\n",
      "groups from right to left).\n",
      "\n",
      "Note that comparisons, membership tests, and identity tests, all have\n",
      "the same precedence and have a left-to-right chaining feature as\n",
      "described in the Comparisons section.\n",
      "\n",
      "+-------------------------------------------------+---------------------------------------+\n",
      "| Operator                                        | Description                           |\n",
      "|=================================================|=======================================|\n",
      "| \"lambda\"                                        | Lambda expression                     |\n",
      "+-------------------------------------------------+---------------------------------------+\n",
      "| \"if\" – \"else\"                                   | Conditional expression                |\n",
      "+-------------------------------------------------+---------------------------------------+\n",
      "| \"or\"                                            | Boolean OR                            |\n",
      "+-------------------------------------------------+---------------------------------------+\n",
      "| \"and\"                                           | Boolean AND                           |\n",
      "+-------------------------------------------------+---------------------------------------+\n",
      "| \"not\" \"x\"                                       | Boolean NOT                           |\n",
      "+-------------------------------------------------+---------------------------------------+\n",
      "| \"in\", \"not in\", \"is\", \"is not\", \"<\", \"<=\", \">\", | Comparisons, including membership     |\n",
      "| \">=\", \"!=\", \"==\"                                | tests and identity tests              |\n",
      "+-------------------------------------------------+---------------------------------------+\n",
      "| \"|\"                                             | Bitwise OR                            |\n",
      "+-------------------------------------------------+---------------------------------------+\n",
      "| \"^\"                                             | Bitwise XOR                           |\n",
      "+-------------------------------------------------+---------------------------------------+\n",
      "| \"&\"                                             | Bitwise AND                           |\n",
      "+-------------------------------------------------+---------------------------------------+\n",
      "| \"<<\", \">>\"                                      | Shifts                                |\n",
      "+-------------------------------------------------+---------------------------------------+\n",
      "| \"+\", \"-\"                                        | Addition and subtraction              |\n",
      "+-------------------------------------------------+---------------------------------------+\n",
      "| \"*\", \"@\", \"/\", \"//\", \"%\"                        | Multiplication, matrix                |\n",
      "|                                                 | multiplication, division, floor       |\n",
      "|                                                 | division, remainder [5]               |\n",
      "+-------------------------------------------------+---------------------------------------+\n",
      "| \"+x\", \"-x\", \"~x\"                                | Positive, negative, bitwise NOT       |\n",
      "+-------------------------------------------------+---------------------------------------+\n",
      "| \"**\"                                            | Exponentiation [6]                    |\n",
      "+-------------------------------------------------+---------------------------------------+\n",
      "| \"await\" \"x\"                                     | Await expression                      |\n",
      "+-------------------------------------------------+---------------------------------------+\n",
      "| \"x[index]\", \"x[index:index]\",                   | Subscription, slicing, call,          |\n",
      "| \"x(arguments...)\", \"x.attribute\"                | attribute reference                   |\n",
      "+-------------------------------------------------+---------------------------------------+\n",
      "| \"(expressions...)\", \"[expressions...]\", \"{key:  | Binding or tuple display, list        |\n",
      "| value...}\", \"{expressions...}\"                  | display, dictionary display, set      |\n",
      "|                                                 | display                               |\n",
      "+-------------------------------------------------+---------------------------------------+\n",
      "\n",
      "-[ Footnotes ]-\n",
      "\n",
      "[1] While \"abs(x%y) < abs(y)\" is true mathematically, for floats\n",
      "    it may not be true numerically due to roundoff.  For example, and\n",
      "    assuming a platform on which a Python float is an IEEE 754 double-\n",
      "    precision number, in order that \"-1e-100 % 1e100\" have the same\n",
      "    sign as \"1e100\", the computed result is \"-1e-100 + 1e100\", which\n",
      "    is numerically exactly equal to \"1e100\".  The function\n",
      "    \"math.fmod()\" returns a result whose sign matches the sign of the\n",
      "    first argument instead, and so returns \"-1e-100\" in this case.\n",
      "    Which approach is more appropriate depends on the application.\n",
      "\n",
      "[2] If x is very close to an exact integer multiple of y, it’s\n",
      "    possible for \"x//y\" to be one larger than \"(x-x%y)//y\" due to\n",
      "    rounding.  In such cases, Python returns the latter result, in\n",
      "    order to preserve that \"divmod(x,y)[0] * y + x % y\" be very close\n",
      "    to \"x\".\n",
      "\n",
      "[3] The Unicode standard distinguishes between *code points* (e.g.\n",
      "    U+0041) and *abstract characters* (e.g. “LATIN CAPITAL LETTER A”).\n",
      "    While most abstract characters in Unicode are only represented\n",
      "    using one code point, there is a number of abstract characters\n",
      "    that can in addition be represented using a sequence of more than\n",
      "    one code point.  For example, the abstract character “LATIN\n",
      "    CAPITAL LETTER C WITH CEDILLA” can be represented as a single\n",
      "    *precomposed character* at code position U+00C7, or as a sequence\n",
      "    of a *base character* at code position U+0043 (LATIN CAPITAL\n",
      "    LETTER C), followed by a *combining character* at code position\n",
      "    U+0327 (COMBINING CEDILLA).\n",
      "\n",
      "    The comparison operators on strings compare at the level of\n",
      "    Unicode code points. This may be counter-intuitive to humans.  For\n",
      "    example, \"\"\\u00C7\" == \"\\u0043\\u0327\"\" is \"False\", even though both\n",
      "    strings represent the same abstract character “LATIN CAPITAL\n",
      "    LETTER C WITH CEDILLA”.\n",
      "\n",
      "    To compare strings at the level of abstract characters (that is,\n",
      "    in a way intuitive to humans), use \"unicodedata.normalize()\".\n",
      "\n",
      "[4] Due to automatic garbage-collection, free lists, and the\n",
      "    dynamic nature of descriptors, you may notice seemingly unusual\n",
      "    behaviour in certain uses of the \"is\" operator, like those\n",
      "    involving comparisons between instance methods, or constants.\n",
      "    Check their documentation for more info.\n",
      "\n",
      "[5] The \"%\" operator is also used for string formatting; the same\n",
      "    precedence applies.\n",
      "\n",
      "[6] The power operator \"**\" binds less tightly than an arithmetic\n",
      "    or bitwise unary operator on its right, that is, \"2**-1\" is \"0.5\".\n",
      "\n",
      "Related help topics: lambda, or, and, not, in, is, BOOLEAN, COMPARISON,\n",
      "BITWISE, SHIFTING, BINARY, FORMATTING, POWER, UNARY, ATTRIBUTES,\n",
      "SUBSCRIPTS, SLICINGS, CALLS, TUPLES, LISTS, DICTIONARIES\n",
      "\n",
      "help> q\n",
      "\n",
      "You are now leaving help and returning to the Python interpreter.\n",
      "If you want to ask for help on a particular object directly from the\n",
      "interpreter, you can type \"help(object)\".  Executing \"help('string')\"\n",
      "has the same effect as typing a particular string at the help> prompt.\n"
     ]
    }
   ],
   "source": [
    "help() # q를 쳐서 exit"
   ]
  },
  {
   "cell_type": "code",
   "execution_count": 3,
   "metadata": {
    "ExecuteTime": {
     "end_time": "2019-12-15T05:50:40.808696Z",
     "start_time": "2019-12-15T05:50:40.802422Z"
    }
   },
   "outputs": [
    {
     "name": "stdout",
     "output_type": "stream",
     "text": [
      "Help on class map in module builtins:\n",
      "\n",
      "class map(object)\n",
      " |  map(func, *iterables) --> map object\n",
      " |  \n",
      " |  Make an iterator that computes the function using arguments from\n",
      " |  each of the iterables.  Stops when the shortest iterable is exhausted.\n",
      " |  \n",
      " |  Methods defined here:\n",
      " |  \n",
      " |  __getattribute__(self, name, /)\n",
      " |      Return getattr(self, name).\n",
      " |  \n",
      " |  __iter__(self, /)\n",
      " |      Implement iter(self).\n",
      " |  \n",
      " |  __new__(*args, **kwargs) from builtins.type\n",
      " |      Create and return a new object.  See help(type) for accurate signature.\n",
      " |  \n",
      " |  __next__(self, /)\n",
      " |      Implement next(self).\n",
      " |  \n",
      " |  __reduce__(...)\n",
      " |      Return state information for pickling.\n",
      "\n"
     ]
    }
   ],
   "source": [
    "help(map)"
   ]
  },
  {
   "cell_type": "code",
   "execution_count": null,
   "metadata": {},
   "outputs": [],
   "source": []
  }
 ],
 "metadata": {
  "kernelspec": {
   "display_name": "Python 3",
   "language": "python",
   "name": "python3"
  },
  "language_info": {
   "codemirror_mode": {
    "name": "ipython",
    "version": 3
   },
   "file_extension": ".py",
   "mimetype": "text/x-python",
   "name": "python",
   "nbconvert_exporter": "python",
   "pygments_lexer": "ipython3",
   "version": "3.8.10"
  },
  "toc": {
   "base_numbering": 1,
   "nav_menu": {},
   "number_sections": true,
   "sideBar": true,
   "skip_h1_title": true,
   "title_cell": "강의목차",
   "title_sidebar": "Contents",
   "toc_cell": true,
   "toc_position": {},
   "toc_section_display": true,
   "toc_window_display": true
  },
  "varInspector": {
   "cols": {
    "lenName": 16,
    "lenType": 16,
    "lenVar": 40
   },
   "kernels_config": {
    "python": {
     "delete_cmd_postfix": "",
     "delete_cmd_prefix": "del ",
     "library": "var_list.py",
     "varRefreshCmd": "print(var_dic_list())"
    },
    "r": {
     "delete_cmd_postfix": ") ",
     "delete_cmd_prefix": "rm(",
     "library": "var_list.r",
     "varRefreshCmd": "cat(var_dic_list()) "
    }
   },
   "types_to_exclude": [
    "module",
    "function",
    "builtin_function_or_method",
    "instance",
    "_Feature"
   ],
   "window_display": false
  }
 },
 "nbformat": 4,
 "nbformat_minor": 2
}
