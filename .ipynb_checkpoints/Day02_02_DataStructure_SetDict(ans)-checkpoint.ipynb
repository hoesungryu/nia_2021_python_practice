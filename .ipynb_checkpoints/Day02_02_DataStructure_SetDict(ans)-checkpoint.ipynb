{
 "cells": [
  {
   "cell_type": "markdown",
   "metadata": {},
   "source": [
    "# Day02_02_Data_Structure\n",
    "\n",
    "<font size=5><b>집합(Set),사전(Dictionary)<b></font>\n",
    "<div align='right'>류 회 성<br>(Hoe Sung Ryu)</div>\n",
    "\n",
    "  \n",
    "<img src='./imgs/02_02_main.png' width=50%>\n",
    "\n",
    "    \n",
    "---"
   ]
  },
  {
   "cell_type": "markdown",
   "metadata": {
    "toc": true
   },
   "source": [
    "<h1>Table of Contents<span class=\"tocSkip\"></span></h1>\n",
    "<div class=\"toc\"><ul class=\"toc-item\"><li><span><a href=\"#Dictionary\" data-toc-modified-id=\"Dictionary-1\"><span class=\"toc-item-num\">1&nbsp;&nbsp;</span>Dictionary</a></span><ul class=\"toc-item\"><li><span><a href=\"#딕셔너리-생성\" data-toc-modified-id=\"딕셔너리-생성-1.1\"><span class=\"toc-item-num\">1.1&nbsp;&nbsp;</span>딕셔너리 생성</a></span></li><li><span><a href=\"#구성성분-호출\" data-toc-modified-id=\"구성성분-호출-1.2\"><span class=\"toc-item-num\">1.2&nbsp;&nbsp;</span>구성성분 호출</a></span></li><li><span><a href=\"#값-삽입과-할당\" data-toc-modified-id=\"값-삽입과-할당-1.3\"><span class=\"toc-item-num\">1.3&nbsp;&nbsp;</span>값 삽입과 할당</a></span></li><li><span><a href=\"#사전에서-for-문\" data-toc-modified-id=\"사전에서-for-문-1.4\"><span class=\"toc-item-num\">1.4&nbsp;&nbsp;</span>사전에서 for 문</a></span></li></ul></li><li><span><a href=\"#집합(Set)\" data-toc-modified-id=\"집합(Set)-2\"><span class=\"toc-item-num\">2&nbsp;&nbsp;</span>집합(Set)</a></span><ul class=\"toc-item\"><li><span><a href=\"#집합-삽입-삭제\" data-toc-modified-id=\"집합-삽입-삭제-2.1\"><span class=\"toc-item-num\">2.1&nbsp;&nbsp;</span>집합 삽입 삭제</a></span></li><li><span><a href=\"#집합Set-구조변경\" data-toc-modified-id=\"집합Set-구조변경-2.2\"><span class=\"toc-item-num\">2.2&nbsp;&nbsp;</span>집합Set 구조변경</a></span></li><li><span><a href=\"#집합-연산\" data-toc-modified-id=\"집합-연산-2.3\"><span class=\"toc-item-num\">2.3&nbsp;&nbsp;</span>집합 연산</a></span></li></ul></li><li><span><a href=\"#In-연산자\" data-toc-modified-id=\"In-연산자-3\"><span class=\"toc-item-num\">3&nbsp;&nbsp;</span>In 연산자</a></span></li></ul></div>"
   ]
  },
  {
   "cell_type": "markdown",
   "metadata": {},
   "source": [
    "## Dictionary \n",
    "\n",
    "- key, value로 되어 있음\n",
    "- key값은 유일해야하지만, value값은 유일할 필요 없음\n"
   ]
  },
  {
   "cell_type": "code",
   "execution_count": 1,
   "metadata": {
    "ExecuteTime": {
     "end_time": "2021-07-24T05:56:19.115938Z",
     "start_time": "2021-07-24T05:56:19.111949Z"
    }
   },
   "outputs": [
    {
     "name": "stdout",
     "output_type": "stream",
     "text": [
      "{}\n"
     ]
    }
   ],
   "source": [
    "# 빈 딕셔너리 \n",
    "tmp = dict()\n",
    "print(tmp)"
   ]
  },
  {
   "cell_type": "code",
   "execution_count": 2,
   "metadata": {
    "ExecuteTime": {
     "end_time": "2021-07-24T05:56:19.462036Z",
     "start_time": "2021-07-24T05:56:19.458022Z"
    }
   },
   "outputs": [
    {
     "name": "stdout",
     "output_type": "stream",
     "text": [
      "{}\n"
     ]
    }
   ],
   "source": [
    "tmp = {}\n",
    "print(tmp)\n",
    "    "
   ]
  },
  {
   "cell_type": "markdown",
   "metadata": {},
   "source": [
    "### 딕셔너리 생성 \n",
    "<img src='./imgs/02_02_main.png' width=50%>"
   ]
  },
  {
   "cell_type": "code",
   "execution_count": 14,
   "metadata": {
    "ExecuteTime": {
     "end_time": "2021-07-24T06:04:13.834657Z",
     "start_time": "2021-07-24T06:04:13.831665Z"
    }
   },
   "outputs": [
    {
     "name": "stdout",
     "output_type": "stream",
     "text": [
      "{'월': '꽝', '화': '당첨', '수': '꽝'}\n"
     ]
    }
   ],
   "source": [
    "ladder = {'월':'꽝',\n",
    "          '화':'당첨',\n",
    "          '수':'꽝'}\n",
    "print(ladder)"
   ]
  },
  {
   "cell_type": "markdown",
   "metadata": {},
   "source": [
    "### 구성성분 호출"
   ]
  },
  {
   "cell_type": "code",
   "execution_count": 15,
   "metadata": {
    "ExecuteTime": {
     "end_time": "2021-07-24T06:04:16.103567Z",
     "start_time": "2021-07-24T06:04:16.099575Z"
    }
   },
   "outputs": [
    {
     "data": {
      "text/plain": [
       "dict_keys(['월', '화', '수'])"
      ]
     },
     "execution_count": 15,
     "metadata": {},
     "output_type": "execute_result"
    }
   ],
   "source": [
    "# key \n",
    "ladder.keys()"
   ]
  },
  {
   "cell_type": "code",
   "execution_count": 16,
   "metadata": {
    "ExecuteTime": {
     "end_time": "2021-07-24T06:17:44.336849Z",
     "start_time": "2021-07-24T06:17:44.332860Z"
    }
   },
   "outputs": [
    {
     "data": {
      "text/plain": [
       "dict_values(['꽝', '당첨', '꽝'])"
      ]
     },
     "execution_count": 16,
     "metadata": {},
     "output_type": "execute_result"
    }
   ],
   "source": [
    "# values \n",
    "ladder.values()"
   ]
  },
  {
   "cell_type": "code",
   "execution_count": 18,
   "metadata": {
    "ExecuteTime": {
     "end_time": "2021-07-24T06:18:01.478314Z",
     "start_time": "2021-07-24T06:18:01.474324Z"
    }
   },
   "outputs": [
    {
     "data": {
      "text/plain": [
       "dict_items([('월', '꽝'), ('화', '당첨'), ('수', '꽝')])"
      ]
     },
     "execution_count": 18,
     "metadata": {},
     "output_type": "execute_result"
    }
   ],
   "source": [
    "# items\n",
    "ladder.items()"
   ]
  },
  {
   "cell_type": "code",
   "execution_count": 23,
   "metadata": {
    "ExecuteTime": {
     "end_time": "2021-07-24T06:24:19.587348Z",
     "start_time": "2021-07-24T06:24:19.579369Z"
    }
   },
   "outputs": [
    {
     "name": "stdout",
     "output_type": "stream",
     "text": [
      "꽝\n"
     ]
    },
    {
     "ename": "KeyError",
     "evalue": "'목'",
     "output_type": "error",
     "traceback": [
      "\u001b[1;31m---------------------------------------------------------------------------\u001b[0m",
      "\u001b[1;31mKeyError\u001b[0m                                  Traceback (most recent call last)",
      "\u001b[1;32m<ipython-input-23-ad587c23ef4d>\u001b[0m in \u001b[0;36m<module>\u001b[1;34m\u001b[0m\n\u001b[0;32m      1\u001b[0m \u001b[0mladder\u001b[0m \u001b[1;33m=\u001b[0m \u001b[1;33m{\u001b[0m\u001b[1;34m'월'\u001b[0m\u001b[1;33m:\u001b[0m \u001b[1;34m'꽝'\u001b[0m\u001b[1;33m,\u001b[0m \u001b[1;34m'화'\u001b[0m\u001b[1;33m:\u001b[0m \u001b[1;34m'당첨'\u001b[0m\u001b[1;33m,\u001b[0m \u001b[1;34m'수'\u001b[0m\u001b[1;33m:\u001b[0m \u001b[1;34m'꽝'\u001b[0m\u001b[1;33m}\u001b[0m\u001b[1;33m\u001b[0m\u001b[1;33m\u001b[0m\u001b[0m\n\u001b[0;32m      2\u001b[0m \u001b[0mprint\u001b[0m\u001b[1;33m(\u001b[0m\u001b[0mladder\u001b[0m\u001b[1;33m[\u001b[0m\u001b[1;34m'월'\u001b[0m\u001b[1;33m]\u001b[0m\u001b[1;33m)\u001b[0m\u001b[1;33m\u001b[0m\u001b[1;33m\u001b[0m\u001b[0m\n\u001b[1;32m----> 3\u001b[1;33m \u001b[0mprint\u001b[0m\u001b[1;33m(\u001b[0m\u001b[0mladder\u001b[0m\u001b[1;33m[\u001b[0m\u001b[1;34m'목'\u001b[0m\u001b[1;33m]\u001b[0m\u001b[1;33m)\u001b[0m\u001b[1;33m\u001b[0m\u001b[1;33m\u001b[0m\u001b[0m\n\u001b[0m",
      "\u001b[1;31mKeyError\u001b[0m: '목'"
     ]
    }
   ],
   "source": [
    "ladder = {'월': '꽝', '화': '당첨', '수': '꽝'}\n",
    "print(ladder['월'])\n",
    ">> 꽝\n",
    "print(ladder['목'])\n",
    ">> KeyError"
   ]
  },
  {
   "cell_type": "markdown",
   "metadata": {},
   "source": [
    "### 값 삽입과 할당 "
   ]
  },
  {
   "cell_type": "code",
   "execution_count": 25,
   "metadata": {
    "ExecuteTime": {
     "end_time": "2021-07-24T06:26:03.181726Z",
     "start_time": "2021-07-24T06:26:03.176764Z"
    }
   },
   "outputs": [
    {
     "name": "stdout",
     "output_type": "stream",
     "text": [
      "{'월': '꽝', '화': '당첨', '수': '꽝', '목': '꽝'}\n",
      "{'화': '당첨', '수': '꽝', '목': '꽝'}\n"
     ]
    }
   ],
   "source": [
    "ladder = {'월': '꽝', '화': '당첨', '수': '꽝'}\n",
    "ladder['목'] = '꽝'\n",
    "print(ladder)\n",
    "# >>{'월': '꽝', '화': '당첨', '수': '꽝', '목': '꽝'}\n",
    "del ladder['월']\n",
    "print(ladder)\n",
    ">>{'화': '당첨', '수': '꽝', '목': '꽝'}"
   ]
  },
  {
   "cell_type": "code",
   "execution_count": null,
   "metadata": {},
   "outputs": [],
   "source": [
    "ladder = {'월': '꽝', '화': '당첨', '수': '꽝'}\n",
    "ladder['목'] = '꽝'\n",
    "print(ladder)"
   ]
  },
  {
   "cell_type": "code",
   "execution_count": 20,
   "metadata": {
    "ExecuteTime": {
     "end_time": "2021-07-24T06:18:20.013798Z",
     "start_time": "2021-07-24T06:18:20.009809Z"
    },
    "scrolled": true
   },
   "outputs": [
    {
     "data": {
      "text/plain": [
       "dict_items([('월', '꽝'), ('화', '당첨'), ('수', '꽝')])"
      ]
     },
     "execution_count": 20,
     "metadata": {},
     "output_type": "execute_result"
    }
   ],
   "source": [
    "ladder.items()"
   ]
  },
  {
   "cell_type": "code",
   "execution_count": 3,
   "metadata": {
    "ExecuteTime": {
     "end_time": "2021-07-24T05:56:19.809108Z",
     "start_time": "2021-07-24T05:56:19.806126Z"
    }
   },
   "outputs": [],
   "source": [
    "# 딕셔너리 생성 \n",
    "singer = {'이름':'김광석',\n",
    "          '출생년도':1980,\n",
    "          '데뷔곡':'너에게'\n",
    "#           '데뷔곡': '가나다' key가 유일하게 해줘야함\n",
    "}"
   ]
  },
  {
   "cell_type": "code",
   "execution_count": 4,
   "metadata": {
    "ExecuteTime": {
     "end_time": "2021-07-24T05:56:20.283952Z",
     "start_time": "2021-07-24T05:56:20.274973Z"
    }
   },
   "outputs": [
    {
     "data": {
      "text/plain": [
       "'김광석'"
      ]
     },
     "execution_count": 4,
     "metadata": {},
     "output_type": "execute_result"
    }
   ],
   "source": [
    "singer['이름']"
   ]
  },
  {
   "cell_type": "code",
   "execution_count": 5,
   "metadata": {
    "ExecuteTime": {
     "end_time": "2021-07-24T05:56:21.817246Z",
     "start_time": "2021-07-24T05:56:21.812230Z"
    }
   },
   "outputs": [
    {
     "data": {
      "text/plain": [
       "{'이름': '김광석', '출생년도': 1964, '데뷔곡': '너에게', '성별': '남자'}"
      ]
     },
     "execution_count": 5,
     "metadata": {},
     "output_type": "execute_result"
    }
   ],
   "source": [
    "singer['성별'] = '남자' # item 추가 혹은 value 수정\n",
    "singer['출생년도'] = 1964\n",
    "singer"
   ]
  },
  {
   "cell_type": "code",
   "execution_count": 6,
   "metadata": {
    "ExecuteTime": {
     "end_time": "2021-07-24T05:56:22.892448Z",
     "start_time": "2021-07-24T05:56:22.887462Z"
    }
   },
   "outputs": [
    {
     "data": {
      "text/plain": [
       "'소'"
      ]
     },
     "execution_count": 6,
     "metadata": {},
     "output_type": "execute_result"
    }
   ],
   "source": [
    "year = {2019:'돼지',2020:'쥐',2021:'소'}\n",
    "year[2021] # 값을 부를때는 대괄호 "
   ]
  },
  {
   "cell_type": "code",
   "execution_count": 29,
   "metadata": {
    "ExecuteTime": {
     "end_time": "2021-07-24T06:34:03.915046Z",
     "start_time": "2021-07-24T06:34:03.911056Z"
    }
   },
   "outputs": [
    {
     "data": {
      "text/plain": [
       "{2020: '쥐', 2021: '소'}"
      ]
     },
     "execution_count": 29,
     "metadata": {},
     "output_type": "execute_result"
    }
   ],
   "source": [
    "year = {2019:'돼지',2020:'쥐',2021:'소'}\n",
    "del year[2019]\n",
    "year"
   ]
  },
  {
   "cell_type": "code",
   "execution_count": 27,
   "metadata": {
    "ExecuteTime": {
     "end_time": "2021-07-24T06:33:54.403817Z",
     "start_time": "2021-07-24T06:33:54.398831Z"
    }
   },
   "outputs": [
    {
     "data": {
      "text/plain": [
       "{2019: '돼지', 2020: '쥐', 2021: '소', '2022': '호랑이'}"
      ]
     },
     "execution_count": 27,
     "metadata": {},
     "output_type": "execute_result"
    }
   ],
   "source": [
    "year['2022']= '호랑이'\n",
    "year"
   ]
  },
  {
   "cell_type": "code",
   "execution_count": 10,
   "metadata": {
    "ExecuteTime": {
     "end_time": "2021-07-24T05:56:47.750107Z",
     "start_time": "2021-07-24T05:56:47.744153Z"
    },
    "scrolled": true
   },
   "outputs": [
    {
     "name": "stdout",
     "output_type": "stream",
     "text": [
      "<class 'dict_items'>\n"
     ]
    },
    {
     "data": {
      "text/plain": [
       "[(2019, '돼지'), (2020, '쥐'), (2021, '소')]"
      ]
     },
     "execution_count": 10,
     "metadata": {},
     "output_type": "execute_result"
    }
   ],
   "source": [
    "# list로 바꿔야 slicing이나 indexing이 가능\n",
    "year = {2019:'돼지',2020:'쥐',2021:'소'}\n",
    "print(type(year.items()))\n",
    "list(year.items()) "
   ]
  },
  {
   "cell_type": "code",
   "execution_count": null,
   "metadata": {},
   "outputs": [],
   "source": [
    "year.keys()"
   ]
  },
  {
   "cell_type": "code",
   "execution_count": null,
   "metadata": {},
   "outputs": [],
   "source": [
    "list(year.keys()) # list로 바꿔야 slicing이나 indexing이 가능"
   ]
  },
  {
   "cell_type": "code",
   "execution_count": null,
   "metadata": {},
   "outputs": [],
   "source": [
    "year.values()"
   ]
  },
  {
   "cell_type": "code",
   "execution_count": null,
   "metadata": {},
   "outputs": [],
   "source": [
    "list(year.values()) # list로 바꿔야 slicing이나 indexing이 가능"
   ]
  },
  {
   "cell_type": "markdown",
   "metadata": {},
   "source": [
    "### 사전에서 for 문"
   ]
  },
  {
   "cell_type": "code",
   "execution_count": 32,
   "metadata": {
    "ExecuteTime": {
     "end_time": "2021-07-24T06:36:32.085624Z",
     "start_time": "2021-07-24T06:36:32.080612Z"
    }
   },
   "outputs": [
    {
     "name": "stdout",
     "output_type": "stream",
     "text": [
      "교통수단walking\n",
      "교통수단    bus\n",
      "교통수단   taxi\n"
     ]
    }
   ],
   "source": [
    "# dictionary for문 \n",
    "cost = {'walking': 0, 'bus':1200, 'taxi':3800}\n",
    "\n",
    "\n",
    "for key in cost:\n",
    "    print(f'교통수단{key:>7s}')"
   ]
  },
  {
   "cell_type": "code",
   "execution_count": 33,
   "metadata": {
    "ExecuteTime": {
     "end_time": "2021-07-24T06:38:03.089637Z",
     "start_time": "2021-07-24T06:38:03.085675Z"
    }
   },
   "outputs": [
    {
     "name": "stdout",
     "output_type": "stream",
     "text": [
      "교통수단walking 요금   0원\n",
      "교통수단bus     요금1200원\n",
      "교통수단taxi    요금3800원\n"
     ]
    }
   ],
   "source": [
    "cost = {'walking': 0, 'bus':1200, 'taxi':3800}\n",
    "for key, value in cost.items():\n",
    "    print(f'교통수단{key:<7s} 요금{value:>4d}원')"
   ]
  },
  {
   "cell_type": "markdown",
   "metadata": {},
   "source": [
    "## 집합(Set)\n",
    "\n",
    "- 순서가 없어서 indexing이 불가능\n",
    "- 중복된 원소들을 제거함"
   ]
  },
  {
   "cell_type": "code",
   "execution_count": 51,
   "metadata": {
    "ExecuteTime": {
     "end_time": "2021-07-24T02:24:03.653068Z",
     "start_time": "2021-07-24T02:24:03.649238Z"
    }
   },
   "outputs": [
    {
     "name": "stdout",
     "output_type": "stream",
     "text": [
      "<class 'set'>\n"
     ]
    }
   ],
   "source": [
    "# 빈\n",
    "tmp = set()\n",
    "print(type(tmp))"
   ]
  },
  {
   "cell_type": "code",
   "execution_count": 34,
   "metadata": {
    "ExecuteTime": {
     "end_time": "2021-07-24T06:41:10.192106Z",
     "start_time": "2021-07-24T06:41:10.187142Z"
    }
   },
   "outputs": [
    {
     "data": {
      "text/plain": [
       "set"
      ]
     },
     "execution_count": 34,
     "metadata": {},
     "output_type": "execute_result"
    }
   ],
   "source": [
    "nums = {1,2,3} # 중괄호로 묶어야함 # key dict \n",
    "type(nums)"
   ]
  },
  {
   "cell_type": "markdown",
   "metadata": {},
   "source": [
    "### 집합 삽입 삭제 \n",
    "\n",
    "- add\n",
    "- remove\n",
    "- pop \n"
   ]
  },
  {
   "cell_type": "code",
   "execution_count": 35,
   "metadata": {
    "ExecuteTime": {
     "end_time": "2021-07-24T06:47:39.935524Z",
     "start_time": "2021-07-24T06:47:39.931534Z"
    }
   },
   "outputs": [
    {
     "data": {
      "text/plain": [
       "{1, 2, 3, 4, 5, 6}"
      ]
     },
     "execution_count": 35,
     "metadata": {},
     "output_type": "execute_result"
    }
   ],
   "source": [
    "player_set = set([1,2,3,3,4,2,4,5,5,6])\n",
    "player_set"
   ]
  },
  {
   "cell_type": "code",
   "execution_count": 36,
   "metadata": {
    "ExecuteTime": {
     "end_time": "2021-07-24T06:47:40.210790Z",
     "start_time": "2021-07-24T06:47:40.204806Z"
    }
   },
   "outputs": [
    {
     "data": {
      "text/plain": [
       "{1, 2, 3, 4, 5, 6, 10}"
      ]
     },
     "execution_count": 36,
     "metadata": {},
     "output_type": "execute_result"
    }
   ],
   "source": [
    "\n",
    "player_set = set([1,2,3,3,4,2,4,5,5,6])\n",
    "player_set.add(10)\n",
    "player_set"
   ]
  },
  {
   "cell_type": "code",
   "execution_count": 41,
   "metadata": {
    "ExecuteTime": {
     "end_time": "2021-07-24T06:48:26.493148Z",
     "start_time": "2021-07-24T06:48:26.487976Z"
    }
   },
   "outputs": [
    {
     "data": {
      "text/plain": [
       "{1, 3, 4, 5, 6}"
      ]
     },
     "execution_count": 41,
     "metadata": {},
     "output_type": "execute_result"
    }
   ],
   "source": [
    "player_set = set([1,2,3,3,4,2,4,5,5,6])\n",
    "player_set.remove(2)\n",
    "player_set"
   ]
  },
  {
   "cell_type": "code",
   "execution_count": 38,
   "metadata": {
    "ExecuteTime": {
     "end_time": "2021-07-24T06:47:51.494016Z",
     "start_time": "2021-07-24T06:47:51.490048Z"
    }
   },
   "outputs": [
    {
     "data": {
      "text/plain": [
       "{2, 3, 4, 5, 6}"
      ]
     },
     "execution_count": 38,
     "metadata": {},
     "output_type": "execute_result"
    }
   ],
   "source": [
    "# 제일 왼쪽 부터 pop \n",
    "player_set = set([1,2,3,3,4,2,4,5,5,6])\n",
    "player_set.pop()\n",
    "player_set"
   ]
  },
  {
   "attachments": {},
   "cell_type": "markdown",
   "metadata": {},
   "source": [
    "### 집합Set 구조변경"
   ]
  },
  {
   "cell_type": "markdown",
   "metadata": {},
   "source": [
    "<div class=\"alert alert-success\">\n",
    "    <b>예제(Exercise)</b>:\n",
    "    <ul>\n",
    "        <li>\n",
    "        다음을 집합형을 리스트, 튜플로 바꾸시오.         \n",
    "        </li>\n",
    "    </ul>\n",
    "</div>\n",
    "\n",
    "```python \n",
    "player_set = set([1,2,3,3,4,2,4,5,5,6])\n",
    "```"
   ]
  },
  {
   "cell_type": "code",
   "execution_count": 42,
   "metadata": {
    "ExecuteTime": {
     "end_time": "2021-07-24T06:50:57.471427Z",
     "start_time": "2021-07-24T06:50:57.468464Z"
    }
   },
   "outputs": [
    {
     "name": "stdout",
     "output_type": "stream",
     "text": [
      "<class 'set'>\n"
     ]
    }
   ],
   "source": [
    "player_set = set([1,2,3,3,4,2,4,5,5,6])\n",
    "print(type(player_set))"
   ]
  },
  {
   "cell_type": "code",
   "execution_count": 45,
   "metadata": {
    "ExecuteTime": {
     "end_time": "2021-07-24T07:01:18.108251Z",
     "start_time": "2021-07-24T07:01:18.105260Z"
    }
   },
   "outputs": [
    {
     "name": "stdout",
     "output_type": "stream",
     "text": [
      "[1, 2, 3, 4, 5, 6]\n",
      "<class 'list'>\n"
     ]
    }
   ],
   "source": [
    "print(list(player_set))\n",
    "print(type(list(player_set)))"
   ]
  },
  {
   "cell_type": "code",
   "execution_count": 46,
   "metadata": {
    "ExecuteTime": {
     "end_time": "2021-07-24T07:01:26.947612Z",
     "start_time": "2021-07-24T07:01:26.944595Z"
    },
    "scrolled": true
   },
   "outputs": [
    {
     "name": "stdout",
     "output_type": "stream",
     "text": [
      "(1, 2, 3, 4, 5, 6)\n",
      "<class 'tuple'>\n"
     ]
    }
   ],
   "source": [
    "print(tuple(player_set))\n",
    "print(type(tuple(player_set)))"
   ]
  },
  {
   "cell_type": "markdown",
   "metadata": {},
   "source": [
    "### 집합 연산\n",
    "\n",
    "- intersection\n",
    "- difference\n",
    "- symmetric_difference "
   ]
  },
  {
   "cell_type": "markdown",
   "metadata": {},
   "source": [
    "<div class=\"alert alert-success\">\n",
    "    <b>예제(Exercise)</b>:\n",
    "    <ul>\n",
    "        <li>\n",
    "        다음을 사전형을 차집합, 대칭차집합, 합집합, 교집합 연산을 하시오.         \n",
    "        </li>\n",
    "    </ul>\n",
    "</div>\n",
    "\n",
    "```python \n",
    "x = set(['a','b','c','d'])\n",
    "y = set(['c','d','e','f'])\n",
    "```"
   ]
  },
  {
   "cell_type": "code",
   "execution_count": 59,
   "metadata": {
    "ExecuteTime": {
     "end_time": "2021-07-24T07:13:12.031335Z",
     "start_time": "2021-07-24T07:13:12.028311Z"
    }
   },
   "outputs": [],
   "source": [
    "x = set(['a','b','c','d'])\n",
    "y = set(['c','d','e','f'])\n",
    "\n",
    "a = x \n",
    "b = y "
   ]
  },
  {
   "cell_type": "code",
   "execution_count": 60,
   "metadata": {
    "ExecuteTime": {
     "end_time": "2021-07-24T07:13:12.194248Z",
     "start_time": "2021-07-24T07:13:12.190259Z"
    }
   },
   "outputs": [
    {
     "data": {
      "text/plain": [
       "{'c', 'd'}"
      ]
     },
     "execution_count": 60,
     "metadata": {},
     "output_type": "execute_result"
    }
   ],
   "source": [
    "a&b # 교집합"
   ]
  },
  {
   "cell_type": "code",
   "execution_count": 61,
   "metadata": {
    "ExecuteTime": {
     "end_time": "2021-07-24T07:13:12.352153Z",
     "start_time": "2021-07-24T07:13:12.347164Z"
    }
   },
   "outputs": [
    {
     "data": {
      "text/plain": [
       "{'c', 'd'}"
      ]
     },
     "execution_count": 61,
     "metadata": {},
     "output_type": "execute_result"
    }
   ],
   "source": [
    "a.intersection(b) # 교집합"
   ]
  },
  {
   "cell_type": "code",
   "execution_count": 62,
   "metadata": {
    "ExecuteTime": {
     "end_time": "2021-07-24T07:13:12.533806Z",
     "start_time": "2021-07-24T07:13:12.528856Z"
    }
   },
   "outputs": [
    {
     "data": {
      "text/plain": [
       "{'a', 'b', 'c', 'd', 'e', 'f'}"
      ]
     },
     "execution_count": 62,
     "metadata": {},
     "output_type": "execute_result"
    }
   ],
   "source": [
    "a | b # 합집합"
   ]
  },
  {
   "cell_type": "code",
   "execution_count": 63,
   "metadata": {
    "ExecuteTime": {
     "end_time": "2021-07-24T07:13:12.723298Z",
     "start_time": "2021-07-24T07:13:12.718312Z"
    }
   },
   "outputs": [
    {
     "data": {
      "text/plain": [
       "{'a', 'b', 'c', 'd', 'e', 'f'}"
      ]
     },
     "execution_count": 63,
     "metadata": {},
     "output_type": "execute_result"
    }
   ],
   "source": [
    "a.union(b) # 합집합"
   ]
  },
  {
   "cell_type": "code",
   "execution_count": 64,
   "metadata": {
    "ExecuteTime": {
     "end_time": "2021-07-24T07:13:12.946163Z",
     "start_time": "2021-07-24T07:13:12.941203Z"
    }
   },
   "outputs": [
    {
     "data": {
      "text/plain": [
       "{'a', 'b'}"
      ]
     },
     "execution_count": 64,
     "metadata": {},
     "output_type": "execute_result"
    }
   ],
   "source": [
    "a-b # 차집합"
   ]
  },
  {
   "cell_type": "code",
   "execution_count": 65,
   "metadata": {
    "ExecuteTime": {
     "end_time": "2021-07-24T07:13:13.169880Z",
     "start_time": "2021-07-24T07:13:13.165895Z"
    }
   },
   "outputs": [
    {
     "data": {
      "text/plain": [
       "{'a', 'b'}"
      ]
     },
     "execution_count": 65,
     "metadata": {},
     "output_type": "execute_result"
    }
   ],
   "source": [
    "a.difference(b) # 차집합"
   ]
  },
  {
   "cell_type": "code",
   "execution_count": 66,
   "metadata": {
    "ExecuteTime": {
     "end_time": "2021-07-24T07:13:15.494352Z",
     "start_time": "2021-07-24T07:13:15.489390Z"
    }
   },
   "outputs": [
    {
     "data": {
      "text/plain": [
       "{'a', 'b', 'e', 'f'}"
      ]
     },
     "execution_count": 66,
     "metadata": {},
     "output_type": "execute_result"
    }
   ],
   "source": [
    "a^b # 대칭차집합"
   ]
  },
  {
   "cell_type": "code",
   "execution_count": 67,
   "metadata": {
    "ExecuteTime": {
     "end_time": "2021-07-24T07:13:15.681931Z",
     "start_time": "2021-07-24T07:13:15.676944Z"
    }
   },
   "outputs": [
    {
     "data": {
      "text/plain": [
       "{'a', 'b', 'e', 'f'}"
      ]
     },
     "execution_count": 67,
     "metadata": {},
     "output_type": "execute_result"
    }
   ],
   "source": [
    "a.symmetric_difference(b) # 대칭차집합"
   ]
  },
  {
   "cell_type": "markdown",
   "metadata": {},
   "source": [
    "## In 연산자\n",
    "\n",
    "- in \n",
    "- not in \n"
   ]
  },
  {
   "cell_type": "code",
   "execution_count": 68,
   "metadata": {
    "ExecuteTime": {
     "end_time": "2021-07-24T07:13:16.702869Z",
     "start_time": "2021-07-24T07:13:16.697883Z"
    }
   },
   "outputs": [
    {
     "data": {
      "text/plain": [
       "True"
      ]
     },
     "execution_count": 68,
     "metadata": {},
     "output_type": "execute_result"
    }
   ],
   "source": [
    "'a' in {'a','b','c'}"
   ]
  },
  {
   "cell_type": "code",
   "execution_count": 69,
   "metadata": {
    "ExecuteTime": {
     "end_time": "2021-07-24T07:13:16.872416Z",
     "start_time": "2021-07-24T07:13:16.868426Z"
    }
   },
   "outputs": [
    {
     "data": {
      "text/plain": [
       "True"
      ]
     },
     "execution_count": 69,
     "metadata": {},
     "output_type": "execute_result"
    }
   ],
   "source": [
    "'a' in ['a','b','c']"
   ]
  },
  {
   "cell_type": "code",
   "execution_count": 70,
   "metadata": {
    "ExecuteTime": {
     "end_time": "2021-07-24T07:13:17.034980Z",
     "start_time": "2021-07-24T07:13:17.029994Z"
    }
   },
   "outputs": [
    {
     "data": {
      "text/plain": [
       "True"
      ]
     },
     "execution_count": 70,
     "metadata": {},
     "output_type": "execute_result"
    }
   ],
   "source": [
    "'a' in ('a','b','c')"
   ]
  },
  {
   "cell_type": "code",
   "execution_count": 71,
   "metadata": {
    "ExecuteTime": {
     "end_time": "2021-07-24T07:13:17.199538Z",
     "start_time": "2021-07-24T07:13:17.195550Z"
    }
   },
   "outputs": [
    {
     "data": {
      "text/plain": [
       "False"
      ]
     },
     "execution_count": 71,
     "metadata": {},
     "output_type": "execute_result"
    }
   ],
   "source": [
    "'a' not in ['a','b','c']"
   ]
  },
  {
   "cell_type": "code",
   "execution_count": 72,
   "metadata": {
    "ExecuteTime": {
     "end_time": "2021-07-24T07:13:17.370084Z",
     "start_time": "2021-07-24T07:13:17.366095Z"
    }
   },
   "outputs": [
    {
     "name": "stdout",
     "output_type": "stream",
     "text": [
      "없다\n"
     ]
    }
   ],
   "source": [
    "my_num = 10\n",
    "if my_num in [1,2,3,4]:\n",
    "    print('있다')\n",
    "else: \n",
    "    print('없다')"
   ]
  },
  {
   "cell_type": "markdown",
   "metadata": {},
   "source": [
    "<div class=\"alert alert-success\">\n",
    "    <b>예제(Exercise)</b>:\n",
    "    <ul>\n",
    "        <li>\n",
    "        리스트 [1,2,3,4] 에 10 이 없음을 알려주는 함수를 만드시오.(*단 not in 을 사용하시오)         \n",
    "        </li>\n",
    "    </ul>\n",
    "</div>\n",
    "\n"
   ]
  },
  {
   "cell_type": "code",
   "execution_count": 73,
   "metadata": {
    "ExecuteTime": {
     "end_time": "2021-07-24T07:13:17.753059Z",
     "start_time": "2021-07-24T07:13:17.750067Z"
    }
   },
   "outputs": [
    {
     "name": "stdout",
     "output_type": "stream",
     "text": [
      "없다\n"
     ]
    }
   ],
   "source": [
    "my_num = 10\n",
    "if my_num not in [1,2,3,4]:\n",
    "    print('없다')\n",
    "else: \n",
    "    print('있다')"
   ]
  }
 ],
 "metadata": {
  "kernelspec": {
   "display_name": "Python 3",
   "language": "python",
   "name": "python3"
  },
  "language_info": {
   "codemirror_mode": {
    "name": "ipython",
    "version": 3
   },
   "file_extension": ".py",
   "mimetype": "text/x-python",
   "name": "python",
   "nbconvert_exporter": "python",
   "pygments_lexer": "ipython3",
   "version": "3.8.10"
  },
  "toc": {
   "base_numbering": 1,
   "nav_menu": {},
   "number_sections": true,
   "sideBar": true,
   "skip_h1_title": true,
   "title_cell": "Table of Contents",
   "title_sidebar": "Contents",
   "toc_cell": true,
   "toc_position": {},
   "toc_section_display": true,
   "toc_window_display": false
  },
  "varInspector": {
   "cols": {
    "lenName": 16,
    "lenType": 16,
    "lenVar": 40
   },
   "kernels_config": {
    "python": {
     "delete_cmd_postfix": "",
     "delete_cmd_prefix": "del ",
     "library": "var_list.py",
     "varRefreshCmd": "print(var_dic_list())"
    },
    "r": {
     "delete_cmd_postfix": ") ",
     "delete_cmd_prefix": "rm(",
     "library": "var_list.r",
     "varRefreshCmd": "cat(var_dic_list()) "
    }
   },
   "types_to_exclude": [
    "module",
    "function",
    "builtin_function_or_method",
    "instance",
    "_Feature"
   ],
   "window_display": false
  }
 },
 "nbformat": 4,
 "nbformat_minor": 4
}
