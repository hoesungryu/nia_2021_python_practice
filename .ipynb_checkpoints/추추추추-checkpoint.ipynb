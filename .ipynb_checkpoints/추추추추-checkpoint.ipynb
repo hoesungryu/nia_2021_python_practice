{
 "cells": [
  {
   "cell_type": "code",
   "execution_count": 17,
   "metadata": {
    "ExecuteTime": {
     "end_time": "2021-07-17T06:01:18.013953Z",
     "start_time": "2021-07-17T06:01:18.008530Z"
    }
   },
   "outputs": [
    {
     "name": "stdout",
     "output_type": "stream",
     "text": [
      "10 <class 'str'>\n",
      "10 <class 'int'>\n"
     ]
    }
   ],
   "source": [
    "a = '10'\n",
    "print(a, type(a))\n",
    "a = int(a)\n",
    "print(a, type(a))"
   ]
  },
  {
   "cell_type": "code",
   "execution_count": 22,
   "metadata": {
    "ExecuteTime": {
     "end_time": "2021-07-17T06:30:00.780886Z",
     "start_time": "2021-07-17T06:30:00.775064Z"
    }
   },
   "outputs": [
    {
     "name": "stdout",
     "output_type": "stream",
     "text": [
      "a:True, b:False\n",
      "a and b: False\n",
      "a and b: True\n",
      "not a: False\n"
     ]
    }
   ],
   "source": [
    "a, b = True, False\n",
    "print(f'a:{a}, b:{b}')\n",
    "print(f'a and b: {a and b}')\n",
    "print(f'a and b: {a or b}')\n",
    "print(f'not a: {not a }')"
   ]
  },
  {
   "cell_type": "code",
   "execution_count": 134,
   "metadata": {
    "ExecuteTime": {
     "end_time": "2021-07-17T07:43:33.409339Z",
     "start_time": "2021-07-17T07:43:33.403457Z"
    }
   },
   "outputs": [
    {
     "name": "stdout",
     "output_type": "stream",
     "text": [
      "a: 0b1100, b:0b1000\n",
      "a & b: 0b1000\n",
      "a | b: 0b1100\n",
      "a ^ b: 0b100\n"
     ]
    }
   ],
   "source": [
    "# , 앞에 0은 생략가능 \n",
    "a, b = 12, 8 \n",
    "print(f'a: {bin(a)}, b:{bin(b)}') # 0b 가 붙어 이진수 임을 나타낸다.  \n",
    "# >>a: 0b1100, b:0b1000\n",
    "print(f'a & b: {bin(a & b)}') # 둘 다 1이면, 1\n",
    "# >>a & b: 0b1000\n",
    "print(f'a | b: {bin(a | b)}') # 둘 중 하나라도 1 이면, 1 \n",
    "# >>a | b: 0b1100\n",
    "print(f'a ^ b: {bin(a ^ b)}') # 둘 중 하나만 참(1)일떄 참(1)\n",
    "# >>a ^ b: 0b100"
   ]
  },
  {
   "cell_type": "code",
   "execution_count": 44,
   "metadata": {
    "ExecuteTime": {
     "end_time": "2021-07-17T06:59:10.515066Z",
     "start_time": "2021-07-17T06:59:10.509335Z"
    }
   },
   "outputs": [
    {
     "data": {
      "text/plain": [
       "4"
      ]
     },
     "execution_count": 44,
     "metadata": {},
     "output_type": "execute_result"
    }
   ],
   "source": [
    "a ^ b"
   ]
  },
  {
   "cell_type": "code",
   "execution_count": 37,
   "metadata": {
    "ExecuteTime": {
     "end_time": "2021-07-17T06:52:15.043561Z",
     "start_time": "2021-07-17T06:52:15.037423Z"
    }
   },
   "outputs": [
    {
     "data": {
      "text/plain": [
       "-13"
      ]
     },
     "execution_count": 37,
     "metadata": {},
     "output_type": "execute_result"
    }
   ],
   "source": [
    "~a"
   ]
  },
  {
   "cell_type": "code",
   "execution_count": 42,
   "metadata": {
    "ExecuteTime": {
     "end_time": "2021-07-17T06:56:55.150265Z",
     "start_time": "2021-07-17T06:56:55.144958Z"
    }
   },
   "outputs": [
    {
     "data": {
      "text/plain": [
       "-1"
      ]
     },
     "execution_count": 42,
     "metadata": {},
     "output_type": "execute_result"
    }
   ],
   "source": [
    "a = 12 \n",
    "a + ~a"
   ]
  },
  {
   "cell_type": "code",
   "execution_count": 43,
   "metadata": {
    "ExecuteTime": {
     "end_time": "2021-07-17T06:56:56.388103Z",
     "start_time": "2021-07-17T06:56:56.382592Z"
    }
   },
   "outputs": [
    {
     "data": {
      "text/plain": [
       "0"
      ]
     },
     "execution_count": 43,
     "metadata": {},
     "output_type": "execute_result"
    }
   ],
   "source": [
    "12 - 12"
   ]
  },
  {
   "cell_type": "code",
   "execution_count": 131,
   "metadata": {
    "ExecuteTime": {
     "end_time": "2021-07-17T07:36:24.073097Z",
     "start_time": "2021-07-17T07:36:24.067414Z"
    }
   },
   "outputs": [
    {
     "name": "stdout",
     "output_type": "stream",
     "text": [
      "12\n",
      "0b1100\n",
      "0b11000\n",
      "24\n"
     ]
    }
   ],
   "source": [
    "# 왼쪽으로 한 칸 옮기는데, 빈자리는 0으로 채운다 2배 곱하기! \n",
    "a = 12\n",
    "print(a)\n",
    "print(bin(a))\n",
    "print(bin(a<<1))\n",
    "print(a<<1)"
   ]
  },
  {
   "cell_type": "code",
   "execution_count": 132,
   "metadata": {
    "ExecuteTime": {
     "end_time": "2021-07-17T07:36:31.689187Z",
     "start_time": "2021-07-17T07:36:31.684001Z"
    }
   },
   "outputs": [
    {
     "name": "stdout",
     "output_type": "stream",
     "text": [
      "8\n",
      "0b1000\n",
      "0b100\n",
      "4\n"
     ]
    }
   ],
   "source": [
    " # 오른쪽으로 한 칸 옮김\n",
    "b = 8 \n",
    "print(b)\n",
    "print(bin(b))\n",
    "print(bin(b>>1))\n",
    "print(b>>1)"
   ]
  },
  {
   "cell_type": "code",
   "execution_count": 128,
   "metadata": {
    "ExecuteTime": {
     "end_time": "2021-07-17T07:35:32.490919Z",
     "start_time": "2021-07-17T07:35:32.484602Z"
    }
   },
   "outputs": [
    {
     "data": {
      "text/plain": [
       "'0b1001'"
      ]
     },
     "execution_count": 128,
     "metadata": {},
     "output_type": "execute_result"
    }
   ],
   "source": [
    "bin(9)"
   ]
  },
  {
   "cell_type": "code",
   "execution_count": 129,
   "metadata": {
    "ExecuteTime": {
     "end_time": "2021-07-17T07:35:32.777399Z",
     "start_time": "2021-07-17T07:35:32.766792Z"
    }
   },
   "outputs": [
    {
     "data": {
      "text/plain": [
       "'0b100'"
      ]
     },
     "execution_count": 129,
     "metadata": {},
     "output_type": "execute_result"
    }
   ],
   "source": [
    "bin(9>>1)"
   ]
  },
  {
   "cell_type": "code",
   "execution_count": 130,
   "metadata": {
    "ExecuteTime": {
     "end_time": "2021-07-17T07:35:41.664285Z",
     "start_time": "2021-07-17T07:35:41.658724Z"
    }
   },
   "outputs": [
    {
     "data": {
      "text/plain": [
       "4"
      ]
     },
     "execution_count": 130,
     "metadata": {},
     "output_type": "execute_result"
    }
   ],
   "source": [
    "9>>1"
   ]
  },
  {
   "cell_type": "markdown",
   "metadata": {},
   "source": [
    "컴퓨터는 N개의 비트를 이용해 2^N개의 정수만 표현할 수 있습니다. 이러한 방식을 이용해서 수를 표현해야 하기 때문에 쉽지 않습니다. 또한 정수는 음의 정수와 양의 정수로 나누어지기 때문에 +, - 기호 또한 전부 비트로 표현을 해주어야 합니다. 하지만 정확히 어떠한 방식으로 이러한 정수를 표현할 수 있을까요? 그것을 알기 위해서는 보수의 개념을 이해하면 됩니다.\n",
    "\n",
    ">보수란, '두 수의 합이 진법의 밑수(N)가 되게 하는 수'를 말합니다. 예를 들어 10진수 4의 10의 보수는 6이고, 10진수 2의 10의 보수는 8입니다. 보수는 컴퓨터에서 음의 정수를 표현하기 위해서 고안되었습니다. 컴퓨터 내부에서는 사칙연산을 할 때 덧셈을 담당하는 가산기(Adder)만 이용하기 때문에 뺄셈은 덧셈으로 형식을 변환하여 계산해야 합니다. 즉 컴퓨터 내부에서는 A - B를 계산할 때 B의 보수(-B)를 구한 다음 A + (-B)로 계산하는 것입니다.\n",
    " \n",
    "\n"
   ]
  },
  {
   "cell_type": "code",
   "execution_count": 118,
   "metadata": {
    "ExecuteTime": {
     "end_time": "2021-07-17T07:29:32.393643Z",
     "start_time": "2021-07-17T07:29:32.387824Z"
    }
   },
   "outputs": [
    {
     "name": "stdout",
     "output_type": "stream",
     "text": [
      "0b1100\n",
      "-0b1101\n",
      "-0b1101\n"
     ]
    }
   ],
   "source": [
    "a = 12\n",
    "print(bin(a))\n",
    "print(bin(~a))\n",
    "print(bin(-(a+1)))"
   ]
  },
  {
   "cell_type": "code",
   "execution_count": 93,
   "metadata": {
    "ExecuteTime": {
     "end_time": "2021-07-17T07:10:55.958832Z",
     "start_time": "2021-07-17T07:10:55.955212Z"
    }
   },
   "outputs": [],
   "source": [
    "a = 100_000"
   ]
  },
  {
   "cell_type": "code",
   "execution_count": null,
   "metadata": {},
   "outputs": [],
   "source": [
    "def multiple_table(x):\n",
    "    print(f'구구단 {x} 단')\n",
    "    if 1<=x<=9:\n",
    "        for i in range(1,10):\n",
    "            print(f'{x} X {i} = {x*i}')\n",
    "    print('end')\n",
    "\n",
    "print (\"구구단 몇 단을 계산할까요(1~9)?\") x=1\n",
    "while (x is not 0):\n",
    "x = int(input())\n",
    "if x == 0: break\n",
    "if not(1 <= x <= 9):\n",
    "print (\"잘못 입력하셨습니다\", \"1부터 9사이 숫자를 입력해주세요\") continue\n",
    "nested_gugudan.py\n",
    " else:\n",
    "print (\"구구단 \" + str(x) +\"단을 계산합니다.\") for i in range(1,10):\n",
    "print (str(x) + \" X \" + str(i) + \" = \" + str(x*i)) print (\"구구단 몇 단을 계산할까요(1~9)?\")\n",
    "print (\"구구단 게임을 종료합니다\")"
   ]
  },
  {
   "cell_type": "code",
   "execution_count": 182,
   "metadata": {
    "ExecuteTime": {
     "end_time": "2021-07-19T16:17:43.038089Z",
     "start_time": "2021-07-19T16:17:43.033478Z"
    }
   },
   "outputs": [
    {
     "name": "stdout",
     "output_type": "stream",
     "text": [
      "1 $\time$ 1\n"
     ]
    }
   ],
   "source": [
    "print(f\"{1} $\\time$ {1}\")"
   ]
  },
  {
   "cell_type": "code",
   "execution_count": 183,
   "metadata": {
    "ExecuteTime": {
     "end_time": "2021-07-19T16:18:12.628807Z",
     "start_time": "2021-07-19T16:18:12.625236Z"
    }
   },
   "outputs": [],
   "source": [
    "def multiple_table(x):\n",
    "    print(f'구구단 {x} 단')\n",
    "    if 1<=x<=9:\n",
    "        for i in range(1,10):\n",
    "            print(f'{x} X {i} = {x*i}')\n",
    "    print('end')"
   ]
  },
  {
   "cell_type": "code",
   "execution_count": 184,
   "metadata": {
    "ExecuteTime": {
     "end_time": "2021-07-19T16:18:17.202143Z",
     "start_time": "2021-07-19T16:18:17.197131Z"
    }
   },
   "outputs": [
    {
     "name": "stdout",
     "output_type": "stream",
     "text": [
      "구구단 9 단\n",
      "9 X 1 = 9\n",
      "9 X 2 = 18\n",
      "9 X 3 = 27\n",
      "9 X 4 = 36\n",
      "9 X 5 = 45\n",
      "9 X 6 = 54\n",
      "9 X 7 = 63\n",
      "9 X 8 = 72\n",
      "9 X 9 = 81\n",
      "end\n"
     ]
    }
   ],
   "source": [
    "multiple_table(9)"
   ]
  },
  {
   "cell_type": "code",
   "execution_count": 185,
   "metadata": {
    "ExecuteTime": {
     "end_time": "2021-07-19T16:18:48.412049Z",
     "start_time": "2021-07-19T16:18:48.408071Z"
    }
   },
   "outputs": [
    {
     "name": "stdout",
     "output_type": "stream",
     "text": [
      "구구단 1 단\n",
      "1 X 1 = 1\n",
      "1 X 2 = 2\n",
      "1 X 3 = 3\n",
      "1 X 4 = 4\n",
      "1 X 5 = 5\n",
      "1 X 6 = 6\n",
      "1 X 7 = 7\n",
      "1 X 8 = 8\n",
      "1 X 9 = 9\n",
      "end\n"
     ]
    }
   ],
   "source": [
    "multiple_table(1)"
   ]
  },
  {
   "cell_type": "code",
   "execution_count": 186,
   "metadata": {
    "ExecuteTime": {
     "end_time": "2021-07-19T16:18:53.693135Z",
     "start_time": "2021-07-19T16:18:53.688727Z"
    }
   },
   "outputs": [
    {
     "name": "stdout",
     "output_type": "stream",
     "text": [
      "구구단 2 단\n",
      "2 X 1 = 2\n",
      "2 X 2 = 4\n",
      "2 X 3 = 6\n",
      "2 X 4 = 8\n",
      "2 X 5 = 10\n",
      "2 X 6 = 12\n",
      "2 X 7 = 14\n",
      "2 X 8 = 16\n",
      "2 X 9 = 18\n",
      "end\n"
     ]
    }
   ],
   "source": [
    "multiple_table(2)"
   ]
  },
  {
   "cell_type": "code",
   "execution_count": 224,
   "metadata": {
    "ExecuteTime": {
     "end_time": "2021-07-20T03:40:58.496949Z",
     "start_time": "2021-07-20T03:40:58.490930Z"
    }
   },
   "outputs": [
    {
     "name": "stdout",
     "output_type": "stream",
     "text": [
      "Sun\n",
      "('Sun', 'Mon', 'Tue')\n",
      "SunSunSun\n",
      "('Sun', 'Mon', 'Tue', 'Wed', 'Thr', 'Fri', 'Sat', 'None')\n"
     ]
    }
   ],
   "source": [
    "days=('Sun','Mon','Tue','Wed','Thr','Fri','Sat')\n",
    "print(days[0])        # indexing 동일 \n",
    "print(days[0:3])      # 슬라이싱 동일\n",
    "print(days[0]*3)      # 연산동일 \n",
    "print(days+('None',)) # 추가 동일 "
   ]
  }
 ],
 "metadata": {
  "kernelspec": {
   "display_name": "Python 3",
   "language": "python",
   "name": "python3"
  },
  "language_info": {
   "codemirror_mode": {
    "name": "ipython",
    "version": 3
   },
   "file_extension": ".py",
   "mimetype": "text/x-python",
   "name": "python",
   "nbconvert_exporter": "python",
   "pygments_lexer": "ipython3",
   "version": "3.8.10"
  },
  "toc": {
   "base_numbering": 1,
   "nav_menu": {},
   "number_sections": true,
   "sideBar": true,
   "skip_h1_title": false,
   "title_cell": "Table of Contents",
   "title_sidebar": "Contents",
   "toc_cell": false,
   "toc_position": {},
   "toc_section_display": true,
   "toc_window_display": false
  },
  "varInspector": {
   "cols": {
    "lenName": 16,
    "lenType": 16,
    "lenVar": 40
   },
   "kernels_config": {
    "python": {
     "delete_cmd_postfix": "",
     "delete_cmd_prefix": "del ",
     "library": "var_list.py",
     "varRefreshCmd": "print(var_dic_list())"
    },
    "r": {
     "delete_cmd_postfix": ") ",
     "delete_cmd_prefix": "rm(",
     "library": "var_list.r",
     "varRefreshCmd": "cat(var_dic_list()) "
    }
   },
   "types_to_exclude": [
    "module",
    "function",
    "builtin_function_or_method",
    "instance",
    "_Feature"
   ],
   "window_display": false
  }
 },
 "nbformat": 4,
 "nbformat_minor": 4
}
