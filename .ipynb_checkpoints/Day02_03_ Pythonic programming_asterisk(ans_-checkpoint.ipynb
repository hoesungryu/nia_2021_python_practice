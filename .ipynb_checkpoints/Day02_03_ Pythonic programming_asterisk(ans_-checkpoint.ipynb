{
 "cells": [
  {
   "attachments": {},
   "cell_type": "markdown",
   "id": "532719a7",
   "metadata": {},
   "source": [
    "# Day02_03_ Pythonic programming_asterisk\n",
    "<font size=5><b>\\*args \\& \\**kargs<b></font>\n",
    "<div align='right'>류 회 성<br>(Hoe Sung Ryu)</div>\n",
    "\n",
    "  \n",
    "<img src='./imgs/02_03_main.png' width=50%>\n",
    "\n",
    "    \n",
    "---"
   ]
  },
  {
   "cell_type": "markdown",
   "id": "776f3fc0",
   "metadata": {
    "toc": true
   },
   "source": [
    "<h1>Table of Contents<span class=\"tocSkip\"></span></h1>\n",
    "<div class=\"toc\"><ul class=\"toc-item\"><li><span><a href=\"#가변인자\" data-toc-modified-id=\"가변인자-1\"><span class=\"toc-item-num\">1&nbsp;&nbsp;</span>가변인자</a></span><ul class=\"toc-item\"><li><span><a href=\"#*args\" data-toc-modified-id=\"*args-1.1\"><span class=\"toc-item-num\">1.1&nbsp;&nbsp;</span><code>*args</code></a></span></li><li><span><a href=\"#**kargs\" data-toc-modified-id=\"**kargs-1.2\"><span class=\"toc-item-num\">1.2&nbsp;&nbsp;</span><code>**kargs</code></a></span></li></ul></li></ul></div>"
   ]
  },
  {
   "cell_type": "markdown",
   "id": "6c08520b",
   "metadata": {},
   "source": [
    "## 가변인자\n",
    "\n",
    "### `*args`\n",
    "- parameter 이름 앞의 * :\n",
    "- 임의의 개수의 인자값들을 받아 tuple로 저장\n"
   ]
  },
  {
   "cell_type": "code",
   "execution_count": 40,
   "id": "710b183d",
   "metadata": {
    "ExecuteTime": {
     "end_time": "2021-07-24T07:48:25.702203Z",
     "start_time": "2021-07-24T07:48:25.698212Z"
    }
   },
   "outputs": [],
   "source": [
    "def add_num(*args):\n",
    "    total_sum = 0 \n",
    "    for x in args:\n",
    "        total_sum +=x\n",
    "    return total_sum\n"
   ]
  },
  {
   "cell_type": "code",
   "execution_count": 41,
   "id": "460b8f5a",
   "metadata": {
    "ExecuteTime": {
     "end_time": "2021-07-24T07:48:25.876881Z",
     "start_time": "2021-07-24T07:48:25.872912Z"
    }
   },
   "outputs": [
    {
     "data": {
      "text/plain": [
       "10"
      ]
     },
     "execution_count": 41,
     "metadata": {},
     "output_type": "execute_result"
    }
   ],
   "source": [
    "add_num(1,2,3,4)"
   ]
  },
  {
   "cell_type": "code",
   "execution_count": 42,
   "id": "b8698ea3",
   "metadata": {
    "ExecuteTime": {
     "end_time": "2021-07-24T07:48:26.048995Z",
     "start_time": "2021-07-24T07:48:26.046031Z"
    }
   },
   "outputs": [],
   "source": [
    "# 내장함수를 사용하여 더욱 간단하게 \n",
    "\n",
    "def add_num(*args):\n",
    "    return sum(args)\n"
   ]
  },
  {
   "cell_type": "code",
   "execution_count": 43,
   "id": "a9da70f4",
   "metadata": {
    "ExecuteTime": {
     "end_time": "2021-07-24T07:48:29.320302Z",
     "start_time": "2021-07-24T07:48:29.315316Z"
    }
   },
   "outputs": [
    {
     "data": {
      "text/plain": [
       "10"
      ]
     },
     "execution_count": 43,
     "metadata": {},
     "output_type": "execute_result"
    }
   ],
   "source": [
    "add_num(1,2,3,4)"
   ]
  },
  {
   "attachments": {},
   "cell_type": "markdown",
   "id": "2b003bed",
   "metadata": {},
   "source": [
    "### `**kargs`\n",
    "\n",
    "- 사전dictionary을 통째로 변수로 받음"
   ]
  },
  {
   "cell_type": "code",
   "execution_count": 45,
   "id": "8a107deb",
   "metadata": {
    "ExecuteTime": {
     "end_time": "2021-07-24T08:02:48.815030Z",
     "start_time": "2021-07-24T08:02:48.811040Z"
    }
   },
   "outputs": [],
   "source": [
    "def price(**cost):\n",
    "    for key,value in cost.items():\n",
    "        print(f'교통수단{key} 요금{value}')\n",
    "        "
   ]
  },
  {
   "cell_type": "code",
   "execution_count": null,
   "id": "38f24108",
   "metadata": {},
   "outputs": [],
   "source": [
    "def price(**cost):\n",
    "    for i in cost:\n",
    "        print(f'교통수단{i:<7s} 요금{cost[i]:>4d}원')"
   ]
  },
  {
   "cell_type": "code",
   "execution_count": 46,
   "id": "43870b3d",
   "metadata": {
    "ExecuteTime": {
     "end_time": "2021-07-24T08:02:49.329008Z",
     "start_time": "2021-07-24T08:02:49.326015Z"
    }
   },
   "outputs": [
    {
     "name": "stdout",
     "output_type": "stream",
     "text": [
      "교통수단walking 요금0\n",
      "교통수단bus 요금1200\n",
      "교통수단taxi 요금3800\n"
     ]
    }
   ],
   "source": [
    "cost = {'walking': 0, 'bus':1200, 'taxi':3800}\n",
    "price(**cost)"
   ]
  },
  {
   "cell_type": "code",
   "execution_count": null,
   "id": "a754ab69",
   "metadata": {},
   "outputs": [],
   "source": [
    "def count_price(*count,**cost): # 순서 바뀌면 안됨\n",
    "    total = 0 \n",
    "    c = 0\n",
    "    for key, value in cost.items():\n",
    "        total+= count[c]*value\n",
    "        print(f'교통수단{key} {count[c]}회',end='\\n')\n",
    "        c+=1\n",
    "    print(f\"총 요금:{total}원\")"
   ]
  },
  {
   "cell_type": "code",
   "execution_count": null,
   "id": "8c32bbeb",
   "metadata": {},
   "outputs": [],
   "source": [
    "count = [1,2,3]\n",
    "cost = {'walking': 0, 'bus':1200, 'taxi':3800}\n",
    "count_price(*count,**cost)"
   ]
  },
  {
   "cell_type": "markdown",
   "id": "50aa5656",
   "metadata": {},
   "source": [
    "<div class=\"alert alert-success\">\n",
    "    <b>예제(Exercise)</b>:\n",
    "    <ul>\n",
    "        <li>\n",
    "        다음을 값을 출력하시오 \n",
    "        </li>\n",
    "    </ul>\n",
    "</div>\n",
    "\n",
    "입력값\n",
    "```python \n",
    "count = [1,2,3]\n",
    "fruits = {\"포도\":6000,\"수박\":12000,\"자두\":4000}\n",
    "```\n",
    "출력값\n",
    "```python \n",
    "과일:    포도 01개\n",
    "과일:    수박 02개\n",
    "과일:    자두 03개\n",
    "총 요금: 42000원\n",
    "```"
   ]
  },
  {
   "cell_type": "code",
   "execution_count": null,
   "id": "879801e7",
   "metadata": {},
   "outputs": [],
   "source": [
    "def count_fruits(*count, **cost):\n",
    "    total = 0\n",
    "    c = 0\n",
    "    for key, value in cost.items():\n",
    "        total += count[c]*value\n",
    "        print(f'과일:{key:>6s} {count[c]:02d}개', end='\\n')\n",
    "        c += 1\n",
    "    print(f\"총 요금:{total:>6d}원\")"
   ]
  },
  {
   "cell_type": "code",
   "execution_count": null,
   "id": "758f3505",
   "metadata": {},
   "outputs": [],
   "source": [
    "count = [1,2,3]\n",
    "fruits = {\"포도\":6000,\"수박\":12000,\"자두\":4000}\n",
    "count_fruits(*count,**fruits)"
   ]
  },
  {
   "cell_type": "markdown",
   "id": "ef648b45",
   "metadata": {},
   "source": [
    "<hr style=\"height:3px;border:none;color:#5F71F7;background-color:#5F71F7;\" />\n",
    "\n",
    "<div class=\"alert alert-success\">\n",
    "    <b>예제(Exercise)</b>:\n",
    "    <ul>\n",
    "        <li>\n",
    "        다음을 값을 출력하시오 __ 중첩리스트 \n",
    "        </li>\n",
    "    </ul>\n",
    "</div>\n",
    "\n",
    "```python \n",
    "(0, 0) (0, 1) (0, 2) \n",
    "(1, 0) (1, 1) (1, 2) \n",
    "(2, 0) (2, 1) (2, 2) \n",
    "```"
   ]
  },
  {
   "cell_type": "code",
   "execution_count": 2,
   "id": "dd3857d8",
   "metadata": {
    "ExecuteTime": {
     "end_time": "2021-07-24T07:16:48.360588Z",
     "start_time": "2021-07-24T07:16:48.354604Z"
    }
   },
   "outputs": [
    {
     "name": "stdout",
     "output_type": "stream",
     "text": [
      "(0, 0) (0, 1) (0, 2) \n",
      "(1, 0) (1, 1) (1, 2) \n",
      "(2, 0) (2, 1) (2, 2) \n"
     ]
    }
   ],
   "source": [
    "for i in range(3):\n",
    "    for j in range(3):\n",
    "        print((i,j),end=' ')\n",
    "    print()"
   ]
  },
  {
   "cell_type": "markdown",
   "id": "f670576e",
   "metadata": {},
   "source": [
    "<hr style=\"height:3px;border:none;color:#5F71F7;background-color:#5F71F7;\" />\n",
    "\n",
    "<div class=\"alert alert-success\">\n",
    "    <b>예제(Exercise)</b>:\n",
    "    <ul>\n",
    "        <li>\n",
    "        이름과 성적을 입력받아 합격 기준이 60점이 넘으면 '합격하였습니다.'를 출력하며, 그렇지 않은 경우는 '불합격하였습니다. 를 반환하는 함수를 만드시오.  \n",
    "        </li>\n",
    "    </ul>\n",
    "</div>\n",
    "\n",
    "함수 예제\n",
    "\n",
    "```python \n",
    "def check_score(x,y,criterion=60):\n",
    "    ''''... 생량 ...''''\n",
    "   \n",
    "```\n",
    "\n",
    "테스트 케이스 \n",
    "- check_score('A',90)\n",
    "- check_score('B',40)"
   ]
  },
  {
   "cell_type": "code",
   "execution_count": 38,
   "id": "0ded94e6",
   "metadata": {
    "ExecuteTime": {
     "end_time": "2021-07-24T07:43:23.821107Z",
     "start_time": "2021-07-24T07:43:23.817094Z"
    }
   },
   "outputs": [],
   "source": [
    "def check_score(x,y,criterion=60):\n",
    "    if y>60:\n",
    "         print(f'{x} 님은 합격하셨습니다.')\n",
    "    else:\n",
    "        print(f'{x} 님은 불합격하셨습니다.')"
   ]
  },
  {
   "cell_type": "code",
   "execution_count": 39,
   "id": "142cd871",
   "metadata": {
    "ExecuteTime": {
     "end_time": "2021-07-24T07:43:24.012229Z",
     "start_time": "2021-07-24T07:43:24.009237Z"
    }
   },
   "outputs": [
    {
     "name": "stdout",
     "output_type": "stream",
     "text": [
      "A 님은 합격하셨습니다.\n",
      "B 님은 불합격하셨습니다.\n"
     ]
    }
   ],
   "source": [
    "check_score('A',90)\n",
    "check_score('B',40)"
   ]
  },
  {
   "cell_type": "markdown",
   "id": "558ec4ba",
   "metadata": {},
   "source": [
    "<hr style=\"height:3px;border:none;color:#5F71F7;background-color:#5F71F7;\" />\n",
    "\n",
    "<div class=\"alert alert-success\">\n",
    "    <b>예제(Exercise)</b>:\n",
    "    <ul>\n",
    "        <li>\n",
    "        다음 학급에 김씨, 이씨가 각각 몇 명잇는지 구하시오.__ for문, if문 \n",
    "        </li>\n",
    "    </ul>\n",
    "</div>\n",
    "\n",
    "```python \n",
    "name_list='이유덕,이재영,권종표,이재영,박민호,강상희,이재영,김지완,최승혁,이성연,박영서,박민호,전경헌,송정환,김재성,이유덕,전경헌'\n",
    "```"
   ]
  },
  {
   "cell_type": "code",
   "execution_count": 3,
   "id": "d48ef37d",
   "metadata": {
    "ExecuteTime": {
     "end_time": "2021-07-24T07:20:25.383880Z",
     "start_time": "2021-07-24T07:20:25.375932Z"
    }
   },
   "outputs": [
    {
     "data": {
      "text/plain": [
       "['이유덕',\n",
       " '이재영',\n",
       " '권종표',\n",
       " '이재영',\n",
       " '박민호',\n",
       " '강상희',\n",
       " '이재영',\n",
       " '김지완',\n",
       " '최승혁',\n",
       " '이성연',\n",
       " '박영서',\n",
       " '박민호',\n",
       " '전경헌',\n",
       " '송정환',\n",
       " '김재성',\n",
       " '이유덕',\n",
       " '전경헌']"
      ]
     },
     "execution_count": 3,
     "metadata": {},
     "output_type": "execute_result"
    }
   ],
   "source": [
    "name_list='이유덕,이재영,권종표,이재영,박민호,강상희,이재영,김지완,최승혁,이성연,박영서,박민호,전경헌,송정환,김재성,이유덕,전경헌'.split(',')\n",
    "name_list"
   ]
  },
  {
   "cell_type": "code",
   "execution_count": 5,
   "id": "8bfad72a",
   "metadata": {
    "ExecuteTime": {
     "end_time": "2021-07-24T07:20:42.688107Z",
     "start_time": "2021-07-24T07:20:42.684106Z"
    }
   },
   "outputs": [
    {
     "name": "stdout",
     "output_type": "stream",
     "text": [
      "김씨는 2명입니다\n",
      "이씨는 6명입니다\n"
     ]
    }
   ],
   "source": [
    "kim = 0 # 김씨 몇명?\n",
    "lee = 0 # 이씨 몇명?\n",
    "for i in name_list:\n",
    "    if '김' == i[0]:\n",
    "        kim+=1\n",
    "    if '이' == i[0]:\n",
    "        lee+=1\n",
    "print(f\"김씨는 {kim}명입니다\")\n",
    "print(f\"이씨는 {lee}명입니다\")"
   ]
  },
  {
   "cell_type": "markdown",
   "id": "c50b8adb",
   "metadata": {},
   "source": [
    "<hr style=\"height:3px;border:none;color:#5F71F7;background-color:#5F71F7;\" />\n",
    "\n",
    "<div class=\"alert alert-success\">\n",
    "    <b>예제(Exercise)</b>:\n",
    "    <ul>\n",
    "        <li>\n",
    "        다음 학급의 전체 인원 수 와 같은 이름이 몇명 있는지 구하시오.__ len, set \n",
    "        </li>\n",
    "    </ul>\n",
    "</div>\n",
    "\n",
    "```python \n",
    "name_list='이유덕,이재영,권종표,이재영,박민호,강상희,이재영,김지완,최승혁,이성연,박영서,박민호,전경헌,송정환,김재성,이유덕,전경헌'\n",
    "```"
   ]
  },
  {
   "cell_type": "code",
   "execution_count": 6,
   "id": "6f450c83",
   "metadata": {
    "ExecuteTime": {
     "end_time": "2021-07-24T07:21:37.131705Z",
     "start_time": "2021-07-24T07:21:37.116087Z"
    }
   },
   "outputs": [
    {
     "data": {
      "text/plain": [
       "['이유덕',\n",
       " '이재영',\n",
       " '권종표',\n",
       " '이재영',\n",
       " '박민호',\n",
       " '강상희',\n",
       " '이재영',\n",
       " '김지완',\n",
       " '최승혁',\n",
       " '이성연',\n",
       " '박영서',\n",
       " '박민호',\n",
       " '전경헌',\n",
       " '송정환',\n",
       " '김재성',\n",
       " '이유덕',\n",
       " '전경헌']"
      ]
     },
     "execution_count": 6,
     "metadata": {},
     "output_type": "execute_result"
    }
   ],
   "source": [
    "name_list='이유덕,이재영,권종표,이재영,박민호,강상희,이재영,김지완,최승혁,이성연,박영서,박민호,전경헌,송정환,김재성,이유덕,전경헌'.split(',')\n",
    "name_list"
   ]
  },
  {
   "cell_type": "code",
   "execution_count": 8,
   "id": "ea87796a",
   "metadata": {
    "ExecuteTime": {
     "end_time": "2021-07-24T07:21:42.833152Z",
     "start_time": "2021-07-24T07:21:42.828158Z"
    }
   },
   "outputs": [
    {
     "data": {
      "text/plain": [
       "12"
      ]
     },
     "execution_count": 8,
     "metadata": {},
     "output_type": "execute_result"
    }
   ],
   "source": [
    "len(set(name_list))"
   ]
  },
  {
   "cell_type": "markdown",
   "id": "bbabc70d",
   "metadata": {},
   "source": [
    "<hr style=\"height:3px;border:none;color:#5F71F7;background-color:#5F71F7;\" />\n",
    "\n",
    "<div class=\"alert alert-success\">\n",
    "    <b>예제(Exercise)</b>:\n",
    "    <ul>\n",
    "        <li>\n",
    "        주어진 문자열 안에서의 각 문자의 출현빈도를 사전형으로 만들어 반환하는 함수 ch_bin()을 작성하시오. \n",
    "        </li>\n",
    "    </ul>\n",
    "</div>\n",
    "\n",
    "예제\n",
    "- 입력값(input): brontosaurus\n",
    "- 출력값: {'b': 1, 'r': 2, 'o': 2, 'n': 1, 't': 1, 's': 2, 'a': 1, 'u': 2}\n",
    "\n",
    "테스트 케이스 \n",
    "```python \n",
    "words = ['Seoul','Subway','Happy',\n",
    "         'Deep Learning','Machine Learning',\n",
    "         'NIA','Life','Python','apple','banana']\n",
    "```"
   ]
  },
  {
   "cell_type": "code",
   "execution_count": 13,
   "id": "0e5f95b8",
   "metadata": {
    "ExecuteTime": {
     "end_time": "2021-07-24T07:25:04.961190Z",
     "start_time": "2021-07-24T07:25:04.957174Z"
    }
   },
   "outputs": [],
   "source": [
    "def ch_bin(word):\n",
    "    word = word.strip().replace(' ','').lower()\n",
    "    word_dict = dict()\n",
    "    for c in word:\n",
    "        word_dict[c] = word.count(c)\n",
    "    return word_dict"
   ]
  },
  {
   "cell_type": "code",
   "execution_count": 19,
   "id": "54697338",
   "metadata": {
    "ExecuteTime": {
     "end_time": "2021-07-24T07:28:25.295611Z",
     "start_time": "2021-07-24T07:28:25.291593Z"
    }
   },
   "outputs": [],
   "source": [
    "words = ['Seoul','Subway','Happy',\n",
    "         'Deep Learning','Machine Learning',\n",
    "         'NIA','Life','Python','apple','banana']"
   ]
  },
  {
   "cell_type": "code",
   "execution_count": 25,
   "id": "d137a959",
   "metadata": {
    "ExecuteTime": {
     "end_time": "2021-07-24T07:28:44.653461Z",
     "start_time": "2021-07-24T07:28:44.647504Z"
    }
   },
   "outputs": [
    {
     "name": "stdout",
     "output_type": "stream",
     "text": [
      "Seoul               : {'s': 1, 'e': 1, 'o': 1, 'u': 1, 'l': 1}\n",
      "Subway              : {'s': 1, 'u': 1, 'b': 1, 'w': 1, 'a': 1, 'y': 1}\n",
      "Happy               : {'h': 1, 'a': 1, 'p': 2, 'y': 1}\n",
      "Deep Learning       : {'d': 1, 'e': 3, 'p': 1, 'l': 1, 'a': 1, 'r': 1, 'n': 2, 'i': 1, 'g': 1}\n",
      "Machine Learning    : {'m': 1, 'a': 2, 'c': 1, 'h': 1, 'i': 2, 'n': 3, 'e': 2, 'l': 1, 'r': 1, 'g': 1}\n",
      "NIA                 : {'n': 1, 'i': 1, 'a': 1}\n",
      "Life                : {'l': 1, 'i': 1, 'f': 1, 'e': 1}\n",
      "Python              : {'p': 1, 'y': 1, 't': 1, 'h': 1, 'o': 1, 'n': 1}\n",
      "apple               : {'a': 1, 'p': 2, 'l': 1, 'e': 1}\n",
      "banana              : {'b': 1, 'a': 3, 'n': 2}\n"
     ]
    }
   ],
   "source": [
    "for word in words:\n",
    "    frequency = ch_bin(word)\n",
    "    print(f'{word:<20s}: {frequency}')\n",
    "        \n",
    "#         (f\"{word:<%d} : \"%maxlen).format(word=word),ch_bin(word))"
   ]
  },
  {
   "cell_type": "markdown",
   "id": "72415c4b",
   "metadata": {},
   "source": [
    "<hr style=\"height:3px;border:none;color:#5F71F7;background-color:#5F71F7;\" />\n",
    "\n",
    "<div class=\"alert alert-success\">\n",
    "    <b>예제(Exercise)</b>:\n",
    "    <ul>\n",
    "        <li>\n",
    "        앞서 만든 함수 ch_bin()을 변형하여 1개만 잇는 문자들을 출력하게 만드시오. \n",
    "        </li>\n",
    "    </ul>\n",
    "</div>\n",
    "\n",
    "예제\n",
    "- 입력값(input): brontosaurus\n",
    "- 출력값: {'b', 'n', 't',  'a' }\n",
    "\n",
    "테스트 케이스 \n",
    "```python \n",
    "words = ['Seoul','Subway','Happy',\n",
    "         'Deep Learning','Machine Learning',\n",
    "         'NIA','Life','Python','apple','banana']\n",
    "```"
   ]
  },
  {
   "cell_type": "code",
   "execution_count": 27,
   "id": "0789214a",
   "metadata": {
    "ExecuteTime": {
     "end_time": "2021-07-24T07:31:15.343610Z",
     "start_time": "2021-07-24T07:31:15.338623Z"
    }
   },
   "outputs": [],
   "source": [
    "def ch_bin(word):\n",
    "    word = word.strip().replace(' ','').lower()\n",
    "    word_dict = dict()\n",
    "    for c in word:\n",
    "        if word.count(c) ==1:\n",
    "            word_dict[c] = word.count(c)\n",
    "    return word_dict"
   ]
  },
  {
   "cell_type": "code",
   "execution_count": 28,
   "id": "8834781c",
   "metadata": {
    "ExecuteTime": {
     "end_time": "2021-07-24T07:31:15.524472Z",
     "start_time": "2021-07-24T07:31:15.520482Z"
    }
   },
   "outputs": [],
   "source": [
    "words = ['Seoul','Subway','Happy',\n",
    "         'Deep Learning','Machine Learning',\n",
    "         'NIA','Life','Python','apple','banana']"
   ]
  },
  {
   "cell_type": "code",
   "execution_count": 31,
   "id": "ff57a0b9",
   "metadata": {
    "ExecuteTime": {
     "end_time": "2021-07-24T07:32:07.424024Z",
     "start_time": "2021-07-24T07:32:07.419045Z"
    }
   },
   "outputs": [
    {
     "name": "stdout",
     "output_type": "stream",
     "text": [
      "Seoul               : ['s', 'e', 'o', 'u', 'l']\n",
      "Subway              : ['s', 'u', 'b', 'w', 'a', 'y']\n",
      "Happy               : ['h', 'a', 'y']\n",
      "Deep Learning       : ['d', 'p', 'l', 'a', 'r', 'i', 'g']\n",
      "Machine Learning    : ['m', 'c', 'h', 'l', 'r', 'g']\n",
      "NIA                 : ['n', 'i', 'a']\n",
      "Life                : ['l', 'i', 'f', 'e']\n",
      "Python              : ['p', 'y', 't', 'h', 'o', 'n']\n",
      "apple               : ['a', 'l', 'e']\n",
      "banana              : ['b']\n"
     ]
    }
   ],
   "source": [
    "for word in words:\n",
    "    frequency = ch_bin(word)\n",
    "    print(f'{word:<20s}: {list(frequency.keys())}')\n",
    "        \n",
    "#         (f\"{word:<%d} : \"%maxlen).format(word=word),ch_bin(word))"
   ]
  },
  {
   "cell_type": "code",
   "execution_count": null,
   "id": "944203ea",
   "metadata": {},
   "outputs": [],
   "source": []
  },
  {
   "cell_type": "code",
   "execution_count": null,
   "id": "d9d0ab3d",
   "metadata": {},
   "outputs": [],
   "source": []
  },
  {
   "cell_type": "code",
   "execution_count": null,
   "id": "2401b621",
   "metadata": {},
   "outputs": [],
   "source": []
  },
  {
   "cell_type": "code",
   "execution_count": null,
   "id": "32499273",
   "metadata": {},
   "outputs": [],
   "source": []
  },
  {
   "cell_type": "markdown",
   "id": "77bff714",
   "metadata": {},
   "source": [
    "<hr style=\"height:3px;border:none;color:#5F71F7;background-color:#5F71F7;\" />\n",
    "\n",
    "<div class=\"alert alert-success\">\n",
    "    <b>예제(Exercise)</b>:\n",
    "    <ul>\n",
    "        <li>\n",
    "        과일의 비타민 함유량 출력하는 함수를 만들고자 한다. \n",
    "         <li>\n",
    "         각 과일 이름과 함유량을 인자로 받아 dict로 저장하고, 이름과 함유량을 출력예와 같이 출력하는 함수 vitamin_c를 정의하라. \n",
    "        </li>\n",
    "        </li>\n",
    "    </ul>\n",
    "</div>\n",
    "\n",
    "예제\n",
    "- 입력값: vitamin_c(citron=105,strawberry=94,quince=81,lemon=70,tangerine=39)\n",
    "- 출력값: \n",
    "\n",
    "```python \n",
    "----------------------------------\n",
    "Fruit Name      Vitamin C Content\n",
    "----------------------------------\n",
    "citron          105\n",
    "strawberry      94\n",
    "quince          81\n",
    "lemon           70\n",
    "tangerine       39\n",
    "----------------------------------\n",
    "총 함유량: 389\n",
    "```\n",
    "\n",
    "테스트 케이스 \n",
    "vitamin_c(orange=43, kiwi=27, cherryTomato=21, appe=4)"
   ]
  },
  {
   "cell_type": "code",
   "execution_count": 35,
   "id": "2440b432",
   "metadata": {
    "ExecuteTime": {
     "end_time": "2021-07-24T07:37:43.830433Z",
     "start_time": "2021-07-24T07:37:43.826444Z"
    }
   },
   "outputs": [],
   "source": [
    "def vitamin_c(**fruit):\n",
    "    sum = 0\n",
    "    print('----------------------------------')\n",
    "    print('Fruit Name      Vitamin C Content')\n",
    "    print('----------------------------------')\n",
    "    for name,value in fruit.items():\n",
    "        print(f\"{name:<16s}{value:<17d}\")\n",
    "        sum += value\n",
    "    print('----------------------------------')\n",
    "    return sum"
   ]
  },
  {
   "cell_type": "code",
   "execution_count": 36,
   "id": "023b3d57",
   "metadata": {
    "ExecuteTime": {
     "end_time": "2021-07-24T07:37:43.977039Z",
     "start_time": "2021-07-24T07:37:43.972055Z"
    }
   },
   "outputs": [
    {
     "name": "stdout",
     "output_type": "stream",
     "text": [
      "----------------------------------\n",
      "Fruit Name      Vitamin C Content\n",
      "----------------------------------\n",
      "citron          105              \n",
      "strawberry      94               \n",
      "quince          81               \n",
      "lemon           70               \n",
      "tangerine       39               \n",
      "----------------------------------\n",
      "총 함유량: 389\n",
      " \n",
      "----------------------------------\n",
      "Fruit Name      Vitamin C Content\n",
      "----------------------------------\n",
      "orange          43               \n",
      "kiwi            27               \n",
      "cherryTomato    21               \n",
      "appe            4                \n",
      "----------------------------------\n",
      "총 함유량: 95\n"
     ]
    }
   ],
   "source": [
    "print(\"총 함유량:\" ,vitamin_c(citron=105,strawberry=94,quince=81,lemon=70,tangerine=39))\n",
    "print(' ')\n",
    "print(\"총 함유량:\" ,vitamin_c(orange=43, kiwi=27, cherryTomato=21, appe=4))"
   ]
  }
 ],
 "metadata": {
  "kernelspec": {
   "display_name": "Python 3",
   "language": "python",
   "name": "python3"
  },
  "language_info": {
   "codemirror_mode": {
    "name": "ipython",
    "version": 3
   },
   "file_extension": ".py",
   "mimetype": "text/x-python",
   "name": "python",
   "nbconvert_exporter": "python",
   "pygments_lexer": "ipython3",
   "version": "3.8.10"
  },
  "toc": {
   "base_numbering": 1,
   "nav_menu": {},
   "number_sections": true,
   "sideBar": true,
   "skip_h1_title": true,
   "title_cell": "Table of Contents",
   "title_sidebar": "Contents",
   "toc_cell": true,
   "toc_position": {},
   "toc_section_display": true,
   "toc_window_display": false
  },
  "varInspector": {
   "cols": {
    "lenName": 16,
    "lenType": 16,
    "lenVar": 40
   },
   "kernels_config": {
    "python": {
     "delete_cmd_postfix": "",
     "delete_cmd_prefix": "del ",
     "library": "var_list.py",
     "varRefreshCmd": "print(var_dic_list())"
    },
    "r": {
     "delete_cmd_postfix": ") ",
     "delete_cmd_prefix": "rm(",
     "library": "var_list.r",
     "varRefreshCmd": "cat(var_dic_list()) "
    }
   },
   "types_to_exclude": [
    "module",
    "function",
    "builtin_function_or_method",
    "instance",
    "_Feature"
   ],
   "window_display": false
  }
 },
 "nbformat": 4,
 "nbformat_minor": 5
}
