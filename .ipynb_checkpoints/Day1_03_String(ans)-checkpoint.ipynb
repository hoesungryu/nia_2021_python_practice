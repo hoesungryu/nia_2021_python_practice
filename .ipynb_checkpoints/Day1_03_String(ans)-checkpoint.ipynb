{
 "cells": [
  {
   "cell_type": "markdown",
   "id": "67904864",
   "metadata": {},
   "source": [
    "# Day1_03_String\n",
    "\n",
    "<font size=5><b>파이썬 표현해보기<b></font>\n",
    "<div align='right'>류 회 성<br>(Hoe Sung Ryu)</div>\n",
    "\n",
    "  \n",
    "<img src='./imgs/03_main.png' width=70%>\n",
    "    \n",
    "---"
   ]
  },
  {
   "cell_type": "markdown",
   "id": "410f3425",
   "metadata": {
    "toc": true
   },
   "source": [
    "<h1>Table of Contents<span class=\"tocSkip\"></span></h1>\n",
    "<div class=\"toc\"><ul class=\"toc-item\"><li><span><a href=\"#문자열(String)\" data-toc-modified-id=\"문자열(String)-1\"><span class=\"toc-item-num\">1&nbsp;&nbsp;</span>문자열(String)</a></span><ul class=\"toc-item\"><li><span><a href=\"#작은-따옴표-&amp;-큰따옴표\" data-toc-modified-id=\"작은-따옴표-&amp;-큰따옴표-1.1\"><span class=\"toc-item-num\">1.1&nbsp;&nbsp;</span>작은 따옴표 &amp; 큰따옴표</a></span></li><li><span><a href=\"#탈출문자(Escape-character)\" data-toc-modified-id=\"탈출문자(Escape-character)-1.2\"><span class=\"toc-item-num\">1.2&nbsp;&nbsp;</span>탈출문자(Escape character)</a></span><ul class=\"toc-item\"><li><span><a href=\"#라인-피드와-캐리지-리턴\" data-toc-modified-id=\"라인-피드와-캐리지-리턴-1.2.1\"><span class=\"toc-item-num\">1.2.1&nbsp;&nbsp;</span>라인 피드와 캐리지 리턴</a></span></li></ul></li><li><span><a href=\"#Raw-문자열\" data-toc-modified-id=\"Raw-문자열-1.3\"><span class=\"toc-item-num\">1.3&nbsp;&nbsp;</span>Raw 문자열</a></span></li></ul></li><li><span><a href=\"#문자열-연산\" data-toc-modified-id=\"문자열-연산-2\"><span class=\"toc-item-num\">2&nbsp;&nbsp;</span>문자열 연산</a></span></li><li><span><a href=\"#문자열-인덱싱\" data-toc-modified-id=\"문자열-인덱싱-3\"><span class=\"toc-item-num\">3&nbsp;&nbsp;</span>문자열 인덱싱</a></span></li><li><span><a href=\"#문자열-슬라이싱\" data-toc-modified-id=\"문자열-슬라이싱-4\"><span class=\"toc-item-num\">4&nbsp;&nbsp;</span>문자열 슬라이싱</a></span></li><li><span><a href=\"#문자열-수정\" data-toc-modified-id=\"문자열-수정-5\"><span class=\"toc-item-num\">5&nbsp;&nbsp;</span>문자열 수정</a></span><ul class=\"toc-item\"><li><span><a href=\"#문자열은-수정불가하다!!\" data-toc-modified-id=\"문자열은-수정불가하다!!-5.1\"><span class=\"toc-item-num\">5.1&nbsp;&nbsp;</span>문자열은 수정불가하다!!</a></span></li></ul></li><li><span><a href=\"#문자열-함수\" data-toc-modified-id=\"문자열-함수-6\"><span class=\"toc-item-num\">6&nbsp;&nbsp;</span>문자열 함수</a></span><ul class=\"toc-item\"><li><span><a href=\"#문자열-길이\" data-toc-modified-id=\"문자열-길이-6.1\"><span class=\"toc-item-num\">6.1&nbsp;&nbsp;</span>문자열 길이</a></span></li><li><span><a href=\"#upper-/-lower-함수\" data-toc-modified-id=\"upper-/-lower-함수-6.2\"><span class=\"toc-item-num\">6.2&nbsp;&nbsp;</span>upper / lower 함수</a></span></li><li><span><a href=\"#count-함수\" data-toc-modified-id=\"count-함수-6.3\"><span class=\"toc-item-num\">6.3&nbsp;&nbsp;</span>count 함수</a></span></li><li><span><a href=\"#find-함수\" data-toc-modified-id=\"find-함수-6.4\"><span class=\"toc-item-num\">6.4&nbsp;&nbsp;</span>find 함수</a></span></li><li><span><a href=\"#index-함수\" data-toc-modified-id=\"index-함수-6.5\"><span class=\"toc-item-num\">6.5&nbsp;&nbsp;</span>index 함수</a></span></li><li><span><a href=\"#공백제거-함수(lstrip,-rstrip,-strip)\" data-toc-modified-id=\"공백제거-함수(lstrip,-rstrip,-strip)-6.6\"><span class=\"toc-item-num\">6.6&nbsp;&nbsp;</span>공백제거 함수(lstrip, rstrip, strip)</a></span></li><li><span><a href=\"#문자열-대체-replace\" data-toc-modified-id=\"문자열-대체-replace-6.7\"><span class=\"toc-item-num\">6.7&nbsp;&nbsp;</span>문자열 대체 replace</a></span></li></ul></li><li><span><a href=\"#문자열-포매팅-Formatting\" data-toc-modified-id=\"문자열-포매팅-Formatting-7\"><span class=\"toc-item-num\">7&nbsp;&nbsp;</span>문자열 포매팅 Formatting</a></span></li></ul></div>"
   ]
  },
  {
   "cell_type": "markdown",
   "id": "55654ee2",
   "metadata": {},
   "source": [
    "## 문자열(String)\n",
    "\n",
    "앞서서 간단한 문자열을 출력해 보았다. \n",
    "일반적으로 문자열이란 문자의 나열(순서 있는 묶음)이라는 뜻이다. \n",
    "파이썬에서 문자열은 특이하게 개별 문자든 문자열이든 모두 문자열로 취급한다.\n",
    "**`문자 하나`,`공백하나`도 문자 하나만 나열된 `문자열(str;string)` 이다**\n",
    "\n",
    " \n",
    "- 문자열(string)\n",
    "    - 문자(character)들의 모임\n",
    "- 문자(character)\n",
    "    - 영문자: a ~ z, A ~ Z, 그 외 문자들\n",
    "    - 특수문자: !@#$.,\n",
    "    - 공백문자(whitespace character): tab, enter(newline, 줄바꿈문자), space(공백문자)\n",
    "   \n",
    "- 작은 따옴표 : `''`\n",
    "- 큰 따옴표 : `\"\"`"
   ]
  },
  {
   "cell_type": "code",
   "execution_count": 5,
   "id": "f2243edb",
   "metadata": {
    "ExecuteTime": {
     "end_time": "2021-07-23T04:53:38.970073Z",
     "start_time": "2021-07-23T04:53:38.966084Z"
    }
   },
   "outputs": [
    {
     "name": "stdout",
     "output_type": "stream",
     "text": [
      "Hello~\n"
     ]
    }
   ],
   "source": [
    "print(\"Hello~\")"
   ]
  },
  {
   "cell_type": "markdown",
   "id": "26d85095",
   "metadata": {},
   "source": [
    "### 작은 따옴표 & 큰따옴표 \n",
    "\n",
    "문자열 데이터를 나타내려면 텍스트를 작은따옴표 또는 큰따옴표로 감싸 표기하면 된다. \n",
    "하지만, 다음과 같이 동시에 나타 낼때에는 어떻게 해야될까? \n",
    "\n",
    "```python \n",
    ">> \"Today's coffee\"   # 큰따옴표로 감쌀 때는 OK\n",
    "\"Today's coffee\"\n",
    "\n",
    ">> 'Today's coffee'   # 작은따옴표로 감싸면 오류가 발생한다\n",
    "SyntaxError: invalid syntax\n",
    "\n",
    "```\n"
   ]
  },
  {
   "cell_type": "code",
   "execution_count": 6,
   "id": "7db593b5",
   "metadata": {
    "ExecuteTime": {
     "end_time": "2021-07-23T04:53:57.710777Z",
     "start_time": "2021-07-23T04:53:57.706787Z"
    }
   },
   "outputs": [
    {
     "name": "stdout",
     "output_type": "stream",
     "text": [
      "Today's coffee\n"
     ]
    }
   ],
   "source": [
    "print(\"Today's coffee\" )"
   ]
  },
  {
   "cell_type": "code",
   "execution_count": 7,
   "id": "a8187875",
   "metadata": {
    "ExecuteTime": {
     "end_time": "2021-07-23T04:54:10.627708Z",
     "start_time": "2021-07-23T04:54:10.623719Z"
    }
   },
   "outputs": [
    {
     "ename": "SyntaxError",
     "evalue": "invalid syntax (<ipython-input-7-60478de7ee1f>, line 2)",
     "output_type": "error",
     "traceback": [
      "\u001b[1;36m  File \u001b[1;32m\"<ipython-input-7-60478de7ee1f>\"\u001b[1;36m, line \u001b[1;32m2\u001b[0m\n\u001b[1;33m    print('Today's coffee' )\u001b[0m\n\u001b[1;37m                 ^\u001b[0m\n\u001b[1;31mSyntaxError\u001b[0m\u001b[1;31m:\u001b[0m invalid syntax\n"
     ]
    }
   ],
   "source": [
    "# 에러\n",
    "print('Today's coffee' )"
   ]
  },
  {
   "cell_type": "markdown",
   "id": "4da3892a",
   "metadata": {},
   "source": [
    "### 탈출문자(Escape character)\n",
    "\n",
    "백슬래시를 문자앞에 사용하여 원하는 문자가 나오게 해준다.\n",
    "\n",
    "\n",
    "```python\n",
    ">> 'Today\\'s coffee'  # 작은따옴표를 이스케이프(\\) 해주면 된다\n",
    "\"Today's coffee\"\n",
    "```\n",
    "\n",
    "|Escape code| 설명|\n",
    "|---|---|\n",
    "|\\n| 줄바꿈(=개행)|\n",
    "|\\t |수평 탭문자(8칸)|\n",
    "|\\\\\\ |백슬래시 \"\\\"|\n",
    "|\\\\' |작은따옴표(')|\n",
    "|\\\\\" |큰따옴표(\")|\n",
    "|\\r |캐리지 리턴(커서앞으로이동)|\n",
    "|\\b |백 스페이스|"
   ]
  },
  {
   "cell_type": "code",
   "execution_count": 8,
   "id": "4c3c3a98",
   "metadata": {
    "ExecuteTime": {
     "end_time": "2021-07-23T04:56:04.587868Z",
     "start_time": "2021-07-23T04:56:04.584850Z"
    },
    "scrolled": true
   },
   "outputs": [
    {
     "name": "stdout",
     "output_type": "stream",
     "text": [
      "Today's coffee\n"
     ]
    }
   ],
   "source": [
    "print('Today\\'s coffee')"
   ]
  },
  {
   "cell_type": "markdown",
   "id": "b01d01ed",
   "metadata": {},
   "source": [
    "<div class=\"alert alert-success\">\n",
    "    <b>예제(Exercise)</b>:\n",
    "    <ul>\n",
    "        <li>\n",
    "        다음을 출력하시오.\n",
    "        </li>\n",
    "    </ul>\n",
    "</div>\n",
    "\n",
    "\n",
    "```python  \n",
    "'Life is too short \\\n",
    " You need python'\n",
    "\n",
    "```"
   ]
  },
  {
   "cell_type": "markdown",
   "id": "837e379d",
   "metadata": {},
   "source": [
    "#### 라인 피드와 캐리지 리턴\n",
    "참조: https://python.bakyeono.net/chapter-4-3.html\n",
    "\n",
    "라인 피드와 캐리지 리턴\n",
    "\n",
    "개행 문자는 왜 두 개(\\n과 \\r)일까? 개행 문자는 과거 인쇄기를 제어하는 방식과 연관이 있다. \\n은 라인 피드(line feed)라는 기호로, 인쇄기에게 종이를 한 행만큼 올리라고 지시한다. \\r은 캐리지 리턴(carriage return)이라는 기호로, 인쇄기의 활자를 찍는 팔을 원위치로 옮기라고 지시한다. 옛날 컴퓨터는 데이터 출력을 인쇄기로 했는데, 문자 출력 위치를 다음 행으로 바꾸려면 \\r\\n을 둘 다 수행해야 했기 때문에 두 문자가 모두 필요했다. 오늘날에는 인쇄기를 제어하는 방식은 달라졌다. 하지만 라인 피드와 캐리지 리턴을 이용해 텍스트 데이터에서 개행을 나타내는 방식은 그대로 남았다.\n",
    "\n",
    "그런데 운영 체제마다 개행을 나타내는 방식에 차이가 있다. 윈도우 계열의 OS에서는 개행을 \\r\\n으로 나타내고, 유닉스 계열의 OS(리눅스, 맥OS 등)에서는 개행을 \\n만으로 나타낸다. 그래서 리눅스에서 작성한 텍스트 파일을 윈도우의 메모장으로 열면 개행 문자가 깨져 보일 수 있다.\n",
    "\n",
    "파이썬 문자열에서는 \\n 만으로 개행을 표현한다. \\r을 사용하는 경우는 거의 없다"
   ]
  },
  {
   "cell_type": "markdown",
   "id": "ff40c62a",
   "metadata": {},
   "source": [
    "### Raw 문자열\n",
    "- 탈출문자를 모두 그대로의 문자로 취급\n",
    "- 문자열 앞에 r 붙히기"
   ]
  },
  {
   "cell_type": "code",
   "execution_count": 11,
   "id": "e5e09bf8",
   "metadata": {
    "ExecuteTime": {
     "end_time": "2021-07-23T05:01:35.969362Z",
     "start_time": "2021-07-23T05:01:35.965351Z"
    }
   },
   "outputs": [
    {
     "name": "stdout",
     "output_type": "stream",
     "text": [
      "Life is too short\n",
      " You need python\n"
     ]
    }
   ],
   "source": [
    "print('Life is too short\\n You need python')"
   ]
  },
  {
   "cell_type": "code",
   "execution_count": 12,
   "id": "37e06b59",
   "metadata": {
    "ExecuteTime": {
     "end_time": "2021-07-23T05:01:36.146103Z",
     "start_time": "2021-07-23T05:01:36.142116Z"
    }
   },
   "outputs": [
    {
     "name": "stdout",
     "output_type": "stream",
     "text": [
      "Life is too short\\n You need python\n"
     ]
    }
   ],
   "source": [
    "print(r'Life is too short\\n You need python')"
   ]
  },
  {
   "cell_type": "markdown",
   "id": "d378c4bd",
   "metadata": {},
   "source": [
    "## 문자열 연산"
   ]
  },
  {
   "cell_type": "code",
   "execution_count": null,
   "id": "b0cb6e26",
   "metadata": {},
   "outputs": [],
   "source": [
    "print('파'+'이'+'썬')\n",
    "\n",
    "print('파'+2+'썬')\n",
    "\n",
    "print('파'*2)"
   ]
  },
  {
   "cell_type": "code",
   "execution_count": null,
   "id": "9c4a2b06",
   "metadata": {},
   "outputs": [],
   "source": [
    "print('-'*10)\n",
    "print('파'*3+'이썬')\n",
    "print('-'*10)"
   ]
  },
  {
   "cell_type": "markdown",
   "id": "15e57ae8",
   "metadata": {},
   "source": [
    "<div class=\"alert alert-success\">\n",
    "    <b>예제(Exercise)</b>:\n",
    "    <ul>\n",
    "        <li>\n",
    "        자신의 이름을 10번 반복하고 윗줄과 아랫줄을 별표로 감싸 출력하시오\n",
    "        </li>\n",
    "    </ul>\n",
    "</div>\n",
    "\n",
    "\n",
    "\n",
    "예시)\n",
    "```python\n",
    "********************************************************************************\n",
    "류회성 류회성 류회성 류회성 류회성 류회성 류회성 류회성 류회성 류회성 \n",
    "********************************************************************************\n",
    "```"
   ]
  },
  {
   "cell_type": "code",
   "execution_count": 17,
   "id": "4966769d",
   "metadata": {
    "ExecuteTime": {
     "end_time": "2021-07-23T05:04:52.363750Z",
     "start_time": "2021-07-23T05:04:52.359756Z"
    }
   },
   "outputs": [
    {
     "name": "stdout",
     "output_type": "stream",
     "text": [
      "********************************************************************************\n",
      "류회성 류회성 류회성 류회성 류회성 류회성 류회성 류회성 류회성 류회성 \n",
      "********************************************************************************\n"
     ]
    }
   ],
   "source": [
    "print('*'*80)\n",
    "print('류회성 '*10)\n",
    "print('*'*80)"
   ]
  },
  {
   "cell_type": "markdown",
   "id": "eefe51ae",
   "metadata": {},
   "source": [
    "## 문자열 인덱싱"
   ]
  },
  {
   "cell_type": "code",
   "execution_count": null,
   "id": "259f6d54",
   "metadata": {},
   "outputs": [],
   "source": [
    "s = \"Life is too short\"\n",
    "print(s[0])\n",
    "print(s[1])\n",
    "print(s[2])\n",
    "print(s[3])"
   ]
  },
  {
   "cell_type": "code",
   "execution_count": null,
   "id": "6c05b2b2",
   "metadata": {},
   "outputs": [],
   "source": [
    "print(s[-1])\n",
    "print(s[-2])\n",
    "print(s[-3])\n",
    "print(s[-4])\n",
    "print(s[-5])"
   ]
  },
  {
   "cell_type": "code",
   "execution_count": null,
   "id": "cd4386d6",
   "metadata": {},
   "outputs": [],
   "source": [
    "tmp = 'Life is too short'\n",
    "print(tmp[8:]) # 아홉번째 부터끝까지 출력 \n",
    "# >> too short\n",
    "print(tmp[:-5]) # -5 까지 출력 \n",
    "# >> Life is too"
   ]
  },
  {
   "cell_type": "markdown",
   "id": "1842c342",
   "metadata": {},
   "source": [
    "## 문자열 슬라이싱 "
   ]
  },
  {
   "cell_type": "code",
   "execution_count": null,
   "id": "a6b47f7c",
   "metadata": {},
   "outputs": [],
   "source": [
    "s = \"Life is too short\"\n",
    "s[1:3]"
   ]
  },
  {
   "cell_type": "markdown",
   "id": "ac1ef82f",
   "metadata": {},
   "source": [
    "## 문자열 수정 \n",
    "\n",
    "### 문자열은 수정불가하다!!\n",
    "\n",
    "```python \n",
    "w=\"20210725TOOHOT\"\n",
    "w[4:6]='05' # 문자열은 그 값을 수정, 변경할 수 없음 -> str은 수정불가, 항상 새로 생성해야 함\n",
    "---------------------------------------------------------------------------\n",
    "TypeError                                 Traceback (most recent call last)\n",
    "<ipython-input-19-66bb92baebe3> in <module>\n",
    "      1 w=\"20210725TOOHOT\"\n",
    "----> 2 w[4:6]='05'\n",
    "\n",
    "TypeError: 'str' object does not support item assignment\n",
    "```"
   ]
  },
  {
   "cell_type": "code",
   "execution_count": 18,
   "id": "c806d614",
   "metadata": {
    "ExecuteTime": {
     "end_time": "2021-07-23T05:06:10.926396Z",
     "start_time": "2021-07-23T05:06:10.757723Z"
    }
   },
   "outputs": [
    {
     "ename": "TypeError",
     "evalue": "'str' object does not support item assignment",
     "output_type": "error",
     "traceback": [
      "\u001b[1;31m---------------------------------------------------------------------------\u001b[0m",
      "\u001b[1;31mTypeError\u001b[0m                                 Traceback (most recent call last)",
      "\u001b[1;32m<ipython-input-18-400367498539>\u001b[0m in \u001b[0;36m<module>\u001b[1;34m\u001b[0m\n\u001b[0;32m      1\u001b[0m \u001b[1;31m# 에러\u001b[0m\u001b[1;33m\u001b[0m\u001b[1;33m\u001b[0m\u001b[1;33m\u001b[0m\u001b[0m\n\u001b[0;32m      2\u001b[0m \u001b[0mw\u001b[0m\u001b[1;33m=\u001b[0m\u001b[1;34m\"20210725TOOHOT\"\u001b[0m\u001b[1;33m\u001b[0m\u001b[1;33m\u001b[0m\u001b[0m\n\u001b[1;32m----> 3\u001b[1;33m \u001b[0mw\u001b[0m\u001b[1;33m[\u001b[0m\u001b[1;36m4\u001b[0m\u001b[1;33m:\u001b[0m\u001b[1;36m6\u001b[0m\u001b[1;33m]\u001b[0m\u001b[1;33m=\u001b[0m\u001b[1;34m'05'\u001b[0m\u001b[1;33m\u001b[0m\u001b[1;33m\u001b[0m\u001b[0m\n\u001b[0m",
      "\u001b[1;31mTypeError\u001b[0m: 'str' object does not support item assignment"
     ]
    }
   ],
   "source": [
    "# 에러\n",
    "w=\"20210725TOOHOT\"\n",
    "w[4:6]='05'"
   ]
  },
  {
   "cell_type": "code",
   "execution_count": null,
   "id": "efbb0403",
   "metadata": {},
   "outputs": [],
   "source": [
    "tmp = 'Life is too short'\n",
    "print(tmp[:5] + 'is fun')\n",
    ">>'Life is fun'"
   ]
  },
  {
   "cell_type": "markdown",
   "id": "c9f01243",
   "metadata": {},
   "source": [
    "<div class=\"alert alert-success\">\n",
    "    <b>예제(Exercise)</b>:\n",
    "    <ul>\n",
    "        <li>\n",
    "        다음 문자열  \"20210726TOOHOT\"에서 날짜와 날씨 바꿔보기\n",
    "        </li>\n",
    "    </ul>\n",
    "</div>\n",
    "\n",
    "\n",
    "\n",
    "예시)\n",
    "```python\n",
    "'20210726SUNNY'\n",
    "```"
   ]
  },
  {
   "cell_type": "code",
   "execution_count": 108,
   "id": "8cf62dc9",
   "metadata": {
    "ExecuteTime": {
     "end_time": "2021-07-23T06:15:31.844666Z",
     "start_time": "2021-07-23T06:15:31.840674Z"
    }
   },
   "outputs": [
    {
     "data": {
      "text/plain": [
       "'20210726SUNNY'"
      ]
     },
     "execution_count": 108,
     "metadata": {},
     "output_type": "execute_result"
    }
   ],
   "source": [
    "w=\"20210725TOOHOT\"\n",
    "w[0:6]+'26'+'SUNNY'"
   ]
  },
  {
   "attachments": {},
   "cell_type": "markdown",
   "id": "5c669f3a",
   "metadata": {},
   "source": [
    "## 문자열 함수 \n",
    "\n",
    "1. 문자열 길이 len\n",
    "1. 대문자 만들기upper\n",
    "1. 소문자 만들기lower \n",
    "1. 문자 개수 세기count\n",
    "1. 문자 찾기find\n",
    "1. 인덱스 확인index\n",
    "1. 공백 제거strip\n",
    "1. 양쪽 공백 제거strip\n",
    "1. 오른쪽 공백 제거rstrip\n",
    "1. 왼쪽 공백 제거lstrip\n",
    "1. 문자열 대체replace\n",
    "\n",
    "1. 문자 합치기join\n",
    "1. 문자 쪼개기split \n",
    "1. format 함수"
   ]
  },
  {
   "cell_type": "markdown",
   "id": "c943a83e",
   "metadata": {},
   "source": [
    "### 문자열 길이"
   ]
  },
  {
   "cell_type": "code",
   "execution_count": 26,
   "id": "4b6d31d4",
   "metadata": {
    "ExecuteTime": {
     "end_time": "2021-07-23T05:42:03.680745Z",
     "start_time": "2021-07-23T05:42:03.677220Z"
    }
   },
   "outputs": [
    {
     "name": "stdout",
     "output_type": "stream",
     "text": [
      "Life is too short, Learn Python\n",
      "31\n"
     ]
    }
   ],
   "source": [
    "s = 'Life is too short, Learn Python'\n",
    "print(s)\n",
    "print(len(s))"
   ]
  },
  {
   "cell_type": "markdown",
   "id": "a84834dd",
   "metadata": {},
   "source": [
    "### upper / lower 함수"
   ]
  },
  {
   "cell_type": "code",
   "execution_count": 31,
   "id": "5d8f7d39",
   "metadata": {
    "ExecuteTime": {
     "end_time": "2021-07-23T05:42:40.160909Z",
     "start_time": "2021-07-23T05:42:40.157916Z"
    }
   },
   "outputs": [
    {
     "name": "stdout",
     "output_type": "stream",
     "text": [
      "Life is too short, Learn Python\n",
      "========================================\n",
      "life is too short, learn python\n"
     ]
    }
   ],
   "source": [
    "s = 'Life is too short, Learn Python'\n",
    "print(s)\n",
    "print('='*40)\n",
    "print(s.lower())"
   ]
  },
  {
   "cell_type": "code",
   "execution_count": 32,
   "id": "c3517f93",
   "metadata": {
    "ExecuteTime": {
     "end_time": "2021-07-23T05:42:40.401305Z",
     "start_time": "2021-07-23T05:42:40.397316Z"
    }
   },
   "outputs": [
    {
     "name": "stdout",
     "output_type": "stream",
     "text": [
      "Life is too short, Learn Python\n",
      "========================================\n",
      "life is too short, learn python\n"
     ]
    }
   ],
   "source": [
    "s = 'Life is too short, Learn Python'\n",
    "print(s)\n",
    "print('='*40)\n",
    "print(s.lower())"
   ]
  },
  {
   "cell_type": "markdown",
   "id": "010decd5",
   "metadata": {},
   "source": [
    "### count 함수"
   ]
  },
  {
   "cell_type": "code",
   "execution_count": 33,
   "id": "61b4cded",
   "metadata": {
    "ExecuteTime": {
     "end_time": "2021-07-23T05:42:49.072894Z",
     "start_time": "2021-07-23T05:42:49.068877Z"
    }
   },
   "outputs": [
    {
     "name": "stdout",
     "output_type": "stream",
     "text": [
      "Life is too short, Learn Python\n",
      "========================================\n"
     ]
    },
    {
     "data": {
      "text/plain": [
       "2"
      ]
     },
     "execution_count": 33,
     "metadata": {},
     "output_type": "execute_result"
    }
   ],
   "source": [
    "s = 'Life is too short, Learn Python'\n",
    "print(s)\n",
    "print('='*40)\n",
    "s.count('s') # s 가 몇개 있는지"
   ]
  },
  {
   "cell_type": "markdown",
   "id": "7be8dc91",
   "metadata": {},
   "source": [
    "### find 함수"
   ]
  },
  {
   "cell_type": "code",
   "execution_count": null,
   "id": "251c714e",
   "metadata": {},
   "outputs": [],
   "source": [
    "s.find('is') # is 의 index"
   ]
  },
  {
   "cell_type": "code",
   "execution_count": null,
   "id": "eeb8c6e4",
   "metadata": {},
   "outputs": [],
   "source": [
    "s.find('z') # 못 찾으면 -1 반환"
   ]
  },
  {
   "cell_type": "markdown",
   "id": "ea881c4e",
   "metadata": {},
   "source": [
    "### index 함수"
   ]
  },
  {
   "cell_type": "markdown",
   "id": "b0cba921",
   "metadata": {},
   "source": [
    "s.index('z') "
   ]
  },
  {
   "cell_type": "code",
   "execution_count": 23,
   "id": "be593657",
   "metadata": {
    "ExecuteTime": {
     "end_time": "2021-07-23T05:31:35.686156Z",
     "start_time": "2021-07-23T05:31:35.682166Z"
    }
   },
   "outputs": [
    {
     "data": {
      "text/plain": [
       "6"
      ]
     },
     "execution_count": 23,
     "metadata": {},
     "output_type": "execute_result"
    }
   ],
   "source": [
    "s.index('s') "
   ]
  },
  {
   "cell_type": "code",
   "execution_count": 21,
   "id": "f4ca958a",
   "metadata": {
    "ExecuteTime": {
     "end_time": "2021-07-23T05:31:01.990354Z",
     "start_time": "2021-07-23T05:31:01.982401Z"
    }
   },
   "outputs": [
    {
     "ename": "ValueError",
     "evalue": "substring not found",
     "output_type": "error",
     "traceback": [
      "\u001b[1;31m---------------------------------------------------------------------------\u001b[0m",
      "\u001b[1;31mValueError\u001b[0m                                Traceback (most recent call last)",
      "\u001b[1;32m<ipython-input-21-64d04a97c5ce>\u001b[0m in \u001b[0;36m<module>\u001b[1;34m\u001b[0m\n\u001b[1;32m----> 1\u001b[1;33m \u001b[0ms\u001b[0m\u001b[1;33m.\u001b[0m\u001b[0mindex\u001b[0m\u001b[1;33m(\u001b[0m\u001b[1;34m'z'\u001b[0m\u001b[1;33m)\u001b[0m\u001b[1;33m\u001b[0m\u001b[1;33m\u001b[0m\u001b[0m\n\u001b[0m",
      "\u001b[1;31mValueError\u001b[0m: substring not found"
     ]
    }
   ],
   "source": [
    "# 못 찾으면 에러 (없는데 어떻게찾아~~ )\n",
    "s.index('z') "
   ]
  },
  {
   "cell_type": "markdown",
   "id": "fb9735d8",
   "metadata": {},
   "source": [
    "### 공백제거 함수(lstrip, rstrip, strip)"
   ]
  },
  {
   "cell_type": "code",
   "execution_count": 36,
   "id": "11cd092b",
   "metadata": {
    "ExecuteTime": {
     "end_time": "2021-07-23T05:45:21.861597Z",
     "start_time": "2021-07-23T05:45:21.857584Z"
    }
   },
   "outputs": [
    {
     "name": "stdout",
     "output_type": "stream",
     "text": [
      "  Life is too short, Learn Python  \n",
      "========================================\n",
      "Life is too short, Learn Python  \n"
     ]
    }
   ],
   "source": [
    "# 오른쪽 공백 없애기  \n",
    "s = '  Life is too short, Learn Python  '\n",
    "print(s)\n",
    "print('='*40)\n",
    "print(s.lstrip())"
   ]
  },
  {
   "cell_type": "code",
   "execution_count": 37,
   "id": "9e55829a",
   "metadata": {
    "ExecuteTime": {
     "end_time": "2021-07-23T05:45:29.739888Z",
     "start_time": "2021-07-23T05:45:29.735918Z"
    }
   },
   "outputs": [
    {
     "name": "stdout",
     "output_type": "stream",
     "text": [
      "  Life is too short, Learn Python  \n",
      "========================================\n",
      "  Life is too short, Learn Python\n"
     ]
    }
   ],
   "source": [
    "# 왼족 공백 없애기  \n",
    "s = '  Life is too short, Learn Python  '\n",
    "print(s)\n",
    "print('='*40)\n",
    "print(s.rstrip())"
   ]
  },
  {
   "cell_type": "code",
   "execution_count": 38,
   "id": "e73f05c3",
   "metadata": {
    "ExecuteTime": {
     "end_time": "2021-07-23T05:45:47.159074Z",
     "start_time": "2021-07-23T05:45:47.155112Z"
    }
   },
   "outputs": [
    {
     "name": "stdout",
     "output_type": "stream",
     "text": [
      "  Life is too short, Learn Python  \n",
      "========================================\n",
      "Life is too short, Learn Python\n"
     ]
    }
   ],
   "source": [
    "# 양쪽 공백 없애기 \n",
    "s = '  Life is too short, Learn Python  '\n",
    "print(s)\n",
    "print('='*40)\n",
    "print(s.strip())"
   ]
  },
  {
   "attachments": {},
   "cell_type": "markdown",
   "id": "4a6613ff",
   "metadata": {},
   "source": [
    "### 문자열 대체 replace"
   ]
  },
  {
   "cell_type": "code",
   "execution_count": 40,
   "id": "64112160",
   "metadata": {
    "ExecuteTime": {
     "end_time": "2021-07-23T05:50:08.826959Z",
     "start_time": "2021-07-23T05:50:08.822976Z"
    }
   },
   "outputs": [
    {
     "name": "stdout",
     "output_type": "stream",
     "text": [
      "Life is too short, Learn Python\n",
      "========================================\n",
      "Life is too long, Learn Python\n"
     ]
    }
   ],
   "source": [
    "s = 'Life is too short, Learn Python'\n",
    "print(s)\n",
    "print('='*40)\n",
    "print(s.replace('short','long'))"
   ]
  },
  {
   "attachments": {},
   "cell_type": "markdown",
   "id": "f71602d9",
   "metadata": {},
   "source": [
    "## 문자열 포매팅 Formatting \n",
    "\n",
    "- 중괄호{} 안에 인자 값이 출력\n",
    "- 기존 format 보다 편리한 사용 \n",
    "- python 3.6 이후 formatting 기법 \n",
    "- 지정 서식: 문자열: s/ 정수:d/ 실수:f\n"
   ]
  },
  {
   "cell_type": "code",
   "execution_count": 109,
   "id": "05899f7c",
   "metadata": {
    "ExecuteTime": {
     "end_time": "2021-07-23T06:18:15.244082Z",
     "start_time": "2021-07-23T06:18:15.240121Z"
    }
   },
   "outputs": [
    {
     "name": "stdout",
     "output_type": "stream",
     "text": [
      "나의 이름은 류회성 입니다\n",
      "나의 이름은 류회성  입니다\n"
     ]
    }
   ],
   "source": [
    "name = '류회성'\n",
    "print(f'나의 이름은 {name} 입니다')\n",
    "print(f'나의 이름은 {name:4s} 입니다')"
   ]
  },
  {
   "cell_type": "code",
   "execution_count": 110,
   "id": "6cc33a0f",
   "metadata": {
    "ExecuteTime": {
     "end_time": "2021-07-23T06:18:22.288059Z",
     "start_time": "2021-07-23T06:18:22.283071Z"
    }
   },
   "outputs": [
    {
     "name": "stdout",
     "output_type": "stream",
     "text": [
      "초코바는 500원 입니다\n",
      "초코바는   500원 입니다\n",
      "초코바는   500원 입니다\n",
      "초코바는 500  원 입니다\n",
      "초코바는  500 원 입니다\n",
      "초코바는 00500원 입니다\n"
     ]
    }
   ],
   "source": [
    "price = 500\n",
    "print(f'초코바는 {price}원 입니다')\n",
    "print(f'초코바는 {price:5d}원 입니다')  # 5 자리 맞추기 \n",
    "print(f'초코바는 {price:>5d}원 입니다') # 왼쪽 정렬\n",
    "print(f'초코바는 {price:<5d}원 입니다') # 오른쪽 정렬\n",
    "print(f'초코바는 {price:^5d}원 입니다') # 가운데 정렬\n",
    "print(f'초코바는 {price:05d}원 입니다') # 5 자리 맞추고 남은 자리 0 넣기"
   ]
  },
  {
   "cell_type": "code",
   "execution_count": 111,
   "id": "7108eb43",
   "metadata": {
    "ExecuteTime": {
     "end_time": "2021-07-23T06:18:25.022755Z",
     "start_time": "2021-07-23T06:18:25.018790Z"
    }
   },
   "outputs": [
    {
     "name": "stdout",
     "output_type": "stream",
     "text": [
      "정확도는 68.56748% 입니다.\n",
      "정확도는 68.57% 입니다.\n"
     ]
    }
   ],
   "source": [
    "acc = 68.56748\n",
    "print(f'정확도는 {acc}% 입니다.')\n",
    "print(f'정확도는 {acc:.2f}% 입니다.')"
   ]
  },
  {
   "cell_type": "markdown",
   "id": "068a93be",
   "metadata": {},
   "source": [
    "<div class=\"alert alert-success\">\n",
    "    <b>실습(Practice)_01</b>:\n",
    "    <ul>\n",
    "        <li>\n",
    "        오늘날씨, 오늘온도, 강수확률 을 변수로 받아. 다음 문장을 출력하시오. \n",
    "        </li>\n",
    "    </ul>\n",
    "</div>\n",
    "\n",
    "\n",
    "테스트 케이스)\n",
    "```python\n",
    "오늘날씨 = '비옴'\n",
    "오늘온도 = 18.97243\n",
    "오늘강수량 = 20\n",
    "\n",
    ">> '오늘 날씨는 비옴 이며 섭씨 19도가 되겠습니다. 강수량은 020mm 입니다'\n",
    "```"
   ]
  },
  {
   "cell_type": "code",
   "execution_count": 120,
   "id": "885ad1ac",
   "metadata": {
    "ExecuteTime": {
     "end_time": "2021-07-23T06:27:51.200001Z",
     "start_time": "2021-07-23T06:27:51.196008Z"
    }
   },
   "outputs": [
    {
     "name": "stdout",
     "output_type": "stream",
     "text": [
      "오늘 날씨는 비옴 이며 섭씨 19도가 되겠습니다. 강수량은 020mm 입니다\n"
     ]
    }
   ],
   "source": [
    "오늘날씨 = '비옴'\n",
    "오늘온도 = 18.97243\n",
    "오늘강수량 = 20\n",
    "print( f'오늘 날씨는 {오늘날씨} 이며 섭씨 {오늘온도:.0f}도가 되겠습니다. 강수량은 {오늘강수량:03d}mm 입니다')"
   ]
  },
  {
   "cell_type": "markdown",
   "id": "894ed2da",
   "metadata": {},
   "source": [
    "<div class=\"alert alert-success\">\n",
    "    <b>실습(Practice)_02</b>:\n",
    "    <ul>\n",
    "        <li>\n",
    "        사람들의 주민번호를 user_input으로 저장 후, 정상적 형태로 출력되게 만들기\n",
    "        </li>\n",
    "    </ul>\n",
    "</div>\n",
    "\n",
    "\n",
    "테스트 케이스)\n",
    "```python\n",
    "min = ' 950 1 23-1234567 '  --> 950123-1234567\n",
    "kim = '89_0123-12 34567  '  --> 890123-1234567\n",
    "ryu = '91111*111- 12 34567 '--> 911111-1234567\n",
    "```"
   ]
  },
  {
   "cell_type": "code",
   "execution_count": 102,
   "id": "b400a302",
   "metadata": {
    "ExecuteTime": {
     "end_time": "2021-07-23T06:04:57.945392Z",
     "start_time": "2021-07-23T06:04:57.942370Z"
    }
   },
   "outputs": [],
   "source": [
    "user_input1 = ' 950 1 23-1234567 '\n",
    "user_input2 = '89_0123-12 34567  '\n",
    "user_input3 = '911*111- 12 34567 '"
   ]
  },
  {
   "cell_type": "code",
   "execution_count": 103,
   "id": "19e8018f",
   "metadata": {
    "ExecuteTime": {
     "end_time": "2021-07-23T06:04:58.083991Z",
     "start_time": "2021-07-23T06:04:58.081001Z"
    }
   },
   "outputs": [],
   "source": [
    "user_input1 = user_input1.strip().replace(' ','')"
   ]
  },
  {
   "cell_type": "code",
   "execution_count": 104,
   "id": "6a5ca0aa",
   "metadata": {
    "ExecuteTime": {
     "end_time": "2021-07-23T06:04:58.222753Z",
     "start_time": "2021-07-23T06:04:58.218764Z"
    }
   },
   "outputs": [
    {
     "name": "stdout",
     "output_type": "stream",
     "text": [
      "950123-1234567\n"
     ]
    }
   ],
   "source": [
    "print(user_input1)"
   ]
  },
  {
   "cell_type": "code",
   "execution_count": 105,
   "id": "4774d362",
   "metadata": {
    "ExecuteTime": {
     "end_time": "2021-07-23T06:04:58.365427Z",
     "start_time": "2021-07-23T06:04:58.361461Z"
    }
   },
   "outputs": [],
   "source": [
    "user_input2 = user_input2.strip().replace(' ','')\n",
    "user_input2 = user_input2.replace('_','')"
   ]
  },
  {
   "cell_type": "code",
   "execution_count": 106,
   "id": "c200f488",
   "metadata": {
    "ExecuteTime": {
     "end_time": "2021-07-23T06:04:58.905297Z",
     "start_time": "2021-07-23T06:04:58.886158Z"
    }
   },
   "outputs": [
    {
     "name": "stdout",
     "output_type": "stream",
     "text": [
      "890123-1234567\n"
     ]
    }
   ],
   "source": [
    "print(user_input2)"
   ]
  },
  {
   "cell_type": "code",
   "execution_count": 107,
   "id": "1a0ab76c",
   "metadata": {
    "ExecuteTime": {
     "end_time": "2021-07-23T06:05:31.987900Z",
     "start_time": "2021-07-23T06:05:31.983940Z"
    }
   },
   "outputs": [
    {
     "name": "stdout",
     "output_type": "stream",
     "text": [
      "91111111-1234567\n"
     ]
    }
   ],
   "source": [
    "user_input3 = user_input3.strip().replace(' ','')\n",
    "user_input3 = user_input3.replace('_','')\n",
    "print(user_input3)"
   ]
  }
 ],
 "metadata": {
  "kernelspec": {
   "display_name": "Python 3",
   "language": "python",
   "name": "python3"
  },
  "language_info": {
   "codemirror_mode": {
    "name": "ipython",
    "version": 3
   },
   "file_extension": ".py",
   "mimetype": "text/x-python",
   "name": "python",
   "nbconvert_exporter": "python",
   "pygments_lexer": "ipython3",
   "version": "3.8.10"
  },
  "toc": {
   "base_numbering": 1,
   "nav_menu": {},
   "number_sections": true,
   "sideBar": true,
   "skip_h1_title": true,
   "title_cell": "Table of Contents",
   "title_sidebar": "Contents",
   "toc_cell": true,
   "toc_position": {},
   "toc_section_display": true,
   "toc_window_display": false
  },
  "varInspector": {
   "cols": {
    "lenName": 16,
    "lenType": 16,
    "lenVar": 40
   },
   "kernels_config": {
    "python": {
     "delete_cmd_postfix": "",
     "delete_cmd_prefix": "del ",
     "library": "var_list.py",
     "varRefreshCmd": "print(var_dic_list())"
    },
    "r": {
     "delete_cmd_postfix": ") ",
     "delete_cmd_prefix": "rm(",
     "library": "var_list.r",
     "varRefreshCmd": "cat(var_dic_list()) "
    }
   },
   "types_to_exclude": [
    "module",
    "function",
    "builtin_function_or_method",
    "instance",
    "_Feature"
   ],
   "window_display": false
  }
 },
 "nbformat": 4,
 "nbformat_minor": 5
}
