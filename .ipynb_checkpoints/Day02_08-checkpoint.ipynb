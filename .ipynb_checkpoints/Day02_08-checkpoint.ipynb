{
 "cells": [
  {
   "cell_type": "markdown",
   "id": "be97f535",
   "metadata": {},
   "source": []
  },
  {
   "cell_type": "code",
   "execution_count": 1,
   "id": "db225fab",
   "metadata": {
    "ExecuteTime": {
     "end_time": "2021-07-24T11:35:49.970463Z",
     "start_time": "2021-07-24T11:35:49.966953Z"
    }
   },
   "outputs": [],
   "source": [
    "class Country:\n",
    "    \"\"\"Super Class\"\"\"\n",
    "\n",
    "    name = '국가명'\n",
    "    population = '인구'\n",
    "    capital = '수도'\n",
    "\n",
    "    def show(self):\n",
    "        print('국가 클래스의 메소드입니다.')\n",
    "\n",
    "\n",
    "class Korea(Country):\n",
    "    \"\"\"Sub Class\"\"\"\n",
    "\n",
    "    def __init__(self, name):\n",
    "        self.name = name\n",
    "\n",
    "    def show_name(self):\n",
    "        print('국가 이름은 : ', self.name)"
   ]
  },
  {
   "cell_type": "code",
   "execution_count": 2,
   "id": "cbd273a4",
   "metadata": {
    "ExecuteTime": {
     "end_time": "2021-07-24T11:35:50.148921Z",
     "start_time": "2021-07-24T11:35:50.143934Z"
    }
   },
   "outputs": [
    {
     "ename": "SyntaxError",
     "evalue": "invalid syntax (<ipython-input-2-6ffbbaf5e0bd>, line 4)",
     "output_type": "error",
     "traceback": [
      "\u001b[1;36m  File \u001b[1;32m\"<ipython-input-2-6ffbbaf5e0bd>\"\u001b[1;36m, line \u001b[1;32m4\u001b[0m\n\u001b[1;33m    국가 클래스의 메소드입니다.\u001b[0m\n\u001b[1;37m       ^\u001b[0m\n\u001b[1;31mSyntaxError\u001b[0m\u001b[1;31m:\u001b[0m invalid syntax\n"
     ]
    }
   ],
   "source": [
    ">>> from inheritance import *\n",
    ">>> a = Korea('대한민국')\n",
    ">>> a.show()\n",
    "국가 클래스의 메소드입니다.\n",
    ">>> a.show_name()\n",
    "국가 이름은 :  대한민국\n",
    ">>> a.capital\n",
    "'수도'\n",
    ">>> a.name\n",
    "'대한민국'"
   ]
  },
  {
   "cell_type": "code",
   "execution_count": 3,
   "id": "b6a5e7aa",
   "metadata": {
    "ExecuteTime": {
     "end_time": "2021-07-24T11:35:53.306361Z",
     "start_time": "2021-07-24T11:35:53.301348Z"
    }
   },
   "outputs": [
    {
     "name": "stdout",
     "output_type": "stream",
     "text": [
      "str : IPhone - 7000\n",
      "str : Galaxy 스마트폰은 Galaxy에서 출시되었고, South Korea에서 생산되었습니다. 가격은 5000입니다\n"
     ]
    }
   ],
   "source": [
    "class Smartphone:\n",
    "    def __init__(self, brand, price):\n",
    "        self._brand = brand\n",
    "        self._price = price\n",
    "      \n",
    "    \n",
    "    def __str__(self):\n",
    "        return f'str : {self._brand} - {self._price}'\n",
    "\n",
    "class Galaxy(Smartphone):\n",
    "    def __init__(self, brand, price, country):\n",
    "        self._brand = brand\n",
    "        self._price = price\n",
    "        self._country = country\n",
    " \n",
    "    def __str__(self):\n",
    "        return f'str : {self.__class__.__name__} 스마트폰은 {self._brand}에서 출시되었고, {self._country}에서 생산되었습니다. 가격은 {self._price}입니다'\n",
    "    \n",
    "iphone = Smartphone('IPhone', 7000)\n",
    "print(iphone)\n",
    "galaxy = Galaxy('Galaxy', 5000, 'South Korea')\n",
    "print(galaxy)    "
   ]
  },
  {
   "cell_type": "code",
   "execution_count": null,
   "id": "8a6a0f49",
   "metadata": {},
   "outputs": [],
   "source": []
  }
 ],
 "metadata": {
  "kernelspec": {
   "display_name": "Python 3",
   "language": "python",
   "name": "python3"
  },
  "language_info": {
   "codemirror_mode": {
    "name": "ipython",
    "version": 3
   },
   "file_extension": ".py",
   "mimetype": "text/x-python",
   "name": "python",
   "nbconvert_exporter": "python",
   "pygments_lexer": "ipython3",
   "version": "3.8.10"
  },
  "toc": {
   "base_numbering": 1,
   "nav_menu": {},
   "number_sections": true,
   "sideBar": true,
   "skip_h1_title": false,
   "title_cell": "Table of Contents",
   "title_sidebar": "Contents",
   "toc_cell": false,
   "toc_position": {},
   "toc_section_display": true,
   "toc_window_display": false
  },
  "varInspector": {
   "cols": {
    "lenName": 16,
    "lenType": 16,
    "lenVar": 40
   },
   "kernels_config": {
    "python": {
     "delete_cmd_postfix": "",
     "delete_cmd_prefix": "del ",
     "library": "var_list.py",
     "varRefreshCmd": "print(var_dic_list())"
    },
    "r": {
     "delete_cmd_postfix": ") ",
     "delete_cmd_prefix": "rm(",
     "library": "var_list.r",
     "varRefreshCmd": "cat(var_dic_list()) "
    }
   },
   "types_to_exclude": [
    "module",
    "function",
    "builtin_function_or_method",
    "instance",
    "_Feature"
   ],
   "window_display": false
  }
 },
 "nbformat": 4,
 "nbformat_minor": 5
}
