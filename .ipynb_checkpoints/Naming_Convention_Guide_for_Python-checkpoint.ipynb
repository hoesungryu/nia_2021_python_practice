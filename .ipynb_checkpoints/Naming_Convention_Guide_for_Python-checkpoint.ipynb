{
 "cells": [
  {
   "cell_type": "markdown",
   "metadata": {
    "id": "kJ8HCvOzvUoq"
   },
   "source": [
    "# Naming Convention\n",
    "\n",
    "\n",
    "## Naming Styles\n",
    "1. b: 한 개 소문자\n",
    "2. B: 한 개 대문자\n",
    "3. lowercase\n",
    "4. lowercase_with_underscores\n",
    "5. UPPERCASE\n",
    "6. UPPERCASE_WITH_UNDERSCORES\n",
    "7. CapWords CamelCase (CapitalizedWords) # Class\n",
    "8. mixedCase # Python에서는 쓰지말자\n",
    "9. Capitalized_Words_With_Underscores # 이렇게 쓰지 말자"
   ]
  },
  {
   "cell_type": "markdown",
   "metadata": {
    "id": "ajKZS6YqvUos"
   },
   "source": [
    "## Standard Library\n",
    "\n",
    "### Standard Library 1 : Module, Class, Method\n",
    "- 메소드 : 동사 시작, `-`로 구성\n",
    "- 에트리뷰트 : 소문자로"
   ]
  },
  {
   "cell_type": "markdown",
   "metadata": {
    "id": "LZVeOCPIvUot"
   },
   "source": [
    "### Standard Library 2 : Legacy naming styles\n",
    "```\n",
    "import os\n",
    "\n",
    "statinfo = os.stat(\"my_module.py\")\n",
    "print(\"st_size=\", statinfo.st_size)\n",
    "print(\"st_ino=\", statinfo.st_ino)\n",
    "print(\"st_uid=\", statinfo.st_uid)\n",
    "```"
   ]
  },
  {
   "cell_type": "markdown",
   "metadata": {
    "id": "eU7uVfeOvUot"
   },
   "source": [
    "### Standard Library 3 : Exception Rule\n",
    "```\n",
    ">>> 10 * (1/0)\n",
    "Traceback (most recent call last):\n",
    "File \"<stdin>\", line 1, in <module>\n",
    "ZeroDivisionError: division by zero\n",
    "\n",
    ">>> 4 + spam*3\n",
    "Traceback (most recent call last):\n",
    "File \"<stdin>\", line 1, in <module>\n",
    "NameError: …\n",
    "\n",
    ">>> '2' + 2\n",
    "Traceback (most recent call last):\n",
    "File \"<stdin>\", line 1, in <module>\n",
    "TypeError: … \n",
    "```"
   ]
  },
  {
   "cell_type": "markdown",
   "metadata": {
    "id": "_1IIxlnKvUou"
   },
   "source": [
    "--- \n",
    "\n",
    "## Underscore rules\n",
    "\n",
    "### var_name_ : Single Trailing Underscore\n",
    "- 이미 사용하고 있는 단어일 경우 뒤에 언더바로 중복을 피함\n",
    "\n",
    "```python \n",
    "def pprint():\n",
    "    return 'sdafsdaf'\n",
    "\n",
    "def pprint_():  # 이미 사용하고 있는 단어일 경우\n",
    "    return \"Hello world!\"\n",
    "\n",
    "print(def_())\n",
    "\n",
    "```"
   ]
  },
  {
   "cell_type": "markdown",
   "metadata": {
    "id": "O4HBaw7jvUou"
   },
   "source": [
    "### _var_name : Single Leading Underscore\n",
    "- py파일에서만 쓸거니 쓰지 마세요라는 뜻\n",
    "\n",
    "```python \n",
    "_THIS_IS_PRIVATE_E = 2.71828\n",
    "\n",
    "\n",
    "def _get_evalue():\n",
    "    return _THIS_IS_PRIVATE_E\n",
    "\n",
    "\n",
    "class _E_class:\n",
    "    def __init__(this):\n",
    "        this._my_value = 50\n",
    "\n",
    "    def _get_value(this): \n",
    "        return this._my_value\n",
    "\n",
    "\n",
    "print(_THIS_IS_PRIVATE_E)\n",
    "print(_get_evalue())\n",
    "print(_E_class()._my_value)\n",
    "print(_E_class()._get_value())\n",
    "````\n"
   ]
  },
  {
   "cell_type": "markdown",
   "metadata": {
    "id": "Wi7ktOs7vUov"
   },
   "source": [
    "### `__`var_name 1 : Double Leading Underscore\n",
    "\n",
    "- 앞에 __ 붙은건 클래스 안에서만 쓰자\n",
    "\n",
    "```python \n",
    "__THIS_IS_PRIVATE_E = 2.71828\n",
    "\n",
    "\n",
    "def __get_evalue(): # 앞에 __ 붙은건 클래스 안에서만 쓰자\n",
    "    return __THIS_IS_PRIVATE_E\n",
    "\n",
    "\n",
    "class __E_class:\n",
    "    def __init__(this):\n",
    "        this.__my_value = 50\n",
    "\n",
    "    def __get_value(this):\n",
    "        return this.__my_value\n",
    "\n",
    "\n",
    "print(__THIS_IS_PRIVATE_E)\n",
    "```\n",
    "print(__get_evalue())\n",
    "print(dir(_E_class))\n",
    "print(__E_class()._E_class__my_value)\n",
    "print(__E_class()._E_class__get_value())"
   ]
  }
 ],
 "metadata": {
  "celltoolbar": "Slideshow",
  "colab": {
   "name": "Naming Convention Guide for Python.ipynb",
   "provenance": []
  },
  "hide_input": false,
  "kernelspec": {
   "display_name": "Python 3",
   "language": "python",
   "name": "python3"
  },
  "language_info": {
   "codemirror_mode": {
    "name": "ipython",
    "version": 3
   },
   "file_extension": ".py",
   "mimetype": "text/x-python",
   "name": "python",
   "nbconvert_exporter": "python",
   "pygments_lexer": "ipython3",
   "version": "3.8.10"
  },
  "toc": {
   "base_numbering": 1,
   "nav_menu": {},
   "number_sections": true,
   "sideBar": true,
   "skip_h1_title": false,
   "title_cell": "Table of Contents",
   "title_sidebar": "Contents",
   "toc_cell": false,
   "toc_position": {},
   "toc_section_display": true,
   "toc_window_display": false
  },
  "varInspector": {
   "cols": {
    "lenName": 16,
    "lenType": 16,
    "lenVar": 40
   },
   "kernels_config": {
    "python": {
     "delete_cmd_postfix": "",
     "delete_cmd_prefix": "del ",
     "library": "var_list.py",
     "varRefreshCmd": "print(var_dic_list())"
    },
    "r": {
     "delete_cmd_postfix": ") ",
     "delete_cmd_prefix": "rm(",
     "library": "var_list.r",
     "varRefreshCmd": "cat(var_dic_list()) "
    }
   },
   "types_to_exclude": [
    "module",
    "function",
    "builtin_function_or_method",
    "instance",
    "_Feature"
   ],
   "window_display": false
  }
 },
 "nbformat": 4,
 "nbformat_minor": 1
}
