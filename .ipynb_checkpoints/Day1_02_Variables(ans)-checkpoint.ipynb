{
 "cells": [
  {
   "cell_type": "markdown",
   "id": "049fe3ae",
   "metadata": {},
   "source": [
    "# Day1_02_Variables\n",
    "\n",
    "<font size=5><b>파이썬 둘러보기<b></font>\n",
    "<div align='right'>류 회 성<br>(Hoe Sung Ryu)</div>\n",
    "\n",
    "  \n",
    "<img src='./imgs/02_main.png' width=70%>\n",
    "    \n",
    "---"
   ]
  },
  {
   "cell_type": "markdown",
   "id": "ddd2283c",
   "metadata": {
    "toc": true
   },
   "source": [
    "<h1>Table of Contents<span class=\"tocSkip\"></span></h1>\n",
    "<div class=\"toc\"><ul class=\"toc-item\"><li><span><a href=\"#변수Variable-란?\" data-toc-modified-id=\"변수Variable-란?-1\"><span class=\"toc-item-num\">1&nbsp;&nbsp;</span>변수Variable 란?</a></span><ul class=\"toc-item\"><li><span><a href=\"#300-이라는-객체에-변수($x$)-이름표를-붙이기\" data-toc-modified-id=\"300-이라는-객체에-변수($x$)-이름표를-붙이기-1.1\"><span class=\"toc-item-num\">1.1&nbsp;&nbsp;</span>300 이라는 객체에 변수($x$) 이름표를 붙이기</a></span></li><li><span><a href=\"#다른-변수-할당\" data-toc-modified-id=\"다른-변수-할당-1.2\"><span class=\"toc-item-num\">1.2&nbsp;&nbsp;</span>다른 변수 할당</a></span></li><li><span><a href=\"#동일한-객체-참조\" data-toc-modified-id=\"동일한-객체-참조-1.3\"><span class=\"toc-item-num\">1.3&nbsp;&nbsp;</span>동일한 객체 참조</a></span></li><li><span><a href=\"#할당된-변수가-다르지만-같은-곳(메모리)에-저장되어-있다?!\" data-toc-modified-id=\"할당된-변수가-다르지만-같은-곳(메모리)에-저장되어-있다?!-1.4\"><span class=\"toc-item-num\">1.4&nbsp;&nbsp;</span>할당된 변수가 다르지만 같은 곳(메모리)에 저장되어 있다?!</a></span></li></ul></li><li><span><a href=\"#Call-by-reference-VS-Call-by-value\" data-toc-modified-id=\"Call-by-reference-VS-Call-by-value-2\"><span class=\"toc-item-num\">2&nbsp;&nbsp;</span>Call by reference VS Call by value</a></span></li><li><span><a href=\"#변수명-설정\" data-toc-modified-id=\"변수명-설정-3\"><span class=\"toc-item-num\">3&nbsp;&nbsp;</span>변수명 설정</a></span></li><li><span><a href=\"#데이터-형태\" data-toc-modified-id=\"데이터-형태-4\"><span class=\"toc-item-num\">4&nbsp;&nbsp;</span>데이터 형태</a></span><ul class=\"toc-item\"><li><span><a href=\"#데이터-형태-확인\" data-toc-modified-id=\"데이터-형태-확인-4.1\"><span class=\"toc-item-num\">4.1&nbsp;&nbsp;</span>데이터 형태 확인</a></span></li><li><span><a href=\"#데이터-형태-변환\" data-toc-modified-id=\"데이터-형태-변환-4.2\"><span class=\"toc-item-num\">4.2&nbsp;&nbsp;</span>데이터 형태 변환</a></span><ul class=\"toc-item\"><li><span><a href=\"#exercise\" data-toc-modified-id=\"exercise-4.2.1\"><span class=\"toc-item-num\">4.2.1&nbsp;&nbsp;</span>exercise</a></span></li></ul></li></ul></li></ul></div>"
   ]
  },
  {
   "cell_type": "markdown",
   "id": "a3e16c40",
   "metadata": {},
   "source": [
    "## 변수Variable 란?\n",
    "\n",
    "1. 정의: 프로그램에서 사용하기 위해 특정 값을 저장하는 공간 \n",
    "2. 저장방식: 변수Variable 와 객체Object 값이 변수 내에 저장되는 것이 아니라, 객체Object 가 생성되고 변수가 그 객체Object 를 가리킴\n",
    "3. 변수는 이름표 ex) 특정 값을 변수에 할당  특정 값에 변수라는 이름표가 붙음\n",
    "\n",
    "### 300 이라는 객체에 변수($x$) 이름표를 붙이기\n",
    "<img src='./imgs/02_main.png' width=70%>\n"
   ]
  },
  {
   "cell_type": "code",
   "execution_count": null,
   "id": "a99ef333",
   "metadata": {
    "ExecuteTime": {
     "end_time": "2021-07-22T12:16:46.323738Z",
     "start_time": "2021-07-22T12:16:46.319748Z"
    }
   },
   "outputs": [],
   "source": [
    "x = 300\n",
    "print(x)"
   ]
  },
  {
   "cell_type": "markdown",
   "id": "5bb5d639",
   "metadata": {},
   "source": [
    "### 다른 변수 할당\n",
    "\n",
    "- 변수 이름이 없으면, 새로운 객체Object 를 생성\n",
    "- 변수 이름이 있으면, 기존 객체Object 를 변경 \n",
    "\n",
    "> x에 300, y에 400 해보기"
   ]
  },
  {
   "cell_type": "code",
   "execution_count": 35,
   "id": "0ee4e39c",
   "metadata": {
    "ExecuteTime": {
     "end_time": "2021-07-22T12:59:00.328929Z",
     "start_time": "2021-07-22T12:59:00.324940Z"
    }
   },
   "outputs": [
    {
     "name": "stdout",
     "output_type": "stream",
     "text": [
      "300\n",
      "400\n"
     ]
    }
   ],
   "source": [
    "x = 300\n",
    "y = 400\n",
    "print(x)\n",
    "print(y)"
   ]
  },
  {
   "cell_type": "code",
   "execution_count": 36,
   "id": "95cb6bbf",
   "metadata": {
    "ExecuteTime": {
     "end_time": "2021-07-22T12:59:00.542473Z",
     "start_time": "2021-07-22T12:59:00.537486Z"
    }
   },
   "outputs": [
    {
     "name": "stdout",
     "output_type": "stream",
     "text": [
      "1889730376944\n",
      "1889730377392\n"
     ]
    }
   ],
   "source": [
    "# id 메모리 주소 불러오기 \n",
    "print(id(x))\n",
    "print(id(y))"
   ]
  },
  {
   "cell_type": "code",
   "execution_count": 37,
   "id": "3be5db2e",
   "metadata": {
    "ExecuteTime": {
     "end_time": "2021-07-22T12:59:01.372482Z",
     "start_time": "2021-07-22T12:59:01.367495Z"
    }
   },
   "outputs": [
    {
     "name": "stdout",
     "output_type": "stream",
     "text": [
      "Help on built-in function id in module builtins:\n",
      "\n",
      "id(obj, /)\n",
      "    Return the identity of an object.\n",
      "    \n",
      "    This is guaranteed to be unique among simultaneously existing objects.\n",
      "    (CPython uses the object's memory address.)\n",
      "\n"
     ]
    }
   ],
   "source": [
    "help(id)"
   ]
  },
  {
   "cell_type": "code",
   "execution_count": 39,
   "id": "d3bc5d19",
   "metadata": {
    "ExecuteTime": {
     "end_time": "2021-07-22T12:59:15.032880Z",
     "start_time": "2021-07-22T12:59:15.028890Z"
    }
   },
   "outputs": [
    {
     "data": {
      "text/plain": [
       "False"
      ]
     },
     "execution_count": 39,
     "metadata": {},
     "output_type": "execute_result"
    }
   ],
   "source": [
    "# 변수 x,y 가 같은 곳을 가르키고 있는가? \n",
    "# 즉 저장된 메모리가 다르다 \n",
    "id(x)==id(y) "
   ]
  },
  {
   "cell_type": "markdown",
   "id": "ca69420e",
   "metadata": {},
   "source": [
    "### 동일한 객체 참조\n",
    "\n",
    "$x$가 가리키는 동일한 객체(Object)를  참조하는 $y$가 존재 할 때, 다른 객체를 생성하지 않고 동일한 곳을 가리킴\n"
   ]
  },
  {
   "cell_type": "code",
   "execution_count": 40,
   "id": "33b7b85b",
   "metadata": {
    "ExecuteTime": {
     "end_time": "2021-07-22T12:59:16.426829Z",
     "start_time": "2021-07-22T12:59:16.423860Z"
    }
   },
   "outputs": [
    {
     "name": "stdout",
     "output_type": "stream",
     "text": [
      "300\n",
      "300\n"
     ]
    }
   ],
   "source": [
    "x = 300\n",
    "y = x\n",
    "print(x)\n",
    "print(y)"
   ]
  },
  {
   "cell_type": "code",
   "execution_count": 41,
   "id": "ee762f2e",
   "metadata": {
    "ExecuteTime": {
     "end_time": "2021-07-22T12:59:16.659387Z",
     "start_time": "2021-07-22T12:59:16.656389Z"
    }
   },
   "outputs": [
    {
     "data": {
      "text/plain": [
       "True"
      ]
     },
     "execution_count": 41,
     "metadata": {},
     "output_type": "execute_result"
    }
   ],
   "source": [
    "# id \n",
    "id(x)==id(y)"
   ]
  },
  {
   "cell_type": "code",
   "execution_count": 42,
   "id": "0efb6dd5",
   "metadata": {
    "ExecuteTime": {
     "end_time": "2021-07-22T12:59:16.845852Z",
     "start_time": "2021-07-22T12:59:16.841862Z"
    }
   },
   "outputs": [
    {
     "data": {
      "text/plain": [
       "True"
      ]
     },
     "execution_count": 42,
     "metadata": {},
     "output_type": "execute_result"
    }
   ],
   "source": [
    "hex(id(x)) == hex(id(y))"
   ]
  },
  {
   "cell_type": "code",
   "execution_count": 43,
   "id": "cc00b160",
   "metadata": {
    "ExecuteTime": {
     "end_time": "2021-07-22T12:59:17.117127Z",
     "start_time": "2021-07-22T12:59:17.112139Z"
    }
   },
   "outputs": [
    {
     "name": "stdout",
     "output_type": "stream",
     "text": [
      "Help on built-in function hex in module builtins:\n",
      "\n",
      "hex(number, /)\n",
      "    Return the hexadecimal representation of an integer.\n",
      "    \n",
      "    >>> hex(12648430)\n",
      "    '0xc0ffee'\n",
      "\n"
     ]
    }
   ],
   "source": [
    "help(hex)"
   ]
  },
  {
   "cell_type": "code",
   "execution_count": 44,
   "id": "5d2dcbbf",
   "metadata": {
    "ExecuteTime": {
     "end_time": "2021-07-22T12:59:18.469092Z",
     "start_time": "2021-07-22T12:59:18.464105Z"
    }
   },
   "outputs": [
    {
     "data": {
      "text/plain": [
       "'0x1b7fcb53bf0'"
      ]
     },
     "execution_count": 44,
     "metadata": {},
     "output_type": "execute_result"
    }
   ],
   "source": [
    "# hex 16진법으로 변환 하기\n",
    "hex(id(x))"
   ]
  },
  {
   "cell_type": "markdown",
   "id": "4b64c9b5",
   "metadata": {},
   "source": [
    "### 할당된 변수가 다르지만 같은 곳(메모리)에 저장되어 있다?!\n",
    "\n",
    "- 동시에 할당하면 같은 메모리로 할당되게 된다(버전마다 차이가 존재한다)\n",
    "- $[−5,256]$ 범위의 정수에 대한 객체를 미리 생성해놓아서 동일한 개체를 참조한다"
   ]
  },
  {
   "cell_type": "code",
   "execution_count": 19,
   "id": "42f1b3a9",
   "metadata": {
    "ExecuteTime": {
     "end_time": "2021-07-22T12:30:15.846625Z",
     "start_time": "2021-07-22T12:30:15.831004Z"
    }
   },
   "outputs": [
    {
     "name": "stdout",
     "output_type": "stream",
     "text": [
      "True\n"
     ]
    }
   ],
   "source": [
    "a, b = -5, -5\n",
    "print(id(a)==id(b))"
   ]
  },
  {
   "cell_type": "code",
   "execution_count": 20,
   "id": "0da792aa",
   "metadata": {
    "ExecuteTime": {
     "end_time": "2021-07-22T12:30:24.866723Z",
     "start_time": "2021-07-22T12:30:24.862737Z"
    }
   },
   "outputs": [
    {
     "name": "stdout",
     "output_type": "stream",
     "text": [
      "True\n"
     ]
    }
   ],
   "source": [
    "a = -5\n",
    "b = -5\n",
    "print(id(a)==id(b))"
   ]
  },
  {
   "cell_type": "code",
   "execution_count": 22,
   "id": "7c64cfd0",
   "metadata": {
    "ExecuteTime": {
     "end_time": "2021-07-22T12:30:33.435978Z",
     "start_time": "2021-07-22T12:30:33.431989Z"
    }
   },
   "outputs": [
    {
     "name": "stdout",
     "output_type": "stream",
     "text": [
      "True\n"
     ]
    }
   ],
   "source": [
    "a, b = 257, 257\n",
    "print(id(a)==id(b))"
   ]
  },
  {
   "cell_type": "code",
   "execution_count": 23,
   "id": "995e4044",
   "metadata": {
    "ExecuteTime": {
     "end_time": "2021-07-22T12:30:33.626469Z",
     "start_time": "2021-07-22T12:30:33.622480Z"
    }
   },
   "outputs": [
    {
     "name": "stdout",
     "output_type": "stream",
     "text": [
      "False\n"
     ]
    }
   ],
   "source": [
    "a = 257\n",
    "b = 257\n",
    "print(id(a)==id(b))"
   ]
  },
  {
   "cell_type": "markdown",
   "id": "d1348e31",
   "metadata": {},
   "source": [
    "## Call by reference VS Call by value\n",
    "\n",
    "- `==`: 단순 값을 비교하는 방법 \n",
    "- `is`: 동일한 메모리에 저장되었는지 확인하는 방법\n"
   ]
  },
  {
   "cell_type": "code",
   "execution_count": 27,
   "id": "3b19245f",
   "metadata": {
    "ExecuteTime": {
     "end_time": "2021-07-22T12:57:20.475859Z",
     "start_time": "2021-07-22T12:57:20.471892Z"
    }
   },
   "outputs": [
    {
     "name": "stdout",
     "output_type": "stream",
     "text": [
      "True\n",
      "True\n",
      "True\n"
     ]
    }
   ],
   "source": [
    "a, b = 300, 300 \n",
    "print(id(a)==id(b))\n",
    "print(a is b )\n",
    "print(a == b)"
   ]
  },
  {
   "cell_type": "code",
   "execution_count": 29,
   "id": "5b7ecd7b",
   "metadata": {
    "ExecuteTime": {
     "end_time": "2021-07-22T12:57:56.891467Z",
     "start_time": "2021-07-22T12:57:56.886513Z"
    }
   },
   "outputs": [
    {
     "name": "stdout",
     "output_type": "stream",
     "text": [
      "False\n",
      "False\n",
      "True\n"
     ]
    }
   ],
   "source": [
    "a  = 300\n",
    "b = 300 \n",
    "print(id(a)==id(b))\n",
    "print(a is b )\n",
    "print(a == b)"
   ]
  },
  {
   "cell_type": "code",
   "execution_count": 28,
   "id": "b3b2669e",
   "metadata": {
    "ExecuteTime": {
     "end_time": "2021-07-22T12:57:39.533107Z",
     "start_time": "2021-07-22T12:57:39.529118Z"
    }
   },
   "outputs": [
    {
     "name": "stdout",
     "output_type": "stream",
     "text": [
      "True\n",
      "True\n",
      "True\n"
     ]
    }
   ],
   "source": [
    "a  = 300\n",
    "b = a \n",
    "print(id(a)==id(b))\n",
    "print(a is b ) \n",
    "print(a == b)"
   ]
  },
  {
   "cell_type": "markdown",
   "id": "e7d55211",
   "metadata": {},
   "source": [
    "## 변수명 설정\n",
    "\n",
    "1. 변수  사용 가능 \n",
    "```python \n",
    "python = 1\n",
    "Python = 2\n",
    "pYthon = 3\n",
    "PYTHON = 4\n",
    "P_Y_THON = 5\n",
    "_PYTHON = 6\n",
    "PYTHON_ = 7\n",
    "_PYTHON_ = 8\n",
    "print(python, Python, pYthon, PYTHON, P_Y_THON, _PYTHON, PYTHON_, _PYTHON_)\n",
    "```\n",
    "\n",
    "2. 변수 사용 금지 \n",
    "- 한글로도 변수명 설정이 가능하다(지양)\n",
    "- 예약어Reserved Word & 특수문자 와 숫자로 시작은 허용되지 않음\n",
    "\n",
    "```python\n",
    "0726_day = False\n",
    "File \"<ipython-input-26-3bef73e2b985>\", line 1\n",
    "    0726_day = False\n",
    "        ^\n",
    "SyntaxError: invalid decimal literal\n",
    "```"
   ]
  },
  {
   "cell_type": "markdown",
   "id": "5a127d5d",
   "metadata": {},
   "source": [
    "## 데이터 형태\n",
    "\n",
    "코드 실행 시 값의 표현법에 따라 변수 형태가 결정된다.\n",
    "\n",
    "<img src='./imgs/data_type.png' width=70%>"
   ]
  },
  {
   "cell_type": "markdown",
   "id": "ea49f697",
   "metadata": {},
   "source": [
    "### 데이터 형태 확인\n",
    "데이터의 형태는 type() 함수를 이용\n",
    "\n",
    "> 각각의 데이터 형태를 확인해보기"
   ]
  },
  {
   "cell_type": "code",
   "execution_count": 4,
   "id": "4cb97e14",
   "metadata": {
    "ExecuteTime": {
     "end_time": "2021-07-22T13:24:08.952957Z",
     "start_time": "2021-07-22T13:24:08.949028Z"
    }
   },
   "outputs": [
    {
     "name": "stdout",
     "output_type": "stream",
     "text": [
      "<class 'int'>\n",
      "<class 'float'>\n",
      "<class 'complex'>\n",
      "<class 'str'>\n",
      "<class 'bool'>\n"
     ]
    }
   ],
   "source": [
    "x = 30 # 정수 integer\n",
    "print(type(x))\n",
    "x = 3.141692  # 실수 float \n",
    "print(type(x))\n",
    "x  = 3+2j\n",
    "print(type(x))\n",
    "x = '파이썬' # 문자열 string \n",
    "print(type(x))\n",
    "x = True\n",
    "print(type(x))"
   ]
  },
  {
   "cell_type": "markdown",
   "id": "f7998088",
   "metadata": {},
   "source": [
    "### 데이터 형태 변환"
   ]
  },
  {
   "cell_type": "code",
   "execution_count": 6,
   "id": "93d54201",
   "metadata": {
    "ExecuteTime": {
     "end_time": "2021-07-22T13:25:10.292046Z",
     "start_time": "2021-07-22T13:25:10.289049Z"
    }
   },
   "outputs": [
    {
     "name": "stdout",
     "output_type": "stream",
     "text": [
      "10 <class 'str'>\n",
      "10 <class 'int'>\n"
     ]
    }
   ],
   "source": [
    "a = '10'\n",
    "print(a, type(a))\n",
    "a = int(a)\n",
    "print(a, type(a))"
   ]
  },
  {
   "cell_type": "markdown",
   "id": "8b96f389",
   "metadata": {},
   "source": [
    "#### exercise\n",
    "> 변수 x에 2.714 라는 숫자를 할당하고, 문자열로 변환하여라\\"
   ]
  },
  {
   "cell_type": "code",
   "execution_count": 7,
   "id": "c359e475",
   "metadata": {
    "ExecuteTime": {
     "end_time": "2021-07-22T13:26:10.260536Z",
     "start_time": "2021-07-22T13:26:10.256541Z"
    }
   },
   "outputs": [
    {
     "name": "stdout",
     "output_type": "stream",
     "text": [
      "2.174 <class 'float'>\n",
      "2.174 <class 'str'>\n"
     ]
    }
   ],
   "source": [
    "a = 2.174\n",
    "print(a, type(a))\n",
    "a = str(a)\n",
    "print(a, type(a))"
   ]
  },
  {
   "cell_type": "code",
   "execution_count": null,
   "id": "957d836d",
   "metadata": {},
   "outputs": [],
   "source": []
  },
  {
   "cell_type": "code",
   "execution_count": 12,
   "id": "968b192a",
   "metadata": {
    "ExecuteTime": {
     "end_time": "2021-07-22T12:28:31.978693Z",
     "start_time": "2021-07-22T12:28:31.974702Z"
    },
    "scrolled": true
   },
   "outputs": [
    {
     "name": "stdout",
     "output_type": "stream",
     "text": [
      "--sys.version—\n",
      "3.8.10 (default, May 19 2021, 13:12:57) [MSC v.1916 64 bit (AMD64)]\n"
     ]
    }
   ],
   "source": [
    "# python--version\n",
    "import sys\n",
    "\n",
    "print(\"--sys.version—\")\n",
    "print(sys.version)s"
   ]
  }
 ],
 "metadata": {
  "kernelspec": {
   "display_name": "Python 3",
   "language": "python",
   "name": "python3"
  },
  "language_info": {
   "codemirror_mode": {
    "name": "ipython",
    "version": 3
   },
   "file_extension": ".py",
   "mimetype": "text/x-python",
   "name": "python",
   "nbconvert_exporter": "python",
   "pygments_lexer": "ipython3",
   "version": "3.8.10"
  },
  "toc": {
   "base_numbering": 1,
   "nav_menu": {},
   "number_sections": true,
   "sideBar": true,
   "skip_h1_title": true,
   "title_cell": "Table of Contents",
   "title_sidebar": "Contents",
   "toc_cell": true,
   "toc_position": {
    "height": "calc(100% - 180px)",
    "left": "10px",
    "top": "150px",
    "width": "254.391px"
   },
   "toc_section_display": true,
   "toc_window_display": false
  },
  "varInspector": {
   "cols": {
    "lenName": 16,
    "lenType": 16,
    "lenVar": 40
   },
   "kernels_config": {
    "python": {
     "delete_cmd_postfix": "",
     "delete_cmd_prefix": "del ",
     "library": "var_list.py",
     "varRefreshCmd": "print(var_dic_list())"
    },
    "r": {
     "delete_cmd_postfix": ") ",
     "delete_cmd_prefix": "rm(",
     "library": "var_list.r",
     "varRefreshCmd": "cat(var_dic_list()) "
    }
   },
   "types_to_exclude": [
    "module",
    "function",
    "builtin_function_or_method",
    "instance",
    "_Feature"
   ],
   "window_display": false
  }
 },
 "nbformat": 4,
 "nbformat_minor": 5
}
