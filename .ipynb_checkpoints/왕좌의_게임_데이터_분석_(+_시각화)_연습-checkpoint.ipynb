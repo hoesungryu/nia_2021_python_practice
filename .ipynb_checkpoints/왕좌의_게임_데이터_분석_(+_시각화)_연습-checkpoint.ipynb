{
 "cells": [
  {
   "cell_type": "markdown",
   "metadata": {
    "id": "YUBdLGb0HqNj"
   },
   "source": [
    "# 왕좌의 게임 데이터 분석 (+ 시각화)"
   ]
  },
  {
   "cell_type": "markdown",
   "metadata": {
    "id": "7GyMp83nHqNl"
   },
   "source": [
    "## 1. Matplotlib 소개\n",
    "- 파이썬에서 자료를 차트(chart)나 플롯(plot)으로 시각화(visulaization)하는 패키지\n",
    "- Matplotlib는 다음과 같은 정형화된 차트나 플롯 이외에도 저수준 api를 사용한 다양한 시각화 기능 제공\n",
    "- 다양한 시각화 도구를 제공함\n",
    "    - 라인 플롯(line plot)\n",
    "    - 스캐터 플롯(scatter plot)\n",
    "    - 컨투어 플롯(contour plot)\n",
    "    - 서피스 플롯(surface plot)\n",
    "    - 바 차트(bar chart)\n",
    "    - 히스토그램(histogram)\n",
    "    - 박스 플롯(box plot)\n",
    "\n",
    "[Matplotlib 갤러리 웹사이트](http://matplotlib.org/gallery.html)"
   ]
  },
  {
   "cell_type": "code",
   "execution_count": null,
   "metadata": {
    "ExecuteTime": {
     "end_time": "2020-07-17T01:16:31.229918Z",
     "start_time": "2020-07-17T01:16:30.454917Z"
    },
    "id": "KU7ueUxOHqNm"
   },
   "outputs": [],
   "source": [
    "# import \n",
    "import pandas as pd\n",
    "import numpy as np\n",
    "# from pandas import Series, DataFrame\n",
    "import matplotlib as mpl\n",
    "import matplotlib.pyplot as plt\n",
    "# plt.style.use('fivethirtyeight') #style "
   ]
  },
  {
   "cell_type": "code",
   "execution_count": null,
   "metadata": {
    "ExecuteTime": {
     "end_time": "2020-07-17T01:16:31.252918Z",
     "start_time": "2020-07-17T01:16:31.242917Z"
    },
    "id": "AtahuumyHqNt",
    "outputId": "e5e9041d-ad69-48ee-cc47-c6ff6079513d"
   },
   "outputs": [
    {
     "data": {
      "text/plain": [
       "a     1\n",
       "b     2\n",
       "c     4\n",
       "d     8\n",
       "e    16\n",
       "dtype: int64"
      ]
     },
     "execution_count": 2,
     "metadata": {
      "tags": []
     },
     "output_type": "execute_result"
    }
   ],
   "source": [
    "# 기본 그리기\n",
    "# https://pandas.pydata.org/pandas-docs/stable/generated/pandas.DataFrame.plot.html\n",
    "sr = pd.Series([1,2,4,8,16],index=list('abcde'))\n",
    "sr"
   ]
  },
  {
   "cell_type": "code",
   "execution_count": null,
   "metadata": {
    "ExecuteTime": {
     "end_time": "2020-07-17T01:16:31.501918Z",
     "start_time": "2020-07-17T01:16:31.262918Z"
    },
    "id": "86IV3HlJHqN0",
    "outputId": "361140f9-4b5c-4535-fea9-3f54a35d2740"
   },
   "outputs": [
    {
     "data": {
      "text/plain": [
       "<matplotlib.axes._subplots.AxesSubplot at 0x1e6d06a98c8>"
      ]
     },
     "execution_count": 3,
     "metadata": {
      "tags": []
     },
     "output_type": "execute_result"
    },
    {
     "data": {
      "image/png": "[encoded data removed]",
      "text/plain": [
       "<Figure size 432x288 with 1 Axes>"
      ]
     },
     "metadata": {
      "needs_background": "light",
      "tags": []
     },
     "output_type": "display_data"
    }
   ],
   "source": [
    "# pandas 내장함수를 활용하여 시각화 \n",
    "# sr == pandas Series \n",
    "# pandas .plot()\n",
    "sr.plot()"
   ]
  },
  {
   "cell_type": "code",
   "execution_count": null,
   "metadata": {
    "ExecuteTime": {
     "end_time": "2020-07-17T01:16:31.688917Z",
     "start_time": "2020-07-17T01:16:31.510918Z"
    },
    "id": "T-aIOhGRhee-",
    "outputId": "361140f9-4b5c-4535-fea9-3f54a35d2740"
   },
   "outputs": [
    {
     "data": {
      "text/plain": [
       "[<matplotlib.lines.Line2D at 0x1e6d077ae08>]"
      ]
     },
     "execution_count": 4,
     "metadata": {
      "tags": []
     },
     "output_type": "execute_result"
    },
    {
     "data": {
      "image/png": "[encoded data removed]",
      "text/plain": [
       "<Figure size 432x288 with 1 Axes>"
      ]
     },
     "metadata": {
      "needs_background": "light",
      "tags": []
     },
     "output_type": "display_data"
    }
   ],
   "source": [
    "# plt 를 사용하여 시각화 \n",
    "plt.plot(sr)"
   ]
  },
  {
   "cell_type": "code",
   "execution_count": null,
   "metadata": {
    "ExecuteTime": {
     "end_time": "2020-07-17T01:16:48.914980Z",
     "start_time": "2020-07-17T01:16:48.909980Z"
    },
    "id": "arh5NKmVHqN5"
   },
   "outputs": [],
   "source": [
    "# 1-2. bar graph 그리기\n",
    "import random # 랜덤한 값을 설정 하는데 사용되는 패키지 \n",
    "# 1~ 100 범위 에서 5개 뽑기 \n",
    "random.seed(42)  # 늘 똑같은 값 추출하게 해준다. \n",
    "tmp=random.sample(range(100,1000),5)"
   ]
  },
  {
   "cell_type": "code",
   "execution_count": null,
   "metadata": {
    "ExecuteTime": {
     "end_time": "2020-07-17T01:16:49.236102Z",
     "start_time": "2020-07-17T01:16:49.229101Z"
    },
    "id": "n4VkXi8Hhee_",
    "outputId": "fc9fbcfd-e844-4f6e-8e98-d6db983a499b"
   },
   "outputs": [
    {
     "data": {
      "text/plain": [
       "a    754\n",
       "b    214\n",
       "c    125\n",
       "d    859\n",
       "e    381\n",
       "dtype: int64"
      ]
     },
     "execution_count": 9,
     "metadata": {
      "tags": []
     },
     "output_type": "execute_result"
    }
   ],
   "source": [
    "# tmp 값, Series \n",
    "sr2 = pd.Series(tmp,index=list('abcde'))\n",
    "sr2"
   ]
  },
  {
   "cell_type": "markdown",
   "metadata": {
    "id": "ELLUBzNwhefA"
   },
   "source": [
    "```\n",
    "kind : 옵션\n",
    "    - 'line' : line plot (default)\n",
    "    - 'bar' : vertical bar plot\n",
    "    - 'barh' : horizontal bar plot\n",
    "    - 'hist' : histogram\n",
    "    - 'box' : boxplot\n",
    "    - 'kde' : Kernel Density Estimation plot\n",
    "    - 'density' : same as 'kde'\n",
    "    - 'area' : area plot\n",
    "    - 'pie' : pie plot\n",
    "    - 'scatter' : scatter plot\n",
    "    - 'hexbin' : hexbin plot.\n",
    "```"
   ]
  },
  {
   "cell_type": "code",
   "execution_count": null,
   "metadata": {
    "ExecuteTime": {
     "end_time": "2020-07-17T01:16:50.279101Z",
     "start_time": "2020-07-17T01:16:50.101100Z"
    },
    "id": "6gxI3h6ohefA",
    "outputId": "9d18ac18-600f-473d-c199-f21bd9fb4932"
   },
   "outputs": [
    {
     "data": {
      "text/plain": [
       "<matplotlib.axes._subplots.AxesSubplot at 0x1e6d094a1c8>"
      ]
     },
     "execution_count": 10,
     "metadata": {
      "tags": []
     },
     "output_type": "execute_result"
    },
    {
     "data": {
      "image/png": "[encoded data removed]",
      "text/plain": [
       "<Figure size 432x288 with 1 Axes>"
      ]
     },
     "metadata": {
      "needs_background": "light",
      "tags": []
     },
     "output_type": "display_data"
    }
   ],
   "source": [
    "# pandas 함수  .plot()\n",
    "# .plot( 옵션 )\n",
    "# 데이타프레임 만 잘 만들면되겠다.\n",
    "# 1. 그림을 잘 그릴 수 있고,\n",
    "# 2. 머신러닝  X(data), y(target) 정의하기 쉬워집니다. \n",
    "sr2.plot(kind='bar')"
   ]
  },
  {
   "cell_type": "code",
   "execution_count": null,
   "metadata": {
    "ExecuteTime": {
     "end_time": "2020-07-17T01:16:50.641101Z",
     "start_time": "2020-07-17T01:16:50.469100Z"
    },
    "id": "RkwHQB6pHqN-",
    "outputId": "b47e9d4c-2f3f-4524-c964-0b1719d81b89"
   },
   "outputs": [
    {
     "data": {
      "text/plain": [
       "<BarContainer object of 5 artists>"
      ]
     },
     "execution_count": 11,
     "metadata": {
      "tags": []
     },
     "output_type": "execute_result"
    },
    {
     "data": {
      "image/png": "[encoded data removed]",
      "text/plain": [
       "<Figure size 432x288 with 1 Axes>"
      ]
     },
     "metadata": {
      "needs_background": "light",
      "tags": []
     },
     "output_type": "display_data"
    }
   ],
   "source": [
    "# plt \n",
    "plt.bar(sr2.index,sr2.values)"
   ]
  },
  {
   "cell_type": "code",
   "execution_count": null,
   "metadata": {
    "id": "QuN5rjfwhefB"
   },
   "outputs": [],
   "source": []
  },
  {
   "cell_type": "code",
   "execution_count": null,
   "metadata": {
    "ExecuteTime": {
     "end_time": "2020-07-17T01:16:51.525101Z",
     "start_time": "2020-07-17T01:16:51.301100Z"
    },
    "id": "FNrRIL0RHqOD",
    "outputId": "4025470e-829d-42eb-d97e-fdf835fe9764"
   },
   "outputs": [
    {
     "data": {
      "image/png": "[encoded data removed]",
      "text/plain": [
       "<Figure size 432x288 with 1 Axes>"
      ]
     },
     "metadata": {
      "needs_background": "light",
      "tags": []
     },
     "output_type": "display_data"
    }
   ],
   "source": [
    "# sr, sr2 를 동시에 하나의 그래프로 그리기\n",
    "# 1-3 위 2개의 그래프를 하나의 그래프로 그리기\n",
    "# subplot() 칸? 부분공간? 공간 임의 할당 \n",
    "# ax == 공간위치 , fig == 틀? 액자? 캔버스 \n",
    "fig, ax = plt.subplots() # 현재 figure와 axes를 반환\n",
    "# alpha 투명도 \n",
    "ax.plot(sr, color='red',alpha=0.9)\n",
    "plt.bar(sr2.index,sr2.values,alpha=0.3) # 누적하면 됨\n",
    "plt.show()"
   ]
  },
  {
   "cell_type": "code",
   "execution_count": null,
   "metadata": {
    "ExecuteTime": {
     "end_time": "2020-07-17T01:16:52.177100Z",
     "start_time": "2020-07-17T01:16:51.894100Z"
    },
    "id": "QS9fCrKVHqOI",
    "outputId": "98e8c2a7-031f-4e3b-c716-4fd30288671a"
   },
   "outputs": [
    {
     "data": {
      "image/png": "[encoded data removed]",
      "text/plain": [
       "<Figure size 432x288 with 2 Axes>"
      ]
     },
     "metadata": {
      "needs_background": "light",
      "tags": []
     },
     "output_type": "display_data"
    }
   ],
   "source": [
    "# 1-4 두 개 그래프를 서로 다른 Y축으로 적용\n",
    "# 공간을 할당\n",
    "fig, ax1 = plt.subplots()\n",
    "\n",
    "# 축의 옵션을 설정 \n",
    "ax1.tick_params(axis='y',labelcolor='r')\n",
    "\n",
    "ax2 = ax1.twinx() # x축을 공유함\n",
    "\n",
    "\n",
    "ax2.bar(sr2.index,sr2.values,alpha=0.3)\n",
    "ax1.plot(sr,color='r')\n",
    "plt.show()"
   ]
  },
  {
   "cell_type": "code",
   "execution_count": null,
   "metadata": {
    "ExecuteTime": {
     "end_time": "2020-07-17T01:16:52.735101Z",
     "start_time": "2020-07-17T01:16:52.725101Z"
    },
    "id": "OGSxMwclhefD",
    "outputId": "0cc434ab-1878-4bd2-dd4d-70a10e66fbff"
   },
   "outputs": [
    {
     "ename": "TypeError",
     "evalue": "list indices must be integers or slices, not tuple",
     "output_type": "error",
     "traceback": [
      "\u001b[1;31m---------------------------------------------------------------------------\u001b[0m",
      "\u001b[1;31mTypeError\u001b[0m                                 Traceback (most recent call last)",
      "\u001b[1;32m<ipython-input-14-ca77c1f71675>\u001b[0m in \u001b[0;36m<module>\u001b[1;34m\u001b[0m\n\u001b[0;32m      1\u001b[0m pd.DataFrame([[0,0] ,   [0,1]\n\u001b[1;32m----> 2\u001b[1;33m               [1,0]   , [1,1]])\n\u001b[0m",
      "\u001b[1;31mTypeError\u001b[0m: list indices must be integers or slices, not tuple"
     ]
    }
   ],
   "source": [
    "pd.DataFrame([[0,0] ,   [0,1]\n",
    "              [1,0]   , [1,1]])"
   ]
  },
  {
   "cell_type": "code",
   "execution_count": null,
   "metadata": {
    "ExecuteTime": {
     "end_time": "2020-07-17T01:16:53.927100Z",
     "start_time": "2020-07-17T01:16:53.333102Z"
    },
    "id": "4pPInGnaHqOP",
    "outputId": "212da1c2-d042-408e-db32-c8d9f754f125"
   },
   "outputs": [
    {
     "data": {
      "image/png": "[encoded data removed]",
      "text/plain": [
       "<Figure size 432x288 with 4 Axes>"
      ]
     },
     "metadata": {
      "needs_background": "light",
      "tags": []
     },
     "output_type": "display_data"
    }
   ],
   "source": [
    "# 2. 여러 개 그래프 그리기\n",
    "## 하나의 figure에 여러개의 axes를 그리기\n",
    "fig,ax_list = plt.subplots(2, 2) # 2행 2열 공간을 만들자 == 4개의 그림을 그리겠다.  \n",
    "\n",
    "# 왼쪽 상단 \n",
    "ax_list[0,0].plot(sr)\n",
    "ax_list[0,0].set_title('Graph #1')\n",
    "ax_list[0,0].set_xlabel('x1')\n",
    "ax_list[0,0].set_ylabel('y1')\n",
    "\n",
    "# 오른쪽 상단 # histogram (hist) 을 그린것 , bin 10개의 막대 \n",
    "ax_list[0,1].hist(random.sample(range(1,100),50),bins=10,color='b',alpha=0.3)\n",
    "ax_list[0,1].set_title('Graph #2')\n",
    "ax_list[0,1].set_xlabel('x2')\n",
    "ax_list[0,1].set_ylabel('y2')\n",
    "\n",
    "# 왼쪽하단 scatter 산포도 \n",
    "ax_list[1,0].scatter(random.sample(range(1,100),50),random.sample(range(1,100),50),color='r',alpha=0.3)\n",
    "ax_list[1,0].set_title('Graph #3')\n",
    "ax_list[1,0].set_xlabel('x3')\n",
    "ax_list[1,0].set_ylabel('y3')\n",
    "\n",
    "# 오른쪽 하단 \n",
    "ax_list[1,1].bar(sr2.index,sr.values,color='g')\n",
    "ax_list[1,1].set_title('Graph #4')\n",
    "ax_list[1,1].set_xlabel('x4')\n",
    "ax_list[1,1].set_ylabel('y4')\n",
    "\n",
    "# 여백설정 \n",
    "# hsapce= 위아래 여백을 설정 (height)\n",
    "# wspace = 좌우 여백을 설정 (width?)\n",
    "plt.subplots_adjust(hspace=1,wspace=1)\n",
    "plt.show()"
   ]
  },
  {
   "cell_type": "code",
   "execution_count": null,
   "metadata": {
    "ExecuteTime": {
     "end_time": "2020-07-17T01:16:54.814100Z",
     "start_time": "2020-07-17T01:16:54.637100Z"
    },
    "id": "4uEOdRwAHqOT",
    "outputId": "b45b1075-d7a9-409d-d4bc-1c2d63db366a"
   },
   "outputs": [
    {
     "data": {
      "text/plain": [
       "[<matplotlib.lines.Line2D at 0x1e6d0ccd908>]"
      ]
     },
     "execution_count": 16,
     "metadata": {
      "tags": []
     },
     "output_type": "execute_result"
    },
    {
     "data": {
      "image/png": "[encoded data removed]",
      "text/plain": [
       "<Figure size 432x288 with 1 Axes>"
      ]
     },
     "metadata": {
      "needs_background": "light",
      "tags": []
     },
     "output_type": "display_data"
    }
   ],
   "source": [
    "# 3. Backend\n",
    "# inline == .py 파일에서 사용하면 안된다.\n",
    "# jupyter notebook 그림을 나타 낼때 \n",
    "%matplotlib inline  \n",
    "plt.plot(sr)"
   ]
  },
  {
   "cell_type": "code",
   "execution_count": null,
   "metadata": {
    "ExecuteTime": {
     "end_time": "2020-07-17T01:16:58.568281Z",
     "start_time": "2020-07-17T01:16:58.565280Z"
    },
    "id": "gleBg_PohefE"
   },
   "outputs": [],
   "source": [
    "# interactive하게 시각화 == plotly 를 사용 \n",
    "# 그래프를 동적으로 그리고 싶을 때 java plotly 사용 \n",
    "# import plotly.express as px # import \n",
    "# fig =px.bar(sr2.index,sr2.values)\n",
    "# fig.show()"
   ]
  },
  {
   "cell_type": "markdown",
   "metadata": {
    "id": "dS2zKau5hefE"
   },
   "source": [
    "딥러닝 $\\subset$ 머신러닝 $\\subset$ 인공지능\n",
    "\n",
    "- 딥러닝  == end-to-end learning 이라 하며, 단점은 설명불가능 \n",
    "- 머신러닝 == 설명가능 무조건... 수학적 증명이 다끝났다. \n",
    "\n",
    "> 머신러닝을 사용했다 ---> 설명을 해야됩니다. \n",
    " - 그래프와 그 근거를 제시:\n",
    "(* decision tree(의사결정) `graphviz`활용하여 트리(나무) 구조를 그려 \n",
    "( plotly 동적인그래프로 설명 )\n"
   ]
  },
  {
   "cell_type": "code",
   "execution_count": null,
   "metadata": {
    "ExecuteTime": {
     "end_time": "2020-07-17T01:17:02.784281Z",
     "start_time": "2020-07-17T01:17:02.781280Z"
    },
    "id": "7ShP_uOZhefF"
   },
   "outputs": [],
   "source": [
    "# df = px.data.iris()\n",
    "# fig = px.scatter(df, x=\"sepal_width\", y=\"sepal_length\", color=\"species\")\n",
    "# fig.show()"
   ]
  },
  {
   "cell_type": "code",
   "execution_count": null,
   "metadata": {
    "id": "rNJWNJ2PhefF"
   },
   "outputs": [],
   "source": []
  },
  {
   "cell_type": "code",
   "execution_count": null,
   "metadata": {
    "ExecuteTime": {
     "end_time": "2019-07-19T05:10:42.860690Z",
     "start_time": "2019-07-19T05:10:42.856496Z"
    },
    "id": "hkA7heR7HqOd",
    "outputId": "36cc88ae-d38d-4a31-8624-c2714a93b75e"
   },
   "outputs": [
    {
     "data": {
      "text/plain": [
       "['seaborn-dark',\n",
       " 'seaborn-darkgrid',\n",
       " 'seaborn-ticks',\n",
       " 'fivethirtyeight',\n",
       " 'seaborn-whitegrid',\n",
       " 'classic',\n",
       " '_classic_test',\n",
       " 'fast',\n",
       " 'seaborn-talk',\n",
       " 'seaborn-dark-palette',\n",
       " 'seaborn-bright',\n",
       " 'seaborn-pastel',\n",
       " 'grayscale',\n",
       " 'seaborn-notebook',\n",
       " 'ggplot',\n",
       " 'seaborn-colorblind',\n",
       " 'seaborn-muted',\n",
       " 'seaborn',\n",
       " 'Solarize_Light2',\n",
       " 'seaborn-paper',\n",
       " 'bmh',\n",
       " 'tableau-colorblind10',\n",
       " 'seaborn-white',\n",
       " 'dark_background',\n",
       " 'seaborn-poster',\n",
       " 'seaborn-deep']"
      ]
     },
     "execution_count": 12,
     "metadata": {
      "tags": []
     },
     "output_type": "execute_result"
    }
   ],
   "source": [
    "# 4. style 변경\n",
    "# import seaborn as sns \n",
    "# seaborn 스타일도 가능 \n",
    "plt.style.available\n",
    "# 'fivethirtyeight'\n",
    "# 'ggplot'"
   ]
  },
  {
   "cell_type": "code",
   "execution_count": null,
   "metadata": {
    "ExecuteTime": {
     "end_time": "2020-07-17T01:21:09.043189Z",
     "start_time": "2020-07-17T01:21:08.860189Z"
    },
    "id": "NK5pvBa7hefG",
    "outputId": "74e81627-4e02-4d97-a39a-f37a9533e990"
   },
   "outputs": [
    {
     "data": {
      "image/png": "[encoded data removed]",
      "text/plain": [
       "<Figure size 432x288 with 1 Axes>"
      ]
     },
     "metadata": {
      "needs_background": "light",
      "tags": []
     },
     "output_type": "display_data"
    }
   ],
   "source": [
    "plt.plot(sr, color='red')\n",
    "plt.show()"
   ]
  },
  {
   "cell_type": "code",
   "execution_count": null,
   "metadata": {
    "ExecuteTime": {
     "end_time": "2020-07-17T01:21:36.505071Z",
     "start_time": "2020-07-17T01:21:36.502069Z"
    },
    "id": "AWUgT0jrHqOi"
   },
   "outputs": [],
   "source": [
    "# 스타일 변경 옵션 \n",
    "plt.style.use('fivethirtyeight')"
   ]
  },
  {
   "cell_type": "code",
   "execution_count": null,
   "metadata": {
    "ExecuteTime": {
     "end_time": "2020-07-17T01:21:37.225069Z",
     "start_time": "2020-07-17T01:21:37.022070Z"
    },
    "id": "3KO-sAbDhefG",
    "outputId": "54d8f6dc-979c-42eb-d34b-4a0453ef9e2d"
   },
   "outputs": [
    {
     "data": {
      "image/png": "[encoded data removed]",
      "text/plain": [
       "<Figure size 432x288 with 1 Axes>"
      ]
     },
     "metadata": {
      "needs_background": "light",
      "tags": []
     },
     "output_type": "display_data"
    }
   ],
   "source": [
    "%matplotlib inline \n",
    "plt.plot(sr)\n",
    "plt.show()"
   ]
  },
  {
   "cell_type": "code",
   "execution_count": null,
   "metadata": {
    "ExecuteTime": {
     "end_time": "2019-07-19T05:10:43.123159Z",
     "start_time": "2019-07-19T05:10:42.991679Z"
    },
    "id": "lYbDVL60HqOn",
    "outputId": "9c36e547-a24a-41cc-c441-c092722f7878"
   },
   "outputs": [
    {
     "data": {
      "image/png": "[encoded data removed]",
      "text/plain": [
       "<Figure size 576x396 with 1 Axes>"
      ]
     },
     "metadata": {
      "tags": []
     },
     "output_type": "display_data"
    }
   ],
   "source": [
    "plt.style.use('seaborn')\n",
    "plt.plot(sr)\n",
    "plt.show()"
   ]
  },
  {
   "cell_type": "code",
   "execution_count": null,
   "metadata": {
    "ExecuteTime": {
     "end_time": "2020-07-17T01:22:53.593465Z",
     "start_time": "2020-07-17T01:22:53.588465Z"
    },
    "id": "ZZ2Ns8itHqOr",
    "outputId": "444223e9-dca1-4a02-e9bb-8372ec333af3"
   },
   "outputs": [
    {
     "data": {
      "text/plain": [
       "'C:\\\\ProgramData\\\\Anaconda3\\\\lib\\\\site-packages\\\\matplotlib\\\\mpl-data\\\\matplotlibrc'"
      ]
     },
     "execution_count": 27,
     "metadata": {
      "tags": []
     },
     "output_type": "execute_result"
    }
   ],
   "source": [
    "# 5. matplotlib 설정\n",
    "# 설정파일 변경 -> 주피터 노트북이 실행되면서 읽어오면서 영구적으로 변경\n",
    "# mpl.matplotlib_fname()"
   ]
  },
  {
   "cell_type": "code",
   "execution_count": null,
   "metadata": {
    "ExecuteTime": {
     "end_time": "2020-07-17T01:23:02.559465Z",
     "start_time": "2020-07-17T01:23:02.556466Z"
    },
    "id": "rv1muYTSHqOv"
   },
   "outputs": [],
   "source": [
    "# !cat /Users/minsuksung/.matplotlib/matplotlibrc"
   ]
  },
  {
   "cell_type": "code",
   "execution_count": null,
   "metadata": {
    "ExecuteTime": {
     "end_time": "2020-07-17T01:23:05.399465Z",
     "start_time": "2020-07-17T01:23:05.396466Z"
    },
    "id": "kv7jxtQ2HqO0"
   },
   "outputs": [],
   "source": [
    "# 5.2 설정을 동적으로 변경 --> matplotlib.rcParams을 변경\n",
    "# mpl.rcParams"
   ]
  },
  {
   "cell_type": "code",
   "execution_count": null,
   "metadata": {
    "ExecuteTime": {
     "end_time": "2020-07-17T01:25:44.716033Z",
     "start_time": "2020-07-17T01:25:44.694033Z"
    },
    "id": "QKbuoO9rHqO4",
    "outputId": "9dc9b8b1-dee3-45ef-ff17-172758377cdd"
   },
   "outputs": [
    {
     "data": {
      "text/html": [
       "<div>\n",
       "<style scoped>\n",
       "    .dataframe tbody tr th:only-of-type {\n",
       "        vertical-align: middle;\n",
       "    }\n",
       "\n",
       "    .dataframe tbody tr th {\n",
       "        vertical-align: top;\n",
       "    }\n",
       "\n",
       "    .dataframe thead th {\n",
       "        text-align: right;\n",
       "    }\n",
       "</style>\n",
       "<table border=\"1\" class=\"dataframe\">\n",
       "  <thead>\n",
       "    <tr style=\"text-align: right;\">\n",
       "      <th></th>\n",
       "      <th>서울</th>\n",
       "      <th>경기</th>\n",
       "      <th>충청</th>\n",
       "      <th>경상</th>\n",
       "      <th>전라</th>\n",
       "    </tr>\n",
       "  </thead>\n",
       "  <tbody>\n",
       "    <tr>\n",
       "      <th>2015</th>\n",
       "      <td>1053.5</td>\n",
       "      <td>1023</td>\n",
       "      <td>512</td>\n",
       "      <td>897</td>\n",
       "      <td>451</td>\n",
       "    </tr>\n",
       "    <tr>\n",
       "      <th>2016</th>\n",
       "      <td>1023.0</td>\n",
       "      <td>1067</td>\n",
       "      <td>489</td>\n",
       "      <td>872</td>\n",
       "      <td>421</td>\n",
       "    </tr>\n",
       "    <tr>\n",
       "      <th>2017</th>\n",
       "      <td>987.0</td>\n",
       "      <td>1123</td>\n",
       "      <td>487</td>\n",
       "      <td>811</td>\n",
       "      <td>399</td>\n",
       "    </tr>\n",
       "  </tbody>\n",
       "</table>\n",
       "</div>"
      ],
      "text/plain": [
       "          서울    경기   충청   경상   전라\n",
       "2015  1053.5  1023  512  897  451\n",
       "2016  1023.0  1067  489  872  421\n",
       "2017   987.0  1123  487  811  399"
      ]
     },
     "execution_count": 34,
     "metadata": {
      "tags": []
     },
     "output_type": "execute_result"
    }
   ],
   "source": [
    "# dict { } \n",
    "# key: 지역\n",
    "# value = list \n",
    "\n",
    "인구통계 ={'서울' : [1053.5, 1023, 987],\n",
    "        '경기' :[1023, 1067, 1123],\n",
    "        '충청':[512,489,487],\n",
    "        '경상':[897, 872, 811],\n",
    "        '전라':[451, 421, 399]\n",
    "      }\n",
    "# DataFrame (dicitonary) ---> key column(열)\n",
    "df = pd.DataFrame(인구통계)\n",
    "df.index = [2015, 2016, 2017]\n",
    "df"
   ]
  },
  {
   "cell_type": "code",
   "execution_count": null,
   "metadata": {
    "ExecuteTime": {
     "end_time": "2020-07-17T01:25:45.212032Z",
     "start_time": "2020-07-17T01:25:45.208032Z"
    },
    "id": "8USP_D8-HqO9"
   },
   "outputs": [],
   "source": [
    "# 한글이 깨지지 않게\n",
    "from matplotlib import font_manager, rc\n",
    "font_name = font_manager.FontProperties(fname=\"c:/Windows/Fonts/malgun.ttf\").get_name()\n",
    "rc('font', family=font_name)"
   ]
  },
  {
   "cell_type": "code",
   "execution_count": null,
   "metadata": {
    "ExecuteTime": {
     "end_time": "2020-07-17T01:29:03.666222Z",
     "start_time": "2020-07-17T01:29:01.994222Z"
    },
    "id": "4EJRgx9sHqPC",
    "outputId": "ad5fea65-8482-44d2-aee8-19effb17eee7"
   },
   "outputs": [
    {
     "data": {
      "image/png": "[encoded data removed]",
      "text/plain": [
       "<Figure size 864x864 with 5 Axes>"
      ]
     },
     "metadata": {
      "needs_background": "light",
      "tags": []
     },
     "output_type": "display_data"
    }
   ],
   "source": [
    "# plt.plot(df)\n",
    "df.plot(kind='line',# 그래프 스타일 \n",
    "        title='인구추이다',# 제목 \n",
    "        xticks=df.index,# x 축에 올데이터 \n",
    "        ylim=[0,3000],  # y의 범위 \n",
    "        figsize=(12,12), # 각각의 그래프 틀의 크기 \n",
    "        style=['bo-','k--','vg-','^:','m<-'], # 라인 스타일 \n",
    "        lw = 3, # 라인 두께 \n",
    "        subplots=True) # 그래프를 나눠서 그리기 \n",
    "# plt.title('인구추이')\n",
    "plt.xlabel('연도') # x 축이름\n",
    "plt.ylabel('인구수') # y 축 이름 \n",
    "plt.show() # 보여라 "
   ]
  },
  {
   "cell_type": "markdown",
   "metadata": {
    "id": "xdgKZh4gHqPG"
   },
   "source": [
    "<img src=\"img/예제실습/matplotlib인자.jpg\" alt=\" matplotlib\" style=\"width:300;\"/>\n",
    "\n",
    "#### 색상: https://matplotlib.org/examples/color/named_colors.html\n",
    "#### 기타 스타일: https://matplotlib.org/api/_as_gen/matplotlib.lines.Line2D.html#matplotlib.lines.Line2D"
   ]
  },
  {
   "cell_type": "code",
   "execution_count": null,
   "metadata": {
    "ExecuteTime": {
     "end_time": "2020-07-17T01:30:27.166877Z",
     "start_time": "2020-07-17T01:30:27.156875Z"
    },
    "id": "pmK9-EOQhefI",
    "outputId": "82d11c38-7896-4736-9537-cfdc88383342"
   },
   "outputs": [
    {
     "data": {
      "text/html": [
       "<div>\n",
       "<style scoped>\n",
       "    .dataframe tbody tr th:only-of-type {\n",
       "        vertical-align: middle;\n",
       "    }\n",
       "\n",
       "    .dataframe tbody tr th {\n",
       "        vertical-align: top;\n",
       "    }\n",
       "\n",
       "    .dataframe thead th {\n",
       "        text-align: right;\n",
       "    }\n",
       "</style>\n",
       "<table border=\"1\" class=\"dataframe\">\n",
       "  <thead>\n",
       "    <tr style=\"text-align: right;\">\n",
       "      <th></th>\n",
       "      <th>서울</th>\n",
       "      <th>경기</th>\n",
       "      <th>충청</th>\n",
       "      <th>경상</th>\n",
       "      <th>전라</th>\n",
       "    </tr>\n",
       "  </thead>\n",
       "  <tbody>\n",
       "    <tr>\n",
       "      <th>2015</th>\n",
       "      <td>1053.5</td>\n",
       "      <td>1023</td>\n",
       "      <td>512</td>\n",
       "      <td>897</td>\n",
       "      <td>451</td>\n",
       "    </tr>\n",
       "    <tr>\n",
       "      <th>2016</th>\n",
       "      <td>1023.0</td>\n",
       "      <td>1067</td>\n",
       "      <td>489</td>\n",
       "      <td>872</td>\n",
       "      <td>421</td>\n",
       "    </tr>\n",
       "    <tr>\n",
       "      <th>2017</th>\n",
       "      <td>987.0</td>\n",
       "      <td>1123</td>\n",
       "      <td>487</td>\n",
       "      <td>811</td>\n",
       "      <td>399</td>\n",
       "    </tr>\n",
       "  </tbody>\n",
       "</table>\n",
       "</div>"
      ],
      "text/plain": [
       "          서울    경기   충청   경상   전라\n",
       "2015  1053.5  1023  512  897  451\n",
       "2016  1023.0  1067  489  872  421\n",
       "2017   987.0  1123  487  811  399"
      ]
     },
     "execution_count": 41,
     "metadata": {
      "tags": []
     },
     "output_type": "execute_result"
    }
   ],
   "source": [
    "df"
   ]
  },
  {
   "cell_type": "code",
   "execution_count": null,
   "metadata": {
    "ExecuteTime": {
     "end_time": "2020-07-17T01:31:09.378054Z",
     "start_time": "2020-07-17T01:31:09.365053Z"
    },
    "id": "qLKbdy_mhefJ",
    "outputId": "176060de-c5a2-41f2-afb1-f9c4fa6bb673"
   },
   "outputs": [
    {
     "data": {
      "text/html": [
       "<div>\n",
       "<style scoped>\n",
       "    .dataframe tbody tr th:only-of-type {\n",
       "        vertical-align: middle;\n",
       "    }\n",
       "\n",
       "    .dataframe tbody tr th {\n",
       "        vertical-align: top;\n",
       "    }\n",
       "\n",
       "    .dataframe thead th {\n",
       "        text-align: right;\n",
       "    }\n",
       "</style>\n",
       "<table border=\"1\" class=\"dataframe\">\n",
       "  <thead>\n",
       "    <tr style=\"text-align: right;\">\n",
       "      <th></th>\n",
       "      <th>2015</th>\n",
       "      <th>2016</th>\n",
       "      <th>2017</th>\n",
       "    </tr>\n",
       "  </thead>\n",
       "  <tbody>\n",
       "    <tr>\n",
       "      <th>서울</th>\n",
       "      <td>1053.5</td>\n",
       "      <td>1023.0</td>\n",
       "      <td>987.0</td>\n",
       "    </tr>\n",
       "    <tr>\n",
       "      <th>경기</th>\n",
       "      <td>1023.0</td>\n",
       "      <td>1067.0</td>\n",
       "      <td>1123.0</td>\n",
       "    </tr>\n",
       "    <tr>\n",
       "      <th>충청</th>\n",
       "      <td>512.0</td>\n",
       "      <td>489.0</td>\n",
       "      <td>487.0</td>\n",
       "    </tr>\n",
       "    <tr>\n",
       "      <th>경상</th>\n",
       "      <td>897.0</td>\n",
       "      <td>872.0</td>\n",
       "      <td>811.0</td>\n",
       "    </tr>\n",
       "    <tr>\n",
       "      <th>전라</th>\n",
       "      <td>451.0</td>\n",
       "      <td>421.0</td>\n",
       "      <td>399.0</td>\n",
       "    </tr>\n",
       "  </tbody>\n",
       "</table>\n",
       "</div>"
      ],
      "text/plain": [
       "      2015    2016    2017\n",
       "서울  1053.5  1023.0   987.0\n",
       "경기  1023.0  1067.0  1123.0\n",
       "충청   512.0   489.0   487.0\n",
       "경상   897.0   872.0   811.0\n",
       "전라   451.0   421.0   399.0"
      ]
     },
     "execution_count": 42,
     "metadata": {
      "tags": []
     },
     "output_type": "execute_result"
    }
   ],
   "source": [
    "# T == transpose == 전치 == 행과열을 바꾸는것 == 대각선을 기준으로 바꾸기 == flip?\n",
    "df.T"
   ]
  },
  {
   "cell_type": "code",
   "execution_count": null,
   "metadata": {
    "ExecuteTime": {
     "end_time": "2020-07-17T01:34:25.703755Z",
     "start_time": "2020-07-17T01:34:24.724755Z"
    },
    "id": "5khOM_8xHqPH",
    "outputId": "fa44c58c-b4cc-4094-c870-a75817749bc4"
   },
   "outputs": [
    {
     "data": {
      "image/png": "[encoded data removed]",
      "text/plain": [
       "<Figure size 432x432 with 3 Axes>"
      ]
     },
     "metadata": {
      "needs_background": "light",
      "tags": []
     },
     "output_type": "display_data"
    }
   ],
   "source": [
    "# 실습. 아래 그림처럼 연도별 지역별 인구수 그래프 그리기\n",
    "# plt.plot(df)\n",
    "df.T.plot(kind='bar', # 막대그래프\n",
    "          fontsize=10, # 글자크기\n",
    "          xticks=df.index, # 인덱스 \n",
    "          ylim=[0,1000],\n",
    "          figsize=(6,6), \n",
    "          subplots=True)\n",
    "plt.xlabel('연도',fontsize=10)\n",
    "plt.ylabel('인구수')\n",
    "plt.show()"
   ]
  },
  {
   "cell_type": "markdown",
   "metadata": {
    "id": "tqn_U8jCHqPL"
   },
   "source": [
    "<img src=\"img/예제실습/그림의구조.jpg\" alt=\"그림의구조\" style=\"width: 600px;\"/>"
   ]
  },
  {
   "cell_type": "markdown",
   "metadata": {
    "id": "nbuIRs3QHqPM"
   },
   "source": [
    "# matplotlib 기반 최신 시각화 라이브러리 소개\n",
    "1. seaborn\n",
    "  - matplotlib을 기반으로 만들어진 시각화 라이브러리\n",
    "  - 디자인적으로 훨씬 세련됨.  \n",
    "  - matplotlib와 사용방식이 유사하므로 쉽고 빠르게 습득할 수 있음.\n",
    "  - https://seaborn.pydata.org/\n",
    "\n",
    "<!-- 2. bokeh\n",
    "  - 웹브라우저 상에서의 시각화에 효과적인 파이썬 인터랙티브 시각화 라이브러리\n",
    "  - 플롯을 html 파일로 export하여 이를 웹브라우저를 통해 확인할 수 있음.\n",
    "  - matplotlib와 비슷, jupyter와 호환이 잘 됨. \n",
    "  - https://bokeh.pydata.org/en/latest/ -->\n",
    "\n",
    "2. plotly\n",
    "\n",
    "\n",
    "3. Folium \n",
    "  - 지리적 데이터 시각화에 특화된 라이브러리 (leaflet.js 기반)\n",
    "  - 웹브라우저에서 확인 가능\n",
    "  - 지도 데이터 사용을 위해 선행되어야 하는 작업이 원래 매우 많은데, 이러한 선행작업을 간단화함.\n",
    "  - https://github.com/python-visualization/folium\n",
    "  - http://python-visualization.github.io/folium/docs-v0.5.0/\n",
    "  - http://pinkwink.kr/971"
   ]
  },
  {
   "cell_type": "markdown",
   "metadata": {
    "id": "Vinz9UI1HqPN"
   },
   "source": [
    "## 2. 왕좌의 게임 데이터 분석 및 시각화 실습\n",
    "### 1) 데이터 적재"
   ]
  },
  {
   "cell_type": "code",
   "execution_count": null,
   "metadata": {
    "ExecuteTime": {
     "end_time": "2020-07-17T01:37:17.070710Z",
     "start_time": "2020-07-17T01:37:17.014709Z"
    },
    "id": "7l5XPT2eHqPN",
    "outputId": "4a9c5a21-4642-42d2-fa97-655d152f163e"
   },
   "outputs": [
    {
     "data": {
      "text/html": [
       "<div>\n",
       "<style scoped>\n",
       "    .dataframe tbody tr th:only-of-type {\n",
       "        vertical-align: middle;\n",
       "    }\n",
       "\n",
       "    .dataframe tbody tr th {\n",
       "        vertical-align: top;\n",
       "    }\n",
       "\n",
       "    .dataframe thead th {\n",
       "        text-align: right;\n",
       "    }\n",
       "</style>\n",
       "<table border=\"1\" class=\"dataframe\">\n",
       "  <thead>\n",
       "    <tr style=\"text-align: right;\">\n",
       "      <th></th>\n",
       "      <th>name</th>\n",
       "      <th>year</th>\n",
       "      <th>battle_number</th>\n",
       "      <th>attacker_king</th>\n",
       "      <th>defender_king</th>\n",
       "      <th>attacker_1</th>\n",
       "      <th>attacker_2</th>\n",
       "      <th>attacker_3</th>\n",
       "      <th>attacker_4</th>\n",
       "      <th>defender_1</th>\n",
       "      <th>...</th>\n",
       "      <th>major_death</th>\n",
       "      <th>major_capture</th>\n",
       "      <th>attacker_size</th>\n",
       "      <th>defender_size</th>\n",
       "      <th>attacker_commander</th>\n",
       "      <th>defender_commander</th>\n",
       "      <th>summer</th>\n",
       "      <th>location</th>\n",
       "      <th>region</th>\n",
       "      <th>note</th>\n",
       "    </tr>\n",
       "  </thead>\n",
       "  <tbody>\n",
       "    <tr>\n",
       "      <th>0</th>\n",
       "      <td>Battle of the Golden Tooth</td>\n",
       "      <td>298</td>\n",
       "      <td>1</td>\n",
       "      <td>Joffrey/Tommen Baratheon</td>\n",
       "      <td>Robb Stark</td>\n",
       "      <td>Lannister</td>\n",
       "      <td>NaN</td>\n",
       "      <td>NaN</td>\n",
       "      <td>NaN</td>\n",
       "      <td>Tully</td>\n",
       "      <td>...</td>\n",
       "      <td>1.0</td>\n",
       "      <td>0.0</td>\n",
       "      <td>15000.0</td>\n",
       "      <td>4000.0</td>\n",
       "      <td>Jaime Lannister</td>\n",
       "      <td>Clement Piper, Vance</td>\n",
       "      <td>1.0</td>\n",
       "      <td>Golden Tooth</td>\n",
       "      <td>The Westerlands</td>\n",
       "      <td>NaN</td>\n",
       "    </tr>\n",
       "    <tr>\n",
       "      <th>1</th>\n",
       "      <td>Battle at the Mummer's Ford</td>\n",
       "      <td>298</td>\n",
       "      <td>2</td>\n",
       "      <td>Joffrey/Tommen Baratheon</td>\n",
       "      <td>Robb Stark</td>\n",
       "      <td>Lannister</td>\n",
       "      <td>NaN</td>\n",
       "      <td>NaN</td>\n",
       "      <td>NaN</td>\n",
       "      <td>Baratheon</td>\n",
       "      <td>...</td>\n",
       "      <td>1.0</td>\n",
       "      <td>0.0</td>\n",
       "      <td>NaN</td>\n",
       "      <td>120.0</td>\n",
       "      <td>Gregor Clegane</td>\n",
       "      <td>Beric Dondarrion</td>\n",
       "      <td>1.0</td>\n",
       "      <td>Mummer's Ford</td>\n",
       "      <td>The Riverlands</td>\n",
       "      <td>NaN</td>\n",
       "    </tr>\n",
       "    <tr>\n",
       "      <th>2</th>\n",
       "      <td>Battle of Riverrun</td>\n",
       "      <td>298</td>\n",
       "      <td>3</td>\n",
       "      <td>Joffrey/Tommen Baratheon</td>\n",
       "      <td>Robb Stark</td>\n",
       "      <td>Lannister</td>\n",
       "      <td>NaN</td>\n",
       "      <td>NaN</td>\n",
       "      <td>NaN</td>\n",
       "      <td>Tully</td>\n",
       "      <td>...</td>\n",
       "      <td>0.0</td>\n",
       "      <td>1.0</td>\n",
       "      <td>15000.0</td>\n",
       "      <td>10000.0</td>\n",
       "      <td>Jaime Lannister, Andros Brax</td>\n",
       "      <td>Edmure Tully, Tytos Blackwood</td>\n",
       "      <td>1.0</td>\n",
       "      <td>Riverrun</td>\n",
       "      <td>The Riverlands</td>\n",
       "      <td>NaN</td>\n",
       "    </tr>\n",
       "    <tr>\n",
       "      <th>3</th>\n",
       "      <td>Battle of the Green Fork</td>\n",
       "      <td>298</td>\n",
       "      <td>4</td>\n",
       "      <td>Robb Stark</td>\n",
       "      <td>Joffrey/Tommen Baratheon</td>\n",
       "      <td>Stark</td>\n",
       "      <td>NaN</td>\n",
       "      <td>NaN</td>\n",
       "      <td>NaN</td>\n",
       "      <td>Lannister</td>\n",
       "      <td>...</td>\n",
       "      <td>1.0</td>\n",
       "      <td>1.0</td>\n",
       "      <td>18000.0</td>\n",
       "      <td>20000.0</td>\n",
       "      <td>Roose Bolton, Wylis Manderly, Medger Cerwyn, H...</td>\n",
       "      <td>Tywin Lannister, Gregor Clegane, Kevan Lannist...</td>\n",
       "      <td>1.0</td>\n",
       "      <td>Green Fork</td>\n",
       "      <td>The Riverlands</td>\n",
       "      <td>NaN</td>\n",
       "    </tr>\n",
       "    <tr>\n",
       "      <th>4</th>\n",
       "      <td>Battle of the Whispering Wood</td>\n",
       "      <td>298</td>\n",
       "      <td>5</td>\n",
       "      <td>Robb Stark</td>\n",
       "      <td>Joffrey/Tommen Baratheon</td>\n",
       "      <td>Stark</td>\n",
       "      <td>Tully</td>\n",
       "      <td>NaN</td>\n",
       "      <td>NaN</td>\n",
       "      <td>Lannister</td>\n",
       "      <td>...</td>\n",
       "      <td>1.0</td>\n",
       "      <td>1.0</td>\n",
       "      <td>1875.0</td>\n",
       "      <td>6000.0</td>\n",
       "      <td>Robb Stark, Brynden Tully</td>\n",
       "      <td>Jaime Lannister</td>\n",
       "      <td>1.0</td>\n",
       "      <td>Whispering Wood</td>\n",
       "      <td>The Riverlands</td>\n",
       "      <td>NaN</td>\n",
       "    </tr>\n",
       "  </tbody>\n",
       "</table>\n",
       "<p>5 rows × 25 columns</p>\n",
       "</div>"
      ],
      "text/plain": [
       "                            name  year  battle_number  \\\n",
       "0     Battle of the Golden Tooth   298              1   \n",
       "1    Battle at the Mummer's Ford   298              2   \n",
       "2             Battle of Riverrun   298              3   \n",
       "3       Battle of the Green Fork   298              4   \n",
       "4  Battle of the Whispering Wood   298              5   \n",
       "\n",
       "              attacker_king             defender_king attacker_1 attacker_2  \\\n",
       "0  Joffrey/Tommen Baratheon                Robb Stark  Lannister        NaN   \n",
       "1  Joffrey/Tommen Baratheon                Robb Stark  Lannister        NaN   \n",
       "2  Joffrey/Tommen Baratheon                Robb Stark  Lannister        NaN   \n",
       "3                Robb Stark  Joffrey/Tommen Baratheon      Stark        NaN   \n",
       "4                Robb Stark  Joffrey/Tommen Baratheon      Stark      Tully   \n",
       "\n",
       "  attacker_3 attacker_4 defender_1  ... major_death  major_capture  \\\n",
       "0        NaN        NaN      Tully  ...         1.0            0.0   \n",
       "1        NaN        NaN  Baratheon  ...         1.0            0.0   \n",
       "2        NaN        NaN      Tully  ...         0.0            1.0   \n",
       "3        NaN        NaN  Lannister  ...         1.0            1.0   \n",
       "4        NaN        NaN  Lannister  ...         1.0            1.0   \n",
       "\n",
       "   attacker_size defender_size  \\\n",
       "0        15000.0        4000.0   \n",
       "1            NaN         120.0   \n",
       "2        15000.0       10000.0   \n",
       "3        18000.0       20000.0   \n",
       "4         1875.0        6000.0   \n",
       "\n",
       "                                  attacker_commander  \\\n",
       "0                                    Jaime Lannister   \n",
       "1                                     Gregor Clegane   \n",
       "2                       Jaime Lannister, Andros Brax   \n",
       "3  Roose Bolton, Wylis Manderly, Medger Cerwyn, H...   \n",
       "4                          Robb Stark, Brynden Tully   \n",
       "\n",
       "                                  defender_commander  summer         location  \\\n",
       "0                               Clement Piper, Vance     1.0     Golden Tooth   \n",
       "1                                   Beric Dondarrion     1.0    Mummer's Ford   \n",
       "2                      Edmure Tully, Tytos Blackwood     1.0         Riverrun   \n",
       "3  Tywin Lannister, Gregor Clegane, Kevan Lannist...     1.0       Green Fork   \n",
       "4                                    Jaime Lannister     1.0  Whispering Wood   \n",
       "\n",
       "            region note  \n",
       "0  The Westerlands  NaN  \n",
       "1   The Riverlands  NaN  \n",
       "2   The Riverlands  NaN  \n",
       "3   The Riverlands  NaN  \n",
       "4   The Riverlands  NaN  \n",
       "\n",
       "[5 rows x 25 columns]"
      ]
     },
     "execution_count": 46,
     "metadata": {
      "tags": []
     },
     "output_type": "execute_result"
    }
   ],
   "source": [
    "battles = pd.read_csv('data/data-society-game-of-thrones/battles.csv')\n",
    "battles.head()"
   ]
  },
  {
   "cell_type": "code",
   "execution_count": null,
   "metadata": {
    "ExecuteTime": {
     "end_time": "2020-07-17T01:37:20.297710Z",
     "start_time": "2020-07-17T01:37:20.261709Z"
    },
    "id": "hchEn2SfHqPS",
    "outputId": "e010b4d8-0b17-4797-c0f3-d89e4c63c981"
   },
   "outputs": [
    {
     "data": {
      "text/html": [
       "<div>\n",
       "<style scoped>\n",
       "    .dataframe tbody tr th:only-of-type {\n",
       "        vertical-align: middle;\n",
       "    }\n",
       "\n",
       "    .dataframe tbody tr th {\n",
       "        vertical-align: top;\n",
       "    }\n",
       "\n",
       "    .dataframe thead th {\n",
       "        text-align: right;\n",
       "    }\n",
       "</style>\n",
       "<table border=\"1\" class=\"dataframe\">\n",
       "  <thead>\n",
       "    <tr style=\"text-align: right;\">\n",
       "      <th></th>\n",
       "      <th>Name</th>\n",
       "      <th>Allegiances</th>\n",
       "      <th>Death Year</th>\n",
       "      <th>Book of Death</th>\n",
       "      <th>Death Chapter</th>\n",
       "      <th>Book Intro Chapter</th>\n",
       "      <th>Gender</th>\n",
       "      <th>Nobility</th>\n",
       "      <th>GoT</th>\n",
       "      <th>CoK</th>\n",
       "      <th>SoS</th>\n",
       "      <th>FfC</th>\n",
       "      <th>DwD</th>\n",
       "    </tr>\n",
       "  </thead>\n",
       "  <tbody>\n",
       "    <tr>\n",
       "      <th>0</th>\n",
       "      <td>Addam Marbrand</td>\n",
       "      <td>Lannister</td>\n",
       "      <td>NaN</td>\n",
       "      <td>NaN</td>\n",
       "      <td>NaN</td>\n",
       "      <td>56.0</td>\n",
       "      <td>1</td>\n",
       "      <td>1</td>\n",
       "      <td>1</td>\n",
       "      <td>1</td>\n",
       "      <td>1</td>\n",
       "      <td>1</td>\n",
       "      <td>0</td>\n",
       "    </tr>\n",
       "    <tr>\n",
       "      <th>1</th>\n",
       "      <td>Aegon Frey (Jinglebell)</td>\n",
       "      <td>None</td>\n",
       "      <td>299.0</td>\n",
       "      <td>3.0</td>\n",
       "      <td>51.0</td>\n",
       "      <td>49.0</td>\n",
       "      <td>1</td>\n",
       "      <td>1</td>\n",
       "      <td>0</td>\n",
       "      <td>0</td>\n",
       "      <td>1</td>\n",
       "      <td>0</td>\n",
       "      <td>0</td>\n",
       "    </tr>\n",
       "    <tr>\n",
       "      <th>2</th>\n",
       "      <td>Aegon Targaryen</td>\n",
       "      <td>House Targaryen</td>\n",
       "      <td>NaN</td>\n",
       "      <td>NaN</td>\n",
       "      <td>NaN</td>\n",
       "      <td>5.0</td>\n",
       "      <td>1</td>\n",
       "      <td>1</td>\n",
       "      <td>0</td>\n",
       "      <td>0</td>\n",
       "      <td>0</td>\n",
       "      <td>0</td>\n",
       "      <td>1</td>\n",
       "    </tr>\n",
       "    <tr>\n",
       "      <th>3</th>\n",
       "      <td>Adrack Humble</td>\n",
       "      <td>House Greyjoy</td>\n",
       "      <td>300.0</td>\n",
       "      <td>5.0</td>\n",
       "      <td>20.0</td>\n",
       "      <td>20.0</td>\n",
       "      <td>1</td>\n",
       "      <td>1</td>\n",
       "      <td>0</td>\n",
       "      <td>0</td>\n",
       "      <td>0</td>\n",
       "      <td>0</td>\n",
       "      <td>1</td>\n",
       "    </tr>\n",
       "    <tr>\n",
       "      <th>4</th>\n",
       "      <td>Aemon Costayne</td>\n",
       "      <td>Lannister</td>\n",
       "      <td>NaN</td>\n",
       "      <td>NaN</td>\n",
       "      <td>NaN</td>\n",
       "      <td>NaN</td>\n",
       "      <td>1</td>\n",
       "      <td>1</td>\n",
       "      <td>0</td>\n",
       "      <td>0</td>\n",
       "      <td>1</td>\n",
       "      <td>0</td>\n",
       "      <td>0</td>\n",
       "    </tr>\n",
       "  </tbody>\n",
       "</table>\n",
       "</div>"
      ],
      "text/plain": [
       "                      Name      Allegiances  Death Year  Book of Death  \\\n",
       "0           Addam Marbrand        Lannister         NaN            NaN   \n",
       "1  Aegon Frey (Jinglebell)             None       299.0            3.0   \n",
       "2          Aegon Targaryen  House Targaryen         NaN            NaN   \n",
       "3            Adrack Humble    House Greyjoy       300.0            5.0   \n",
       "4           Aemon Costayne        Lannister         NaN            NaN   \n",
       "\n",
       "   Death Chapter  Book Intro Chapter  Gender  Nobility  GoT  CoK  SoS  FfC  \\\n",
       "0            NaN                56.0       1         1    1    1    1    1   \n",
       "1           51.0                49.0       1         1    0    0    1    0   \n",
       "2            NaN                 5.0       1         1    0    0    0    0   \n",
       "3           20.0                20.0       1         1    0    0    0    0   \n",
       "4            NaN                 NaN       1         1    0    0    1    0   \n",
       "\n",
       "   DwD  \n",
       "0    0  \n",
       "1    0  \n",
       "2    1  \n",
       "3    1  \n",
       "4    0  "
      ]
     },
     "execution_count": 47,
     "metadata": {
      "tags": []
     },
     "output_type": "execute_result"
    }
   ],
   "source": [
    "death = pd.read_csv('data/data-society-game-of-thrones/character-deaths.csv')\n",
    "death.head()"
   ]
  },
  {
   "cell_type": "markdown",
   "metadata": {
    "id": "Cxw7YaFjHqPW"
   },
   "source": [
    "### 2) 책의 챕터별( Book of Death )로 사망자 수 추이 시각화"
   ]
  },
  {
   "cell_type": "code",
   "execution_count": null,
   "metadata": {
    "ExecuteTime": {
     "end_time": "2020-07-17T02:12:06.293601Z",
     "start_time": "2020-07-17T02:12:05.827601Z"
    },
    "collapsed": true,
    "id": "imAevCfchefK",
    "outputId": "9d8af508-9d0e-41a9-aa47-6b45b90357ec"
   },
   "outputs": [
    {
     "data": {
      "image/png": "[encoded data removed]",
      "text/plain": [
       "<Figure size 432x288 with 1 Axes>"
      ]
     },
     "metadata": {
      "tags": []
     },
     "output_type": "display_data"
    }
   ],
   "source": [
    "plt.style.use('fivethirtyeight') # 스타일\n",
    "plt.title('사망자 수 추이') # 제목 \n",
    "# value_counts: 유니크한 값 카운트 \n",
    "# sort_index: index를 순서대로 \n",
    "death['Book of Death'].value_counts().sort_index().plot()\n",
    "# 그래프 \n",
    "plt.xlabel('Book number') # x축 글자 \n",
    "plt.ylabel('사망자 수(명)')\n",
    "plt.xlim([0.9,5.1]) # lim 범위 \n",
    "plt.ylim([10,110])\n",
    "\n",
    "# savefig 위에 있는 그림 저장 ( 저장할이름, 잘리지않고다~)\n",
    "plt.savefig('./사망자추이.png',bbox_inches='tight') # 그래프를 저장\n",
    "plt.show()"
   ]
  },
  {
   "cell_type": "markdown",
   "metadata": {
    "id": "ORf6M0yTHqP-"
   },
   "source": [
    "### 대규모 전쟁의  공격진영과 수비 진영의 숫자 시각화\n",
    "대규모 전쟁 = 공격(attacker_size)과 수비(defender_size) 모두 합쳐서 10,000명 이상 참가한 전쟁"
   ]
  },
  {
   "cell_type": "code",
   "execution_count": null,
   "metadata": {
    "ExecuteTime": {
     "end_time": "2020-07-17T02:36:15.551759Z",
     "start_time": "2020-07-17T02:36:15.545759Z"
    },
    "collapsed": true,
    "id": "o5lGKSD-hefK",
    "outputId": "30bde768-7dd4-41d8-944a-7115919cbaa9"
   },
   "outputs": [
    {
     "data": {
      "text/plain": [
       "Index(['name', 'year', 'battle_number', 'attacker_king', 'defender_king',\n",
       "       'attacker_1', 'attacker_2', 'attacker_3', 'attacker_4', 'defender_1',\n",
       "       'defender_2', 'defender_3', 'defender_4', 'attacker_outcome',\n",
       "       'battle_type', 'major_death', 'major_capture', 'attacker_size',\n",
       "       'defender_size', 'attacker_commander', 'defender_commander', 'summer',\n",
       "       'location', 'region', 'note'],\n",
       "      dtype='object')"
      ]
     },
     "execution_count": 61,
     "metadata": {
      "tags": []
     },
     "output_type": "execute_result"
    }
   ],
   "source": [
    "battles.columns"
   ]
  },
  {
   "cell_type": "code",
   "execution_count": null,
   "metadata": {
    "ExecuteTime": {
     "end_time": "2020-07-17T02:38:41.483456Z",
     "start_time": "2020-07-17T02:38:41.477456Z"
    },
    "id": "trGIo4SghefK"
   },
   "outputs": [],
   "source": [
    "# 공격 + 수비 더하기 \n",
    "huge = battles[battles['attacker_size'] + battles['defender_size'] >= 10**4]"
   ]
  },
  {
   "cell_type": "code",
   "execution_count": null,
   "metadata": {
    "ExecuteTime": {
     "end_time": "2020-07-17T02:38:51.592456Z",
     "start_time": "2020-07-17T02:38:51.586457Z"
    },
    "collapsed": true,
    "id": "y5qpKYAzhefK",
    "outputId": "d0e78a3f-3ff0-4378-a652-a347fe71cbf3"
   },
   "outputs": [
    {
     "data": {
      "text/plain": [
       "Index(['name', 'year', 'battle_number', 'attacker_king', 'defender_king',\n",
       "       'attacker_1', 'attacker_2', 'attacker_3', 'attacker_4', 'defender_1',\n",
       "       'defender_2', 'defender_3', 'defender_4', 'attacker_outcome',\n",
       "       'battle_type', 'major_death', 'major_capture', 'attacker_size',\n",
       "       'defender_size', 'attacker_commander', 'defender_commander', 'summer',\n",
       "       'location', 'region', 'note'],\n",
       "      dtype='object')"
      ]
     },
     "execution_count": 64,
     "metadata": {
      "tags": []
     },
     "output_type": "execute_result"
    }
   ],
   "source": [
    "huge.columns"
   ]
  },
  {
   "cell_type": "code",
   "execution_count": null,
   "metadata": {
    "ExecuteTime": {
     "end_time": "2020-07-17T02:42:15.102834Z",
     "start_time": "2020-07-17T02:42:15.097835Z"
    },
    "id": "vPWxVvxqhefL"
   },
   "outputs": [],
   "source": [
    "fig1 = huge[['name','attacker_size', 'defender_size']]"
   ]
  },
  {
   "cell_type": "code",
   "execution_count": null,
   "metadata": {
    "ExecuteTime": {
     "end_time": "2020-07-17T02:42:15.610833Z",
     "start_time": "2020-07-17T02:42:15.602833Z"
    },
    "collapsed": true,
    "id": "HOJe9Y0MhefL",
    "outputId": "11c0d73f-3311-4a01-cd81-af6bea449429"
   },
   "outputs": [
    {
     "name": "stdout",
     "output_type": "stream",
     "text": [
      "<class 'pandas.core.frame.DataFrame'>\n",
      "Int64Index: 10 entries, 0 to 37\n",
      "Data columns (total 3 columns):\n",
      " #   Column         Non-Null Count  Dtype  \n",
      "---  ------         --------------  -----  \n",
      " 0   name           10 non-null     object \n",
      " 1   attacker_size  10 non-null     float64\n",
      " 2   defender_size  10 non-null     float64\n",
      "dtypes: float64(2), object(1)\n",
      "memory usage: 320.0+ bytes\n"
     ]
    }
   ],
   "source": [
    "fig1.info()"
   ]
  },
  {
   "cell_type": "code",
   "execution_count": null,
   "metadata": {
    "ExecuteTime": {
     "end_time": "2020-07-17T02:42:15.993833Z",
     "start_time": "2020-07-17T02:42:15.988834Z"
    },
    "id": "iVcr4T0QhefL"
   },
   "outputs": [],
   "source": [
    "fig1 = fig1.set_index('name')"
   ]
  },
  {
   "cell_type": "code",
   "execution_count": null,
   "metadata": {
    "ExecuteTime": {
     "end_time": "2020-07-17T02:44:50.939833Z",
     "start_time": "2020-07-17T02:44:50.617833Z"
    },
    "id": "1wXAig0mhefL",
    "outputId": "99863b60-da54-4f60-8dd1-b9052e63fdcb"
   },
   "outputs": [
    {
     "data": {
      "text/plain": [
       "<matplotlib.axes._subplots.AxesSubplot at 0x1e6d45a8a88>"
      ]
     },
     "execution_count": 86,
     "metadata": {
      "tags": []
     },
     "output_type": "execute_result"
    },
    {
     "data": {
      "text/plain": [
       "<Figure size 936x432 with 0 Axes>"
      ]
     },
     "metadata": {
      "tags": []
     },
     "output_type": "display_data"
    },
    {
     "data": {
      "image/png": "[encoded data removed]",
      "text/plain": [
       "<Figure size 432x288 with 1 Axes>"
      ]
     },
     "metadata": {
      "tags": []
     },
     "output_type": "display_data"
    }
   ],
   "source": [
    "plt.figure(figsize=(13,6)) # 그래프 프레임 크기 조절 \n",
    "fig1.plot(kind='barh', stacked=True) # stack 총합계로 나타내자. "
   ]
  },
  {
   "cell_type": "markdown",
   "metadata": {
    "id": "pGjlHCd-HqQS"
   },
   "source": [
    "### 4) (실습) 가문 별로 전쟁을 벌인 횟수 시각화\n",
    "```\n",
    "'attacker_1', 'attacker_2', 'attacker_3', 'attacker_4', \n",
    "'defender_1', 'defender_2', 'defender_3', 'defender_4'\n",
    "ex)_ attacker_1 가문1이 공격한 횟수 \n",
    "     defender_2 가문2가 방어한 횟수 \n",
    "```\n",
    "pandas 통계 를 활용하여 계산 하시면 됩니다. \n",
    "`value_counts()`"
   ]
  },
  {
   "cell_type": "code",
   "execution_count": null,
   "metadata": {
    "ExecuteTime": {
     "end_time": "2020-07-17T02:46:30.391364Z",
     "start_time": "2020-07-17T02:46:30.386363Z"
    },
    "id": "nvJDNUHmhefL",
    "outputId": "b0349cf1-20c1-42fb-d6b0-1be7473e129a"
   },
   "outputs": [
    {
     "data": {
      "text/plain": [
       "Index(['name', 'year', 'battle_number', 'attacker_king', 'defender_king',\n",
       "       'attacker_1', 'attacker_2', 'attacker_3', 'attacker_4', 'defender_1',\n",
       "       'defender_2', 'defender_3', 'defender_4', 'attacker_outcome',\n",
       "       'battle_type', 'major_death', 'major_capture', 'attacker_size',\n",
       "       'defender_size', 'attacker_commander', 'defender_commander', 'summer',\n",
       "       'location', 'region', 'note'],\n",
       "      dtype='object')"
      ]
     },
     "execution_count": 88,
     "metadata": {
      "tags": []
     },
     "output_type": "execute_result"
    }
   ],
   "source": [
    "battles.columns"
   ]
  },
  {
   "cell_type": "code",
   "execution_count": null,
   "metadata": {
    "ExecuteTime": {
     "end_time": "2020-07-17T03:06:10.008369Z",
     "start_time": "2020-07-17T03:06:10.003368Z"
    },
    "id": "p3WShiOZhefL"
   },
   "outputs": [],
   "source": [
    "gamun = battles[['attacker_1', 'attacker_2', 'attacker_3', 'attacker_4', 'defender_1',\n",
    "       'defender_2', 'defender_3', 'defender_4']]"
   ]
  },
  {
   "cell_type": "code",
   "execution_count": null,
   "metadata": {
    "ExecuteTime": {
     "end_time": "2020-07-17T03:07:23.158845Z",
     "start_time": "2020-07-17T03:07:23.141846Z"
    },
    "id": "VCWe5ae8hefM",
    "outputId": "60a546bb-3c9c-4205-89c8-20d93e1ae7a6"
   },
   "outputs": [
    {
     "data": {
      "text/html": [
       "<div>\n",
       "<style scoped>\n",
       "    .dataframe tbody tr th:only-of-type {\n",
       "        vertical-align: middle;\n",
       "    }\n",
       "\n",
       "    .dataframe tbody tr th {\n",
       "        vertical-align: top;\n",
       "    }\n",
       "\n",
       "    .dataframe thead th {\n",
       "        text-align: right;\n",
       "    }\n",
       "</style>\n",
       "<table border=\"1\" class=\"dataframe\">\n",
       "  <thead>\n",
       "    <tr style=\"text-align: right;\">\n",
       "      <th></th>\n",
       "      <th>attacker_1</th>\n",
       "      <th>attacker_2</th>\n",
       "      <th>attacker_3</th>\n",
       "      <th>attacker_4</th>\n",
       "      <th>defender_1</th>\n",
       "      <th>defender_2</th>\n",
       "      <th>defender_3</th>\n",
       "      <th>defender_4</th>\n",
       "    </tr>\n",
       "  </thead>\n",
       "  <tbody>\n",
       "    <tr>\n",
       "      <th>0</th>\n",
       "      <td>Lannister</td>\n",
       "      <td>NaN</td>\n",
       "      <td>NaN</td>\n",
       "      <td>NaN</td>\n",
       "      <td>Tully</td>\n",
       "      <td>NaN</td>\n",
       "      <td>NaN</td>\n",
       "      <td>NaN</td>\n",
       "    </tr>\n",
       "    <tr>\n",
       "      <th>1</th>\n",
       "      <td>Lannister</td>\n",
       "      <td>NaN</td>\n",
       "      <td>NaN</td>\n",
       "      <td>NaN</td>\n",
       "      <td>Baratheon</td>\n",
       "      <td>NaN</td>\n",
       "      <td>NaN</td>\n",
       "      <td>NaN</td>\n",
       "    </tr>\n",
       "    <tr>\n",
       "      <th>2</th>\n",
       "      <td>Lannister</td>\n",
       "      <td>NaN</td>\n",
       "      <td>NaN</td>\n",
       "      <td>NaN</td>\n",
       "      <td>Tully</td>\n",
       "      <td>NaN</td>\n",
       "      <td>NaN</td>\n",
       "      <td>NaN</td>\n",
       "    </tr>\n",
       "    <tr>\n",
       "      <th>3</th>\n",
       "      <td>Stark</td>\n",
       "      <td>NaN</td>\n",
       "      <td>NaN</td>\n",
       "      <td>NaN</td>\n",
       "      <td>Lannister</td>\n",
       "      <td>NaN</td>\n",
       "      <td>NaN</td>\n",
       "      <td>NaN</td>\n",
       "    </tr>\n",
       "    <tr>\n",
       "      <th>4</th>\n",
       "      <td>Stark</td>\n",
       "      <td>Tully</td>\n",
       "      <td>NaN</td>\n",
       "      <td>NaN</td>\n",
       "      <td>Lannister</td>\n",
       "      <td>NaN</td>\n",
       "      <td>NaN</td>\n",
       "      <td>NaN</td>\n",
       "    </tr>\n",
       "  </tbody>\n",
       "</table>\n",
       "</div>"
      ],
      "text/plain": [
       "  attacker_1 attacker_2 attacker_3 attacker_4 defender_1 defender_2  \\\n",
       "0  Lannister        NaN        NaN        NaN      Tully        NaN   \n",
       "1  Lannister        NaN        NaN        NaN  Baratheon        NaN   \n",
       "2  Lannister        NaN        NaN        NaN      Tully        NaN   \n",
       "3      Stark        NaN        NaN        NaN  Lannister        NaN   \n",
       "4      Stark      Tully        NaN        NaN  Lannister        NaN   \n",
       "\n",
       "   defender_3  defender_4  \n",
       "0         NaN         NaN  \n",
       "1         NaN         NaN  \n",
       "2         NaN         NaN  \n",
       "3         NaN         NaN  \n",
       "4         NaN         NaN  "
      ]
     },
     "execution_count": 91,
     "metadata": {
      "tags": []
     },
     "output_type": "execute_result"
    }
   ],
   "source": [
    "gamun.head()"
   ]
  },
  {
   "cell_type": "code",
   "execution_count": null,
   "metadata": {
    "ExecuteTime": {
     "end_time": "2020-07-17T03:17:43.482385Z",
     "start_time": "2020-07-17T03:17:43.457384Z"
    },
    "collapsed": true,
    "id": "FhyTv6LahefM",
    "outputId": "2b1c6757-bfe5-491b-b273-7c3a6c8c6c3a"
   },
   "outputs": [
    {
     "name": "stdout",
     "output_type": "stream",
     "text": [
      "attacker_1\n",
      "save\n",
      "attacker_2\n",
      "save\n",
      "attacker_3\n",
      "save\n",
      "attacker_4\n",
      "save\n",
      "defender_1\n",
      "save\n",
      "defender_2\n",
      "save\n",
      "defender_3\n",
      "save\n",
      "defender_4\n",
      "save\n"
     ]
    },
    {
     "name": "stderr",
     "output_type": "stream",
     "text": [
      "C:\\ProgramData\\Anaconda3\\lib\\site-packages\\ipykernel_launcher.py:1: DeprecationWarning: The default dtype for empty Series will be 'object' instead of 'float64' in a future version. Specify a dtype explicitly to silence this warning.\n",
      "  \"\"\"Entry point for launching an IPython kernel.\n"
     ]
    }
   ],
   "source": [
    "tmp = pd.Series() # 담을 통 \n",
    "\n",
    "for column in gamun.columns:\n",
    "#     print(column) # debug\n",
    "    tmp = tmp.add(gamun[column].value_counts(),fill_value=0)\n",
    "#     print('save')"
   ]
  },
  {
   "cell_type": "code",
   "execution_count": null,
   "metadata": {
    "ExecuteTime": {
     "end_time": "2020-07-17T03:18:37.504385Z",
     "start_time": "2020-07-17T03:18:37.161384Z"
    },
    "collapsed": true,
    "id": "5MPtICUhhefM",
    "outputId": "fc8fda83-b0f5-451d-9313-037c59a99354"
   },
   "outputs": [
    {
     "data": {
      "text/plain": [
       "<matplotlib.axes._subplots.AxesSubplot at 0x1e6d519e508>"
      ]
     },
     "execution_count": 109,
     "metadata": {
      "tags": []
     },
     "output_type": "execute_result"
    },
    {
     "data": {
      "image/png": "[encoded data removed]",
      "text/plain": [
       "<Figure size 432x288 with 1 Axes>"
      ]
     },
     "metadata": {
      "tags": []
     },
     "output_type": "display_data"
    }
   ],
   "source": [
    "tmp.sort_values().plot(kind='barh')"
   ]
  },
  {
   "cell_type": "markdown",
   "metadata": {
    "id": "GlMmaTK_HqQx"
   },
   "source": [
    "### 5) (실습) (death)년도별로 사망자의 숫자와 전쟁이 벌어진 횟수 시각화\n",
    "\n"
   ]
  },
  {
   "cell_type": "code",
   "execution_count": null,
   "metadata": {
    "ExecuteTime": {
     "end_time": "2020-07-17T03:19:50.453289Z",
     "start_time": "2020-07-17T03:19:50.448289Z"
    },
    "id": "ApV9PaxYhefM",
    "outputId": "e2705e16-adb3-44d3-b17a-9d80403ccb28"
   },
   "outputs": [
    {
     "data": {
      "text/plain": [
       "Index(['Name', 'Allegiances', 'Death Year', 'Book of Death', 'Death Chapter',\n",
       "       'Book Intro Chapter', 'Gender', 'Nobility', 'GoT', 'CoK', 'SoS', 'FfC',\n",
       "       'DwD'],\n",
       "      dtype='object')"
      ]
     },
     "execution_count": 110,
     "metadata": {
      "tags": []
     },
     "output_type": "execute_result"
    }
   ],
   "source": [
    "death.columns"
   ]
  },
  {
   "cell_type": "code",
   "execution_count": null,
   "metadata": {
    "ExecuteTime": {
     "end_time": "2020-07-17T03:20:43.031289Z",
     "start_time": "2020-07-17T03:20:43.025290Z"
    },
    "id": "APq-GtwUhefN",
    "outputId": "628e7a0a-0308-4736-9367-a79d5559b35e"
   },
   "outputs": [
    {
     "data": {
      "text/plain": [
       "Index(['name', 'year', 'battle_number', 'attacker_king', 'defender_king',\n",
       "       'attacker_1', 'attacker_2', 'attacker_3', 'attacker_4', 'defender_1',\n",
       "       'defender_2', 'defender_3', 'defender_4', 'attacker_outcome',\n",
       "       'battle_type', 'major_death', 'major_capture', 'attacker_size',\n",
       "       'defender_size', 'attacker_commander', 'defender_commander', 'summer',\n",
       "       'location', 'region', 'note'],\n",
       "      dtype='object')"
      ]
     },
     "execution_count": 111,
     "metadata": {
      "tags": []
     },
     "output_type": "execute_result"
    }
   ],
   "source": [
    "battles.columns"
   ]
  },
  {
   "cell_type": "code",
   "execution_count": null,
   "metadata": {
    "ExecuteTime": {
     "end_time": "2020-07-17T03:25:33.312097Z",
     "start_time": "2020-07-17T03:25:33.304098Z"
    },
    "id": "D9nkETB-hefN"
   },
   "outputs": [],
   "source": [
    "com1 = death[['Death Year', 'Name']]\n",
    "com2 = battles[['year', 'battle_number']]"
   ]
  },
  {
   "cell_type": "code",
   "execution_count": null,
   "metadata": {
    "ExecuteTime": {
     "end_time": "2020-07-17T03:26:43.706358Z",
     "start_time": "2020-07-17T03:26:43.696359Z"
    },
    "id": "EW3gMLl8hefO"
   },
   "outputs": [],
   "source": [
    "tmp1 = com1.pivot_table(index='Death Year', aggfunc='count', values='Name')"
   ]
  },
  {
   "cell_type": "code",
   "execution_count": null,
   "metadata": {
    "ExecuteTime": {
     "end_time": "2020-07-17T03:26:43.910360Z",
     "start_time": "2020-07-17T03:26:43.898359Z"
    },
    "id": "4JUxtf1XhefO"
   },
   "outputs": [],
   "source": [
    "tmp2 = com2.pivot_table(index='year', aggfunc='count', values='battle_number')"
   ]
  },
  {
   "cell_type": "code",
   "execution_count": null,
   "metadata": {
    "ExecuteTime": {
     "end_time": "2020-07-17T03:27:33.646618Z",
     "start_time": "2020-07-17T03:27:33.640618Z"
    },
    "id": "tzcG5xDohefO"
   },
   "outputs": [],
   "source": [
    "final_df = pd.concat([tmp1,tmp2], axis=1).fillna(0)"
   ]
  },
  {
   "cell_type": "code",
   "execution_count": null,
   "metadata": {
    "ExecuteTime": {
     "end_time": "2020-07-17T03:28:32.234618Z",
     "start_time": "2020-07-17T03:28:32.230618Z"
    },
    "id": "1oZIEr5rhefO"
   },
   "outputs": [],
   "source": [
    "final_df.columns =['죽은사람수', '전쟁횟수']"
   ]
  },
  {
   "cell_type": "code",
   "execution_count": null,
   "metadata": {
    "ExecuteTime": {
     "end_time": "2020-07-17T03:28:33.541617Z",
     "start_time": "2020-07-17T03:28:33.272619Z"
    },
    "id": "BkZUSferhefO",
    "outputId": "36b33be0-52e8-4b27-bef9-016957b75bcc"
   },
   "outputs": [
    {
     "data": {
      "text/plain": [
       "<matplotlib.axes._subplots.AxesSubplot at 0x1e6d56d0788>"
      ]
     },
     "execution_count": 132,
     "metadata": {
      "tags": []
     },
     "output_type": "execute_result"
    },
    {
     "data": {
      "image/png": "[encoded data removed]",
      "text/plain": [
       "<Figure size 432x288 with 1 Axes>"
      ]
     },
     "metadata": {
      "tags": []
     },
     "output_type": "display_data"
    }
   ],
   "source": [
    "final_df.plot()"
   ]
  },
  {
   "cell_type": "code",
   "execution_count": null,
   "metadata": {
    "id": "Iynec7M5hefO"
   },
   "outputs": [],
   "source": []
  }
 ],
 "metadata": {
  "colab": {
   "name": "왕좌의_게임_데이터_분석_(+_시각화)_연습.ipynb",
   "provenance": []
  },
  "kernelspec": {
   "display_name": "Python 3",
   "language": "python",
   "name": "python3"
  },
  "language_info": {
   "codemirror_mode": {
    "name": "ipython",
    "version": 3
   },
   "file_extension": ".py",
   "mimetype": "text/x-python",
   "name": "python",
   "nbconvert_exporter": "python",
   "pygments_lexer": "ipython3",
   "version": "3.7.0"
  },
  "toc": {
   "base_numbering": 1,
   "nav_menu": {},
   "number_sections": true,
   "sideBar": true,
   "skip_h1_title": false,
   "title_cell": "Table of Contents",
   "title_sidebar": "Contents",
   "toc_cell": false,
   "toc_position": {},
   "toc_section_display": true,
   "toc_window_display": false
  },
  "varInspector": {
   "cols": {
    "lenName": 16,
    "lenType": 16,
    "lenVar": 40
   },
   "kernels_config": {
    "python": {
     "delete_cmd_postfix": "",
     "delete_cmd_prefix": "del ",
     "library": "var_list.py",
     "varRefreshCmd": "print(var_dic_list())"
    },
    "r": {
     "delete_cmd_postfix": ") ",
     "delete_cmd_prefix": "rm(",
     "library": "var_list.r",
     "varRefreshCmd": "cat(var_dic_list()) "
    }
   },
   "types_to_exclude": [
    "module",
    "function",
    "builtin_function_or_method",
    "instance",
    "_Feature"
   ],
   "window_display": false
  }
 },
 "nbformat": 4,
 "nbformat_minor": 1
}
