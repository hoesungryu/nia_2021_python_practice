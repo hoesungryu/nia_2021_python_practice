{
 "cells": [
  {
   "cell_type": "markdown",
   "metadata": {
    "id": "8fcTA4Hp5xTU"
   },
   "source": [
    "refer.: https://www.python.org/dev/peps/pep-0008/"
   ]
  },
  {
   "cell_type": "code",
   "execution_count": null,
   "metadata": {
    "ExecuteTime": {
     "end_time": "2020-07-17T05:13:26.131317Z",
     "start_time": "2020-07-17T05:13:26.125317Z"
    },
    "id": "uRz5t3G95xTW",
    "outputId": "4a09e1c2-596e-43a9-fd80-3701bd0da5ef"
   },
   "outputs": [
    {
     "name": "stdout",
     "output_type": "stream",
     "text": [
      "The Zen of Python, by Tim Peters\n",
      "\n",
      "Beautiful is better than ugly.\n",
      "Explicit is better than implicit.\n",
      "Simple is better than complex.\n",
      "Complex is better than complicated.\n",
      "Flat is better than nested.\n",
      "Sparse is better than dense.\n",
      "Readability counts.\n",
      "Special cases aren't special enough to break the rules.\n",
      "Although practicality beats purity.\n",
      "Errors should never pass silently.\n",
      "Unless explicitly silenced.\n",
      "In the face of ambiguity, refuse the temptation to guess.\n",
      "There should be one-- and preferably only one --obvious way to do it.\n",
      "Although that way may not be obvious at first unless you're Dutch.\n",
      "Now is better than never.\n",
      "Although never is often better than *right* now.\n",
      "If the implementation is hard to explain, it's a bad idea.\n",
      "If the implementation is easy to explain, it may be a good idea.\n",
      "Namespaces are one honking great idea -- let's do more of those!\n"
     ]
    }
   ],
   "source": [
    "import this"
   ]
  },
  {
   "cell_type": "markdown",
   "metadata": {
    "id": "Aj2OZU3f5xTY"
   },
   "source": [
    "# Style Guide for Python Code\n",
    "\n",
    "## Standard Guidelines\n",
    "들여쓰기는 공백 4개로 한다.\n",
    "한 줄의 최대 글자는 79자로 한다.\n",
    "File encoding은 UTF-8 또는 ASCII\n",
    "One Line One Import\n",
    "Standard, 3rd Party, Local libraries 순서로 import\n",
    "소괄호, 중괄호, 대괄호 사이에 추가 공백을 입력금지"
   ]
  },
  {
   "cell_type": "code",
   "execution_count": null,
   "metadata": {
    "ExecuteTime": {
     "end_time": "2020-07-17T05:15:11.782317Z",
     "start_time": "2020-07-17T05:15:11.778317Z"
    },
    "id": "1eEWLsln5xTY"
   },
   "outputs": [],
   "source": [
    "# jupyter notebook 아닌 곳에서는 space*4 != TAB "
   ]
  },
  {
   "cell_type": "markdown",
   "metadata": {
    "id": "WK6XVLCF5xTZ"
   },
   "source": [
    "## Autopep8\n",
    "수 많은 PEP8 규칙 존재.. \n",
    "하지만 우리에게는 `망치`가 있다.\n",
    "\n",
    "```shell \n",
    "> pip install jupyter_contrib_nbextensions autopep8\n",
    "                    or\n",
    "> conda install -c conda-forge jupyter_contrib_nbextensions\n",
    "```"
   ]
  },
  {
   "cell_type": "markdown",
   "metadata": {
    "id": "ZYK11EqH5xTZ"
   },
   "source": [
    "## .py 만들기 \n",
    "\n",
    "- 파일 맨 위에 아래와 같은 내용을 적는다\n",
    "```\n",
    "# -*- coding: utf-8 -*\n",
    "```\n",
    "\n",
    "이렇게 작성하면 이 스크립트를 실행할때 utf-8모드로 동작한다"
   ]
  },
  {
   "cell_type": "markdown",
   "metadata": {
    "id": "idmN79GK5xTZ"
   },
   "source": [
    "## Code Layout1\n",
    "- Indentation\n",
    "- Blank Line\n",
    "- Braces\n",
    "- Functions declaration, call\n",
    "- Operators\n",
    "- Maximum\n",
    "- Empty line\n",
    "- Encoding"
   ]
  },
  {
   "cell_type": "markdown",
   "metadata": {
    "id": "er-gTTka5xTa"
   },
   "source": [
    "### Indent – Tab and, Blank\n",
    "정답은 `Space`다! \n",
    "> Tab도 사실 4 Space로\n",
    "\n",
    "Jupyter Notebook에서는 설정되어 있던 것이었음!!"
   ]
  },
  {
   "cell_type": "markdown",
   "metadata": {
    "id": "owquELjD5xTa"
   },
   "source": [
    "### Blank Line\n",
    "\n",
    "1. Relationship\n",
    "\n",
    "```python\n",
    "def subtract(left, right):\n",
    "    print (left – right)\n",
    "# 위 아래 함수가 연관이 있으면 한줄 띄고    \n",
    "def plus(left, right):\n",
    "    print (left + right)\n",
    "# 위 아래 함수가 연관이 없으면 두줄 띄고 \n",
    "# 위 아래 함수가 연관이 없으면 두줄 띄고\n",
    "def multiply(left, right):\n",
    "    print (left * right)\n",
    "    \n",
    "def divide(left, right):\n",
    "    print (left / right)\n",
    "```"
   ]
  },
  {
   "cell_type": "markdown",
   "metadata": {
    "id": "tN9mgtug5xTa"
   },
   "source": [
    "2. Group\n",
    "\n",
    "```python\n",
    "def subtract(left, right):\n",
    "    print (left - right)\n",
    "    \n",
    "def plus(left, right):\n",
    "    print (left + right)\n",
    "    \n",
    "def multiply(left, right):\n",
    "    print (left * right)\n",
    "   \n",
    "```"
   ]
  },
  {
   "cell_type": "markdown",
   "metadata": {
    "id": "nwfDADLm5xTb"
   },
   "source": [
    "### Continuous Braces\n",
    "어느 것이 정답일까?\n",
    "\n",
    "```python\n",
    "my_list = [\n",
    "    1, 2, 3,\n",
    "    4, 5, 6,\n",
    "]\n",
    "\n",
    "my_list = [\n",
    "    1, 2, 3,\n",
    "    4, 5, 6,\n",
    "    ]\n",
    "```"
   ]
  },
  {
   "cell_type": "code",
   "execution_count": null,
   "metadata": {
    "id": "sUI3IT7l5xTb"
   },
   "outputs": [],
   "source": [
    "my_list = [\n",
    "    1, 2, 3,\n",
    "    4, 5, 6,\n",
    "]"
   ]
  },
  {
   "cell_type": "markdown",
   "metadata": {
    "id": "9tNd0OkD5xTb"
   },
   "source": [
    "### Function Declaration\n",
    "어느 것이 정답일까?\n",
    "```python\n",
    "def long_args_func(var_one, var_two,\n",
    "    var_three):\n",
    "    print(var_one)\n",
    "\n",
    "def long_args2_func(var_one, var_two\n",
    "        ,var_three):\n",
    "    print(var_one)\n",
    "    \n",
    "# two extra indent\n",
    "def long_args3_func (\n",
    "        var_one, var_two, var_three):\n",
    "    print(var_one)\n",
    "```"
   ]
  },
  {
   "cell_type": "code",
   "execution_count": null,
   "metadata": {
    "id": "hW9v1w8u5xTc"
   },
   "outputs": [],
   "source": [
    "def long_args3_func(\n",
    "        var_one, var_two, var_three):\n",
    "    print(var_one)"
   ]
  },
  {
   "cell_type": "markdown",
   "metadata": {
    "id": "M4qIHlAg5xTc"
   },
   "source": [
    "### Function Call\n",
    "\n",
    "```python\n",
    "# 이건 진짜 이상함\n",
    "long_args_func(1, 2,\n",
    "3, 4)\n",
    "\n",
    "# 이건 그나마 비슷해짐\n",
    "long_args_func(1, 2,\n",
    "                  3, 4)\n",
    "\n",
    "# 아래가 표준이다\n",
    "long_args_func(1, 2,\n",
    "               3, 4)\n",
    "```"
   ]
  },
  {
   "cell_type": "markdown",
   "metadata": {
    "id": "kkzid7Hs5xTc"
   },
   "source": [
    "### Operator and, Operand\n",
    "- 연산자가 흩어지면 안된다. \n",
    "- 읽는 순서는 Left 로 다시 돌아가서 확인해야 합니다\n",
    "\n",
    "```python\n",
    "# 틀린 예시 : 이해하기 어려운 예시\n",
    "income = 1 +\n",
    "         2 +\n",
    "         (3 - 4) -\n",
    "         5 -\n",
    "         6\n",
    "\n",
    "# 옳은 예시\n",
    "income = 1\n",
    "         + 2\n",
    "         + (3 - 4) # 식 중간에 있는 괄호들은 붙여서!\n",
    "         - 5\n",
    "         - 6\n",
    "```"
   ]
  },
  {
   "cell_type": "markdown",
   "metadata": {
    "id": "7WWvQrWK5xTc"
   },
   "source": [
    "### If – Continuous extra indent\n",
    "\n",
    "```python?\n",
    "if (this_is_one_thing\n",
    "        and that_is_another_thing):\n",
    "    long_args_func(1, 2, 3, 4)\n",
    "    \n",
    "if (this_is_one_thing\n",
    "    and that_is_another_thing):\n",
    "    long_args_func(1, 2, 3, 4)\n",
    "``` "
   ]
  },
  {
   "cell_type": "code",
   "execution_count": null,
   "metadata": {
    "id": "klcG0QH05xTd"
   },
   "outputs": [],
   "source": [
    "\n",
    "if (this_is_one_thing \n",
    "        and that_is_another_thing):\n",
    "    # Since both conditions are true...이런식으로 조건에 대한 주석을 아래로\n",
    "    # 함수의 설명 \n",
    "    long_args_func(1, 2, 3, 4)"
   ]
  },
  {
   "cell_type": "markdown",
   "metadata": {
    "id": "RWRsMTRD5xTd"
   },
   "source": [
    "### Max number of chars\n",
    "\n",
    "한 라인당 `80자` 미만으로 작성한다. \n",
    "\n",
    "천공카드로 코딩할 때부터 정해진룰\n",
    "\n",
    "<img src=https://joonecomics.files.wordpress.com/2016/12/img_0670.png>\n",
    "\n",
    "\n",
    "```python\n",
    "with open(r'C:\\Windows\\WindowsUpdate.log', 'r') as f1, \\\n",
    "        open(r'C:\\Windows\\setupact.log', 'r') as f2:\n",
    "    pass\n",
    "```"
   ]
  },
  {
   "cell_type": "markdown",
   "metadata": {
    "id": "icf3s8lr5xTd"
   },
   "source": [
    "### Encoding\n",
    "\n",
    "PEP8 에서는 `UTF-8`로 설정하라고 함\n",
    "![](https://www.cuba-platform.com/sites/default/files/2.PNG)"
   ]
  }
 ],
 "metadata": {
  "celltoolbar": "Slideshow",
  "colab": {
   "name": "Style Guide for Python Code1.ipynb",
   "provenance": []
  },
  "hide_input": false,
  "kernelspec": {
   "display_name": "Python 3",
   "language": "python",
   "name": "python3"
  },
  "language_info": {
   "codemirror_mode": {
    "name": "ipython",
    "version": 3
   },
   "file_extension": ".py",
   "mimetype": "text/x-python",
   "name": "python",
   "nbconvert_exporter": "python",
   "pygments_lexer": "ipython3",
   "version": "3.8.10"
  },
  "toc": {
   "base_numbering": 1,
   "nav_menu": {},
   "number_sections": true,
   "sideBar": true,
   "skip_h1_title": false,
   "title_cell": "Table of Contents",
   "title_sidebar": "Contents",
   "toc_cell": false,
   "toc_position": {},
   "toc_section_display": true,
   "toc_window_display": false
  },
  "varInspector": {
   "cols": {
    "lenName": 16,
    "lenType": 16,
    "lenVar": 40
   },
   "kernels_config": {
    "python": {
     "delete_cmd_postfix": "",
     "delete_cmd_prefix": "del ",
     "library": "var_list.py",
     "varRefreshCmd": "print(var_dic_list())"
    },
    "r": {
     "delete_cmd_postfix": ") ",
     "delete_cmd_prefix": "rm(",
     "library": "var_list.r",
     "varRefreshCmd": "cat(var_dic_list()) "
    }
   },
   "types_to_exclude": [
    "module",
    "function",
    "builtin_function_or_method",
    "instance",
    "_Feature"
   ],
   "window_display": false
  }
 },
 "nbformat": 4,
 "nbformat_minor": 1
}
