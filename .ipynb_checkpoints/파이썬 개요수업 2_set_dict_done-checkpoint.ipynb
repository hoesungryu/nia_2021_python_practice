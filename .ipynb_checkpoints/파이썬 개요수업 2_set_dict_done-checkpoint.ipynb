{
 "cells": [
  {
   "cell_type": "markdown",
   "metadata": {},
   "source": [
    "# 들여쓰기\n",
    "들여쓰기(indentation)는 파이썬 문법의 가장 큰 특징이다. 가독성을 높이는 장점이 있지만 코드 블럭을 들여쓰기를 통해 구분하므로, 오류가 발생하지 않도록 주의해야 한다.\n",
    "\n",
    "(* 다른 언어는 중괄호 {} 로 구분 )"
   ]
  },
  {
   "cell_type": "markdown",
   "metadata": {},
   "source": [
    "# 알려줘야될 것 \n",
    "import\n",
    "sqrt\n",
    "e\n",
    "연산 ** / += / -=\n",
    "np.\n",
    "반복문 for while \n",
    "def\n",
    "matrix 만드는 법 과 연산 행,열추가 삭제. \n",
    "linspace\n",
    "smax & rmax  \n",
    "scipy \n",
    "\n",
    "val, vec = np.linalg.eig(A)\n",
    "varphi(z0,f,xl,a,b,n);\n",
    "\n",
    "from mpl_toolkits.mplot3d import Axes3D\n"
   ]
  },
  {
   "cell_type": "code",
   "execution_count": 2,
   "metadata": {
    "ExecuteTime": {
     "end_time": "2021-07-20T10:26:25.685861Z",
     "start_time": "2021-07-20T10:26:25.680452Z"
    }
   },
   "outputs": [
    {
     "name": "stdout",
     "output_type": "stream",
     "text": [
      "{'월': '꽝', '화': '당첨', '수': '꽝'}\n"
     ]
    }
   ],
   "source": [
    "#\n",
    "ladder = {}\n",
    "ladder['월'] = '꽝'\n",
    "ladder['화'] = '당첨'\n",
    "ladder['수'] = '꽝'\n",
    "print(ladder)"
   ]
  },
  {
   "cell_type": "code",
   "execution_count": 4,
   "metadata": {
    "ExecuteTime": {
     "end_time": "2021-07-20T10:26:51.765462Z",
     "start_time": "2021-07-20T10:26:51.760516Z"
    },
    "scrolled": true
   },
   "outputs": [
    {
     "name": "stdout",
     "output_type": "stream",
     "text": [
      "{'월': '꽝', '화': '당첨', '수': '꽝'}\n"
     ]
    }
   ],
   "source": [
    "ladder = {'월': '꽝', '화': '당첨', '수': '꽝'}\n",
    "print(ladder)"
   ]
  },
  {
   "cell_type": "code",
   "execution_count": 9,
   "metadata": {
    "ExecuteTime": {
     "end_time": "2021-07-20T10:40:52.800503Z",
     "start_time": "2021-07-20T10:40:52.794585Z"
    }
   },
   "outputs": [
    {
     "name": "stdout",
     "output_type": "stream",
     "text": [
      "당첨\n",
      "꽝\n",
      "{'월': '꽝', '수': '꽝'}\n"
     ]
    }
   ],
   "source": [
    "ladder = {'월': '꽝', '화': '당첨', '수': '꽝'}\n",
    "print(ladder['화'])\n",
    "ladder['화'] = '꽝'\n",
    "print(ladder['화'])\n",
    "del ladder['화']\n",
    "print(ladder)"
   ]
  },
  {
   "cell_type": "code",
   "execution_count": 12,
   "metadata": {
    "ExecuteTime": {
     "end_time": "2021-07-20T10:42:55.320933Z",
     "start_time": "2021-07-20T10:42:55.315530Z"
    }
   },
   "outputs": [
    {
     "name": "stdout",
     "output_type": "stream",
     "text": [
      "dict_keys(['월', '화', '수'])\n",
      "dict_values(['꽝', '당첨', '꽝'])\n",
      "dict_items([('월', '꽝'), ('화', '당첨'), ('수', '꽝')])\n"
     ]
    }
   ],
   "source": [
    "ladder = {'월': '꽝', '화': '당첨', '수': '꽝'}\n",
    "print(ladder.keys())\n",
    ">> dict_keys(['월', '화', '수'])\n",
    "print(ladder.values())\n",
    ">>dict_values(['꽝', '당첨', '꽝'])\n",
    "print(ladder.items())\n",
    ">>dict_items([('월', '꽝'), ('화', '당첨'), ('수', '꽝')])"
   ]
  },
  {
   "cell_type": "code",
   "execution_count": 14,
   "metadata": {
    "ExecuteTime": {
     "end_time": "2021-07-20T10:52:09.470895Z",
     "start_time": "2021-07-20T10:52:09.465272Z"
    }
   },
   "outputs": [
    {
     "name": "stdout",
     "output_type": "stream",
     "text": [
      "{1, 2, 3}\n"
     ]
    }
   ],
   "source": [
    "nums = set() # 빈집합 정의 \n",
    "nums.add(1)\n",
    "nums.add(2)\n",
    "nums.add(3)\n",
    "print(nums)"
   ]
  },
  {
   "cell_type": "code",
   "execution_count": 13,
   "metadata": {
    "ExecuteTime": {
     "end_time": "2021-07-20T10:51:42.833514Z",
     "start_time": "2021-07-20T10:51:42.828683Z"
    }
   },
   "outputs": [
    {
     "name": "stdout",
     "output_type": "stream",
     "text": [
      "{1, 2, 3}\n"
     ]
    }
   ],
   "source": [
    "nums ={1,2,2,3} # 중복된 값 허용 안함 \n",
    "print(nums)"
   ]
  },
  {
   "cell_type": "code",
   "execution_count": 18,
   "metadata": {
    "ExecuteTime": {
     "end_time": "2021-07-20T10:53:35.862090Z",
     "start_time": "2021-07-20T10:53:35.856946Z"
    }
   },
   "outputs": [
    {
     "name": "stdout",
     "output_type": "stream",
     "text": [
      "{1, 2, 3}\n",
      "[1, 2, 3]\n",
      "(1, 2, 3)\n"
     ]
    }
   ],
   "source": [
    "# 구조변환가능 \n",
    "nums ={1,2,2,3}\n",
    "print(nums) # set\n",
    "print(list(nums)) # list \n",
    "print(tuple(nums)) # tuple"
   ]
  },
  {
   "cell_type": "code",
   "execution_count": 22,
   "metadata": {
    "ExecuteTime": {
     "end_time": "2021-07-20T10:55:00.760391Z",
     "start_time": "2021-07-20T10:55:00.754696Z"
    }
   },
   "outputs": [
    {
     "name": "stdout",
     "output_type": "stream",
     "text": [
      "{1, 3}\n",
      "{1, 10, 3}\n",
      "{10, 3}\n"
     ]
    }
   ],
   "source": [
    "# 삽입, 삭제 \n",
    "nums ={1,2,2,3}\n",
    "nums.remove(2) # 삭제 \n",
    "print(nums)\n",
    "nums.add(10) # 삽입\n",
    "print(nums)\n",
    "nums.pop() # 왼쪽 부터 제거\n",
    "print(nums) "
   ]
  },
  {
   "cell_type": "code",
   "execution_count": 28,
   "metadata": {
    "ExecuteTime": {
     "end_time": "2021-07-20T10:56:53.577422Z",
     "start_time": "2021-07-20T10:56:53.572073Z"
    }
   },
   "outputs": [
    {
     "name": "stdout",
     "output_type": "stream",
     "text": [
      "A:{1, 2, 3, 4}, B:{3, 4, 5, 6}\n"
     ]
    }
   ],
   "source": [
    "# set 연산 \n",
    "A = set([1,2,3,4])\n",
    "B = set([3,4,5,6])\n",
    "print(f'A:{A}, B:{B}')"
   ]
  },
  {
   "cell_type": "code",
   "execution_count": 37,
   "metadata": {
    "ExecuteTime": {
     "end_time": "2021-07-20T10:58:08.001430Z",
     "start_time": "2021-07-20T10:58:07.996795Z"
    }
   },
   "outputs": [
    {
     "name": "stdout",
     "output_type": "stream",
     "text": [
      "{1, 2, 3, 4, 5, 6}\n",
      "{1, 2, 3, 4, 5, 6}\n"
     ]
    }
   ],
   "source": [
    "# set 연산 \n",
    "A = set([1,2,3,4])\n",
    "B = set([3,4,5,6])\n",
    "# 합집합 \n",
    "print(A | B)\n",
    "print(A.union(B))\n",
    "# 차집합 \n",
    "print(A & B)\n",
    "print(A.intersection(B))"
   ]
  },
  {
   "cell_type": "code",
   "execution_count": 41,
   "metadata": {
    "ExecuteTime": {
     "end_time": "2021-07-20T10:59:07.981510Z",
     "start_time": "2021-07-20T10:59:07.975658Z"
    }
   },
   "outputs": [
    {
     "name": "stdout",
     "output_type": "stream",
     "text": [
      "{1, 2}\n",
      "{1, 2}\n",
      "{1, 2, 5, 6}\n",
      "{1, 2, 5, 6}\n"
     ]
    }
   ],
   "source": [
    "print(A-B)\n",
    "print(A.difference(B))\n",
    "\n",
    "print(A^B)\n",
    "print(A.symmetric_difference(B))"
   ]
  },
  {
   "cell_type": "code",
   "execution_count": 42,
   "metadata": {
    "ExecuteTime": {
     "end_time": "2021-07-20T11:43:05.252525Z",
     "start_time": "2021-07-20T11:43:05.248594Z"
    }
   },
   "outputs": [],
   "source": [
    "def add_num(x,y):\n",
    "    return x+y"
   ]
  },
  {
   "cell_type": "code",
   "execution_count": 45,
   "metadata": {
    "ExecuteTime": {
     "end_time": "2021-07-20T11:43:59.810845Z",
     "start_time": "2021-07-20T11:43:59.806691Z"
    }
   },
   "outputs": [],
   "source": [
    "# \n",
    "def add_num(*x):\n",
    "    total = 0 \n",
    "    for i in x:\n",
    "        total+=i\n",
    "    return total"
   ]
  },
  {
   "cell_type": "code",
   "execution_count": 44,
   "metadata": {
    "ExecuteTime": {
     "end_time": "2021-07-20T11:43:49.855975Z",
     "start_time": "2021-07-20T11:43:49.850495Z"
    }
   },
   "outputs": [
    {
     "data": {
      "text/plain": [
       "7"
      ]
     },
     "execution_count": 44,
     "metadata": {},
     "output_type": "execute_result"
    }
   ],
   "source": [
    "add_num(3,4)"
   ]
  },
  {
   "cell_type": "code",
   "execution_count": 46,
   "metadata": {
    "ExecuteTime": {
     "end_time": "2021-07-20T11:44:02.763379Z",
     "start_time": "2021-07-20T11:44:02.757144Z"
    }
   },
   "outputs": [
    {
     "data": {
      "text/plain": [
       "9"
      ]
     },
     "execution_count": 46,
     "metadata": {},
     "output_type": "execute_result"
    }
   ],
   "source": [
    "add_num(2,3,4)"
   ]
  },
  {
   "cell_type": "code",
   "execution_count": 50,
   "metadata": {
    "ExecuteTime": {
     "end_time": "2021-07-20T11:49:09.856081Z",
     "start_time": "2021-07-20T11:49:09.852048Z"
    }
   },
   "outputs": [],
   "source": [
    "def price(**cost):\n",
    "    for i in cost:\n",
    "        print(f'교통수단{i:<7s} 요금{cost[i]:>4d}원')"
   ]
  },
  {
   "cell_type": "code",
   "execution_count": 51,
   "metadata": {
    "ExecuteTime": {
     "end_time": "2021-07-20T11:49:10.065947Z",
     "start_time": "2021-07-20T11:49:10.060767Z"
    }
   },
   "outputs": [
    {
     "name": "stdout",
     "output_type": "stream",
     "text": [
      "교통수단walking 요금   0원\n",
      "교통수단bus     요금1200원\n",
      "교통수단taxi    요금3800원\n"
     ]
    }
   ],
   "source": [
    "cost = {'walking': 0, 'bus':1200, 'taxi':3800}\n",
    "price(**cost)"
   ]
  },
  {
   "cell_type": "code",
   "execution_count": 60,
   "metadata": {
    "ExecuteTime": {
     "end_time": "2021-07-20T11:58:54.651497Z",
     "start_time": "2021-07-20T11:58:54.646039Z"
    }
   },
   "outputs": [],
   "source": [
    "def count_price(*count,**cost): # 순서 바뀌면 안됨\n",
    "    total = 0 \n",
    "    c = 0\n",
    "    for key, value in cost.items():\n",
    "        total+= count[c]*value\n",
    "        print(f'교통수단{key} {count[c]}회',end='\\n')\n",
    "        c+=1\n",
    "    print(f\"총 요금:{total}원\")"
   ]
  },
  {
   "cell_type": "code",
   "execution_count": 61,
   "metadata": {
    "ExecuteTime": {
     "end_time": "2021-07-20T11:58:55.802172Z",
     "start_time": "2021-07-20T11:58:55.796710Z"
    }
   },
   "outputs": [
    {
     "name": "stdout",
     "output_type": "stream",
     "text": [
      "교통수단walking 1회\n",
      "교통수단bus 2회\n",
      "교통수단taxi 3회\n",
      "총 요금:13800원\n"
     ]
    }
   ],
   "source": [
    "count = [1,2,3]\n",
    "cost = {'walking': 0, 'bus':1200, 'taxi':3800}\n",
    "count_price(*count,**cost)"
   ]
  },
  {
   "cell_type": "code",
   "execution_count": 84,
   "metadata": {
    "ExecuteTime": {
     "end_time": "2021-07-20T12:06:52.556038Z",
     "start_time": "2021-07-20T12:06:52.550556Z"
    }
   },
   "outputs": [],
   "source": [
    "def count_fruits(*count, **cost):\n",
    "    total = 0\n",
    "    c = 0\n",
    "    for key, value in cost.items():\n",
    "        total += count[c]*value\n",
    "        print(f'과일:{key:>6s} {count[c]:02d}개', end='\\n')\n",
    "        c += 1\n",
    "    print(f\"총 요금:{total:>6d}원\")"
   ]
  },
  {
   "cell_type": "code",
   "execution_count": 85,
   "metadata": {
    "ExecuteTime": {
     "end_time": "2021-07-20T12:06:52.850611Z",
     "start_time": "2021-07-20T12:06:52.845956Z"
    }
   },
   "outputs": [
    {
     "name": "stdout",
     "output_type": "stream",
     "text": [
      "과일:    포도 01개\n",
      "과일:    수박 02개\n",
      "과일:    자두 03개\n",
      "총 요금: 42000원\n"
     ]
    }
   ],
   "source": [
    "count = [1,2,3]\n",
    "fruits = {\"포도\":6000,\"수박\":12000,\"자두\":4000}\n",
    "count_fruits(*count,**fruits)"
   ]
  },
  {
   "cell_type": "code",
   "execution_count": 86,
   "metadata": {
    "ExecuteTime": {
     "end_time": "2021-07-20T13:21:49.606237Z",
     "start_time": "2021-07-20T13:21:49.598803Z"
    }
   },
   "outputs": [
    {
     "name": "stdout",
     "output_type": "stream",
     "text": [
      "CPU times: user 5 µs, sys: 1e+03 ns, total: 6 µs\n",
      "Wall time: 8.11 µs\n"
     ]
    },
    {
     "data": {
      "text/plain": [
       "'abc'"
      ]
     },
     "execution_count": 86,
     "metadata": {},
     "output_type": "execute_result"
    }
   ],
   "source": [
    "%time 'a'+'b'+'c'"
   ]
  },
  {
   "cell_type": "code",
   "execution_count": 90,
   "metadata": {
    "ExecuteTime": {
     "end_time": "2021-07-20T13:22:36.657120Z",
     "start_time": "2021-07-20T13:22:36.649537Z"
    }
   },
   "outputs": [
    {
     "name": "stdout",
     "output_type": "stream",
     "text": [
      "CPU times: user 7 µs, sys: 1e+03 ns, total: 8 µs\n",
      "Wall time: 11.9 µs\n"
     ]
    },
    {
     "data": {
      "text/plain": [
       "'ab'"
      ]
     },
     "execution_count": 90,
     "metadata": {},
     "output_type": "execute_result"
    }
   ],
   "source": [
    "%time ''.join('a''b')"
   ]
  },
  {
   "cell_type": "code",
   "execution_count": 140,
   "metadata": {
    "ExecuteTime": {
     "end_time": "2021-07-20T13:31:32.383353Z",
     "start_time": "2021-07-20T13:31:32.378103Z"
    }
   },
   "outputs": [
    {
     "ename": "SyntaxError",
     "evalue": "invalid syntax (<ipython-input-140-49f90a3e39e4>, line 5)",
     "output_type": "error",
     "traceback": [
      "\u001b[0;36m  File \u001b[0;32m\"<ipython-input-140-49f90a3e39e4>\"\u001b[0;36m, line \u001b[0;32m5\u001b[0m\n\u001b[0;31m    >> ['file', 'mp4']\u001b[0m\n\u001b[0m     ^\u001b[0m\n\u001b[0;31mSyntaxError\u001b[0m\u001b[0;31m:\u001b[0m invalid syntax\n"
     ]
    }
   ],
   "source": [
    "tmp1 = 'file.mp4'\n",
    "tmp2 = 'python,c++,JAVA'\n",
    "\n",
    "tmp1.split('.')\n",
    ">> ['file', 'mp4']\n",
    "tmp2.split(',')\n",
    ">>['python', 'c++', 'JAVA']"
   ]
  },
  {
   "cell_type": "code",
   "execution_count": 141,
   "metadata": {
    "ExecuteTime": {
     "end_time": "2021-07-20T13:33:19.538226Z",
     "start_time": "2021-07-20T13:33:19.532396Z"
    }
   },
   "outputs": [
    {
     "name": "stdout",
     "output_type": "stream",
     "text": [
      "red-blue-green\n",
      "redbluegreen\n",
      "red,blue,green\n"
     ]
    }
   ],
   "source": [
    "colors = ['red', 'blue', 'green']\n",
    "print('-'.join(colors))\n",
    ">>red-blue-green\n",
    "print(''.join(colors))\n",
    ">>redbluegreen\n",
    "print(','.join(colors))\n",
    ">>red,blue,green"
   ]
  },
  {
   "cell_type": "code",
   "execution_count": 162,
   "metadata": {
    "ExecuteTime": {
     "end_time": "2021-07-20T13:52:19.173260Z",
     "start_time": "2021-07-20T13:52:19.166751Z"
    }
   },
   "outputs": [
    {
     "data": {
      "text/plain": [
       "{'RED': 'red', 'BLUE': 'blue', 'GREEN': 'green'}"
      ]
     },
     "execution_count": 162,
     "metadata": {},
     "output_type": "execute_result"
    }
   ],
   "source": [
    "{color.upper():color for color in colors}"
   ]
  },
  {
   "cell_type": "code",
   "execution_count": 164,
   "metadata": {
    "ExecuteTime": {
     "end_time": "2021-07-20T13:53:00.152389Z",
     "start_time": "2021-07-20T13:53:00.146901Z"
    }
   },
   "outputs": [
    {
     "name": "stdout",
     "output_type": "stream",
     "text": [
      "{'GREEN', 'BLUE', 'RED'}\n"
     ]
    }
   ],
   "source": [
    "colors = ['red', 'blue', 'green']\n",
    "total = set() # 빈 집합 \n",
    "for color in colors:\n",
    "    # 집합 추가\n",
    "    total.add(color.upper())\n",
    "print(total)\n",
    ">> {'GREEN', 'BLUE', 'RED'}"
   ]
  },
  {
   "cell_type": "code",
   "execution_count": 165,
   "metadata": {
    "ExecuteTime": {
     "end_time": "2021-07-20T13:54:25.309567Z",
     "start_time": "2021-07-20T13:54:25.303416Z"
    }
   },
   "outputs": [
    {
     "name": "stdout",
     "output_type": "stream",
     "text": [
      "{'RED': 'red', 'BLUE': 'blue', 'GREEN': 'green'}\n"
     ]
    }
   ],
   "source": [
    "colors = ['red', 'blue', 'green']\n",
    "total = dict() # 빈 사전 \n",
    "for color in colors:\n",
    "    # 사전 추가\n",
    "    total[color.upper()] = color\n",
    "print(total)\n",
    "{'RED': 'red', 'BLUE': 'blue', 'GREEN': 'green'}"
   ]
  },
  {
   "cell_type": "code",
   "execution_count": 166,
   "metadata": {
    "ExecuteTime": {
     "end_time": "2021-07-20T13:54:25.560319Z",
     "start_time": "2021-07-20T13:54:25.555539Z"
    }
   },
   "outputs": [
    {
     "data": {
      "text/plain": [
       "{'RED': 'red', 'BLUE': 'blue', 'GREEN': 'green'}"
      ]
     },
     "execution_count": 166,
     "metadata": {},
     "output_type": "execute_result"
    }
   ],
   "source": [
    "{color.upper():color for color in colors}"
   ]
  },
  {
   "cell_type": "code",
   "execution_count": 167,
   "metadata": {
    "ExecuteTime": {
     "end_time": "2021-07-20T13:56:16.952071Z",
     "start_time": "2021-07-20T13:56:16.946610Z"
    }
   },
   "outputs": [
    {
     "data": {
      "text/plain": [
       "<generator object <genexpr> at 0x7fb299075de0>"
      ]
     },
     "execution_count": 167,
     "metadata": {},
     "output_type": "execute_result"
    }
   ],
   "source": [
    "(color.upper() for color in colors)"
   ]
  },
  {
   "cell_type": "code",
   "execution_count": 201,
   "metadata": {
    "ExecuteTime": {
     "end_time": "2021-07-20T14:32:25.169587Z",
     "start_time": "2021-07-20T14:32:25.164446Z"
    }
   },
   "outputs": [
    {
     "name": "stdout",
     "output_type": "stream",
     "text": [
      "<generator object <genexpr> at 0x7fb29909d1b0>\n",
      "RED\n",
      "BLUE\n",
      "GREEN\n"
     ]
    }
   ],
   "source": [
    "colors = ['RED','BLUE','GREEN']\n",
    "iterator = (color for color in colors)\n",
    "print(iterator)\n",
    "print(next(iterator))\n",
    "print(next(iterator))\n",
    "print(next(iterator))"
   ]
  },
  {
   "cell_type": "code",
   "execution_count": 200,
   "metadata": {
    "ExecuteTime": {
     "end_time": "2021-07-20T14:32:03.539543Z",
     "start_time": "2021-07-20T14:32:03.535630Z"
    }
   },
   "outputs": [
    {
     "name": "stdout",
     "output_type": "stream",
     "text": [
      "RED\n",
      "BLUE\n",
      "GREEN\n"
     ]
    }
   ],
   "source": [
    "iterator = iter(['RED','BLUE','GREEN'])\n",
    "print(next(iterator))\n",
    "print(next(iterator))\n",
    "print(next(iterator))"
   ]
  },
  {
   "cell_type": "code",
   "execution_count": null,
   "metadata": {},
   "outputs": [],
   "source": [
    "s_list = [('math', 90), ('history', 80), ('English',\n",
    "95) , ('cs', 100)]\n"
   ]
  },
  {
   "cell_type": "code",
   "execution_count": null,
   "metadata": {},
   "outputs": [],
   "source": []
  },
  {
   "cell_type": "code",
   "execution_count": 142,
   "metadata": {
    "ExecuteTime": {
     "end_time": "2021-07-20T13:37:05.908298Z",
     "start_time": "2021-07-20T13:37:05.902750Z"
    }
   },
   "outputs": [
    {
     "data": {
      "text/plain": [
       "['The', 'quick', 'brown', 'fox', 'jupsover', 'the', 'lazy', 'dog']"
      ]
     },
     "execution_count": 142,
     "metadata": {},
     "output_type": "execute_result"
    }
   ],
   "source": [
    "txt = \"The quick brown fox jupsover the lazy dog\"\n",
    "\n",
    "txt.split(' ')"
   ]
  },
  {
   "cell_type": "code",
   "execution_count": 145,
   "metadata": {
    "ExecuteTime": {
     "end_time": "2021-07-20T13:38:33.952940Z",
     "start_time": "2021-07-20T13:38:33.948333Z"
    }
   },
   "outputs": [],
   "source": [
    "result=list()\n",
    "for word in txt.split(' '):\n",
    "    w_len = len(word)\n",
    "    result.append([word,w_len])"
   ]
  },
  {
   "cell_type": "code",
   "execution_count": 181,
   "metadata": {
    "ExecuteTime": {
     "end_time": "2021-07-20T13:57:49.133302Z",
     "start_time": "2021-07-20T13:57:49.127881Z"
    }
   },
   "outputs": [
    {
     "name": "stdout",
     "output_type": "stream",
     "text": [
      "[['The', 3], ['quick', 5], ['brown', 5], ['fox', 3], ['jupsover', 8], ['the', 3], ['lazy', 4], ['dog', 3]]\n"
     ]
    }
   ],
   "source": [
    "tt = [[word,len(word)] for word in txt.split(' ')]\n",
    "print(tt)"
   ]
  },
  {
   "cell_type": "code",
   "execution_count": null,
   "metadata": {},
   "outputs": [],
   "source": [
    "result=list()\n",
    "for word in txt.split(' '):\n",
    "    w_len = len(word)\n",
    "    if w_len ==3:\n",
    "        result.append([word,w_len])"
   ]
  },
  {
   "cell_type": "code",
   "execution_count": 148,
   "metadata": {
    "ExecuteTime": {
     "end_time": "2021-07-20T13:39:37.867101Z",
     "start_time": "2021-07-20T13:39:37.860022Z"
    }
   },
   "outputs": [
    {
     "data": {
      "text/plain": [
       "[['The', 3], ['fox', 3], ['the', 3], ['dog', 3]]"
      ]
     },
     "execution_count": 148,
     "metadata": {},
     "output_type": "execute_result"
    }
   ],
   "source": [
    "[[word,len(word)] for word in txt.split(' ') if len(word)==3]"
   ]
  },
  {
   "cell_type": "code",
   "execution_count": 110,
   "metadata": {
    "ExecuteTime": {
     "end_time": "2021-07-20T13:25:29.941632Z",
     "start_time": "2021-07-20T13:25:29.938362Z"
    }
   },
   "outputs": [],
   "source": [
    "# str.jㅁoin(iterable)\n",
    "\n",
    "colors = ['red', 'blue', 'green']"
   ]
  },
  {
   "cell_type": "code",
   "execution_count": 129,
   "metadata": {
    "ExecuteTime": {
     "end_time": "2021-07-20T13:26:05.600511Z",
     "start_time": "2021-07-20T13:26:05.592676Z"
    }
   },
   "outputs": [
    {
     "name": "stdout",
     "output_type": "stream",
     "text": [
      "CPU times: user 6 µs, sys: 0 ns, total: 6 µs\n",
      "Wall time: 10 µs\n"
     ]
    },
    {
     "data": {
      "text/plain": [
       "'red-blue-green'"
      ]
     },
     "execution_count": 129,
     "metadata": {},
     "output_type": "execute_result"
    }
   ],
   "source": [
    "%time colors[0]+'-'+colors[1]+'-'+colors[2]"
   ]
  },
  {
   "cell_type": "code",
   "execution_count": 130,
   "metadata": {
    "ExecuteTime": {
     "end_time": "2021-07-20T13:26:05.781266Z",
     "start_time": "2021-07-20T13:26:05.776754Z"
    }
   },
   "outputs": [
    {
     "name": "stdout",
     "output_type": "stream",
     "text": [
      "CPU times: user 3 µs, sys: 0 ns, total: 3 µs\n",
      "Wall time: 6.2 µs\n"
     ]
    },
    {
     "data": {
      "text/plain": [
       "'red-blue-green'"
      ]
     },
     "execution_count": 130,
     "metadata": {},
     "output_type": "execute_result"
    }
   ],
   "source": [
    "%time '-'.join(colors)"
   ]
  },
  {
   "cell_type": "code",
   "execution_count": null,
   "metadata": {},
   "outputs": [],
   "source": [
    "print( ? )\n",
    "\n",
    "→ 'redbluegreenyellow'\n",
    "→ 'red, blue, green, yellow'\n",
    "→ 'red-blue-green-yellow'"
   ]
  },
  {
   "cell_type": "code",
   "execution_count": 204,
   "metadata": {
    "ExecuteTime": {
     "end_time": "2021-07-20T14:40:01.519490Z",
     "start_time": "2021-07-20T14:40:01.514113Z"
    }
   },
   "outputs": [
    {
     "name": "stdout",
     "output_type": "stream",
     "text": [
      "0 R\n",
      "1 G\n",
      "2 B\n"
     ]
    }
   ],
   "source": [
    "for idx, i in enumerate(['R', 'G', 'B'], start=0):\n",
    "    print(idx, i)"
   ]
  },
  {
   "cell_type": "code",
   "execution_count": 205,
   "metadata": {
    "ExecuteTime": {
     "end_time": "2021-07-20T14:40:02.230027Z",
     "start_time": "2021-07-20T14:40:02.224607Z"
    }
   },
   "outputs": [
    {
     "name": "stdout",
     "output_type": "stream",
     "text": [
      "0 R\n",
      "1 G\n",
      "2 B\n"
     ]
    }
   ],
   "source": [
    "idx =0\n",
    "for i in ['R','G','B']:\n",
    "    print(idx,i)\n",
    "    idx+=1"
   ]
  },
  {
   "cell_type": "code",
   "execution_count": 207,
   "metadata": {
    "ExecuteTime": {
     "end_time": "2021-07-20T15:19:52.270660Z",
     "start_time": "2021-07-20T15:19:52.265773Z"
    }
   },
   "outputs": [
    {
     "name": "stdout",
     "output_type": "stream",
     "text": [
      "1 a\n",
      "2 b\n",
      "3 c\n"
     ]
    }
   ],
   "source": [
    "for i, j in zip([1, 2, 3], ['a', 'b', 'c']):\n",
    "    print(i, j)"
   ]
  },
  {
   "cell_type": "code",
   "execution_count": 209,
   "metadata": {
    "ExecuteTime": {
     "end_time": "2021-07-20T15:28:18.008590Z",
     "start_time": "2021-07-20T15:28:18.004943Z"
    }
   },
   "outputs": [],
   "source": [
    "vaccine = ['AZ','Moderna','Pfizer']\n",
    "composition = ['Vector','mRNA','mRNA']"
   ]
  },
  {
   "cell_type": "code",
   "execution_count": 213,
   "metadata": {
    "ExecuteTime": {
     "end_time": "2021-07-20T15:30:17.414772Z",
     "start_time": "2021-07-20T15:30:17.407612Z"
    }
   },
   "outputs": [
    {
     "data": {
      "text/plain": [
       "{'env0': ['AZ', 'Vector'],\n",
       " 'env1': ['Moderna', 'mRNA'],\n",
       " 'env2': ['Pfizer', 'mRNA']}"
      ]
     },
     "execution_count": 213,
     "metadata": {},
     "output_type": "execute_result"
    }
   ],
   "source": [
    "{f'env{i}': [v, c]\n",
    " for i, (v, c) in enumerate(zip(vaccine,\n",
    "                                composition)\n",
    "                            )\n",
    " }"
   ]
  },
  {
   "cell_type": "code",
   "execution_count": 214,
   "metadata": {
    "ExecuteTime": {
     "end_time": "2021-07-20T15:38:43.735779Z",
     "start_time": "2021-07-20T15:38:43.730831Z"
    }
   },
   "outputs": [
    {
     "name": "stdout",
     "output_type": "stream",
     "text": [
      "3\n"
     ]
    }
   ],
   "source": [
    "def add_element(x,y):\n",
    "    return x+y \n",
    "print(add_element(1,2))"
   ]
  },
  {
   "cell_type": "code",
   "execution_count": 239,
   "metadata": {
    "ExecuteTime": {
     "end_time": "2021-07-20T15:44:41.089628Z",
     "start_time": "2021-07-20T15:44:41.085324Z"
    }
   },
   "outputs": [
    {
     "name": "stdout",
     "output_type": "stream",
     "text": [
      "3\n"
     ]
    }
   ],
   "source": [
    "def add_element(x,y): return x+y \n",
    "print(add_element(1,2))"
   ]
  },
  {
   "cell_type": "code",
   "execution_count": 216,
   "metadata": {
    "ExecuteTime": {
     "end_time": "2021-07-20T15:39:04.301316Z",
     "start_time": "2021-07-20T15:39:04.296945Z"
    }
   },
   "outputs": [
    {
     "name": "stdout",
     "output_type": "stream",
     "text": [
      "3\n"
     ]
    }
   ],
   "source": [
    "add_element = lambda x,y: x+y\n",
    "print(add_element(1,2))"
   ]
  },
  {
   "cell_type": "code",
   "execution_count": 217,
   "metadata": {
    "ExecuteTime": {
     "end_time": "2021-07-20T15:39:19.234488Z",
     "start_time": "2021-07-20T15:39:19.230261Z"
    }
   },
   "outputs": [
    {
     "name": "stdout",
     "output_type": "stream",
     "text": [
      "6\n"
     ]
    }
   ],
   "source": [
    "add_element = lambda *x: sum(x)\n",
    "print(add_element(1,2,3))"
   ]
  },
  {
   "cell_type": "code",
   "execution_count": 240,
   "metadata": {
    "ExecuteTime": {
     "end_time": "2021-07-20T15:49:36.811912Z",
     "start_time": "2021-07-20T15:49:36.807860Z"
    }
   },
   "outputs": [
    {
     "data": {
      "text/plain": [
       "6"
      ]
     },
     "execution_count": 240,
     "metadata": {},
     "output_type": "execute_result"
    }
   ],
   "source": [
    "from functools import reduce \n",
    "reduce(lambda x,y: x+y,[1,2,3])"
   ]
  },
  {
   "cell_type": "code",
   "execution_count": 241,
   "metadata": {
    "ExecuteTime": {
     "end_time": "2021-07-20T15:53:36.954444Z",
     "start_time": "2021-07-20T15:53:36.947769Z"
    }
   },
   "outputs": [
    {
     "data": {
      "text/plain": [
       "[2, 4, 6]"
      ]
     },
     "execution_count": 241,
     "metadata": {},
     "output_type": "execute_result"
    }
   ],
   "source": [
    "list(map(lambda x:x*2, [1,2,3]))"
   ]
  },
  {
   "cell_type": "code",
   "execution_count": 243,
   "metadata": {
    "ExecuteTime": {
     "end_time": "2021-07-20T16:03:12.559585Z",
     "start_time": "2021-07-20T16:03:12.553200Z"
    }
   },
   "outputs": [
    {
     "data": {
      "text/plain": [
       "[2, 4, 6]"
      ]
     },
     "execution_count": 243,
     "metadata": {},
     "output_type": "execute_result"
    }
   ],
   "source": [
    "def times2(x): return x*2\n",
    "\n",
    "list(map(times2,[1,2,3]))"
   ]
  },
  {
   "cell_type": "code",
   "execution_count": 244,
   "metadata": {
    "ExecuteTime": {
     "end_time": "2021-07-20T16:03:24.551260Z",
     "start_time": "2021-07-20T16:03:24.547246Z"
    }
   },
   "outputs": [
    {
     "data": {
      "text/plain": [
       "[2, 4, 6]"
      ]
     },
     "execution_count": 244,
     "metadata": {},
     "output_type": "execute_result"
    }
   ],
   "source": [
    "list(map(lambda x:x*2,[1,2,3]))\n",
    ">>[2, 4, 6]"
   ]
  },
  {
   "cell_type": "code",
   "execution_count": null,
   "metadata": {},
   "outputs": [],
   "source": [
    "tmp = ['1', '2', '3', '4']\n",
    "for idx,i in enumerate(tmp):\n",
    "    tmp[idx] = int(i)\n",
    "print(tmp)\n",
    "# >>[1, 2, 3, 4]"
   ]
  },
  {
   "cell_type": "code",
   "execution_count": null,
   "metadata": {},
   "outputs": [],
   "source": [
    "tmp = ['1', '2', '3', '4']\n",
    "list(map(int,tmp))"
   ]
  },
  {
   "cell_type": "code",
   "execution_count": 249,
   "metadata": {
    "ExecuteTime": {
     "end_time": "2021-07-20T16:52:11.069653Z",
     "start_time": "2021-07-20T16:52:11.066428Z"
    }
   },
   "outputs": [
    {
     "name": "stdout",
     "output_type": "stream",
     "text": [
      "/Users/hoesungryu/Github/2021_NIA_python\n",
      "['python 강좌1.pptx', '.DS_Store', '파이썬 개요 수업준비.ipynb', 'Untitled.ipynb', '두번째 수업.pdf', '파이썬 개요수업 2.ipynb', '.ipynb_checkpoints', '2021_부트캠프']\n"
     ]
    }
   ],
   "source": [
    "import os \n",
    "# 현재 경로\n",
    "print(os.getcwd())\n",
    "# 현재폴더 파일확인\n",
    "print(os.listdir('./'))\n",
    "# >> ['example_01.ipynb', 'example_02.ipynb']"
   ]
  },
  {
   "cell_type": "code",
   "execution_count": 254,
   "metadata": {
    "ExecuteTime": {
     "end_time": "2021-07-20T16:55:08.224650Z",
     "start_time": "2021-07-20T16:55:08.219847Z"
    }
   },
   "outputs": [
    {
     "data": {
      "text/plain": [
       "1626800108.220926"
      ]
     },
     "execution_count": 254,
     "metadata": {},
     "output_type": "execute_result"
    }
   ],
   "source": [
    "import time\n",
    "time.time()\n",
    "# >> 1626800045.00839"
   ]
  },
  {
   "cell_type": "code",
   "execution_count": 257,
   "metadata": {
    "ExecuteTime": {
     "end_time": "2021-07-20T16:55:51.609829Z",
     "start_time": "2021-07-20T16:55:51.603365Z"
    }
   },
   "outputs": [
    {
     "data": {
      "text/plain": [
       "'2021-07-21'"
      ]
     },
     "execution_count": 257,
     "metadata": {},
     "output_type": "execute_result"
    }
   ],
   "source": [
    "# time.strftime('포맷', 시간객체)\n",
    "time.strftime('%Y-%m-%d', time.localtime(time.time()))"
   ]
  },
  {
   "cell_type": "code",
   "execution_count": 260,
   "metadata": {
    "ExecuteTime": {
     "end_time": "2021-07-20T16:57:38.072511Z",
     "start_time": "2021-07-20T16:57:38.064146Z"
    }
   },
   "outputs": [
    {
     "data": {
      "text/plain": [
       "'2021-07-21'"
      ]
     },
     "execution_count": 260,
     "metadata": {},
     "output_type": "execute_result"
    }
   ],
   "source": [
    "import datetime\n",
    "\n",
    "datetime.datetime.today().strftime('%Y-%m-%d')"
   ]
  },
  {
   "cell_type": "code",
   "execution_count": 261,
   "metadata": {
    "ExecuteTime": {
     "end_time": "2021-07-20T16:58:32.558638Z",
     "start_time": "2021-07-20T16:58:32.554129Z"
    }
   },
   "outputs": [
    {
     "data": {
      "text/plain": [
       "'2021-07-21'"
      ]
     },
     "execution_count": 261,
     "metadata": {},
     "output_type": "execute_result"
    }
   ],
   "source": [
    "from datetime import datetime\n",
    "datetime.today().strftime('%Y-%m-%d')"
   ]
  },
  {
   "cell_type": "code",
   "execution_count": null,
   "metadata": {},
   "outputs": [],
   "source": [
    "from <.py 이름> import <함수이름>"
   ]
  },
  {
   "cell_type": "code",
   "execution_count": 262,
   "metadata": {
    "ExecuteTime": {
     "end_time": "2021-07-20T17:06:11.296657Z",
     "start_time": "2021-07-20T17:06:11.286947Z"
    }
   },
   "outputs": [],
   "source": [
    "from utils import add_num\n"
   ]
  },
  {
   "cell_type": "code",
   "execution_count": 263,
   "metadata": {
    "ExecuteTime": {
     "end_time": "2021-07-20T17:06:15.457097Z",
     "start_time": "2021-07-20T17:06:15.452115Z"
    }
   },
   "outputs": [
    {
     "data": {
      "text/plain": [
       "6"
      ]
     },
     "execution_count": 263,
     "metadata": {},
     "output_type": "execute_result"
    }
   ],
   "source": [
    "add_num(1,2,3)"
   ]
  },
  {
   "cell_type": "code",
   "execution_count": 276,
   "metadata": {
    "ExecuteTime": {
     "end_time": "2021-07-20T17:24:07.104549Z",
     "start_time": "2021-07-20T17:24:07.097701Z"
    }
   },
   "outputs": [
    {
     "name": "stderr",
     "output_type": "stream",
     "text": [
      "100%|██████████| 9/9 [00:00<00:00, 19691.57it/s]\n"
     ]
    }
   ],
   "source": [
    "from tqdm import tqdm\n",
    "\n",
    "result = []\n",
    "for i in tqdm(range(1,10)):\n",
    "    result.append(i)"
   ]
  },
  {
   "cell_type": "code",
   "execution_count": 275,
   "metadata": {
    "ExecuteTime": {
     "end_time": "2021-07-20T17:22:14.499567Z",
     "start_time": "2021-07-20T17:22:14.492412Z"
    }
   },
   "outputs": [
    {
     "name": "stderr",
     "output_type": "stream",
     "text": [
      "100%|██████████| 99/99 [00:00<00:00, 138089.82it/s]\n"
     ]
    }
   ],
   "source": [
    "tmp = [i for i in tqdm(range(1,100))]"
   ]
  },
  {
   "cell_type": "code",
   "execution_count": 277,
   "metadata": {
    "ExecuteTime": {
     "end_time": "2021-07-20T17:25:08.533381Z",
     "start_time": "2021-07-20T17:24:47.109702Z"
    }
   },
   "outputs": [
    {
     "name": "stdout",
     "output_type": "stream",
     "text": [
      "Collecting package metadata (current_repodata.json): done\n",
      "Solving environment: done\n",
      "\n",
      "\n",
      "==> WARNING: A newer version of conda exists. <==\n",
      "  current version: 4.8.3\n",
      "  latest version: 4.10.3\n",
      "\n",
      "Please update conda by running\n",
      "\n",
      "    $ conda update -n base -c defaults conda\n",
      "\n",
      "\n",
      "\n",
      "## Package Plan ##\n",
      "\n",
      "  environment location: /Users/hoesungryu/opt/anaconda3/envs/pytorch\n",
      "\n",
      "  added / updated specs:\n",
      "    - tqdm\n",
      "\n",
      "\n",
      "The following packages will be downloaded:\n",
      "\n",
      "    package                    |            build\n",
      "    ---------------------------|-----------------\n",
      "    certifi-2021.5.30          |   py37hf985489_0         141 KB  conda-forge\n",
      "    tqdm-4.61.2                |     pyhd8ed1ab_1          80 KB  conda-forge\n",
      "    ------------------------------------------------------------\n",
      "                                           Total:         221 KB\n",
      "\n",
      "The following packages will be UPDATED:\n",
      "\n",
      "  ca-certificates                      2020.12.5-h033912b_0 --> 2021.5.30-h033912b_0\n",
      "  certifi                          2020.12.5-py37hf985489_1 --> 2021.5.30-py37hf985489_0\n",
      "  tqdm                          pkgs/main::tqdm-4.48.2-py_0 --> conda-forge::tqdm-4.61.2-pyhd8ed1ab_1\n",
      "\n",
      "\n",
      "\n",
      "Downloading and Extracting Packages\n",
      "certifi-2021.5.30    | 141 KB    | ##################################### | 100% \n",
      "tqdm-4.61.2          | 80 KB     | ##################################### | 100% \n",
      "Preparing transaction: done\n",
      "Verifying transaction: done\n",
      "Executing transaction: done\n"
     ]
    }
   ],
   "source": [
    "!conda install tqdm -y"
   ]
  },
  {
   "cell_type": "code",
   "execution_count": 278,
   "metadata": {
    "ExecuteTime": {
     "end_time": "2021-07-20T17:28:37.532530Z",
     "start_time": "2021-07-20T17:28:37.528205Z"
    }
   },
   "outputs": [
    {
     "name": "stdout",
     "output_type": "stream",
     "text": [
      "3.141592653589793\n"
     ]
    }
   ],
   "source": [
    "import numpy as np \n",
    "\n",
    "print(np.pi)\n",
    "# >> 3.141592653589793"
   ]
  },
  {
   "cell_type": "code",
   "execution_count": 289,
   "metadata": {
    "ExecuteTime": {
     "end_time": "2021-07-20T17:31:22.962016Z",
     "start_time": "2021-07-20T17:31:22.956738Z"
    }
   },
   "outputs": [
    {
     "data": {
      "text/plain": [
       "0.49999999999999994"
      ]
     },
     "execution_count": 289,
     "metadata": {},
     "output_type": "execute_result"
    }
   ],
   "source": [
    "np.sin(np.pi/6)"
   ]
  },
  {
   "cell_type": "code",
   "execution_count": 282,
   "metadata": {
    "ExecuteTime": {
     "end_time": "2021-07-20T17:29:16.393676Z",
     "start_time": "2021-07-20T17:29:16.387732Z"
    }
   },
   "outputs": [
    {
     "data": {
      "text/plain": [
       "1.0471975511965976"
      ]
     },
     "execution_count": 282,
     "metadata": {},
     "output_type": "execute_result"
    }
   ],
   "source": [
    "np.pi/3"
   ]
  },
  {
   "cell_type": "code",
   "execution_count": 288,
   "metadata": {
    "ExecuteTime": {
     "end_time": "2021-07-20T17:31:03.463585Z",
     "start_time": "2021-07-20T17:31:03.454985Z"
    }
   },
   "outputs": [
    {
     "data": {
      "text/plain": [
       "array([0.        , 0.5       , 0.70710678, 0.8660254 , 1.        ])"
      ]
     },
     "execution_count": 288,
     "metadata": {},
     "output_type": "execute_result"
    }
   ],
   "source": [
    "np.sin(np.array((0., 30., 45., 60., 90.)) * np.pi / 180. )"
   ]
  },
  {
   "cell_type": "code",
   "execution_count": null,
   "metadata": {},
   "outputs": [],
   "source": []
  }
 ],
 "metadata": {
  "kernelspec": {
   "display_name": "Python 3",
   "language": "python",
   "name": "python3"
  },
  "language_info": {
   "codemirror_mode": {
    "name": "ipython",
    "version": 3
   },
   "file_extension": ".py",
   "mimetype": "text/x-python",
   "name": "python",
   "nbconvert_exporter": "python",
   "pygments_lexer": "ipython3",
   "version": "3.8.10"
  },
  "toc": {
   "base_numbering": 1,
   "nav_menu": {},
   "number_sections": true,
   "sideBar": true,
   "skip_h1_title": false,
   "title_cell": "Table of Contents",
   "title_sidebar": "Contents",
   "toc_cell": false,
   "toc_position": {},
   "toc_section_display": true,
   "toc_window_display": false
  },
  "varInspector": {
   "cols": {
    "lenName": 16,
    "lenType": 16,
    "lenVar": 40
   },
   "kernels_config": {
    "python": {
     "delete_cmd_postfix": "",
     "delete_cmd_prefix": "del ",
     "library": "var_list.py",
     "varRefreshCmd": "print(var_dic_list())"
    },
    "r": {
     "delete_cmd_postfix": ") ",
     "delete_cmd_prefix": "rm(",
     "library": "var_list.r",
     "varRefreshCmd": "cat(var_dic_list()) "
    }
   },
   "types_to_exclude": [
    "module",
    "function",
    "builtin_function_or_method",
    "instance",
    "_Feature"
   ],
   "window_display": false
  }
 },
 "nbformat": 4,
 "nbformat_minor": 2
}
