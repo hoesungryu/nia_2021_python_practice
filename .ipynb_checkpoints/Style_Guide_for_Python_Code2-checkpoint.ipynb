{
 "cells": [
  {
   "cell_type": "markdown",
   "metadata": {
    "id": "se-Fs25bvWan"
   },
   "source": [
    "# Code Layout2"
   ]
  },
  {
   "cell_type": "markdown",
   "metadata": {
    "id": "kflmf-CGvWan"
   },
   "source": [
    "## 자주 실수하는 유형\n",
    "\n",
    "### 1. String Quotes\n",
    "```python\n",
    "student = 'Cardinal Biggles'\n",
    "student = \"Cardinal Biggles\"\n",
    "```\n",
    "둘이 혼용해서 하지 말자"
   ]
  },
  {
   "cell_type": "markdown",
   "metadata": {
    "id": "OVrwJu7vvWao"
   },
   "source": [
    "### 2. Assignment\n",
    "```python\n",
    "x             = 1\n",
    "y             = 2\n",
    "long_variable = 3\n",
    "```\n",
    "이렇게 붙일 필요없다!"
   ]
  },
  {
   "cell_type": "markdown",
   "metadata": {
    "id": "W6NfEeHgvWao"
   },
   "source": [
    "### 3. Binary Operators\n",
    "```python\n",
    "hypot2 = x*x + y*y # 우선순위가 높은건 붙여주자\n",
    "```"
   ]
  },
  {
   "cell_type": "markdown",
   "metadata": {
    "id": "t5Caq0WbvWao"
   },
   "source": [
    "## import 라이브러리 순서\n",
    "> Standard lib -> Third-party lib -> Private lib 순서로\n",
    "\n",
    "이런건 사람이 꼭 해줘야 한다. `망치`로 때린다고 알아서 되지 않습니다.  \n",
    "(* 물론 이클립스에서는 자동으로 해줍니다.)\n",
    "\n",
    "\n",
    "```python \n",
    "# -*- coding: utf-8 -*-\n",
    "\"\"\"This is the example module. This\n",
    "module does stuff.\n",
    "\"\"\"\n",
    "# import sys, os, my_module # 이렇게 한줄에 다 쓰지 말자\n",
    "import sys # standard lib\n",
    "import os # standard lib\n",
    "import numpy as np # third-party lib\n",
    "import my_module # private lib\n",
    "```"
   ]
  },
  {
   "cell_type": "markdown",
   "metadata": {
    "id": "DCx0gV0FvWao"
   },
   "source": [
    "### Excercise 다음을 올바르게 배치하시오 "
   ]
  },
  {
   "cell_type": "code",
   "execution_count": null,
   "metadata": {
    "ExecuteTime": {
     "end_time": "2020-07-17T05:25:18.656316Z",
     "start_time": "2020-07-17T05:25:18.370317Z"
    },
    "id": "vfw2WSMNvWao",
    "outputId": "d7fb5d94-d566-40f6-ac7f-d00533ef8606"
   },
   "outputs": [
    {
     "ename": "ModuleNotFoundError",
     "evalue": "No module named 'my_module'",
     "output_type": "error",
     "traceback": [
      "\u001b[1;31m---------------------------------------------------------------------------\u001b[0m",
      "\u001b[1;31mModuleNotFoundError\u001b[0m                       Traceback (most recent call last)",
      "\u001b[1;32m<ipython-input-1-e101944570e7>\u001b[0m in \u001b[0;36m<module>\u001b[1;34m\u001b[0m\n\u001b[0;32m      8\u001b[0m \u001b[1;32mimport\u001b[0m \u001b[0mos\u001b[0m  \u001b[1;31m# standard lib\u001b[0m\u001b[1;33m\u001b[0m\u001b[1;33m\u001b[0m\u001b[0m\n\u001b[0;32m      9\u001b[0m \u001b[1;32mimport\u001b[0m \u001b[0mnumpy\u001b[0m \u001b[1;32mas\u001b[0m \u001b[0mnp\u001b[0m  \u001b[1;31m# third-party lib\u001b[0m\u001b[1;33m\u001b[0m\u001b[1;33m\u001b[0m\u001b[0m\n\u001b[1;32m---> 10\u001b[1;33m \u001b[1;32mimport\u001b[0m \u001b[0mmy_module\u001b[0m  \u001b[1;31m# private lib\u001b[0m\u001b[1;33m\u001b[0m\u001b[1;33m\u001b[0m\u001b[0m\n\u001b[0m\u001b[0;32m     11\u001b[0m \u001b[1;31m# -*- coding: utf-8 -*-\u001b[0m\u001b[1;33m\u001b[0m\u001b[1;33m\u001b[0m\u001b[1;33m\u001b[0m\u001b[0m\n\u001b[0;32m     12\u001b[0m \u001b[0mmy_age\u001b[0m \u001b[1;33m=\u001b[0m \u001b[1;36m25\u001b[0m\u001b[1;33m\u001b[0m\u001b[1;33m\u001b[0m\u001b[0m\n",
      "\u001b[1;31mModuleNotFoundError\u001b[0m: No module named 'my_module'"
     ]
    }
   ],
   "source": [
    "# -*- coding: utf-8 -*-\n",
    "\"\"\"This is the example module. This module does stuff.\"\"\"\n",
    "import os  # standard lib\n",
    "import numpy as np  # third-party lib\n",
    "import my_module  # private lib\n",
    "\n",
    "__all__ = ['a', \"b\", 'c']\n",
    "__version__ = '0.1'\n",
    "\n",
    "# 광역변수는 대문자로 써준다. \n",
    "MY_AGE = 25\n",
    "NAME = 'string'\n",
    "CNT = \"5\"\n",
    "S_POINT =(6,)"
   ]
  },
  {
   "cell_type": "code",
   "execution_count": null,
   "metadata": {
    "id": "geeqi1nTvWap"
   },
   "outputs": [],
   "source": [
    "\n",
    "\n",
    "__all__ = ['a', \"b\", 'c']\n",
    "\n",
    "\n",
    "\"\"\"This is the example module. This module does stuff.\"\"\"\n",
    "\n",
    "__version__ = '0.1'\n",
    "\n",
    "import os  # standard lib\n",
    "import numpy as np  # third-party lib\n",
    "import my_module  # private lib\n",
    "# -*- coding: utf-8 -*-\n",
    "my_age = 25\n",
    "name = 'string'\n",
    "cnt = \"5\"\n",
    "s_point = (6, )"
   ]
  },
  {
   "cell_type": "markdown",
   "metadata": {
    "id": "GkonpKR_vWap"
   },
   "source": [
    "## Function \n",
    "### 1. declaration \n",
    "\n",
    "```python\n",
    "def munge(input_: str) -> str:  # ->: 리턴타입을 알려주는 주석처럼\n",
    "    # python에서만 ->를 어노테이션으로 씀\n",
    "    return \"string\"\n",
    "\n",
    "def summation(x, y ) -> int: # 리턴은 인트타입 \n",
    "    return x+y \n",
    "\n",
    "def complex(real, imag=0.0): # default param은 붙여주자\n",
    "    return 0\n",
    "\n",
    "```"
   ]
  },
  {
   "cell_type": "markdown",
   "metadata": {
    "id": "A02X4oc_vWap"
   },
   "source": [
    "### space\n",
    "- `:`, `;` 은 왼쪽은 항상 붙인다\n",
    "\n",
    "```python\n",
    "if x == 4 : print(x , y) ; x , y = y , x # 틀린예제 \n",
    "if x == 4: print(x, y); x, y = y, x \n",
    "```"
   ]
  },
  {
   "cell_type": "markdown",
   "metadata": {
    "id": "4k6kl3I7vWaq"
   },
   "source": [
    "## Braces\n",
    "\n",
    "### Indexing, Slicing\n",
    "```python\n",
    "spam( ham[ 1 ], { eggs: 2 } )\n",
    "spam(ham[1], {eggs: 2})\n",
    "\n",
    "dct ['key'] = lst [index]\n",
    "dct['key'] = lst[index]\n",
    "\n",
    "ham[1: 9] ham[1 :9]\n",
    "ham[1:9]\n",
    "\n",
    "ham[1:9 :3]\n",
    "ham[1:9:]\n",
    "ham[1:9:3] ham[:9:3] ham[1::3]\n",
    "```"
   ]
  },
  {
   "cell_type": "markdown",
   "metadata": {
    "id": "-rFY2f2mvWaq"
   },
   "source": [
    "### Complex Slice \n",
    "```python\n",
    "ham[low + off:up + off]\n",
    "ham[: upper]\n",
    "ham[low:: up]\n",
    "\n",
    "ham[down_fn(x): up_fn(x): step_fn(x)] # 함수 호출시엔 띄어준다\n",
    "ham[:: step_fn(x)]\n",
    "```"
   ]
  },
  {
   "cell_type": "markdown",
   "metadata": {
    "id": "PlCeAkdEvWaq"
   },
   "source": [
    "## Compound statements\n",
    "```python\n",
    "if foo == 'blah': do_blah_thing()\n",
    "do_one(); do_two();\n",
    "\n",
    "for x in [0, 1, 2]: total += x\n",
    "while total < 10: total = delay()\n",
    "```"
   ]
  }
 ],
 "metadata": {
  "celltoolbar": "Slideshow",
  "colab": {
   "name": "Style Guide for Python Code2.ipynb",
   "provenance": []
  },
  "hide_input": false,
  "kernelspec": {
   "display_name": "Python 3",
   "language": "python",
   "name": "python3"
  },
  "language_info": {
   "codemirror_mode": {
    "name": "ipython",
    "version": 3
   },
   "file_extension": ".py",
   "mimetype": "text/x-python",
   "name": "python",
   "nbconvert_exporter": "python",
   "pygments_lexer": "ipython3",
   "version": "3.8.10"
  },
  "toc": {
   "base_numbering": 1,
   "nav_menu": {},
   "number_sections": true,
   "sideBar": true,
   "skip_h1_title": false,
   "title_cell": "Table of Contents",
   "title_sidebar": "Contents",
   "toc_cell": false,
   "toc_position": {},
   "toc_section_display": true,
   "toc_window_display": false
  },
  "varInspector": {
   "cols": {
    "lenName": 16,
    "lenType": 16,
    "lenVar": 40
   },
   "kernels_config": {
    "python": {
     "delete_cmd_postfix": "",
     "delete_cmd_prefix": "del ",
     "library": "var_list.py",
     "varRefreshCmd": "print(var_dic_list())"
    },
    "r": {
     "delete_cmd_postfix": ") ",
     "delete_cmd_prefix": "rm(",
     "library": "var_list.r",
     "varRefreshCmd": "cat(var_dic_list()) "
    }
   },
   "types_to_exclude": [
    "module",
    "function",
    "builtin_function_or_method",
    "instance",
    "_Feature"
   ],
   "window_display": false
  }
 },
 "nbformat": 4,
 "nbformat_minor": 1
}
