{
 "cells": [
  {
   "cell_type": "markdown",
   "id": "6c97ed57",
   "metadata": {},
   "source": [
    "# Day02_06_ OOP(2)\n",
    "<font size=5><b>클래스<b></font>\n",
    "<div align='right'>류 회 성<br>(Hoe Sung Ryu)</div>\n",
    "\n",
    "  \n",
    "<img src='./imgs/02_06_main.png' width=40%>\n",
    "\n",
    "    \n",
    "---"
   ]
  },
  {
   "cell_type": "markdown",
   "id": "76adc568",
   "metadata": {
    "toc": true
   },
   "source": [
    "<h1>Table of Contents<span class=\"tocSkip\"></span></h1>\n",
    "<div class=\"toc\"><ul class=\"toc-item\"><li><span><a href=\"#클래스\" data-toc-modified-id=\"클래스-1\"><span class=\"toc-item-num\">1&nbsp;&nbsp;</span>클래스</a></span></li><li><span><a href=\"#빈클래스-만들기\" data-toc-modified-id=\"빈클래스-만들기-2\"><span class=\"toc-item-num\">2&nbsp;&nbsp;</span>빈클래스 만들기</a></span></li><li><span><a href=\"#빈클래스안에-인스턴스를-생성하고-속성-추가하기\" data-toc-modified-id=\"빈클래스안에-인스턴스를-생성하고-속성-추가하기-3\"><span class=\"toc-item-num\">3&nbsp;&nbsp;</span>빈클래스안에 인스턴스를 생성하고 속성 추가하기</a></span></li><li><span><a href=\"#움직이게-해보기\" data-toc-modified-id=\"움직이게-해보기-4\"><span class=\"toc-item-num\">4&nbsp;&nbsp;</span>움직이게 해보기</a></span></li></ul></div>"
   ]
  },
  {
   "cell_type": "markdown",
   "id": "7423de9c",
   "metadata": {},
   "source": [
    "## 클래스 \n",
    "\n",
    "1. 구성요소\n",
    "- self란? self는 인스턴스 자기 자신을 뜻함 \n",
    "- 인스턴스(객체 == 인스턴스): 클래스에 의해 만들어진 객체\n",
    "> 객체만 지칭 할떄는 그냥 객체 하지만 클래스와 연관 지어서 말할때는 인스턴스instance\n",
    "- 인스턴스 메소드(`magic_method`): 변수 인자에 self를 받는 것은 인스턴스 메소드 ex) get_information(self,x) \n",
    "\n",
    "2. naming convention\n",
    "python의 대부분 네이밍컨벤션이 단어와 단어사이에 _ 를 넣는 다면 클래스의 네이밍컨벤션은 CamelCase 를 사용합니다."
   ]
  },
  {
   "cell_type": "markdown",
   "id": "e765318d",
   "metadata": {},
   "source": [
    "## 빈클래스 만들기"
   ]
  },
  {
   "cell_type": "code",
   "execution_count": 1,
   "id": "6e848832",
   "metadata": {
    "ExecuteTime": {
     "end_time": "2021-07-24T11:06:35.266894Z",
     "start_time": "2021-07-24T11:06:35.258947Z"
    }
   },
   "outputs": [
    {
     "data": {
      "text/plain": [
       "<__main__.Puppy at 0x1f8fd250880>"
      ]
     },
     "execution_count": 1,
     "metadata": {},
     "output_type": "execute_result"
    }
   ],
   "source": [
    "class Puppy():\n",
    "    pass\n",
    "# 클래스(Puppy)의 인스턴스가 메모리의 0x7fdd605a2b38 위치에 생성되고 cPuppy1이라는 변수가 이를 바인딩하게 됩니다.\n",
    "Puppy1 = Puppy()\n",
    "Puppy1"
   ]
  },
  {
   "cell_type": "code",
   "execution_count": 2,
   "id": "c0eaedb0",
   "metadata": {
    "ExecuteTime": {
     "end_time": "2021-07-24T11:06:48.704576Z",
     "start_time": "2021-07-24T11:06:48.700587Z"
    }
   },
   "outputs": [
    {
     "data": {
      "text/plain": [
       "True"
      ]
     },
     "execution_count": 2,
     "metadata": {},
     "output_type": "execute_result"
    }
   ],
   "source": [
    "isinstance(Puppy1,Puppy) # 특정 클래스의 instance인가? "
   ]
  },
  {
   "cell_type": "markdown",
   "id": "14e95c42",
   "metadata": {},
   "source": [
    "## 빈클래스안에 인스턴스를 생성하고 속성 추가하기 "
   ]
  },
  {
   "cell_type": "code",
   "execution_count": 4,
   "id": "3ff51483",
   "metadata": {
    "ExecuteTime": {
     "end_time": "2021-07-24T11:09:26.635325Z",
     "start_time": "2021-07-24T11:09:26.631337Z"
    }
   },
   "outputs": [],
   "source": [
    "class Puppy():\n",
    "    def __init__(self,_name): #  인스턴스 변수: self.name 같이 self가 붙은 변수\n",
    "        self.name = _name\n",
    "        self.direction = \"움직임없음\""
   ]
  },
  {
   "cell_type": "code",
   "execution_count": 5,
   "id": "77c42eb9",
   "metadata": {
    "ExecuteTime": {
     "end_time": "2021-07-24T11:09:26.797005Z",
     "start_time": "2021-07-24T11:09:26.793046Z"
    }
   },
   "outputs": [
    {
     "data": {
      "text/plain": [
       "'움직임없음'"
      ]
     },
     "execution_count": 5,
     "metadata": {},
     "output_type": "execute_result"
    }
   ],
   "source": [
    "puppy1 = Puppy(\"보더콜리\")\n",
    "puppy1.direction"
   ]
  },
  {
   "cell_type": "markdown",
   "id": "a84b2e48",
   "metadata": {},
   "source": [
    "## 움직이게 해보기 "
   ]
  },
  {
   "cell_type": "code",
   "execution_count": 6,
   "id": "946ce395",
   "metadata": {
    "ExecuteTime": {
     "end_time": "2021-07-24T11:10:27.070426Z",
     "start_time": "2021-07-24T11:10:27.067407Z"
    }
   },
   "outputs": [],
   "source": [
    "class Puppy():\n",
    "    def __init__(self,_name): #  인스턴스 변수: self.name 같이 self가 붙은 변수\n",
    "        self.name = _name\n",
    "        self.direction = \"움직임없음\"\n",
    "        \n",
    "    def go_to(self, direct):\n",
    "        self.direction = direct"
   ]
  },
  {
   "cell_type": "code",
   "execution_count": 7,
   "id": "89a91dd8",
   "metadata": {
    "ExecuteTime": {
     "end_time": "2021-07-24T11:10:27.246369Z",
     "start_time": "2021-07-24T11:10:27.242379Z"
    }
   },
   "outputs": [
    {
     "name": "stdout",
     "output_type": "stream",
     "text": [
      "움직임없음\n",
      "앞으로\n"
     ]
    }
   ],
   "source": [
    "puppy1 = Puppy(\"보더콜리\")\n",
    "print(puppy1.direction)\n",
    "puppy1.go_to('앞으로')\n",
    "print(puppy1.direction)"
   ]
  },
  {
   "cell_type": "markdown",
   "id": "781d2109",
   "metadata": {},
   "source": [
    "<hr style=\"height:3px;border:none;color:#5F71F7;background-color:#5F71F7;\" />\n",
    "\n",
    "<div class=\"alert alert-success\">\n",
    "    <b>예제(Exercise)</b>:\n",
    "    <ul>\n",
    "        <li>\n",
    "        아래 클래스에 order을 `명령없음`으로 할당하고, 이 인스턴스(order)을 받는 새로운 메소드 넣기\n",
    "        </li>\n",
    "    </ul>\n",
    "</div>\n",
    "\n",
    "```python \n",
    "class Puppy():\n",
    "    def __init__(self,_name): #  인스턴스 변수: self.name 같이 self가 붙은 변수\n",
    "        self.name = _name\n",
    "        self.direction = \"움직임없음\"\n",
    "       \n",
    "        \n",
    "    def go_to(self, direct):\n",
    "        self.direction = direct\n",
    "```\n",
    "\n",
    "받을 인스턴스 \n",
    "```python \n",
    " self.order = \"명령없음\"\n",
    "```\n",
    "\n",
    "집어넣을 메소드(함수)\n",
    "```python \n",
    "def run_stop(order):\n",
    "```"
   ]
  },
  {
   "cell_type": "code",
   "execution_count": 8,
   "id": "78a685b2",
   "metadata": {
    "ExecuteTime": {
     "end_time": "2021-07-24T11:14:00.844980Z",
     "start_time": "2021-07-24T11:14:00.840988Z"
    }
   },
   "outputs": [],
   "source": [
    "class Puppy():\n",
    "    def __init__(self,_name):\n",
    "#         인스턴스 변수: self.name 같이 self가 붙은 변수\n",
    "        self.name = _name\n",
    "        self.direction = \"움직임없음\"\n",
    "        self.order = '명령없음'\n",
    "        \n",
    "    def go_to(self, direct):\n",
    "        self.direction = direct\n",
    "    \n",
    "    def run_stop(self, order):\n",
    "        self.order = order"
   ]
  },
  {
   "cell_type": "code",
   "execution_count": 9,
   "id": "968db49d",
   "metadata": {
    "ExecuteTime": {
     "end_time": "2021-07-24T11:14:00.953543Z",
     "start_time": "2021-07-24T11:14:00.949581Z"
    }
   },
   "outputs": [
    {
     "name": "stdout",
     "output_type": "stream",
     "text": [
      "명령없음\n",
      "뛰어\n"
     ]
    }
   ],
   "source": [
    "puppy1 = Puppy(\"보더콜리\")\n",
    "print(puppy1.order)\n",
    "puppy1.run_stop(\"뛰어\")\n",
    "print(puppy1.order)"
   ]
  },
  {
   "cell_type": "markdown",
   "id": "330c08dd",
   "metadata": {},
   "source": [
    "<hr style=\"height:3px;border:none;color:#5F71F7;background-color:#5F71F7;\" />\n",
    "\n",
    "<div class=\"alert alert-success\">\n",
    "    <b>예제(Exercise)</b>:\n",
    "    <ul>\n",
    "        <li>\n",
    "        클래스명이 Car인 클래스를 만들고, 자동차의 색깔과 차종의 속성을 받으며  속성을 출력하는 함수를 만드시오. \n",
    "        </li>\n",
    "    </ul>\n",
    "</div>\n"
   ]
  },
  {
   "cell_type": "code",
   "execution_count": null,
   "id": "5f9c0c71",
   "metadata": {},
   "outputs": [],
   "source": []
  },
  {
   "cell_type": "code",
   "execution_count": null,
   "id": "dd2903b5",
   "metadata": {},
   "outputs": [],
   "source": []
  },
  {
   "cell_type": "code",
   "execution_count": null,
   "id": "03926e4b",
   "metadata": {},
   "outputs": [],
   "source": []
  }
 ],
 "metadata": {
  "kernelspec": {
   "display_name": "Python 3",
   "language": "python",
   "name": "python3"
  },
  "language_info": {
   "codemirror_mode": {
    "name": "ipython",
    "version": 3
   },
   "file_extension": ".py",
   "mimetype": "text/x-python",
   "name": "python",
   "nbconvert_exporter": "python",
   "pygments_lexer": "ipython3",
   "version": "3.8.10"
  },
  "toc": {
   "base_numbering": 1,
   "nav_menu": {},
   "number_sections": true,
   "sideBar": true,
   "skip_h1_title": true,
   "title_cell": "Table of Contents",
   "title_sidebar": "Contents",
   "toc_cell": true,
   "toc_position": {},
   "toc_section_display": true,
   "toc_window_display": false
  },
  "varInspector": {
   "cols": {
    "lenName": 16,
    "lenType": 16,
    "lenVar": 40
   },
   "kernels_config": {
    "python": {
     "delete_cmd_postfix": "",
     "delete_cmd_prefix": "del ",
     "library": "var_list.py",
     "varRefreshCmd": "print(var_dic_list())"
    },
    "r": {
     "delete_cmd_postfix": ") ",
     "delete_cmd_prefix": "rm(",
     "library": "var_list.r",
     "varRefreshCmd": "cat(var_dic_list()) "
    }
   },
   "types_to_exclude": [
    "module",
    "function",
    "builtin_function_or_method",
    "instance",
    "_Feature"
   ],
   "window_display": false
  }
 },
 "nbformat": 4,
 "nbformat_minor": 5
}
